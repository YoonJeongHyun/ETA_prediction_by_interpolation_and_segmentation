{
 "cells": [
  {
   "cell_type": "code",
   "execution_count": 1,
   "id": "bd4a6614",
   "metadata": {
    "ExecuteTime": {
     "end_time": "2022-12-17T09:17:44.639082Z",
     "start_time": "2022-12-17T09:17:44.046335Z"
    }
   },
   "outputs": [],
   "source": [
    "import pandas as pd\n",
    "import numpy as np\n",
    "import cx_Oracle\n",
    "import os\n",
    "import json\n",
    "import datetime\n",
    "import warnings\n",
    "\n",
    "warnings.filterwarnings(action=\"ignore\")\n",
    "from selenium import webdriver\n",
    "from selenium.webdriver.support.ui import Select\n",
    "from selenium.webdriver.common.by import By\n",
    "import bs4\n",
    "import requests\n",
    "import time\n",
    "import math\n",
    "import random\n",
    "from shapely.geometry import Point, Polygon\n",
    "import time as timesys\n",
    "from pyproj import Geod\n",
    "from haversine import haversine\n",
    "pd.set_option('display.max_columns', None)"
   ]
  },
  {
   "cell_type": "code",
   "execution_count": 2,
   "id": "62ac4d5b",
   "metadata": {
    "ExecuteTime": {
     "end_time": "2022-12-17T09:17:44.654499Z",
     "start_time": "2022-12-17T09:17:44.639986Z"
    }
   },
   "outputs": [],
   "source": [
    "tianjin = '117.4961975657171,37.86803012379458,7.296245301137998 119.8081837995413,37.9250916349774,-34.2681049860788 119.8416643486643,39.32481316399956,-31.12524274095152 117.9501096884913,39.37523731857854,39.41212136434525 117.4961975657171,37.86803012379458,7.296245301137998'\n",
    "\n",
    "\n",
    "\n",
    "coord_list = tianjin.split(\" \")\n",
    "coord_list\n",
    "coord_list2 = []\n",
    "for i in coord_list:\n",
    "    temp = i.split(\",\")[:2]\n",
    "    temp = list(map(float, temp))\n",
    "    coord_list2.append(temp)\n",
    "poly = Polygon(coord_list2)\n",
    "# if Point(LONGITUDE, LATITUDE).within(poly):"
   ]
  },
  {
   "cell_type": "markdown",
   "id": "e8910b1b",
   "metadata": {},
   "source": [
    "정상 항차   \n",
    "26,25,24,23,20"
   ]
  },
  {
   "cell_type": "code",
   "execution_count": 3,
   "id": "51c4e9e3",
   "metadata": {
    "ExecuteTime": {
     "end_time": "2022-12-17T09:17:44.700839Z",
     "start_time": "2022-12-17T09:17:44.655499Z"
    }
   },
   "outputs": [
    {
     "data": {
      "text/html": [
       "<div>\n",
       "<style scoped>\n",
       "    .dataframe tbody tr th:only-of-type {\n",
       "        vertical-align: middle;\n",
       "    }\n",
       "\n",
       "    .dataframe tbody tr th {\n",
       "        vertical-align: top;\n",
       "    }\n",
       "\n",
       "    .dataframe thead th {\n",
       "        text-align: right;\n",
       "    }\n",
       "</style>\n",
       "<table border=\"1\" class=\"dataframe\">\n",
       "  <thead>\n",
       "    <tr style=\"text-align: right;\">\n",
       "      <th></th>\n",
       "      <th>vessel_name</th>\n",
       "      <th>mmsi</th>\n",
       "      <th>imo</th>\n",
       "      <th>CAPACITY</th>\n",
       "      <th>destination</th>\n",
       "      <th>eta</th>\n",
       "      <th>longitude</th>\n",
       "      <th>latitude</th>\n",
       "      <th>speed</th>\n",
       "      <th>heading</th>\n",
       "      <th>timestamp</th>\n",
       "      <th>time_position_data_received</th>\n",
       "      <th>time_voyage_data_received</th>\n",
       "      <th>navigation_info</th>\n",
       "      <th>remained_distance</th>\n",
       "      <th>estimated_fuel_consumption</th>\n",
       "    </tr>\n",
       "  </thead>\n",
       "  <tbody>\n",
       "    <tr>\n",
       "      <th>0</th>\n",
       "      <td>COSCO FOS</td>\n",
       "      <td>477947700</td>\n",
       "      <td>9484302.0</td>\n",
       "      <td>4253</td>\n",
       "      <td>CNTSN</td>\n",
       "      <td>2022-10-24 10:30:00</td>\n",
       "      <td>126.4686</td>\n",
       "      <td>34.1041</td>\n",
       "      <td>17.7</td>\n",
       "      <td>286.0</td>\n",
       "      <td>2022-10-23 21:31:35.498957</td>\n",
       "      <td>2022-10-23 12:31:04</td>\n",
       "      <td>2022-10-23 09:31:08</td>\n",
       "      <td>under way using engine</td>\n",
       "      <td>235.852516</td>\n",
       "      <td>441.577157</td>\n",
       "    </tr>\n",
       "    <tr>\n",
       "      <th>1</th>\n",
       "      <td>COSCO FOS</td>\n",
       "      <td>477947700</td>\n",
       "      <td>9484302.0</td>\n",
       "      <td>4253</td>\n",
       "      <td>CNTSN</td>\n",
       "      <td>2022-10-24 10:30:00</td>\n",
       "      <td>126.4381</td>\n",
       "      <td>34.1089</td>\n",
       "      <td>17.4</td>\n",
       "      <td>273.0</td>\n",
       "      <td>2022-10-23 21:36:38.494959</td>\n",
       "      <td>2022-10-23 12:36:23</td>\n",
       "      <td>2022-10-23 09:31:08</td>\n",
       "      <td>under way using engine</td>\n",
       "      <td>238.184921</td>\n",
       "      <td>436.415634</td>\n",
       "    </tr>\n",
       "    <tr>\n",
       "      <th>2</th>\n",
       "      <td>COSCO FOS</td>\n",
       "      <td>477947700</td>\n",
       "      <td>9484302.0</td>\n",
       "      <td>4253</td>\n",
       "      <td>CNTSN</td>\n",
       "      <td>2022-10-24 10:30:00</td>\n",
       "      <td>126.4096</td>\n",
       "      <td>34.1100</td>\n",
       "      <td>17.6</td>\n",
       "      <td>270.0</td>\n",
       "      <td>2022-10-23 21:41:41.162039</td>\n",
       "      <td>2022-10-23 12:41:16</td>\n",
       "      <td>2022-10-23 09:31:08</td>\n",
       "      <td>under way using engine</td>\n",
       "      <td>240.527495</td>\n",
       "      <td>447.093656</td>\n",
       "    </tr>\n",
       "    <tr>\n",
       "      <th>3</th>\n",
       "      <td>COSCO FOS</td>\n",
       "      <td>477947700</td>\n",
       "      <td>9484302.0</td>\n",
       "      <td>4253</td>\n",
       "      <td>CNTSN</td>\n",
       "      <td>2022-10-24 10:30:00</td>\n",
       "      <td>126.3837</td>\n",
       "      <td>34.1103</td>\n",
       "      <td>17.7</td>\n",
       "      <td>270.0</td>\n",
       "      <td>2022-10-23 21:46:43.859572</td>\n",
       "      <td>2022-10-23 12:45:40</td>\n",
       "      <td>2022-10-23 09:31:08</td>\n",
       "      <td>under way using engine</td>\n",
       "      <td>242.692568</td>\n",
       "      <td>454.383511</td>\n",
       "    </tr>\n",
       "    <tr>\n",
       "      <th>4</th>\n",
       "      <td>COSCO FOS</td>\n",
       "      <td>477947700</td>\n",
       "      <td>9484302.0</td>\n",
       "      <td>4253</td>\n",
       "      <td>CNTSN</td>\n",
       "      <td>2022-10-24 10:30:00</td>\n",
       "      <td>126.3504</td>\n",
       "      <td>34.1106</td>\n",
       "      <td>17.7</td>\n",
       "      <td>271.0</td>\n",
       "      <td>2022-10-23 21:51:46.488472</td>\n",
       "      <td>2022-10-23 12:51:17</td>\n",
       "      <td>2022-10-23 09:31:08</td>\n",
       "      <td>under way using engine</td>\n",
       "      <td>245.485649</td>\n",
       "      <td>459.612884</td>\n",
       "    </tr>\n",
       "    <tr>\n",
       "      <th>...</th>\n",
       "      <td>...</td>\n",
       "      <td>...</td>\n",
       "      <td>...</td>\n",
       "      <td>...</td>\n",
       "      <td>...</td>\n",
       "      <td>...</td>\n",
       "      <td>...</td>\n",
       "      <td>...</td>\n",
       "      <td>...</td>\n",
       "      <td>...</td>\n",
       "      <td>...</td>\n",
       "      <td>...</td>\n",
       "      <td>...</td>\n",
       "      <td>...</td>\n",
       "      <td>...</td>\n",
       "      <td>...</td>\n",
       "    </tr>\n",
       "    <tr>\n",
       "      <th>496</th>\n",
       "      <td>COSCO FOS</td>\n",
       "      <td>477947700</td>\n",
       "      <td>9484302.0</td>\n",
       "      <td>4253</td>\n",
       "      <td>KRBNP</td>\n",
       "      <td>2022-10-28 01:50:00</td>\n",
       "      <td>128.8280</td>\n",
       "      <td>35.0775</td>\n",
       "      <td>0.1</td>\n",
       "      <td>91.0</td>\n",
       "      <td>2022-10-28 15:11:35.771388</td>\n",
       "      <td>2022-10-28 06:07:58</td>\n",
       "      <td>2022-10-28 06:07:05</td>\n",
       "      <td>under way using engine</td>\n",
       "      <td>12.023183</td>\n",
       "      <td>959.355393</td>\n",
       "    </tr>\n",
       "    <tr>\n",
       "      <th>497</th>\n",
       "      <td>COSCO FOS</td>\n",
       "      <td>477947700</td>\n",
       "      <td>9484302.0</td>\n",
       "      <td>4253</td>\n",
       "      <td>KRBNP</td>\n",
       "      <td>2022-10-28 01:50:00</td>\n",
       "      <td>128.8281</td>\n",
       "      <td>35.0774</td>\n",
       "      <td>0.1</td>\n",
       "      <td>91.0</td>\n",
       "      <td>2022-10-28 15:21:41.415499</td>\n",
       "      <td>2022-10-28 06:19:08</td>\n",
       "      <td>2022-10-28 06:19:07</td>\n",
       "      <td>under way using engine</td>\n",
       "      <td>12.012681</td>\n",
       "      <td>958.517377</td>\n",
       "    </tr>\n",
       "    <tr>\n",
       "      <th>498</th>\n",
       "      <td>COSCO FOS</td>\n",
       "      <td>477947700</td>\n",
       "      <td>9484302.0</td>\n",
       "      <td>4253</td>\n",
       "      <td>KRBNP</td>\n",
       "      <td>2022-10-28 01:50:00</td>\n",
       "      <td>128.8278</td>\n",
       "      <td>35.0776</td>\n",
       "      <td>0.0</td>\n",
       "      <td>91.0</td>\n",
       "      <td>2022-10-28 16:37:24.932444</td>\n",
       "      <td>2022-10-28 07:35:27</td>\n",
       "      <td>2022-10-28 07:31:07</td>\n",
       "      <td>under way using engine</td>\n",
       "      <td>12.033115</td>\n",
       "      <td>NaN</td>\n",
       "    </tr>\n",
       "    <tr>\n",
       "      <th>499</th>\n",
       "      <td>COSCO FOS</td>\n",
       "      <td>477947700</td>\n",
       "      <td>9484302.0</td>\n",
       "      <td>4253</td>\n",
       "      <td>KRBNP</td>\n",
       "      <td>2022-10-28 01:50:00</td>\n",
       "      <td>128.8280</td>\n",
       "      <td>35.0773</td>\n",
       "      <td>0.1</td>\n",
       "      <td>91.0</td>\n",
       "      <td>2022-10-28 18:13:18.843610</td>\n",
       "      <td>2022-10-28 09:09:53</td>\n",
       "      <td>2022-10-28 09:07:06</td>\n",
       "      <td>under way using engine</td>\n",
       "      <td>12.000991</td>\n",
       "      <td>957.584631</td>\n",
       "    </tr>\n",
       "    <tr>\n",
       "      <th>500</th>\n",
       "      <td>COSCO FOS</td>\n",
       "      <td>477947700</td>\n",
       "      <td>9484302.0</td>\n",
       "      <td>4253</td>\n",
       "      <td>KRBNP</td>\n",
       "      <td>2022-10-28 01:50:00</td>\n",
       "      <td>128.8279</td>\n",
       "      <td>35.0772</td>\n",
       "      <td>0.0</td>\n",
       "      <td>90.0</td>\n",
       "      <td>2022-10-28 19:34:04.022317</td>\n",
       "      <td>2022-10-28 10:32:25</td>\n",
       "      <td>2022-10-28 10:24:49</td>\n",
       "      <td>under way using engine</td>\n",
       "      <td>11.989307</td>\n",
       "      <td>NaN</td>\n",
       "    </tr>\n",
       "  </tbody>\n",
       "</table>\n",
       "<p>501 rows × 16 columns</p>\n",
       "</div>"
      ],
      "text/plain": [
       "    vessel_name       mmsi        imo  CAPACITY destination  \\\n",
       "0     COSCO FOS  477947700  9484302.0      4253       CNTSN   \n",
       "1     COSCO FOS  477947700  9484302.0      4253       CNTSN   \n",
       "2     COSCO FOS  477947700  9484302.0      4253       CNTSN   \n",
       "3     COSCO FOS  477947700  9484302.0      4253       CNTSN   \n",
       "4     COSCO FOS  477947700  9484302.0      4253       CNTSN   \n",
       "..          ...        ...        ...       ...         ...   \n",
       "496   COSCO FOS  477947700  9484302.0      4253       KRBNP   \n",
       "497   COSCO FOS  477947700  9484302.0      4253       KRBNP   \n",
       "498   COSCO FOS  477947700  9484302.0      4253       KRBNP   \n",
       "499   COSCO FOS  477947700  9484302.0      4253       KRBNP   \n",
       "500   COSCO FOS  477947700  9484302.0      4253       KRBNP   \n",
       "\n",
       "                     eta  longitude  latitude  speed  heading  \\\n",
       "0    2022-10-24 10:30:00   126.4686   34.1041   17.7    286.0   \n",
       "1    2022-10-24 10:30:00   126.4381   34.1089   17.4    273.0   \n",
       "2    2022-10-24 10:30:00   126.4096   34.1100   17.6    270.0   \n",
       "3    2022-10-24 10:30:00   126.3837   34.1103   17.7    270.0   \n",
       "4    2022-10-24 10:30:00   126.3504   34.1106   17.7    271.0   \n",
       "..                   ...        ...       ...    ...      ...   \n",
       "496  2022-10-28 01:50:00   128.8280   35.0775    0.1     91.0   \n",
       "497  2022-10-28 01:50:00   128.8281   35.0774    0.1     91.0   \n",
       "498  2022-10-28 01:50:00   128.8278   35.0776    0.0     91.0   \n",
       "499  2022-10-28 01:50:00   128.8280   35.0773    0.1     91.0   \n",
       "500  2022-10-28 01:50:00   128.8279   35.0772    0.0     90.0   \n",
       "\n",
       "                      timestamp time_position_data_received  \\\n",
       "0    2022-10-23 21:31:35.498957         2022-10-23 12:31:04   \n",
       "1    2022-10-23 21:36:38.494959         2022-10-23 12:36:23   \n",
       "2    2022-10-23 21:41:41.162039         2022-10-23 12:41:16   \n",
       "3    2022-10-23 21:46:43.859572         2022-10-23 12:45:40   \n",
       "4    2022-10-23 21:51:46.488472         2022-10-23 12:51:17   \n",
       "..                          ...                         ...   \n",
       "496  2022-10-28 15:11:35.771388         2022-10-28 06:07:58   \n",
       "497  2022-10-28 15:21:41.415499         2022-10-28 06:19:08   \n",
       "498  2022-10-28 16:37:24.932444         2022-10-28 07:35:27   \n",
       "499  2022-10-28 18:13:18.843610         2022-10-28 09:09:53   \n",
       "500  2022-10-28 19:34:04.022317         2022-10-28 10:32:25   \n",
       "\n",
       "    time_voyage_data_received         navigation_info  remained_distance  \\\n",
       "0         2022-10-23 09:31:08  under way using engine         235.852516   \n",
       "1         2022-10-23 09:31:08  under way using engine         238.184921   \n",
       "2         2022-10-23 09:31:08  under way using engine         240.527495   \n",
       "3         2022-10-23 09:31:08  under way using engine         242.692568   \n",
       "4         2022-10-23 09:31:08  under way using engine         245.485649   \n",
       "..                        ...                     ...                ...   \n",
       "496       2022-10-28 06:07:05  under way using engine          12.023183   \n",
       "497       2022-10-28 06:19:07  under way using engine          12.012681   \n",
       "498       2022-10-28 07:31:07  under way using engine          12.033115   \n",
       "499       2022-10-28 09:07:06  under way using engine          12.000991   \n",
       "500       2022-10-28 10:24:49  under way using engine          11.989307   \n",
       "\n",
       "     estimated_fuel_consumption  \n",
       "0                    441.577157  \n",
       "1                    436.415634  \n",
       "2                    447.093656  \n",
       "3                    454.383511  \n",
       "4                    459.612884  \n",
       "..                          ...  \n",
       "496                  959.355393  \n",
       "497                  958.517377  \n",
       "498                         NaN  \n",
       "499                  957.584631  \n",
       "500                         NaN  \n",
       "\n",
       "[501 rows x 16 columns]"
      ]
     },
     "execution_count": 3,
     "metadata": {},
     "output_type": "execute_result"
    }
   ],
   "source": [
    "df_test = pd.read_csv(\"voy_path/COSCO_FOS_VRKR6_23.csv\")\n",
    "df_test"
   ]
  },
  {
   "cell_type": "code",
   "execution_count": 4,
   "id": "46ce85f7",
   "metadata": {
    "ExecuteTime": {
     "end_time": "2022-12-17T09:17:44.716811Z",
     "start_time": "2022-12-17T09:17:44.701812Z"
    }
   },
   "outputs": [],
   "source": [
    "# if Point(LONGITUDE, LATITUDE).within(poly):"
   ]
  },
  {
   "cell_type": "code",
   "execution_count": 5,
   "id": "cdb92e67",
   "metadata": {
    "ExecuteTime": {
     "end_time": "2022-12-17T09:17:44.732346Z",
     "start_time": "2022-12-17T09:17:44.717817Z"
    }
   },
   "outputs": [],
   "source": [
    "df_test.sort_values(by=\"timestamp\", ignore_index=True, inplace=True)"
   ]
  },
  {
   "cell_type": "code",
   "execution_count": 6,
   "id": "f126f3a1",
   "metadata": {
    "ExecuteTime": {
     "end_time": "2022-12-17T09:17:44.762584Z",
     "start_time": "2022-12-17T09:17:44.733318Z"
    }
   },
   "outputs": [
    {
     "name": "stdout",
     "output_type": "stream",
     "text": [
      "244\n"
     ]
    }
   ],
   "source": [
    "for idx in df_test.index:\n",
    "    LONGITUDE = df_test.loc[idx, \"longitude\"]\n",
    "    LATITUDE = df_test.loc[idx, \"latitude\"]\n",
    "    heading = df_test.loc[idx, \"heading\"]\n",
    "    speed = df_test.loc[idx, \"speed\"]\n",
    "    if Point(LONGITUDE, LATITUDE).within(poly) and heading < 200 and speed > 11:\n",
    "        print(idx)\n",
    "        break\n",
    "        "
   ]
  },
  {
   "cell_type": "code",
   "execution_count": 7,
   "id": "e578be74",
   "metadata": {
    "ExecuteTime": {
     "end_time": "2022-12-17T09:17:44.778590Z",
     "start_time": "2022-12-17T09:17:44.763588Z"
    }
   },
   "outputs": [],
   "source": [
    "df_test_2 = df_test.loc[idx:,]\n",
    "df_test_2.reset_index(inplace=True)"
   ]
  },
  {
   "cell_type": "code",
   "execution_count": 8,
   "id": "39a84ff8",
   "metadata": {
    "ExecuteTime": {
     "end_time": "2022-12-17T09:17:44.794590Z",
     "start_time": "2022-12-17T09:17:44.780559Z"
    }
   },
   "outputs": [],
   "source": [
    "# df_test_2.to_csv(\"voy_path/COSCO_test.csv\", encoding=\"utf-8 sig\", header=True, index=False)"
   ]
  },
  {
   "cell_type": "code",
   "execution_count": 9,
   "id": "37e8d48f",
   "metadata": {
    "ExecuteTime": {
     "end_time": "2022-12-17T09:17:44.809814Z",
     "start_time": "2022-12-17T09:17:44.795588Z"
    }
   },
   "outputs": [],
   "source": [
    "distance = 0\n",
    "for idx in df_test_2.index:\n",
    "    if idx != 0:\n",
    "        LONGITUDE = df_test_2.loc[idx, \"longitude\"]\n",
    "        LATITUDE = df_test_2.loc[idx, \"latitude\"]\n",
    "        current_coord = (LATITUDE, LONGITUDE)\n",
    "\n",
    "        LONGITUDE = df_test_2.loc[idx - 1, \"longitude\"]\n",
    "        LATITUDE = df_test_2.loc[idx - 1, \"latitude\"]\n",
    "        previous_current_coord = (LATITUDE, LONGITUDE)\n",
    "\n",
    "        distance += haversine(current_coord, previous_current_coord, unit=\"km\")"
   ]
  },
  {
   "cell_type": "code",
   "execution_count": 10,
   "id": "50cb6385",
   "metadata": {
    "ExecuteTime": {
     "end_time": "2022-12-17T09:17:44.825363Z",
     "start_time": "2022-12-17T09:17:44.810787Z"
    }
   },
   "outputs": [
    {
     "data": {
      "text/plain": [
       "1327.2648556008742"
      ]
     },
     "execution_count": 10,
     "metadata": {},
     "output_type": "execute_result"
    }
   ],
   "source": [
    "distance"
   ]
  },
  {
   "cell_type": "code",
   "execution_count": 11,
   "id": "84ddc0ee",
   "metadata": {
    "ExecuteTime": {
     "end_time": "2022-12-17T09:17:44.841108Z",
     "start_time": "2022-12-17T09:17:44.826354Z"
    }
   },
   "outputs": [
    {
     "data": {
      "text/plain": [
       "67.42632559831476"
      ]
     },
     "execution_count": 11,
     "metadata": {},
     "output_type": "execute_result"
    }
   ],
   "source": [
    "1348.5265119662952 / 20"
   ]
  },
  {
   "cell_type": "code",
   "execution_count": 12,
   "id": "f61e2bb2",
   "metadata": {
    "ExecuteTime": {
     "end_time": "2022-12-17T09:17:44.856122Z",
     "start_time": "2022-12-17T09:17:44.842109Z"
    }
   },
   "outputs": [],
   "source": [
    "overall_length = 1348.5265119662952\n",
    "segment_length = overall_length/20"
   ]
  },
  {
   "cell_type": "code",
   "execution_count": 13,
   "id": "3975eafd",
   "metadata": {
    "ExecuteTime": {
     "end_time": "2022-12-17T09:17:44.872009Z",
     "start_time": "2022-12-17T09:17:44.857116Z"
    }
   },
   "outputs": [],
   "source": [
    "overall_length = distance\n",
    "segment_length = overall_length/20"
   ]
  },
  {
   "cell_type": "code",
   "execution_count": 14,
   "id": "d2bbacbd",
   "metadata": {
    "ExecuteTime": {
     "end_time": "2022-12-17T09:17:44.887123Z",
     "start_time": "2022-12-17T09:17:44.873010Z"
    }
   },
   "outputs": [
    {
     "data": {
      "text/plain": [
       "66.3632427800437"
      ]
     },
     "execution_count": 14,
     "metadata": {},
     "output_type": "execute_result"
    }
   ],
   "source": [
    "segment_length"
   ]
  },
  {
   "cell_type": "code",
   "execution_count": 15,
   "id": "78aa1630",
   "metadata": {
    "ExecuteTime": {
     "end_time": "2022-12-17T09:17:44.902148Z",
     "start_time": "2022-12-17T09:17:44.888127Z"
    },
    "scrolled": true
   },
   "outputs": [
    {
     "name": "stdout",
     "output_type": "stream",
     "text": [
      "71.25276385840104\n",
      "155.57462066089624\n",
      "70.03386228298353\n",
      "119.77110415166675\n",
      "70.14662388272575\n",
      "250.33181824752216\n",
      "69.28310138292795\n",
      "66.88959168849124\n",
      "67.63446215935082\n",
      "66.51581492613269\n",
      "67.14454387285001\n",
      "66.43842751596591\n",
      "68.7589257030363\n",
      "67.29825310725028\n"
     ]
    }
   ],
   "source": [
    "temp_accu_length = 0\n",
    "segmenting_index_list = []\n",
    "for idx in df_test_2.index:\n",
    "    \n",
    "    if idx == 0:\n",
    "        previous_length = 0\n",
    "    else:\n",
    "        LONGITUDE = df_test_2.loc[idx, \"longitude\"]\n",
    "        LATITUDE = df_test_2.loc[idx, \"latitude\"]\n",
    "        current_coord = (LATITUDE, LONGITUDE)\n",
    "\n",
    "        LONGITUDE = df_test_2.loc[idx - 1, \"longitude\"]\n",
    "        LATITUDE = df_test_2.loc[idx - 1, \"latitude\"]\n",
    "        previous_current_coord = (LATITUDE, LONGITUDE)\n",
    "\n",
    "        current_length = haversine(current_coord, previous_current_coord, unit=\"km\")\n",
    "        temp_accu_length += current_length\n",
    "        \n",
    "        if temp_accu_length >= segment_length:\n",
    "            print(temp_accu_length)\n",
    "#             segmenting_index_list.append(idx)\n",
    "            \n",
    "            \n",
    "            length_error_1 = temp_accu_length - segment_length\n",
    "            length_error_2 = temp_accu_length - segment_length - previous_length\n",
    "            if length_error_1 > length_error_2:\n",
    "                segmenting_index_list.append(idx)\n",
    "            else:\n",
    "                segmenting_index_list.append(idx - 1)\n",
    "                \n",
    "            \n",
    "            temp_accu_length = 0\n",
    "            \n",
    "        previous_length = current_length\n",
    "segmenting_index_list.append(df_test_2.index[-1])\n"
   ]
  },
  {
   "cell_type": "code",
   "execution_count": 16,
   "id": "556e7c44",
   "metadata": {
    "ExecuteTime": {
     "end_time": "2022-12-17T09:17:44.917692Z",
     "start_time": "2022-12-17T09:17:44.903147Z"
    }
   },
   "outputs": [
    {
     "data": {
      "text/plain": [
       "15"
      ]
     },
     "execution_count": 16,
     "metadata": {},
     "output_type": "execute_result"
    }
   ],
   "source": [
    "len(segmenting_index_list)"
   ]
  },
  {
   "cell_type": "code",
   "execution_count": 17,
   "id": "27572ae1",
   "metadata": {
    "ExecuteTime": {
     "end_time": "2022-12-17T09:17:44.932844Z",
     "start_time": "2022-12-17T09:17:44.918684Z"
    }
   },
   "outputs": [],
   "source": [
    "# df 내의 포인트 전체 길이 구하는 함수\n",
    "def reckon_point_lengths(df_test_2):\n",
    "    distance = 0\n",
    "    df_test_2.reset_index(inplace=True, drop=True)\n",
    "    for idx in df_test_2.index:\n",
    "        if idx != 0:\n",
    "            LONGITUDE = df_test_2.loc[idx, \"longitude\"]\n",
    "            LATITUDE = df_test_2.loc[idx, \"latitude\"]\n",
    "            current_coord = (LATITUDE, LONGITUDE)\n",
    "\n",
    "            LONGITUDE = df_test_2.loc[idx - 1, \"longitude\"]\n",
    "            LATITUDE = df_test_2.loc[idx - 1, \"latitude\"]\n",
    "            previous_current_coord = (LATITUDE, LONGITUDE)\n",
    "\n",
    "            distance += haversine(current_coord, previous_current_coord, unit=\"km\")\n",
    "    return distance"
   ]
  },
  {
   "cell_type": "code",
   "execution_count": 18,
   "id": "de0f5579",
   "metadata": {
    "ExecuteTime": {
     "end_time": "2022-12-17T09:17:44.980952Z",
     "start_time": "2022-12-17T09:17:44.933845Z"
    },
    "scrolled": false
   },
   "outputs": [
    {
     "name": "stdout",
     "output_type": "stream",
     "text": [
      "71.25276385840104\n",
      "155.57462066089624\n",
      "70.03386228298353\n",
      "119.77110415166675\n",
      "70.14662388272575\n",
      "250.33181824752216\n",
      "69.28310138292795\n",
      "66.88959168849124\n",
      "67.63446215935082\n",
      "66.51581492613269\n",
      "67.14454387285001\n",
      "66.43842751596591\n",
      "68.7589257030363\n",
      "67.29825310725028\n",
      "50.190942160672996\n"
     ]
    }
   ],
   "source": [
    "for idx, index in enumerate(segmenting_index_list):\n",
    "    if idx == 0:\n",
    "        d = df_test_2[0:index + 1]\n",
    "#         display(d)\n",
    "        distance = reckon_point_lengths(d)\n",
    "        print(distance)\n",
    "        d.to_csv(f\"실험/segment_test_new_23_{idx}.csv\", encoding=\"utf-8 sig\", header=True, index=False)\n",
    "    else:\n",
    "        d = df_test_2[previous_index:index + 1]\n",
    "#         display(d)\n",
    "        distance = reckon_point_lengths(d)\n",
    "        print(distance)\n",
    "        d.to_csv(f\"실험/segment_test_new_23_{idx}.csv\", encoding=\"utf-8 sig\", header=True, index=False)\n",
    "        \n",
    "    previous_index = index"
   ]
  },
  {
   "cell_type": "code",
   "execution_count": 19,
   "id": "fe9fb041",
   "metadata": {
    "ExecuteTime": {
     "end_time": "2022-12-17T09:17:45.119568Z",
     "start_time": "2022-12-17T09:17:44.981952Z"
    }
   },
   "outputs": [
    {
     "name": "stdout",
     "output_type": "stream",
     "text": [
      "0 16.742857142857144\n",
      "1 19.575\n",
      "2 16.94\n",
      "3 17.788888888888888\n",
      "4 17.78181818181818\n",
      "5 17.7\n",
      "6 18.31764705882353\n",
      "7 19.400000000000002\n",
      "8 20.638095238095236\n",
      "9 18.0125\n",
      "10 14.132\n",
      "11 15.678571428571429\n",
      "12 15.39655172413793\n",
      "13 15.695833333333335\n",
      "14 5.751282051282051\n"
     ]
    }
   ],
   "source": [
    "for i in range(len(segmenting_index_list)):\n",
    "    d = pd.read_csv(f\"실험/segment_test_new_23_{i}.csv\")\n",
    "    mean_speed = d[\"speed\"].mean()\n",
    "    print(i, mean_speed)"
   ]
  },
  {
   "cell_type": "code",
   "execution_count": 21,
   "id": "3177fd4f",
   "metadata": {
    "ExecuteTime": {
     "end_time": "2022-12-17T09:24:21.940566Z",
     "start_time": "2022-12-17T09:24:21.922565Z"
    }
   },
   "outputs": [
    {
     "name": "stdout",
     "output_type": "stream",
     "text": [
      "COSCO_FOS_23\n",
      "전항지 출항 시각 2022-10-26 17:49:59.362708\n",
      "부산 도착 시각 2022-10-28 19:34:04.022317\n"
     ]
    }
   ],
   "source": [
    "print(\"COSCO_FOS_23\")\n",
    "print(\"전항지 출항 시각\",df_test_2.loc[df_test_2.index[0], \"timestamp\"])\n",
    "print(\"부산 도착 시각\",df_test_2.loc[df_test_2.index[-1], \"timestamp\"])"
   ]
  },
  {
   "cell_type": "code",
   "execution_count": null,
   "id": "824ea762",
   "metadata": {},
   "outputs": [],
   "source": []
  }
 ],
 "metadata": {
  "kernelspec": {
   "display_name": "안정된가상환경",
   "language": "python",
   "name": "oracle2"
  },
  "language_info": {
   "codemirror_mode": {
    "name": "ipython",
    "version": 3
   },
   "file_extension": ".py",
   "mimetype": "text/x-python",
   "name": "python",
   "nbconvert_exporter": "python",
   "pygments_lexer": "ipython3",
   "version": "3.7.11"
  },
  "toc": {
   "base_numbering": 1,
   "nav_menu": {},
   "number_sections": true,
   "sideBar": true,
   "skip_h1_title": false,
   "title_cell": "Table of Contents",
   "title_sidebar": "Contents",
   "toc_cell": false,
   "toc_position": {},
   "toc_section_display": true,
   "toc_window_display": false
  }
 },
 "nbformat": 4,
 "nbformat_minor": 5
}
