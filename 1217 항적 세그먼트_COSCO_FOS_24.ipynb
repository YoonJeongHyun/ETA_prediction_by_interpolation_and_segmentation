{
 "cells": [
  {
   "cell_type": "code",
   "execution_count": 1,
   "id": "bd4a6614",
   "metadata": {
    "ExecuteTime": {
     "end_time": "2022-12-17T09:17:02.800487Z",
     "start_time": "2022-12-17T09:17:02.201721Z"
    }
   },
   "outputs": [],
   "source": [
    "import pandas as pd\n",
    "import numpy as np\n",
    "import cx_Oracle\n",
    "import os\n",
    "import json\n",
    "import datetime\n",
    "import warnings\n",
    "\n",
    "warnings.filterwarnings(action=\"ignore\")\n",
    "from selenium import webdriver\n",
    "from selenium.webdriver.support.ui import Select\n",
    "from selenium.webdriver.common.by import By\n",
    "import bs4\n",
    "import requests\n",
    "import time\n",
    "import math\n",
    "import random\n",
    "from shapely.geometry import Point, Polygon\n",
    "import time as timesys\n",
    "from pyproj import Geod\n",
    "from haversine import haversine\n",
    "pd.set_option('display.max_columns', None)"
   ]
  },
  {
   "cell_type": "code",
   "execution_count": 2,
   "id": "62ac4d5b",
   "metadata": {
    "ExecuteTime": {
     "end_time": "2022-12-17T09:17:02.816324Z",
     "start_time": "2022-12-17T09:17:02.801324Z"
    }
   },
   "outputs": [],
   "source": [
    "tianjin = '117.4961975657171,37.86803012379458,7.296245301137998 119.8081837995413,37.9250916349774,-34.2681049860788 119.8416643486643,39.32481316399956,-31.12524274095152 117.9501096884913,39.37523731857854,39.41212136434525 117.4961975657171,37.86803012379458,7.296245301137998'\n",
    "\n",
    "\n",
    "\n",
    "coord_list = tianjin.split(\" \")\n",
    "coord_list\n",
    "coord_list2 = []\n",
    "for i in coord_list:\n",
    "    temp = i.split(\",\")[:2]\n",
    "    temp = list(map(float, temp))\n",
    "    coord_list2.append(temp)\n",
    "poly = Polygon(coord_list2)\n",
    "# if Point(LONGITUDE, LATITUDE).within(poly):"
   ]
  },
  {
   "cell_type": "markdown",
   "id": "e8910b1b",
   "metadata": {},
   "source": [
    "정상 항차   \n",
    "26,25,24,23,20"
   ]
  },
  {
   "cell_type": "code",
   "execution_count": 3,
   "id": "51c4e9e3",
   "metadata": {
    "ExecuteTime": {
     "end_time": "2022-12-17T09:17:02.861324Z",
     "start_time": "2022-12-17T09:17:02.817324Z"
    }
   },
   "outputs": [
    {
     "data": {
      "text/html": [
       "<div>\n",
       "<style scoped>\n",
       "    .dataframe tbody tr th:only-of-type {\n",
       "        vertical-align: middle;\n",
       "    }\n",
       "\n",
       "    .dataframe tbody tr th {\n",
       "        vertical-align: top;\n",
       "    }\n",
       "\n",
       "    .dataframe thead th {\n",
       "        text-align: right;\n",
       "    }\n",
       "</style>\n",
       "<table border=\"1\" class=\"dataframe\">\n",
       "  <thead>\n",
       "    <tr style=\"text-align: right;\">\n",
       "      <th></th>\n",
       "      <th>vessel_name</th>\n",
       "      <th>mmsi</th>\n",
       "      <th>imo</th>\n",
       "      <th>CAPACITY</th>\n",
       "      <th>destination</th>\n",
       "      <th>eta</th>\n",
       "      <th>longitude</th>\n",
       "      <th>latitude</th>\n",
       "      <th>speed</th>\n",
       "      <th>heading</th>\n",
       "      <th>timestamp</th>\n",
       "      <th>time_position_data_received</th>\n",
       "      <th>time_voyage_data_received</th>\n",
       "      <th>navigation_info</th>\n",
       "      <th>remained_distance</th>\n",
       "      <th>estimated_fuel_consumption</th>\n",
       "    </tr>\n",
       "  </thead>\n",
       "  <tbody>\n",
       "    <tr>\n",
       "      <th>0</th>\n",
       "      <td>COSCO FOS</td>\n",
       "      <td>477947700</td>\n",
       "      <td>9484302.0</td>\n",
       "      <td>4253</td>\n",
       "      <td>CNTSN</td>\n",
       "      <td>2022-11-01 01:00:00</td>\n",
       "      <td>126.4761</td>\n",
       "      <td>34.0970</td>\n",
       "      <td>20.2</td>\n",
       "      <td>282.0</td>\n",
       "      <td>2022-10-31 01:44:32.801828</td>\n",
       "      <td>2022-10-30 16:41:25</td>\n",
       "      <td>2022-10-30 01:55:08</td>\n",
       "      <td>under way using engine</td>\n",
       "      <td>235.557924</td>\n",
       "      <td>529.149365</td>\n",
       "    </tr>\n",
       "    <tr>\n",
       "      <th>1</th>\n",
       "      <td>COSCO FOS</td>\n",
       "      <td>477947700</td>\n",
       "      <td>9484302.0</td>\n",
       "      <td>4253</td>\n",
       "      <td>CNTSN</td>\n",
       "      <td>2022-11-01 01:00:00</td>\n",
       "      <td>126.4315</td>\n",
       "      <td>34.1047</td>\n",
       "      <td>20.2</td>\n",
       "      <td>282.0</td>\n",
       "      <td>2022-10-31 01:49:35.660712</td>\n",
       "      <td>2022-10-30 16:48:08</td>\n",
       "      <td>2022-10-30 01:55:08</td>\n",
       "      <td>under way using engine</td>\n",
       "      <td>238.931185</td>\n",
       "      <td>536.726944</td>\n",
       "    </tr>\n",
       "    <tr>\n",
       "      <th>2</th>\n",
       "      <td>COSCO FOS</td>\n",
       "      <td>477947700</td>\n",
       "      <td>9484302.0</td>\n",
       "      <td>4253</td>\n",
       "      <td>CNTSN</td>\n",
       "      <td>2022-11-01 01:00:00</td>\n",
       "      <td>126.3895</td>\n",
       "      <td>34.1077</td>\n",
       "      <td>20.2</td>\n",
       "      <td>271.0</td>\n",
       "      <td>2022-10-31 01:54:38.504486</td>\n",
       "      <td>2022-10-30 16:54:25</td>\n",
       "      <td>2022-10-30 01:55:08</td>\n",
       "      <td>under way using engine</td>\n",
       "      <td>242.321724</td>\n",
       "      <td>544.343338</td>\n",
       "    </tr>\n",
       "    <tr>\n",
       "      <th>3</th>\n",
       "      <td>COSCO FOS</td>\n",
       "      <td>477947700</td>\n",
       "      <td>9484302.0</td>\n",
       "      <td>4253</td>\n",
       "      <td>CNTSN</td>\n",
       "      <td>2022-11-01 01:00:00</td>\n",
       "      <td>126.3598</td>\n",
       "      <td>34.1082</td>\n",
       "      <td>20.1</td>\n",
       "      <td>271.0</td>\n",
       "      <td>2022-10-31 01:59:42.326869</td>\n",
       "      <td>2022-10-30 16:58:50</td>\n",
       "      <td>2022-10-30 01:55:08</td>\n",
       "      <td>under way using engine</td>\n",
       "      <td>244.800071</td>\n",
       "      <td>545.915560</td>\n",
       "    </tr>\n",
       "    <tr>\n",
       "      <th>4</th>\n",
       "      <td>COSCO FOS</td>\n",
       "      <td>477947700</td>\n",
       "      <td>9484302.0</td>\n",
       "      <td>4253</td>\n",
       "      <td>CNTSN</td>\n",
       "      <td>2022-11-01 01:00:00</td>\n",
       "      <td>126.3213</td>\n",
       "      <td>34.1087</td>\n",
       "      <td>20.2</td>\n",
       "      <td>271.0</td>\n",
       "      <td>2022-10-31 02:04:44.283430</td>\n",
       "      <td>2022-10-30 17:04:31</td>\n",
       "      <td>2022-10-30 01:55:08</td>\n",
       "      <td>under way using engine</td>\n",
       "      <td>248.026798</td>\n",
       "      <td>557.159024</td>\n",
       "    </tr>\n",
       "    <tr>\n",
       "      <th>...</th>\n",
       "      <td>...</td>\n",
       "      <td>...</td>\n",
       "      <td>...</td>\n",
       "      <td>...</td>\n",
       "      <td>...</td>\n",
       "      <td>...</td>\n",
       "      <td>...</td>\n",
       "      <td>...</td>\n",
       "      <td>...</td>\n",
       "      <td>...</td>\n",
       "      <td>...</td>\n",
       "      <td>...</td>\n",
       "      <td>...</td>\n",
       "      <td>...</td>\n",
       "      <td>...</td>\n",
       "      <td>...</td>\n",
       "    </tr>\n",
       "    <tr>\n",
       "      <th>473</th>\n",
       "      <td>COSCO FOS</td>\n",
       "      <td>477947700</td>\n",
       "      <td>9484302.0</td>\n",
       "      <td>4253</td>\n",
       "      <td>KRBNP</td>\n",
       "      <td>2022-11-04 08:00:00</td>\n",
       "      <td>128.8247</td>\n",
       "      <td>35.0773</td>\n",
       "      <td>0.0</td>\n",
       "      <td>91.0</td>\n",
       "      <td>2022-11-04 20:13:03.886599</td>\n",
       "      <td>2022-11-04 11:09:51</td>\n",
       "      <td>2022-11-04 11:07:05</td>\n",
       "      <td>under way using engine</td>\n",
       "      <td>11.985248</td>\n",
       "      <td>NaN</td>\n",
       "    </tr>\n",
       "    <tr>\n",
       "      <th>474</th>\n",
       "      <td>COSCO FOS</td>\n",
       "      <td>477947700</td>\n",
       "      <td>9484302.0</td>\n",
       "      <td>4253</td>\n",
       "      <td>KRBNP</td>\n",
       "      <td>2022-11-04 08:00:00</td>\n",
       "      <td>128.8246</td>\n",
       "      <td>35.0772</td>\n",
       "      <td>0.0</td>\n",
       "      <td>91.0</td>\n",
       "      <td>2022-11-04 20:18:07.878970</td>\n",
       "      <td>2022-11-04 11:15:24</td>\n",
       "      <td>2022-11-04 11:07:05</td>\n",
       "      <td>under way using engine</td>\n",
       "      <td>11.973778</td>\n",
       "      <td>NaN</td>\n",
       "    </tr>\n",
       "    <tr>\n",
       "      <th>475</th>\n",
       "      <td>COSCO FOS</td>\n",
       "      <td>477947700</td>\n",
       "      <td>9484302.0</td>\n",
       "      <td>4253</td>\n",
       "      <td>KRBNP</td>\n",
       "      <td>2022-11-04 08:00:00</td>\n",
       "      <td>128.8249</td>\n",
       "      <td>35.0774</td>\n",
       "      <td>0.1</td>\n",
       "      <td>91.0</td>\n",
       "      <td>2022-11-04 20:58:30.521894</td>\n",
       "      <td>2022-11-04 11:57:20</td>\n",
       "      <td>2022-11-04 11:49:08</td>\n",
       "      <td>under way using engine</td>\n",
       "      <td>11.997099</td>\n",
       "      <td>957.274033</td>\n",
       "    </tr>\n",
       "    <tr>\n",
       "      <th>476</th>\n",
       "      <td>COSCO FOS</td>\n",
       "      <td>477947700</td>\n",
       "      <td>9484302.0</td>\n",
       "      <td>4253</td>\n",
       "      <td>KRBNP</td>\n",
       "      <td>2022-11-04 08:00:00</td>\n",
       "      <td>128.8249</td>\n",
       "      <td>35.0775</td>\n",
       "      <td>0.0</td>\n",
       "      <td>91.0</td>\n",
       "      <td>2022-11-04 21:03:31.914746</td>\n",
       "      <td>2022-11-04 12:00:35</td>\n",
       "      <td>2022-11-04 12:01:08</td>\n",
       "      <td>under way using engine</td>\n",
       "      <td>12.008209</td>\n",
       "      <td>NaN</td>\n",
       "    </tr>\n",
       "    <tr>\n",
       "      <th>477</th>\n",
       "      <td>COSCO FOS</td>\n",
       "      <td>477947700</td>\n",
       "      <td>9484302.0</td>\n",
       "      <td>4253</td>\n",
       "      <td>KRBNP</td>\n",
       "      <td>2022-11-04 08:00:00</td>\n",
       "      <td>128.8250</td>\n",
       "      <td>35.0771</td>\n",
       "      <td>0.0</td>\n",
       "      <td>91.0</td>\n",
       "      <td>2022-11-04 21:18:40.519903</td>\n",
       "      <td>2022-11-04 12:15:54</td>\n",
       "      <td>2022-11-04 12:13:08</td>\n",
       "      <td>under way using engine</td>\n",
       "      <td>11.964150</td>\n",
       "      <td>NaN</td>\n",
       "    </tr>\n",
       "  </tbody>\n",
       "</table>\n",
       "<p>478 rows × 16 columns</p>\n",
       "</div>"
      ],
      "text/plain": [
       "    vessel_name       mmsi        imo  CAPACITY destination  \\\n",
       "0     COSCO FOS  477947700  9484302.0      4253       CNTSN   \n",
       "1     COSCO FOS  477947700  9484302.0      4253       CNTSN   \n",
       "2     COSCO FOS  477947700  9484302.0      4253       CNTSN   \n",
       "3     COSCO FOS  477947700  9484302.0      4253       CNTSN   \n",
       "4     COSCO FOS  477947700  9484302.0      4253       CNTSN   \n",
       "..          ...        ...        ...       ...         ...   \n",
       "473   COSCO FOS  477947700  9484302.0      4253       KRBNP   \n",
       "474   COSCO FOS  477947700  9484302.0      4253       KRBNP   \n",
       "475   COSCO FOS  477947700  9484302.0      4253       KRBNP   \n",
       "476   COSCO FOS  477947700  9484302.0      4253       KRBNP   \n",
       "477   COSCO FOS  477947700  9484302.0      4253       KRBNP   \n",
       "\n",
       "                     eta  longitude  latitude  speed  heading  \\\n",
       "0    2022-11-01 01:00:00   126.4761   34.0970   20.2    282.0   \n",
       "1    2022-11-01 01:00:00   126.4315   34.1047   20.2    282.0   \n",
       "2    2022-11-01 01:00:00   126.3895   34.1077   20.2    271.0   \n",
       "3    2022-11-01 01:00:00   126.3598   34.1082   20.1    271.0   \n",
       "4    2022-11-01 01:00:00   126.3213   34.1087   20.2    271.0   \n",
       "..                   ...        ...       ...    ...      ...   \n",
       "473  2022-11-04 08:00:00   128.8247   35.0773    0.0     91.0   \n",
       "474  2022-11-04 08:00:00   128.8246   35.0772    0.0     91.0   \n",
       "475  2022-11-04 08:00:00   128.8249   35.0774    0.1     91.0   \n",
       "476  2022-11-04 08:00:00   128.8249   35.0775    0.0     91.0   \n",
       "477  2022-11-04 08:00:00   128.8250   35.0771    0.0     91.0   \n",
       "\n",
       "                      timestamp time_position_data_received  \\\n",
       "0    2022-10-31 01:44:32.801828         2022-10-30 16:41:25   \n",
       "1    2022-10-31 01:49:35.660712         2022-10-30 16:48:08   \n",
       "2    2022-10-31 01:54:38.504486         2022-10-30 16:54:25   \n",
       "3    2022-10-31 01:59:42.326869         2022-10-30 16:58:50   \n",
       "4    2022-10-31 02:04:44.283430         2022-10-30 17:04:31   \n",
       "..                          ...                         ...   \n",
       "473  2022-11-04 20:13:03.886599         2022-11-04 11:09:51   \n",
       "474  2022-11-04 20:18:07.878970         2022-11-04 11:15:24   \n",
       "475  2022-11-04 20:58:30.521894         2022-11-04 11:57:20   \n",
       "476  2022-11-04 21:03:31.914746         2022-11-04 12:00:35   \n",
       "477  2022-11-04 21:18:40.519903         2022-11-04 12:15:54   \n",
       "\n",
       "    time_voyage_data_received         navigation_info  remained_distance  \\\n",
       "0         2022-10-30 01:55:08  under way using engine         235.557924   \n",
       "1         2022-10-30 01:55:08  under way using engine         238.931185   \n",
       "2         2022-10-30 01:55:08  under way using engine         242.321724   \n",
       "3         2022-10-30 01:55:08  under way using engine         244.800071   \n",
       "4         2022-10-30 01:55:08  under way using engine         248.026798   \n",
       "..                        ...                     ...                ...   \n",
       "473       2022-11-04 11:07:05  under way using engine          11.985248   \n",
       "474       2022-11-04 11:07:05  under way using engine          11.973778   \n",
       "475       2022-11-04 11:49:08  under way using engine          11.997099   \n",
       "476       2022-11-04 12:01:08  under way using engine          12.008209   \n",
       "477       2022-11-04 12:13:08  under way using engine          11.964150   \n",
       "\n",
       "     estimated_fuel_consumption  \n",
       "0                    529.149365  \n",
       "1                    536.726944  \n",
       "2                    544.343338  \n",
       "3                    545.915560  \n",
       "4                    557.159024  \n",
       "..                          ...  \n",
       "473                         NaN  \n",
       "474                         NaN  \n",
       "475                  957.274033  \n",
       "476                         NaN  \n",
       "477                         NaN  \n",
       "\n",
       "[478 rows x 16 columns]"
      ]
     },
     "execution_count": 3,
     "metadata": {},
     "output_type": "execute_result"
    }
   ],
   "source": [
    "df_test = pd.read_csv(\"voy_path/COSCO_FOS_VRKR6_24.csv\")\n",
    "df_test"
   ]
  },
  {
   "cell_type": "code",
   "execution_count": 4,
   "id": "46ce85f7",
   "metadata": {
    "ExecuteTime": {
     "end_time": "2022-12-17T09:17:02.876329Z",
     "start_time": "2022-12-17T09:17:02.862324Z"
    }
   },
   "outputs": [],
   "source": [
    "# if Point(LONGITUDE, LATITUDE).within(poly):"
   ]
  },
  {
   "cell_type": "code",
   "execution_count": 5,
   "id": "cdb92e67",
   "metadata": {
    "ExecuteTime": {
     "end_time": "2022-12-17T09:17:02.891330Z",
     "start_time": "2022-12-17T09:17:02.877324Z"
    }
   },
   "outputs": [],
   "source": [
    "df_test.sort_values(by=\"timestamp\", ignore_index=True, inplace=True)"
   ]
  },
  {
   "cell_type": "code",
   "execution_count": 6,
   "id": "f126f3a1",
   "metadata": {
    "ExecuteTime": {
     "end_time": "2022-12-17T09:17:02.906325Z",
     "start_time": "2022-12-17T09:17:02.892324Z"
    }
   },
   "outputs": [
    {
     "name": "stdout",
     "output_type": "stream",
     "text": [
      "167\n"
     ]
    }
   ],
   "source": [
    "for idx in df_test.index:\n",
    "    LONGITUDE = df_test.loc[idx, \"longitude\"]\n",
    "    LATITUDE = df_test.loc[idx, \"latitude\"]\n",
    "    heading = df_test.loc[idx, \"heading\"]\n",
    "    speed = df_test.loc[idx, \"speed\"]\n",
    "    if Point(LONGITUDE, LATITUDE).within(poly) and heading < 200 and speed > 11:\n",
    "        print(idx)\n",
    "        break\n",
    "        "
   ]
  },
  {
   "cell_type": "code",
   "execution_count": 7,
   "id": "e578be74",
   "metadata": {
    "ExecuteTime": {
     "end_time": "2022-12-17T09:17:02.921331Z",
     "start_time": "2022-12-17T09:17:02.907324Z"
    }
   },
   "outputs": [],
   "source": [
    "df_test_2 = df_test.loc[idx:,]\n",
    "df_test_2.reset_index(inplace=True)"
   ]
  },
  {
   "cell_type": "code",
   "execution_count": 8,
   "id": "39a84ff8",
   "metadata": {
    "ExecuteTime": {
     "end_time": "2022-12-17T09:17:02.936332Z",
     "start_time": "2022-12-17T09:17:02.922324Z"
    }
   },
   "outputs": [],
   "source": [
    "# df_test_2.to_csv(\"voy_path/COSCO_test.csv\", encoding=\"utf-8 sig\", header=True, index=False)"
   ]
  },
  {
   "cell_type": "code",
   "execution_count": 9,
   "id": "37e8d48f",
   "metadata": {
    "ExecuteTime": {
     "end_time": "2022-12-17T09:17:02.951323Z",
     "start_time": "2022-12-17T09:17:02.938324Z"
    }
   },
   "outputs": [],
   "source": [
    "distance = 0\n",
    "for idx in df_test_2.index:\n",
    "    if idx != 0:\n",
    "        LONGITUDE = df_test_2.loc[idx, \"longitude\"]\n",
    "        LATITUDE = df_test_2.loc[idx, \"latitude\"]\n",
    "        current_coord = (LATITUDE, LONGITUDE)\n",
    "\n",
    "        LONGITUDE = df_test_2.loc[idx - 1, \"longitude\"]\n",
    "        LATITUDE = df_test_2.loc[idx - 1, \"latitude\"]\n",
    "        previous_current_coord = (LATITUDE, LONGITUDE)\n",
    "\n",
    "        distance += haversine(current_coord, previous_current_coord, unit=\"km\")"
   ]
  },
  {
   "cell_type": "code",
   "execution_count": 10,
   "id": "50cb6385",
   "metadata": {
    "ExecuteTime": {
     "end_time": "2022-12-17T09:17:02.966325Z",
     "start_time": "2022-12-17T09:17:02.952324Z"
    }
   },
   "outputs": [
    {
     "data": {
      "text/plain": [
       "1389.7275616339807"
      ]
     },
     "execution_count": 10,
     "metadata": {},
     "output_type": "execute_result"
    }
   ],
   "source": [
    "distance"
   ]
  },
  {
   "cell_type": "code",
   "execution_count": 11,
   "id": "84ddc0ee",
   "metadata": {
    "ExecuteTime": {
     "end_time": "2022-12-17T09:17:02.981324Z",
     "start_time": "2022-12-17T09:17:02.967324Z"
    }
   },
   "outputs": [
    {
     "data": {
      "text/plain": [
       "67.42632559831476"
      ]
     },
     "execution_count": 11,
     "metadata": {},
     "output_type": "execute_result"
    }
   ],
   "source": [
    "1348.5265119662952 / 20"
   ]
  },
  {
   "cell_type": "code",
   "execution_count": 12,
   "id": "f61e2bb2",
   "metadata": {
    "ExecuteTime": {
     "end_time": "2022-12-17T09:17:02.996324Z",
     "start_time": "2022-12-17T09:17:02.982325Z"
    }
   },
   "outputs": [],
   "source": [
    "overall_length = 1348.5265119662952\n",
    "segment_length = overall_length/20"
   ]
  },
  {
   "cell_type": "code",
   "execution_count": 13,
   "id": "3975eafd",
   "metadata": {
    "ExecuteTime": {
     "end_time": "2022-12-17T09:17:03.011871Z",
     "start_time": "2022-12-17T09:17:02.997324Z"
    }
   },
   "outputs": [],
   "source": [
    "overall_length = distance\n",
    "segment_length = overall_length/20"
   ]
  },
  {
   "cell_type": "code",
   "execution_count": 14,
   "id": "d2bbacbd",
   "metadata": {
    "ExecuteTime": {
     "end_time": "2022-12-17T09:17:03.027871Z",
     "start_time": "2022-12-17T09:17:03.012872Z"
    }
   },
   "outputs": [
    {
     "data": {
      "text/plain": [
       "69.48637808169903"
      ]
     },
     "execution_count": 14,
     "metadata": {},
     "output_type": "execute_result"
    }
   ],
   "source": [
    "segment_length"
   ]
  },
  {
   "cell_type": "code",
   "execution_count": 15,
   "id": "78aa1630",
   "metadata": {
    "ExecuteTime": {
     "end_time": "2022-12-17T09:17:03.058931Z",
     "start_time": "2022-12-17T09:17:03.028871Z"
    },
    "scrolled": true
   },
   "outputs": [
    {
     "name": "stdout",
     "output_type": "stream",
     "text": [
      "71.47502926460479\n",
      "92.63554206974845\n",
      "70.68339235807801\n",
      "71.76136468162034\n",
      "70.47998578851839\n",
      "72.73619273463741\n",
      "71.75691316733956\n",
      "364.50345334869\n",
      "69.56547832525294\n",
      "122.88065331177407\n",
      "77.68106582521884\n",
      "71.26678008532123\n",
      "70.46477786458458\n",
      "70.80277605809016\n"
     ]
    }
   ],
   "source": [
    "temp_accu_length = 0\n",
    "segmenting_index_list = []\n",
    "for idx in df_test_2.index:\n",
    "    \n",
    "    if idx == 0:\n",
    "        previous_length = 0\n",
    "    else:\n",
    "        LONGITUDE = df_test_2.loc[idx, \"longitude\"]\n",
    "        LATITUDE = df_test_2.loc[idx, \"latitude\"]\n",
    "        current_coord = (LATITUDE, LONGITUDE)\n",
    "\n",
    "        LONGITUDE = df_test_2.loc[idx - 1, \"longitude\"]\n",
    "        LATITUDE = df_test_2.loc[idx - 1, \"latitude\"]\n",
    "        previous_current_coord = (LATITUDE, LONGITUDE)\n",
    "\n",
    "        current_length = haversine(current_coord, previous_current_coord, unit=\"km\")\n",
    "        temp_accu_length += current_length\n",
    "        \n",
    "        if temp_accu_length >= segment_length:\n",
    "            print(temp_accu_length)\n",
    "#             segmenting_index_list.append(idx)\n",
    "            \n",
    "            \n",
    "            length_error_1 = temp_accu_length - segment_length\n",
    "            length_error_2 = temp_accu_length - segment_length - previous_length\n",
    "            if length_error_1 > length_error_2:\n",
    "                segmenting_index_list.append(idx)\n",
    "            else:\n",
    "                segmenting_index_list.append(idx - 1)\n",
    "                \n",
    "            \n",
    "            temp_accu_length = 0\n",
    "            \n",
    "        previous_length = current_length\n",
    "segmenting_index_list.append(df_test_2.index[-1])\n"
   ]
  },
  {
   "cell_type": "code",
   "execution_count": 16,
   "id": "556e7c44",
   "metadata": {
    "ExecuteTime": {
     "end_time": "2022-12-17T09:17:03.074937Z",
     "start_time": "2022-12-17T09:17:03.060931Z"
    }
   },
   "outputs": [
    {
     "data": {
      "text/plain": [
       "15"
      ]
     },
     "execution_count": 16,
     "metadata": {},
     "output_type": "execute_result"
    }
   ],
   "source": [
    "len(segmenting_index_list)"
   ]
  },
  {
   "cell_type": "code",
   "execution_count": 17,
   "id": "27572ae1",
   "metadata": {
    "ExecuteTime": {
     "end_time": "2022-12-17T09:17:03.090944Z",
     "start_time": "2022-12-17T09:17:03.075929Z"
    }
   },
   "outputs": [],
   "source": [
    "# df 내의 포인트 전체 길이 구하는 함수\n",
    "def reckon_point_lengths(df_test_2):\n",
    "    distance = 0\n",
    "    df_test_2.reset_index(inplace=True, drop=True)\n",
    "    for idx in df_test_2.index:\n",
    "        if idx != 0:\n",
    "            LONGITUDE = df_test_2.loc[idx, \"longitude\"]\n",
    "            LATITUDE = df_test_2.loc[idx, \"latitude\"]\n",
    "            current_coord = (LATITUDE, LONGITUDE)\n",
    "\n",
    "            LONGITUDE = df_test_2.loc[idx - 1, \"longitude\"]\n",
    "            LATITUDE = df_test_2.loc[idx - 1, \"latitude\"]\n",
    "            previous_current_coord = (LATITUDE, LONGITUDE)\n",
    "\n",
    "            distance += haversine(current_coord, previous_current_coord, unit=\"km\")\n",
    "    return distance"
   ]
  },
  {
   "cell_type": "code",
   "execution_count": 18,
   "id": "de0f5579",
   "metadata": {
    "ExecuteTime": {
     "end_time": "2022-12-17T09:17:03.138487Z",
     "start_time": "2022-12-17T09:17:03.091929Z"
    },
    "scrolled": false
   },
   "outputs": [
    {
     "name": "stdout",
     "output_type": "stream",
     "text": [
      "71.47502926460479\n",
      "92.63554206974845\n",
      "70.68339235807801\n",
      "71.76136468162034\n",
      "70.47998578851839\n",
      "72.73619273463741\n",
      "71.75691316733956\n",
      "364.50345334869\n",
      "69.56547832525294\n",
      "122.88065331177407\n",
      "77.68106582521884\n",
      "71.26678008532123\n",
      "70.46477786458458\n",
      "70.80277605809016\n",
      "21.03415675050134\n"
     ]
    }
   ],
   "source": [
    "for idx, index in enumerate(segmenting_index_list):\n",
    "    if idx == 0:\n",
    "        d = df_test_2[0:index + 1]\n",
    "#         display(d)\n",
    "        distance = reckon_point_lengths(d)\n",
    "        print(distance)\n",
    "        d.to_csv(f\"실험/segment_test_new_24_{idx}.csv\", encoding=\"utf-8 sig\", header=True, index=False)\n",
    "    else:\n",
    "        d = df_test_2[previous_index:index + 1]\n",
    "#         display(d)\n",
    "        distance = reckon_point_lengths(d)\n",
    "        print(distance)\n",
    "        d.to_csv(f\"실험/segment_test_new_24_{idx}.csv\", encoding=\"utf-8 sig\", header=True, index=False)\n",
    "        \n",
    "    previous_index = index"
   ]
  },
  {
   "cell_type": "code",
   "execution_count": 19,
   "id": "fe9fb041",
   "metadata": {
    "ExecuteTime": {
     "end_time": "2022-12-17T09:17:03.282493Z",
     "start_time": "2022-12-17T09:17:03.139487Z"
    }
   },
   "outputs": [
    {
     "name": "stdout",
     "output_type": "stream",
     "text": [
      "0 14.141176470588237\n",
      "1 14.822222222222223\n",
      "2 13.670000000000002\n",
      "3 13.4\n",
      "4 14.338095238095239\n",
      "5 13.54375\n",
      "6 13.335714285714285\n",
      "7 12.75\n",
      "8 12.31111111111111\n",
      "9 11.855263157894736\n",
      "10 13.41111111111111\n",
      "11 12.399999999999999\n",
      "12 12.51388888888889\n",
      "13 8.313157894736841\n",
      "14 4.645\n"
     ]
    }
   ],
   "source": [
    "for i in range(len(segmenting_index_list)):\n",
    "    d = pd.read_csv(f\"실험/segment_test_new_24_{i}.csv\")\n",
    "    mean_speed = d[\"speed\"].mean()\n",
    "    print(i, mean_speed)"
   ]
  },
  {
   "cell_type": "code",
   "execution_count": 20,
   "id": "3177fd4f",
   "metadata": {
    "ExecuteTime": {
     "end_time": "2022-12-17T09:24:10.738434Z",
     "start_time": "2022-12-17T09:24:10.726435Z"
    }
   },
   "outputs": [
    {
     "name": "stdout",
     "output_type": "stream",
     "text": [
      "COSCO_FOS_24\n",
      "전항지 출항 시각 2022-11-02 09:18:39.641081\n",
      "부산 도착 시각 2022-11-04 21:18:40.519903\n"
     ]
    }
   ],
   "source": [
    "print(\"COSCO_FOS_24\")\n",
    "print(\"전항지 출항 시각\",df_test_2.loc[df_test_2.index[0], \"timestamp\"])\n",
    "print(\"부산 도착 시각\",df_test_2.loc[df_test_2.index[-1], \"timestamp\"])"
   ]
  },
  {
   "cell_type": "code",
   "execution_count": null,
   "id": "4ce8abf5",
   "metadata": {},
   "outputs": [],
   "source": []
  }
 ],
 "metadata": {
  "kernelspec": {
   "display_name": "안정된가상환경",
   "language": "python",
   "name": "oracle2"
  },
  "language_info": {
   "codemirror_mode": {
    "name": "ipython",
    "version": 3
   },
   "file_extension": ".py",
   "mimetype": "text/x-python",
   "name": "python",
   "nbconvert_exporter": "python",
   "pygments_lexer": "ipython3",
   "version": "3.7.11"
  },
  "toc": {
   "base_numbering": 1,
   "nav_menu": {},
   "number_sections": true,
   "sideBar": true,
   "skip_h1_title": false,
   "title_cell": "Table of Contents",
   "title_sidebar": "Contents",
   "toc_cell": false,
   "toc_position": {},
   "toc_section_display": true,
   "toc_window_display": false
  }
 },
 "nbformat": 4,
 "nbformat_minor": 5
}
