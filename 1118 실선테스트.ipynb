{
 "cells": [
  {
   "cell_type": "code",
   "execution_count": 1,
   "id": "87790cea",
   "metadata": {
    "ExecuteTime": {
     "end_time": "2022-11-20T04:49:02.247314Z",
     "start_time": "2022-11-20T04:49:01.671366Z"
    }
   },
   "outputs": [],
   "source": [
    "import pandas as pd\n",
    "import numpy as np\n",
    "import cx_Oracle\n",
    "import os\n",
    "import json\n",
    "import datetime\n",
    "import warnings\n",
    "warnings.filterwarnings(action=\"ignore\")\n",
    "from selenium import webdriver\n",
    "from selenium.webdriver.support.ui import Select\n",
    "import bs4\n",
    "import requests\n",
    "import time\n",
    "import math\n",
    "import random\n",
    "from pyproj import Geod"
   ]
  },
  {
   "cell_type": "code",
   "execution_count": 2,
   "id": "f2bbd90d",
   "metadata": {
    "ExecuteTime": {
     "end_time": "2022-11-20T04:49:02.325311Z",
     "start_time": "2022-11-20T04:49:02.248314Z"
    }
   },
   "outputs": [],
   "source": [
    "# import cv2\n",
    "import sys\n",
    "from PyQt5.QtWidgets import *\n",
    "from PyQt5.QtCore import QTimer, QTime, QThread, pyqtSignal\n",
    "from PyQt5 import QtCore, QtWidgets, uic, QtGui\n",
    "# import import_ipynb\n",
    "# import cvlib as cv\n",
    "import argparse\n",
    "import numpy as np\n",
    "import time\n",
    "# from ledIndicator.LedIndicatorWidget import LedIndicator\n",
    "import pandas as pd \n",
    "import json, os, requests"
   ]
  },
  {
   "cell_type": "code",
   "execution_count": 3,
   "id": "a1f371ed",
   "metadata": {
    "ExecuteTime": {
     "end_time": "2022-11-20T04:49:02.372313Z",
     "start_time": "2022-11-20T04:49:02.326312Z"
    }
   },
   "outputs": [],
   "source": [
    "start_Form, _ = uic.loadUiType(\"dcsa_api_ui/start.ui\")\n",
    "get_Form, _ = uic.loadUiType(\"dcsa_api_ui/get_main.ui\")\n",
    "post_Form, _ = uic.loadUiType(\"dcsa_api_ui/post_main.ui\")"
   ]
  },
  {
   "cell_type": "code",
   "execution_count": 4,
   "id": "b4453a68",
   "metadata": {
    "ExecuteTime": {
     "end_time": "2022-11-20T04:49:02.388328Z",
     "start_time": "2022-11-20T04:49:02.373315Z"
    }
   },
   "outputs": [],
   "source": [
    "# party_name = \"\"\n",
    "# stakeholder = \"\""
   ]
  },
  {
   "cell_type": "code",
   "execution_count": 5,
   "id": "e83db327",
   "metadata": {
    "ExecuteTime": {
     "end_time": "2022-11-20T04:49:02.404312Z",
     "start_time": "2022-11-20T04:49:02.389313Z"
    }
   },
   "outputs": [],
   "source": [
    "# token_url = \"https://u1hx677ico.auth.eu-west-1.amazoncognito.com/oauth2/token\"\n",
    "\n",
    "# #client (application) credentials on apim.byu.edu\n",
    "# client_id = '6lmdehr3ti43059jnq79ofuslj'\n",
    "# client_secret = '1ukglj96o0ch0dopgu90hu0lvi6009emhe3i67d8331qneuaco5k'\n",
    "\n",
    "# #step A, B - single call with client credentials as the basic auth header - will return access_token\n",
    "# data = {'grant_type': 'client_credentials'}\n",
    "\n",
    "# access_token_response = requests.post(token_url, data=data, verify=False, allow_redirects=False, auth=(client_id, client_secret))\n",
    "# tokens = json.loads(access_token_response.text)\n",
    "# tokens[\"access_token\"]"
   ]
  },
  {
   "cell_type": "code",
   "execution_count": 6,
   "id": "01d80291",
   "metadata": {
    "ExecuteTime": {
     "end_time": "2022-11-20T04:49:02.420322Z",
     "start_time": "2022-11-20T04:49:02.405312Z"
    }
   },
   "outputs": [],
   "source": [
    "# token authorization\n",
    "def token_authorization():\n",
    "    token_url = \"https://5tplhwckrm.auth.eu-west-1.amazoncognito.com/oauth2/token\"\n",
    "\n",
    "    #client (application) credentials on apim.byu.edu\n",
    "    client_id = '2eu3rntgi9acc2s3l264j57ji7'\n",
    "    client_secret = 'b5lgae9brcp2ne2lgglr5lsf65jbtcqnolu3ckijs0beffi1u93'\n",
    "\n",
    "    #step A, B - single call with client credentials as the basic auth header - will return access_token\n",
    "    data = {'grant_type': 'client_credentials'}\n",
    "\n",
    "    access_token_response = requests.post(\n",
    "        token_url,\n",
    "        data=data,\n",
    "        verify=False,\n",
    "        allow_redirects=False,\n",
    "        auth=(client_id, client_secret),\n",
    "    )\n",
    "    tokens = json.loads(access_token_response.text)\n",
    "    return tokens[\"access_token\"]"
   ]
  },
  {
   "cell_type": "code",
   "execution_count": 7,
   "id": "603833b0",
   "metadata": {
    "ExecuteTime": {
     "end_time": "2022-11-20T04:49:02.436323Z",
     "start_time": "2022-11-20T04:49:02.421312Z"
    }
   },
   "outputs": [],
   "source": [
    "class StartWindow(QMainWindow, start_Form):\n",
    "    def __init__(self):\n",
    "        super().__init__()\n",
    "        self.setupUi(self)\n",
    "        self.show()\n",
    "#         self.input_party_name.returnPressed.connect(self.send_partyname)\n",
    "        self.pb_events.clicked.connect(self.getwindowStart) # TODO : class 밖에서 getwindow 시작하는 함수 만들어야 함\n",
    "        self.pb_timestamps.clicked.connect(self.postwindowStart) # TODO : class 밖에서 postwindow 시작하는 함수 만들어야 함\n",
    "#         global party_name \n",
    "#         global stakeholder\n",
    "#         self.party_name = self.input_party_name.text()\n",
    "#         self.stakeholder = self.combo_stakeholders.currentText()\n",
    "        \n",
    "#     def get_button_clicked(self):\n",
    "# #        1. \"현재 창 닫고\"\n",
    "# #        2. \"get window 연다.\"\n",
    "#     def post_button_clicked(self):\n",
    "#         # 1. 현재 창 닫고\n",
    "#         # 2. post window 연다.\n",
    "\n",
    "#     def send_partyname(self):\n",
    "#         global party_name        \n",
    "#         party_name = self.input_party_name.text()\n",
    "# #         self.close()\n",
    "        \n",
    "    def getwindowStart(self):\n",
    "        self.close()\n",
    "        self.getwindow = GetWindow()\n",
    "#         self.getwindow.exec()\n",
    "        \n",
    "    def postwindowStart(self):\n",
    "        self.close()\n",
    "        global party_name\n",
    "        global stakeholder\n",
    "        party_name = self.input_party_name.text()\n",
    "        stakeholder = self.combo_stakeholders.currentText()\n",
    "        self.postwindow = PostWindow()\n",
    "#         self.postwindow.exec()"
   ]
  },
  {
   "cell_type": "code",
   "execution_count": 8,
   "id": "e7d37a5e",
   "metadata": {
    "ExecuteTime": {
     "end_time": "2022-11-20T04:49:02.452320Z",
     "start_time": "2022-11-20T04:49:02.437315Z"
    }
   },
   "outputs": [],
   "source": [
    "class GetWindow(QMainWindow, get_Form) : \n",
    "    def __init__(self):\n",
    "        super().__init__()\n",
    "        self.setupUi(self)\n",
    "        self.show()\n",
    "        self.cb_arri.setChecked(True)\n",
    "        self.cb_cmlpl.setChecked(True)\n",
    "        self.cb_depa.setChecked(True)\n",
    "        self.cb_strt.setChecked(True)\n",
    "        \n",
    "        self.PB_GET.clicked.connect(self.get_btn_clicked)  # TODO : class 밖에서 param 불러오는 함수 만들어야 함\n",
    "        \n",
    "    def get_btn_clicked(self):\n",
    "        param = self.send_get()\n",
    "        api_call_response = self.api_call(param)\n",
    "        print(api_call_response.json())\n",
    "        with open('dcsa_test_Get.json', 'w', encoding=\"utf-8 sig\") as file:\n",
    "            json.dump(api_call_response.json(), file)\n",
    "        self.close()\n",
    "        \n",
    "    def api_call(self, parameters):\n",
    "        api_call_headers = api_header(mode=\"GET\")\n",
    "        added_param = parameter_for_url(parameters)\n",
    "        url = events_url + added_param\n",
    "        api_call_response = requests.get(events_url, headers=api_call_headers, verify=False)\n",
    "        print(api_call_response)\n",
    "#         with open('dcsa_test_Get.json', 'w', encoding=\"utf-8 sig\") as file:\n",
    "#             json.dump(api_call_response, file)\n",
    "        return api_call_response\n",
    "    \n",
    "    # 꼭 다 선택해야 하는 건 아니다. 최소 1개만 있으면 된다. \n",
    "    def send_get(self):\n",
    "        param = {}\n",
    "        if not self.input_imo_no.text() == None or \"\":\n",
    "            imo_no = self.input_imo_no.text()\n",
    "            param[\"vesselIMONumber\"] = imo_no\n",
    "            \n",
    "        if not self.input_ex_voy_no.text() == None or \"\":\n",
    "            ex_voy_no = self.input_ex_voy_no.text()\n",
    "            param[\"exportVoyageNumber\"] = ex_voy_no\n",
    "            \n",
    "        if not self.input_carrier.text() == None or \"\":\n",
    "            carrier = self.input_carrier.text()\n",
    "            param[\"carrierServiceCode\"] = carrier\n",
    "            \n",
    "        if not self.input_carrier.text() == None or \"\":\n",
    "            UNLocationCode = self.un_code_result    \n",
    "            param[\"UNLocationCode\"] = UNLocationCode\n",
    "            \n",
    "        if not self.input_carrier.text() == None or \"\":\n",
    "            operations_event_type_list = self.op_event_result\n",
    "            param[\"operationsEventTypeCode\"] = operations_event_type_list\n",
    " \n",
    "        limit = int(self.limit_spinbox.value())\n",
    "        param[\"limit\"] = limit\n",
    "        \n",
    "        return param\n",
    "    \n",
    "    \n",
    "    def un_code_result(self):\n",
    "        loc_name = self.combo_un_code.currentText()\n",
    "        unlocationcodes_df = pd.read_csv(\"unlocationcodes.csv\")\n",
    "        df_ = unlocationcodes_df[unlocationcodes_df[\"UN Location Name\"] == loc_name]\n",
    "        UNLocationCode = df_[\"UN Location Code\"].values[0]        \n",
    "        return UNLocationCode\n",
    "        \n",
    "    def op_event_result(self):\n",
    "        checked = []\n",
    "#         items = \"\"\n",
    "        \n",
    "        if self.cb_arri.isChecked():\n",
    "            checked.append(\"ARRI\")\n",
    "        \n",
    "        if self.cb_cmlpl.isChecked():\n",
    "            checked.append(\"CMPL\")\n",
    "            \n",
    "        if self.cb_depa.isChecked():\n",
    "            checked.append(\"DEPA\")\n",
    "            \n",
    "        if self.cb_strt.isChecked():\n",
    "            checked.append(\"STRT\")\n",
    "            \n",
    "        return checked\n",
    "    \n",
    "#     def combine(self):\n",
    "#         param = send_get()\n",
    "#         added_param = parameter_for_url(param)\n",
    "#         UNLocationCode = un_code_result()\n",
    "#         checked = op_event_result()\n",
    "#         parameters = [added_param, UNLocationCode, checked]\n",
    "        \n",
    "#         return parameters"
   ]
  },
  {
   "cell_type": "code",
   "execution_count": 9,
   "id": "7df8764b",
   "metadata": {
    "ExecuteTime": {
     "end_time": "2022-11-20T04:49:02.484327Z",
     "start_time": "2022-11-20T04:49:02.454341Z"
    }
   },
   "outputs": [],
   "source": [
    "class PostWindow(QMainWindow, post_Form):\n",
    "    def __init__(self):\n",
    "        super().__init__()\n",
    "        self.setupUi(self)\n",
    "        self.show()\n",
    "        self.pb_POST.clicked.connect(self.post_btn_clicked)  # TODO : class 밖에서 param 불러오는 함수 만들어야 함\n",
    "#         self.party_name=party_name\n",
    "#         self.stakeholder=stakeholder\n",
    "\n",
    "    \n",
    "    def vessel_imo_no_result(self):\n",
    "#         assert self.input_vessel_code.text() == str\n",
    "        vssl_code =self.input_vessel_code.text()\n",
    "        vssl_code = str(vssl_code)\n",
    "        return vssl_code\n",
    "    \n",
    "    def vessel_position_result(self):\n",
    "#         assert self.input_vessel_position.text() == tuple\n",
    "        position= self.input_vessel_position.text()\n",
    "        position = position.split(\",\")\n",
    "        latitude = position[0]\n",
    "        longitude = position[1]\n",
    "        return latitude, longitude\n",
    "    \n",
    "    def nan_into_null(self, VALUE):\n",
    "        if VALUE != VALUE:\n",
    "            VALUE = \"\"\n",
    "        return VALUE\n",
    "    \n",
    "    def voyage_number(self):\n",
    "        voyageNumber= self.input_vessel_voyage_number.text()\n",
    "        return voyageNumber\n",
    "    \n",
    "    def berth_location(self):\n",
    "        berth_no =self.combo_berth_no.currentText()\n",
    "        T1_location = (128.82589744, 35.07801261)\n",
    "        T2_location = (128.82503294, 35.07859456)\n",
    "        T3_location = (128.82277395, 35.07831)\n",
    "        OT_location = (None, None)\n",
    "        if berth_no == \"T1\":\n",
    "            berth_location_latitude, berth_location_longitude = T1_location\n",
    "            return berth_no, berth_location_latitude, berth_location_longitude\n",
    "        elif berth_no == \"T2\":\n",
    "            berth_location_latitude, berth_location_longitude = T2_location\n",
    "            return berth_no, berth_location_latitude, berth_location_longitude\n",
    "        elif berth_no == \"T3\" :\n",
    "            berth_location_latitude, berth_location_longitude = T3_location\n",
    "            return berth_no, berth_location_latitude, berth_location_longitude\n",
    "        else:\n",
    "            berth_location_latitude, berth_location_longitude = OT_location\n",
    "            return berth_no, berth_location_latitude, berth_location_longitude\n",
    "    \n",
    "    def post_btn_clicked(self):\n",
    "        eventTimestamp = self.timestamp_result()\n",
    "        publisherRole, operationsEventTypeCode, portCallPhaseTypeCode, facilityTypeCode, eventClassifierCode = self.choose_timestamp()\n",
    "        delay_reason_code, delay_reason_name = self.delay_reason_result()\n",
    "        eventTime = self.event_time_result()\n",
    "        UNLocationCode = self.choose_un_loc_code()\n",
    "        vessel_code = self.vessel_imo_no_result()\n",
    "        vessel_latitude, vessel_longitude = self.vessel_position_result()\n",
    "        voyageNumber = self.voyage_number()\n",
    "        if publisherRole == \"TR\":\n",
    "            berth_no, berth_location_latitude, berth_location_longitude = self.berth_location()\n",
    "        else:\n",
    "            berth_no, berth_location_latitude, berth_location_longitude = \"\",\"\",\"\"\n",
    "#         if isVesselPositionNeeded == False or \"false\" or \"False\":\n",
    "#             latitude, longitude = \"\", \"\"\n",
    "#         portCallPhaseTypeCode = self.nan_into_null(portCallPhaseTypeCode)\n",
    "        facilityTypeCode = self.nan_into_null(facilityTypeCode)\n",
    "        if stakeholder == \"Terminal\":\n",
    "            partyCode = \"KRPUS\"\n",
    "            codeListName = 'TCL'\n",
    "        else:\n",
    "            partyCode = \"MSK\"\n",
    "            codeListName = 'LCL'\n",
    "            \n",
    "            \n",
    "        post_dict = {\n",
    "            \"publisher\": {\n",
    "                \"partyName\": party_name, \n",
    "                \"taxReference1\": \"\",\n",
    "                \"taxReference2\": \"\",\n",
    "                \"publicKey\": \"\",\n",
    "                \"address\": {\n",
    "                    \"name\": \"\",\n",
    "                    \"street\": \"\",\n",
    "                    \"streetNumber\": \"\",\n",
    "                    \"floor\": \"\",\n",
    "                    \"postCode\": \"\",\n",
    "                    \"city\": \"\",\n",
    "                    \"stateRegion\": \"\",\n",
    "                    \"country\": \"\"\n",
    "                },\n",
    "                \"identifyingCodes\": [{\n",
    "                    \"codeListResponsibleAgencyCode\": \"306\",\n",
    "                    \"DCSAResponsibleAgencyCode\": \"SMDG\",\n",
    "                    \"partyCode\": partyCode,\n",
    "                    \"codeListName\": codeListName\n",
    "                }]\n",
    "            },\n",
    "            \"publisherRole\": publisherRole,\n",
    "            \"vesselIMONumber\": str(vessel_code),\n",
    "            \"UNLocationCode\": \"KRPUS\",\n",
    "            \"facilityTypeCode\": facilityTypeCode,\n",
    "            \"eventClassifierCode\": eventClassifierCode,\n",
    "            \"operationsEventTypeCode\": operationsEventTypeCode,\n",
    "            \"eventLocation\": {\n",
    "                \"locationName\": \"PNIT No.1 Berth\",\n",
    "                \"latitude\": \"132.1512\",\n",
    "                \"longitude\": \"12.512\",\n",
    "                \"UNLocationCode\": \"KRPUS\",\n",
    "                \"facilityCode\": \"PNP\",\n",
    "                \"facilityCodeListProvider\": \"SMDG\",\n",
    "                \"address\": {\n",
    "                    \"name\": \"\",\n",
    "                    \"street\": \"\",\n",
    "                    \"streetNumber\": \"\",\n",
    "                    \"floor\": \"\",\n",
    "                    \"postCode\": \"\",\n",
    "                    \"city\": \"\",\n",
    "                    \"stateRegion\": \"\",\n",
    "                    \"country\": \"\"\n",
    "                }\n",
    "            },\n",
    "            \"vesselPosition\": {\n",
    "                \"latitude\": vessel_latitude,\n",
    "                \"longitude\": vessel_longitude\n",
    "            },\n",
    "            \"modeOfTransport\": \"VESSEL\",\n",
    "            \"portCallServiceTypeCode\": None,\n",
    "            \"portCallPhaseTypeCode\": portCallPhaseTypeCode,\n",
    "            \"eventDateTime\": eventTime,\n",
    "            \"carrierVoyageNumber\" : voyageNumber,\n",
    "            \"carrierServiceCode\": \"FE1\",\n",
    "            \"transportCallSequenceNumber\": 2,\n",
    "            \"remark\": delay_reason_name,\n",
    "            \"delayReasonCode\": delay_reason_code\n",
    "        }  \n",
    "        \n",
    "        json_string = json.dumps(post_dict)\n",
    "        print(json_string)\n",
    "#         print(\"-\")\n",
    "#         json_string = json.loads(json_string)\n",
    "#         print(json_string)\n",
    "#         with open('dcsa_test.json', 'w', encoding=\"utf-8 sig\") as file:\n",
    "#             json.dump(json_string, file)\n",
    "        \n",
    "        api_call_headers = api_header(mode=\"POST\", json=json_string)\n",
    "        print(\"header\", api_call_headers)\n",
    "        api_call_response = requests.post(timestamps_url, data = json_string, headers=api_call_headers, verify=False)\n",
    "        print('api_call_response', api_call_response)\n",
    "        self.close()\n",
    "        \n",
    "        \n",
    "    def timestamp_result(self):\n",
    "        return self.combo_timestamp.currentText()\n",
    "    \n",
    "    def delay_reason_result(self):   \n",
    "        delay_code_df = pd.read_csv(\"smdgdelayreasoncodes.csv\")\n",
    "        delay_reason_name = self.combo_delay_reason.currentText()\n",
    "        if delay_reason_name == \"N/A\":\n",
    "            delay_reason_code, delay_reason_name = None, None\n",
    "            return delay_reason_code, delay_reason_name\n",
    "        else:\n",
    "            df_ = delay_code_df[delay_code_df[\"delay_reason_name\"] == delay_reason_name]\n",
    "            delay_reason_code = df_['delay_reason_code'].values[0]\n",
    "            return str(delay_reason_code), str(delay_reason_name)\n",
    "    \n",
    "    def event_time_result(self):\n",
    "        dt = self.datetime_event.dateTime()\n",
    "        dt = dt.toString(\"yyyy-MM-dd HH:mm:ss\")\n",
    "        dt_split = dt.split(\" \")\n",
    "        eventTime = dt_split[0] + \"T\" + dt_split[1] + \"+09:00\"\n",
    "        return eventTime\n",
    "    \n",
    "    def choose_timestamp(self):\n",
    "        timestamp_df = pd.read_csv(\"timestampdefinitions.csv\")\n",
    "        TIMESTAMP = self.timestamp_result()\n",
    "        df_ = timestamp_df[timestamp_df[\"timestampTypeName\"] == TIMESTAMP]\n",
    "        publisherRole = df_[\"publisherRole\"].values[0]\n",
    "        operationsEventTypeCode = df_[\"operationsEventTypeCode\"].values[0]\n",
    "        portCallPhaseTypeCode = df_[\"portCallPhaseTypeCode\"].values[0]\n",
    "#         portCallServiceTypeCode = df_[\"portCallServiceTypeCode\"].values[0]\n",
    "        facilityTypeCode = df_[\"facilityTypeCode\"].values[0]\n",
    "        eventClassifierCode = df_[\"eventClassifierCode\"].values[0]\n",
    "#         isVesselPositionNeeded = df_[\"isVesselPositionNeeded\"].values[0]\n",
    "#         portCallServiceTypeCode = \"\" if portCallServiceTypeCode == np.NaN or float(np.nan) else portCallServiceTypeCode\n",
    "#         facilityTypeCode = \"\" if portCallServiceTypeCode == np.NaN or float(np.nan) else portCallServiceTypeCode\n",
    "    \n",
    "        \n",
    "        return publisherRole, operationsEventTypeCode, portCallPhaseTypeCode, facilityTypeCode, eventClassifierCode\n",
    "    \n",
    "    def choose_un_loc_code(self):\n",
    "        loc_name = self.combo_un_code.currentText()\n",
    "        unlocationcodes_df = pd.read_csv(\"unlocationcodes.csv\")\n",
    "        df_ = unlocationcodes_df[unlocationcodes_df[\"UN Location Name\"] == loc_name]\n",
    "        UNLocationCode = df_[\"UN Location Code\"].values[0]        \n",
    "        return UNLocationCode\n",
    "        "
   ]
  },
  {
   "cell_type": "markdown",
   "id": "1b2898d2",
   "metadata": {},
   "source": [
    "# 공통 변수들"
   ]
  },
  {
   "cell_type": "code",
   "execution_count": 10,
   "id": "cc577ab5",
   "metadata": {
    "ExecuteTime": {
     "end_time": "2022-11-20T04:49:02.500322Z",
     "start_time": "2022-11-20T04:49:02.485313Z"
    }
   },
   "outputs": [],
   "source": [
    "# token_url = \"https://u1hx677ico.auth.eu-west-1.amazoncognito.com/oauth2/token\"\n",
    "\n",
    "timestamps_url = \"https://pnit.p6-busan-production.dcsa.org/jit/v1/timestamps\"\n",
    "events_url = \"https://pnit.p6-busan-production.dcsa.org/jit/v1/events?\"\n",
    "\n",
    "# #client (application) credentials on apim.byu.edu\n",
    "# client_id = '6lmdehr3ti43059jnq79ofuslj'\n",
    "# client_secret = '1ukglj96o0ch0dopgu90hu0lvi6009emhe3i67d8331qneuaco5k'\n",
    "\n",
    "# #step A, B - single call with client credentials as the basic auth header - will return access_token\n",
    "# data = {'grant_type': 'client_credentials'}\n",
    "\n"
   ]
  },
  {
   "cell_type": "markdown",
   "id": "840e537d",
   "metadata": {},
   "source": [
    "## GET 전용"
   ]
  },
  {
   "cell_type": "code",
   "execution_count": 11,
   "id": "6f0373e9",
   "metadata": {
    "ExecuteTime": {
     "end_time": "2022-11-20T04:49:02.516311Z",
     "start_time": "2022-11-20T04:49:02.501312Z"
    }
   },
   "outputs": [],
   "source": [
    "def parameter_for_url(param):\n",
    "    if len(param) == 1:\n",
    "        added_param = ''\n",
    "        for key, value in param.items():\n",
    "            added_param += str(key) + \"=\"\n",
    "            added_param += str(value)\n",
    "    else:     \n",
    "        added_param = ''\n",
    "        i = 0\n",
    "        for key, value in param.items():\n",
    "            added_param += str(key) + \"=\"\n",
    "            added_param += str(value)\n",
    "            i += 1\n",
    "            if i < len(param):\n",
    "                added_param += \"&\"\n",
    "    return added_param"
   ]
  },
  {
   "cell_type": "code",
   "execution_count": 12,
   "id": "854f6a7e",
   "metadata": {
    "ExecuteTime": {
     "end_time": "2022-11-20T04:49:02.532311Z",
     "start_time": "2022-11-20T04:49:02.517313Z"
    }
   },
   "outputs": [],
   "source": [
    "def api_header(mode, json=None):\n",
    "    token = token_authorization()\n",
    "    \n",
    "    if mode == \"GET\":\n",
    "\n",
    "        api_call_headers = {'Authorization': 'Bearer ' + token,    \n",
    "                            'Host' : 'pnit.p6-busan-production.dcsa.org', \n",
    "                            'User-Agent' : 'PostmanRuntime/7.29.0', \n",
    "                            'Accept': '*/*', \n",
    "                            'Accept-Encoding' :  'gzip, deflate, br', \n",
    "                            'Connection' : 'keep-alive'}\n",
    "        \n",
    "    elif mode ==\"POST\":\n",
    "        api_call_headers = {\n",
    "            'Authorization': 'Bearer ' + token, \n",
    "            \"Content-Type\" : 'application/json', \n",
    "            'Content-Length' : str(len(json)),\n",
    "            'User-Agent' : 'PostmanRuntime/7.29.0',\n",
    "            'Host' : 'pnit.p6-busan-production.dcsa.org', \n",
    "            'Accept': '*/*', \n",
    "            'Accept-Encoding' :  'gzip, deflate, br', \n",
    "            'Connection' : 'keep-alive'\n",
    "        }        \n",
    "        \n",
    "    return api_call_headers\n",
    "\n"
   ]
  },
  {
   "cell_type": "code",
   "execution_count": 23,
   "id": "bd8796a7",
   "metadata": {
    "ExecuteTime": {
     "end_time": "2022-11-22T02:55:21.053359Z",
     "start_time": "2022-11-22T02:55:21.034357Z"
    }
   },
   "outputs": [],
   "source": [
    "parameters = {'vesselIMONumber' : [9687540, 9687576]}\n",
    "# parameters = {'vesselIMONumber' : 9687576}"
   ]
  },
  {
   "cell_type": "code",
   "execution_count": 24,
   "id": "f43e2d41",
   "metadata": {
    "ExecuteTime": {
     "end_time": "2022-11-22T02:55:24.144204Z",
     "start_time": "2022-11-22T02:55:21.209357Z"
    }
   },
   "outputs": [
    {
     "data": {
      "text/plain": [
       "'[]'"
      ]
     },
     "execution_count": 24,
     "metadata": {},
     "output_type": "execute_result"
    }
   ],
   "source": [
    "api_call_headers = api_header(mode=\"GET\")\n",
    "added_param = parameter_for_url(parameters)\n",
    "url = events_url + added_param\n",
    "api_call_response = requests.get(events_url, headers=api_call_headers, verify=False)\n",
    "# print(api_call_response)\n",
    "#         with open('dcsa_test_Get.json', 'w', encoding=\"utf-8 sig\") as file:\n",
    "#             json.dump(api_call_response, file)\n",
    "api_call_response.text"
   ]
  },
  {
   "cell_type": "code",
   "execution_count": 22,
   "id": "08d873c5",
   "metadata": {
    "ExecuteTime": {
     "end_time": "2022-11-21T07:21:28.003696Z",
     "start_time": "2022-11-21T07:21:27.999676Z"
    },
    "scrolled": false
   },
   "outputs": [],
   "source": [
    "# app = QApplication(sys.argv)\n",
    "\n",
    "# startwindow = StartWindow()\n",
    "# startwindow.show()\n",
    "# app.exec_()"
   ]
  },
  {
   "cell_type": "code",
   "execution_count": null,
   "id": "86734b78",
   "metadata": {},
   "outputs": [],
   "source": []
  }
 ],
 "metadata": {
  "kernelspec": {
   "display_name": "안정된가상환경",
   "language": "python",
   "name": "oracle2"
  },
  "language_info": {
   "codemirror_mode": {
    "name": "ipython",
    "version": 3
   },
   "file_extension": ".py",
   "mimetype": "text/x-python",
   "name": "python",
   "nbconvert_exporter": "python",
   "pygments_lexer": "ipython3",
   "version": "3.7.11"
  },
  "toc": {
   "base_numbering": 1,
   "nav_menu": {},
   "number_sections": true,
   "sideBar": true,
   "skip_h1_title": false,
   "title_cell": "Table of Contents",
   "title_sidebar": "Contents",
   "toc_cell": false,
   "toc_position": {},
   "toc_section_display": true,
   "toc_window_display": false
  }
 },
 "nbformat": 4,
 "nbformat_minor": 5
}
