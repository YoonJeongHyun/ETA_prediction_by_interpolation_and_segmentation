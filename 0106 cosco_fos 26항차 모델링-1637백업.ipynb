{
 "cells": [
  {
   "cell_type": "code",
   "execution_count": 1,
   "id": "bd4a6614",
   "metadata": {
    "ExecuteTime": {
     "end_time": "2023-01-06T02:42:40.824276Z",
     "start_time": "2023-01-06T02:42:40.099807Z"
    }
   },
   "outputs": [],
   "source": [
    "import pandas as pd\n",
    "import numpy as np\n",
    "import cx_Oracle\n",
    "import os\n",
    "import json\n",
    "import datetime\n",
    "import warnings\n",
    "\n",
    "warnings.filterwarnings(action=\"ignore\")\n",
    "from selenium import webdriver\n",
    "from selenium.webdriver.support.ui import Select\n",
    "from selenium.webdriver.common.by import By\n",
    "import bs4\n",
    "import requests\n",
    "import time\n",
    "import math\n",
    "import random\n",
    "from shapely.geometry import Point, Polygon\n",
    "import time as timesys\n",
    "from pyproj import Geod\n",
    "from haversine import haversine\n",
    "pd.set_option('display.max_columns', None)"
   ]
  },
  {
   "cell_type": "code",
   "execution_count": 2,
   "id": "62ac4d5b",
   "metadata": {
    "ExecuteTime": {
     "end_time": "2023-01-06T02:42:40.839267Z",
     "start_time": "2023-01-06T02:42:40.825268Z"
    }
   },
   "outputs": [],
   "source": [
    "tianjin = '117.4961975657171,37.86803012379458,7.296245301137998 119.8081837995413,37.9250916349774,-34.2681049860788 119.8416643486643,39.32481316399956,-31.12524274095152 117.9501096884913,39.37523731857854,39.41212136434525 117.4961975657171,37.86803012379458,7.296245301137998'\n",
    "\n",
    "\n",
    "\n",
    "coord_list = tianjin.split(\" \")\n",
    "coord_list\n",
    "coord_list2 = []\n",
    "for i in coord_list:\n",
    "    temp = i.split(\",\")[:2]\n",
    "    temp = list(map(float, temp))\n",
    "    coord_list2.append(temp)\n",
    "poly = Polygon(coord_list2)\n",
    "# if Point(LONGITUDE, LATITUDE).within(poly):"
   ]
  },
  {
   "cell_type": "code",
   "execution_count": 3,
   "id": "51c4e9e3",
   "metadata": {
    "ExecuteTime": {
     "end_time": "2023-01-06T02:42:40.869941Z",
     "start_time": "2023-01-06T02:42:40.841268Z"
    }
   },
   "outputs": [
    {
     "data": {
      "text/html": [
       "<div>\n",
       "<style scoped>\n",
       "    .dataframe tbody tr th:only-of-type {\n",
       "        vertical-align: middle;\n",
       "    }\n",
       "\n",
       "    .dataframe tbody tr th {\n",
       "        vertical-align: top;\n",
       "    }\n",
       "\n",
       "    .dataframe thead th {\n",
       "        text-align: right;\n",
       "    }\n",
       "</style>\n",
       "<table border=\"1\" class=\"dataframe\">\n",
       "  <thead>\n",
       "    <tr style=\"text-align: right;\">\n",
       "      <th></th>\n",
       "      <th>vessel_name</th>\n",
       "      <th>mmsi</th>\n",
       "      <th>imo</th>\n",
       "      <th>CAPACITY</th>\n",
       "      <th>destination</th>\n",
       "      <th>eta</th>\n",
       "      <th>longitude</th>\n",
       "      <th>latitude</th>\n",
       "      <th>speed</th>\n",
       "      <th>heading</th>\n",
       "      <th>timestamp</th>\n",
       "      <th>time_position_data_received</th>\n",
       "      <th>time_voyage_data_received</th>\n",
       "      <th>navigation_info</th>\n",
       "      <th>remained_distance</th>\n",
       "      <th>estimated_fuel_consumption</th>\n",
       "    </tr>\n",
       "  </thead>\n",
       "  <tbody>\n",
       "    <tr>\n",
       "      <th>0</th>\n",
       "      <td>COSCO FOS</td>\n",
       "      <td>477947700</td>\n",
       "      <td>9484302.0</td>\n",
       "      <td>4253</td>\n",
       "      <td>CNTSN</td>\n",
       "      <td>2022-11-17 09:00:00</td>\n",
       "      <td>127.0882</td>\n",
       "      <td>34.1223</td>\n",
       "      <td>16.0</td>\n",
       "      <td>270.0</td>\n",
       "      <td>2022-11-16 16:56:08.041108</td>\n",
       "      <td>2022-11-16 07:55:49</td>\n",
       "      <td>2022-11-16 04:19:07</td>\n",
       "      <td>under way using engine</td>\n",
       "      <td>184.436450</td>\n",
       "      <td>306.205403</td>\n",
       "    </tr>\n",
       "    <tr>\n",
       "      <th>1</th>\n",
       "      <td>COSCO FOS</td>\n",
       "      <td>477947700</td>\n",
       "      <td>9484302.0</td>\n",
       "      <td>4253</td>\n",
       "      <td>CNTSN</td>\n",
       "      <td>2022-11-17 09:00:00</td>\n",
       "      <td>127.0609</td>\n",
       "      <td>34.1211</td>\n",
       "      <td>16.1</td>\n",
       "      <td>267.0</td>\n",
       "      <td>2022-11-16 17:01:11.033821</td>\n",
       "      <td>2022-11-16 08:00:55</td>\n",
       "      <td>2022-11-16 04:19:07</td>\n",
       "      <td>under way using engine</td>\n",
       "      <td>186.658612</td>\n",
       "      <td>312.035073</td>\n",
       "    </tr>\n",
       "    <tr>\n",
       "      <th>2</th>\n",
       "      <td>COSCO FOS</td>\n",
       "      <td>477947700</td>\n",
       "      <td>9484302.0</td>\n",
       "      <td>4253</td>\n",
       "      <td>CNTSN</td>\n",
       "      <td>2022-11-17 09:00:00</td>\n",
       "      <td>126.6711</td>\n",
       "      <td>34.0831</td>\n",
       "      <td>16.1</td>\n",
       "      <td>262.0</td>\n",
       "      <td>2022-11-16 18:16:53.451054</td>\n",
       "      <td>2022-11-16 09:14:25</td>\n",
       "      <td>2022-11-16 04:19:07</td>\n",
       "      <td>under way using engine</td>\n",
       "      <td>220.108466</td>\n",
       "      <td>367.952814</td>\n",
       "    </tr>\n",
       "    <tr>\n",
       "      <th>3</th>\n",
       "      <td>COSCO FOS</td>\n",
       "      <td>477947700</td>\n",
       "      <td>9484302.0</td>\n",
       "      <td>4253</td>\n",
       "      <td>CNTSN</td>\n",
       "      <td>2022-11-17 09:00:00</td>\n",
       "      <td>126.6067</td>\n",
       "      <td>34.0795</td>\n",
       "      <td>16.0</td>\n",
       "      <td>277.0</td>\n",
       "      <td>2022-11-16 18:26:58.801742</td>\n",
       "      <td>2022-11-16 09:26:25</td>\n",
       "      <td>2022-11-16 04:19:07</td>\n",
       "      <td>under way using engine</td>\n",
       "      <td>225.577733</td>\n",
       "      <td>374.509054</td>\n",
       "    </tr>\n",
       "    <tr>\n",
       "      <th>4</th>\n",
       "      <td>COSCO FOS</td>\n",
       "      <td>477947700</td>\n",
       "      <td>9484302.0</td>\n",
       "      <td>4253</td>\n",
       "      <td>CNTSN</td>\n",
       "      <td>2022-11-17 09:00:00</td>\n",
       "      <td>126.5502</td>\n",
       "      <td>34.0820</td>\n",
       "      <td>16.2</td>\n",
       "      <td>280.0</td>\n",
       "      <td>2022-11-16 18:42:07.917210</td>\n",
       "      <td>2022-11-16 09:37:09</td>\n",
       "      <td>2022-11-16 04:19:07</td>\n",
       "      <td>under way using engine</td>\n",
       "      <td>230.117608</td>\n",
       "      <td>387.353392</td>\n",
       "    </tr>\n",
       "    <tr>\n",
       "      <th>...</th>\n",
       "      <td>...</td>\n",
       "      <td>...</td>\n",
       "      <td>...</td>\n",
       "      <td>...</td>\n",
       "      <td>...</td>\n",
       "      <td>...</td>\n",
       "      <td>...</td>\n",
       "      <td>...</td>\n",
       "      <td>...</td>\n",
       "      <td>...</td>\n",
       "      <td>...</td>\n",
       "      <td>...</td>\n",
       "      <td>...</td>\n",
       "      <td>...</td>\n",
       "      <td>...</td>\n",
       "      <td>...</td>\n",
       "    </tr>\n",
       "    <tr>\n",
       "      <th>528</th>\n",
       "      <td>COSCO FOS</td>\n",
       "      <td>477947700</td>\n",
       "      <td>9484302.0</td>\n",
       "      <td>4253</td>\n",
       "      <td>KRBNP</td>\n",
       "      <td>2022-11-21 08:00:00</td>\n",
       "      <td>128.8286</td>\n",
       "      <td>35.0767</td>\n",
       "      <td>0.9</td>\n",
       "      <td>80.0</td>\n",
       "      <td>2022-11-21 18:05:52.289081</td>\n",
       "      <td>2022-11-21 08:45:01</td>\n",
       "      <td>2022-11-21 08:37:08</td>\n",
       "      <td>under way using engine</td>\n",
       "      <td>11.938104</td>\n",
       "      <td>105.884565</td>\n",
       "    </tr>\n",
       "    <tr>\n",
       "      <th>529</th>\n",
       "      <td>COSCO FOS</td>\n",
       "      <td>477947700</td>\n",
       "      <td>9484302.0</td>\n",
       "      <td>4253</td>\n",
       "      <td>KRBNP</td>\n",
       "      <td>2022-11-21 08:00:00</td>\n",
       "      <td>128.8303</td>\n",
       "      <td>35.0770</td>\n",
       "      <td>0.1</td>\n",
       "      <td>91.0</td>\n",
       "      <td>2022-11-21 20:12:03.039219</td>\n",
       "      <td>2022-11-21 10:46:03</td>\n",
       "      <td>2022-11-21 10:49:07</td>\n",
       "      <td>moored</td>\n",
       "      <td>11.983151</td>\n",
       "      <td>956.161110</td>\n",
       "    </tr>\n",
       "    <tr>\n",
       "      <th>530</th>\n",
       "      <td>COSCO FOS</td>\n",
       "      <td>477947700</td>\n",
       "      <td>9484302.0</td>\n",
       "      <td>4253</td>\n",
       "      <td>KRBNP</td>\n",
       "      <td>2022-11-21 08:00:00</td>\n",
       "      <td>128.8302</td>\n",
       "      <td>35.0772</td>\n",
       "      <td>0.0</td>\n",
       "      <td>91.0</td>\n",
       "      <td>2022-11-21 20:17:05.890117</td>\n",
       "      <td>2022-11-21 10:52:05</td>\n",
       "      <td>2022-11-21 10:55:06</td>\n",
       "      <td>moored</td>\n",
       "      <td>12.004568</td>\n",
       "      <td>NaN</td>\n",
       "    </tr>\n",
       "    <tr>\n",
       "      <th>531</th>\n",
       "      <td>COSCO FOS</td>\n",
       "      <td>477947700</td>\n",
       "      <td>9484302.0</td>\n",
       "      <td>4253</td>\n",
       "      <td>KRBNP</td>\n",
       "      <td>2022-11-21 08:00:00</td>\n",
       "      <td>128.8300</td>\n",
       "      <td>35.0772</td>\n",
       "      <td>0.0</td>\n",
       "      <td>91.0</td>\n",
       "      <td>2022-11-21 20:42:20.130436</td>\n",
       "      <td>2022-11-21 11:15:59</td>\n",
       "      <td>2022-11-21 11:13:06</td>\n",
       "      <td>moored</td>\n",
       "      <td>12.003097</td>\n",
       "      <td>NaN</td>\n",
       "    </tr>\n",
       "    <tr>\n",
       "      <th>532</th>\n",
       "      <td>COSCO FOS</td>\n",
       "      <td>477947700</td>\n",
       "      <td>9484302.0</td>\n",
       "      <td>4253</td>\n",
       "      <td>KRBNP</td>\n",
       "      <td>2022-11-21 08:00:00</td>\n",
       "      <td>128.8300</td>\n",
       "      <td>35.0774</td>\n",
       "      <td>0.2</td>\n",
       "      <td>90.0</td>\n",
       "      <td>2022-11-22 01:14:53.431509</td>\n",
       "      <td>2022-11-21 16:13:17</td>\n",
       "      <td>2022-11-21 04:13:07</td>\n",
       "      <td>moored</td>\n",
       "      <td>12.025264</td>\n",
       "      <td>479.762638</td>\n",
       "    </tr>\n",
       "  </tbody>\n",
       "</table>\n",
       "<p>533 rows × 16 columns</p>\n",
       "</div>"
      ],
      "text/plain": [
       "    vessel_name       mmsi        imo  CAPACITY destination  \\\n",
       "0     COSCO FOS  477947700  9484302.0      4253       CNTSN   \n",
       "1     COSCO FOS  477947700  9484302.0      4253       CNTSN   \n",
       "2     COSCO FOS  477947700  9484302.0      4253       CNTSN   \n",
       "3     COSCO FOS  477947700  9484302.0      4253       CNTSN   \n",
       "4     COSCO FOS  477947700  9484302.0      4253       CNTSN   \n",
       "..          ...        ...        ...       ...         ...   \n",
       "528   COSCO FOS  477947700  9484302.0      4253       KRBNP   \n",
       "529   COSCO FOS  477947700  9484302.0      4253       KRBNP   \n",
       "530   COSCO FOS  477947700  9484302.0      4253       KRBNP   \n",
       "531   COSCO FOS  477947700  9484302.0      4253       KRBNP   \n",
       "532   COSCO FOS  477947700  9484302.0      4253       KRBNP   \n",
       "\n",
       "                     eta  longitude  latitude  speed  heading  \\\n",
       "0    2022-11-17 09:00:00   127.0882   34.1223   16.0    270.0   \n",
       "1    2022-11-17 09:00:00   127.0609   34.1211   16.1    267.0   \n",
       "2    2022-11-17 09:00:00   126.6711   34.0831   16.1    262.0   \n",
       "3    2022-11-17 09:00:00   126.6067   34.0795   16.0    277.0   \n",
       "4    2022-11-17 09:00:00   126.5502   34.0820   16.2    280.0   \n",
       "..                   ...        ...       ...    ...      ...   \n",
       "528  2022-11-21 08:00:00   128.8286   35.0767    0.9     80.0   \n",
       "529  2022-11-21 08:00:00   128.8303   35.0770    0.1     91.0   \n",
       "530  2022-11-21 08:00:00   128.8302   35.0772    0.0     91.0   \n",
       "531  2022-11-21 08:00:00   128.8300   35.0772    0.0     91.0   \n",
       "532  2022-11-21 08:00:00   128.8300   35.0774    0.2     90.0   \n",
       "\n",
       "                      timestamp time_position_data_received  \\\n",
       "0    2022-11-16 16:56:08.041108         2022-11-16 07:55:49   \n",
       "1    2022-11-16 17:01:11.033821         2022-11-16 08:00:55   \n",
       "2    2022-11-16 18:16:53.451054         2022-11-16 09:14:25   \n",
       "3    2022-11-16 18:26:58.801742         2022-11-16 09:26:25   \n",
       "4    2022-11-16 18:42:07.917210         2022-11-16 09:37:09   \n",
       "..                          ...                         ...   \n",
       "528  2022-11-21 18:05:52.289081         2022-11-21 08:45:01   \n",
       "529  2022-11-21 20:12:03.039219         2022-11-21 10:46:03   \n",
       "530  2022-11-21 20:17:05.890117         2022-11-21 10:52:05   \n",
       "531  2022-11-21 20:42:20.130436         2022-11-21 11:15:59   \n",
       "532  2022-11-22 01:14:53.431509         2022-11-21 16:13:17   \n",
       "\n",
       "    time_voyage_data_received         navigation_info  remained_distance  \\\n",
       "0         2022-11-16 04:19:07  under way using engine         184.436450   \n",
       "1         2022-11-16 04:19:07  under way using engine         186.658612   \n",
       "2         2022-11-16 04:19:07  under way using engine         220.108466   \n",
       "3         2022-11-16 04:19:07  under way using engine         225.577733   \n",
       "4         2022-11-16 04:19:07  under way using engine         230.117608   \n",
       "..                        ...                     ...                ...   \n",
       "528       2022-11-21 08:37:08  under way using engine          11.938104   \n",
       "529       2022-11-21 10:49:07                  moored          11.983151   \n",
       "530       2022-11-21 10:55:06                  moored          12.004568   \n",
       "531       2022-11-21 11:13:06                  moored          12.003097   \n",
       "532       2022-11-21 04:13:07                  moored          12.025264   \n",
       "\n",
       "     estimated_fuel_consumption  \n",
       "0                    306.205403  \n",
       "1                    312.035073  \n",
       "2                    367.952814  \n",
       "3                    374.509054  \n",
       "4                    387.353392  \n",
       "..                          ...  \n",
       "528                  105.884565  \n",
       "529                  956.161110  \n",
       "530                         NaN  \n",
       "531                         NaN  \n",
       "532                  479.762638  \n",
       "\n",
       "[533 rows x 16 columns]"
      ]
     },
     "execution_count": 3,
     "metadata": {},
     "output_type": "execute_result"
    }
   ],
   "source": [
    "df_test = pd.read_csv(\"voy_path/COSCO_FOS_VRKR6_26.csv\")\n",
    "df_test"
   ]
  },
  {
   "cell_type": "code",
   "execution_count": 4,
   "id": "46ce85f7",
   "metadata": {
    "ExecuteTime": {
     "end_time": "2023-01-06T02:42:40.885079Z",
     "start_time": "2023-01-06T02:42:40.871003Z"
    }
   },
   "outputs": [],
   "source": [
    "# if Point(LONGITUDE, LATITUDE).within(poly):"
   ]
  },
  {
   "cell_type": "code",
   "execution_count": 5,
   "id": "cdb92e67",
   "metadata": {
    "ExecuteTime": {
     "end_time": "2023-01-06T02:42:40.900079Z",
     "start_time": "2023-01-06T02:42:40.886081Z"
    }
   },
   "outputs": [],
   "source": [
    "df_test.sort_values(by=\"timestamp\", ignore_index=True, inplace=True)"
   ]
  },
  {
   "cell_type": "code",
   "execution_count": 6,
   "id": "f126f3a1",
   "metadata": {
    "ExecuteTime": {
     "end_time": "2023-01-06T02:42:40.930027Z",
     "start_time": "2023-01-06T02:42:40.901079Z"
    }
   },
   "outputs": [
    {
     "name": "stdout",
     "output_type": "stream",
     "text": [
      "224\n"
     ]
    }
   ],
   "source": [
    "for idx in df_test.index:\n",
    "    LONGITUDE = df_test.loc[idx, \"longitude\"]\n",
    "    LATITUDE = df_test.loc[idx, \"latitude\"]\n",
    "    heading = df_test.loc[idx, \"heading\"]\n",
    "    speed = df_test.loc[idx, \"speed\"]\n",
    "    if Point(LONGITUDE, LATITUDE).within(poly) and heading < 200 and speed > 11:\n",
    "        print(idx)\n",
    "        break\n",
    "        "
   ]
  },
  {
   "cell_type": "code",
   "execution_count": 7,
   "id": "e578be74",
   "metadata": {
    "ExecuteTime": {
     "end_time": "2023-01-06T02:42:40.945054Z",
     "start_time": "2023-01-06T02:42:40.931047Z"
    }
   },
   "outputs": [],
   "source": [
    "df_test_2 = df_test.loc[idx:,]\n",
    "df_test_2.reset_index(inplace=True)"
   ]
  },
  {
   "cell_type": "code",
   "execution_count": 8,
   "id": "39a84ff8",
   "metadata": {
    "ExecuteTime": {
     "end_time": "2023-01-06T02:42:40.960612Z",
     "start_time": "2023-01-06T02:42:40.945606Z"
    }
   },
   "outputs": [],
   "source": [
    "# df_test_2.to_csv(\"voy_path/COSCO_test.csv\", encoding=\"utf-8 sig\", header=True, index=False)"
   ]
  },
  {
   "cell_type": "code",
   "execution_count": 9,
   "id": "37e8d48f",
   "metadata": {
    "ExecuteTime": {
     "end_time": "2023-01-06T02:42:40.976183Z",
     "start_time": "2023-01-06T02:42:40.962612Z"
    }
   },
   "outputs": [],
   "source": [
    "distance = 0\n",
    "for idx in df_test_2.index:\n",
    "    if idx != 0:\n",
    "        LONGITUDE = df_test_2.loc[idx, \"longitude\"]\n",
    "        LATITUDE = df_test_2.loc[idx, \"latitude\"]\n",
    "        current_coord = (LATITUDE, LONGITUDE)\n",
    "\n",
    "        LONGITUDE = df_test_2.loc[idx - 1, \"longitude\"]\n",
    "        LATITUDE = df_test_2.loc[idx - 1, \"latitude\"]\n",
    "        previous_current_coord = (LATITUDE, LONGITUDE)\n",
    "\n",
    "        distance += haversine(current_coord, previous_current_coord, unit=\"km\")"
   ]
  },
  {
   "cell_type": "code",
   "execution_count": 10,
   "id": "50cb6385",
   "metadata": {
    "ExecuteTime": {
     "end_time": "2023-01-06T02:42:40.991161Z",
     "start_time": "2023-01-06T02:42:40.977161Z"
    }
   },
   "outputs": [
    {
     "data": {
      "text/plain": [
       "1325.7178036900816"
      ]
     },
     "execution_count": 10,
     "metadata": {},
     "output_type": "execute_result"
    }
   ],
   "source": [
    "distance"
   ]
  },
  {
   "cell_type": "code",
   "execution_count": 12,
   "id": "84ddc0ee",
   "metadata": {
    "ExecuteTime": {
     "end_time": "2023-01-06T02:42:44.438823Z",
     "start_time": "2023-01-06T02:42:44.427951Z"
    }
   },
   "outputs": [
    {
     "data": {
      "text/plain": [
       "67.42632559831476"
      ]
     },
     "execution_count": 12,
     "metadata": {},
     "output_type": "execute_result"
    }
   ],
   "source": [
    "1348.5265119662952 / 20"
   ]
  },
  {
   "cell_type": "code",
   "execution_count": 13,
   "id": "f61e2bb2",
   "metadata": {
    "ExecuteTime": {
     "end_time": "2023-01-06T02:42:44.575010Z",
     "start_time": "2023-01-06T02:42:44.558463Z"
    }
   },
   "outputs": [],
   "source": [
    "overall_length = 1348.5265119662952\n",
    "segment_length = overall_length/20"
   ]
  },
  {
   "cell_type": "code",
   "execution_count": 14,
   "id": "3975eafd",
   "metadata": {
    "ExecuteTime": {
     "end_time": "2023-01-06T02:42:44.695838Z",
     "start_time": "2023-01-06T02:42:44.691839Z"
    }
   },
   "outputs": [],
   "source": [
    "overall_length = distance\n",
    "segment_length = overall_length/20"
   ]
  },
  {
   "cell_type": "code",
   "execution_count": 15,
   "id": "d2bbacbd",
   "metadata": {
    "ExecuteTime": {
     "end_time": "2023-01-06T02:42:44.847683Z",
     "start_time": "2023-01-06T02:42:44.840492Z"
    }
   },
   "outputs": [
    {
     "data": {
      "text/plain": [
       "66.28589018450408"
      ]
     },
     "execution_count": 15,
     "metadata": {},
     "output_type": "execute_result"
    }
   ],
   "source": [
    "segment_length"
   ]
  },
  {
   "cell_type": "code",
   "execution_count": 16,
   "id": "78aa1630",
   "metadata": {
    "ExecuteTime": {
     "end_time": "2023-01-06T02:42:44.997899Z",
     "start_time": "2023-01-06T02:42:44.973364Z"
    },
    "scrolled": true
   },
   "outputs": [
    {
     "name": "stdout",
     "output_type": "stream",
     "text": [
      "74.30519420981277\n",
      "71.40034240338963\n",
      "68.15846623867361\n",
      "70.09483984884616\n",
      "82.56082611932622\n",
      "70.11024138294692\n",
      "70.80694547475466\n",
      "123.33520789742383\n",
      "66.77633122964147\n",
      "68.41320417664105\n",
      "67.06528426971842\n",
      "68.09801973905442\n",
      "66.94987809636005\n",
      "69.18844520431976\n",
      "68.52054235605213\n",
      "66.76948214087491\n",
      "70.40829269906936\n",
      "68.89616252544742\n"
     ]
    }
   ],
   "source": [
    "temp_accu_length = 0\n",
    "segmenting_index_list = []\n",
    "for idx in df_test_2.index:\n",
    "    \n",
    "    if idx == 0:\n",
    "        previous_length = 0\n",
    "    else:\n",
    "        LONGITUDE = df_test_2.loc[idx, \"longitude\"]\n",
    "        LATITUDE = df_test_2.loc[idx, \"latitude\"]\n",
    "        current_coord = (LATITUDE, LONGITUDE)\n",
    "\n",
    "        LONGITUDE = df_test_2.loc[idx - 1, \"longitude\"]\n",
    "        LATITUDE = df_test_2.loc[idx - 1, \"latitude\"]\n",
    "        previous_current_coord = (LATITUDE, LONGITUDE)\n",
    "\n",
    "        current_length = haversine(current_coord, previous_current_coord, unit=\"km\")\n",
    "        temp_accu_length += current_length\n",
    "        \n",
    "        if temp_accu_length >= segment_length:\n",
    "            print(temp_accu_length)\n",
    "#             segmenting_index_list.append(idx)\n",
    "            \n",
    "            \n",
    "            length_error_1 = temp_accu_length - segment_length\n",
    "            length_error_2 = temp_accu_length - segment_length - previous_length\n",
    "            if length_error_1 > length_error_2:\n",
    "                segmenting_index_list.append(idx)\n",
    "            else:\n",
    "                segmenting_index_list.append(idx - 1)\n",
    "                \n",
    "            \n",
    "            temp_accu_length = 0\n",
    "            \n",
    "        previous_length = current_length\n",
    "segmenting_index_list.append(df_test_2.index[-1])\n"
   ]
  },
  {
   "cell_type": "code",
   "execution_count": 17,
   "id": "27572ae1",
   "metadata": {
    "ExecuteTime": {
     "end_time": "2023-01-06T02:42:45.119464Z",
     "start_time": "2023-01-06T02:42:45.104931Z"
    }
   },
   "outputs": [],
   "source": [
    "# df 내의 포인트 전체 길이 구하는 함수\n",
    "def reckon_point_lengths(df_test_2):\n",
    "    distance = 0\n",
    "    df_test_2.reset_index(inplace=True, drop=True)\n",
    "    for idx in df_test_2.index:\n",
    "        if idx != 0:\n",
    "            LONGITUDE = df_test_2.loc[idx, \"longitude\"]\n",
    "            LATITUDE = df_test_2.loc[idx, \"latitude\"]\n",
    "            current_coord = (LATITUDE, LONGITUDE)\n",
    "\n",
    "            LONGITUDE = df_test_2.loc[idx - 1, \"longitude\"]\n",
    "            LATITUDE = df_test_2.loc[idx - 1, \"latitude\"]\n",
    "            previous_current_coord = (LATITUDE, LONGITUDE)\n",
    "\n",
    "            distance += haversine(current_coord, previous_current_coord, unit=\"km\")\n",
    "    return distance"
   ]
  },
  {
   "cell_type": "code",
   "execution_count": 18,
   "id": "de0f5579",
   "metadata": {
    "ExecuteTime": {
     "end_time": "2023-01-06T02:42:45.286098Z",
     "start_time": "2023-01-06T02:42:45.236831Z"
    },
    "scrolled": false
   },
   "outputs": [
    {
     "name": "stdout",
     "output_type": "stream",
     "text": [
      "74.30519420981277\n",
      "71.40034240338963\n",
      "68.15846623867361\n",
      "70.09483984884616\n",
      "82.56082611932622\n",
      "70.11024138294692\n",
      "70.80694547475466\n",
      "123.33520789742383\n",
      "66.77633122964147\n",
      "68.41320417664105\n",
      "67.06528426971842\n",
      "68.09801973905442\n",
      "66.94987809636005\n",
      "69.18844520431976\n",
      "68.52054235605213\n",
      "66.76948214087491\n",
      "70.40829269906936\n",
      "68.89616252544742\n",
      "13.86009767772916\n"
     ]
    }
   ],
   "source": [
    "for idx, index in enumerate(segmenting_index_list):\n",
    "    if idx == 0:\n",
    "        d = df_test_2[0:index + 1]\n",
    "#         display(d)\n",
    "        distance = reckon_point_lengths(d)\n",
    "        print(distance)\n",
    "        d.to_csv(f\"실험/segment_test_new_{idx}.csv\", encoding=\"utf-8 sig\", header=True, index=False)\n",
    "    else:\n",
    "        d = df_test_2[previous_index:index + 1]\n",
    "#         display(d)\n",
    "        distance = reckon_point_lengths(d)\n",
    "        print(distance)\n",
    "        d.to_csv(f\"실험/segment_test_new_{idx}.csv\", encoding=\"utf-8 sig\", header=True, index=False)\n",
    "        \n",
    "    previous_index = index"
   ]
  },
  {
   "cell_type": "code",
   "execution_count": 19,
   "id": "fe9fb041",
   "metadata": {
    "ExecuteTime": {
     "end_time": "2023-01-06T02:42:45.529232Z",
     "start_time": "2023-01-06T02:42:45.369879Z"
    }
   },
   "outputs": [
    {
     "name": "stdout",
     "output_type": "stream",
     "text": [
      "0 14.041176470588237\n",
      "1 16.32\n",
      "2 16.349999999999998\n",
      "3 16.664285714285715\n",
      "4 18.464285714285715\n",
      "5 19.26\n",
      "6 19.342857142857145\n",
      "7 18.9\n",
      "8 19.39090909090909\n",
      "9 19.3\n",
      "10 17.296153846153842\n",
      "11 15.634482758620688\n",
      "12 17.10909090909091\n",
      "13 16.139999999999997\n",
      "14 15.233333333333333\n",
      "15 16.40344827586207\n",
      "16 16.277777777777775\n",
      "17 11.666666666666666\n",
      "18 5.2749999999999995\n"
     ]
    }
   ],
   "source": [
    "for i in range(len(segmenting_index_list)):\n",
    "    d = pd.read_csv(f\"실험/segment_test_new_{i}.csv\")\n",
    "    mean_speed = d[\"speed\"].mean()\n",
    "    print(i, mean_speed)"
   ]
  },
  {
   "cell_type": "code",
   "execution_count": 20,
   "id": "3177fd4f",
   "metadata": {
    "ExecuteTime": {
     "end_time": "2023-01-06T02:42:45.544384Z",
     "start_time": "2023-01-06T02:42:45.531234Z"
    }
   },
   "outputs": [
    {
     "name": "stdout",
     "output_type": "stream",
     "text": [
      "COSCO_FOS_26\n",
      "전항지 출항 시각 2022-11-19 22:24:43.599696\n",
      "부산 도착 시각 2022-11-22 01:14:53.431509\n"
     ]
    }
   ],
   "source": [
    "print(\"COSCO_FOS_26\")\n",
    "print(\"전항지 출항 시각\",df_test_2.loc[df_test_2.index[0], \"timestamp\"])\n",
    "print(\"부산 도착 시각\",df_test_2.loc[df_test_2.index[-1], \"timestamp\"])"
   ]
  },
  {
   "cell_type": "code",
   "execution_count": 22,
   "id": "5037018e",
   "metadata": {
    "ExecuteTime": {
     "end_time": "2023-01-06T02:43:28.050042Z",
     "start_time": "2023-01-06T02:43:28.025773Z"
    }
   },
   "outputs": [
    {
     "data": {
      "text/html": [
       "<div>\n",
       "<style scoped>\n",
       "    .dataframe tbody tr th:only-of-type {\n",
       "        vertical-align: middle;\n",
       "    }\n",
       "\n",
       "    .dataframe tbody tr th {\n",
       "        vertical-align: top;\n",
       "    }\n",
       "\n",
       "    .dataframe thead th {\n",
       "        text-align: right;\n",
       "    }\n",
       "</style>\n",
       "<table border=\"1\" class=\"dataframe\">\n",
       "  <thead>\n",
       "    <tr style=\"text-align: right;\">\n",
       "      <th></th>\n",
       "      <th>index</th>\n",
       "      <th>vessel_name</th>\n",
       "      <th>mmsi</th>\n",
       "      <th>imo</th>\n",
       "      <th>CAPACITY</th>\n",
       "      <th>destination</th>\n",
       "      <th>eta</th>\n",
       "      <th>longitude</th>\n",
       "      <th>latitude</th>\n",
       "      <th>speed</th>\n",
       "      <th>heading</th>\n",
       "      <th>timestamp</th>\n",
       "      <th>time_position_data_received</th>\n",
       "      <th>time_voyage_data_received</th>\n",
       "      <th>navigation_info</th>\n",
       "      <th>remained_distance</th>\n",
       "      <th>estimated_fuel_consumption</th>\n",
       "    </tr>\n",
       "  </thead>\n",
       "  <tbody>\n",
       "    <tr>\n",
       "      <th>289</th>\n",
       "      <td>513</td>\n",
       "      <td>COSCO FOS</td>\n",
       "      <td>477947700</td>\n",
       "      <td>9484302.0</td>\n",
       "      <td>4253</td>\n",
       "      <td>KRBNP</td>\n",
       "      <td>2022-11-21 08:00:00</td>\n",
       "      <td>128.8405</td>\n",
       "      <td>34.7681</td>\n",
       "      <td>9.8</td>\n",
       "      <td>8.0</td>\n",
       "      <td>2022-11-21 15:44:32.624580</td>\n",
       "      <td>2022-11-21 06:28:05</td>\n",
       "      <td>2022-11-21 06:13:04</td>\n",
       "      <td>under way using engine</td>\n",
       "      <td>22.487958</td>\n",
       "      <td>28.108978</td>\n",
       "    </tr>\n",
       "    <tr>\n",
       "      <th>290</th>\n",
       "      <td>514</td>\n",
       "      <td>COSCO FOS</td>\n",
       "      <td>477947700</td>\n",
       "      <td>9484302.0</td>\n",
       "      <td>4253</td>\n",
       "      <td>KRBNP</td>\n",
       "      <td>2022-11-21 08:00:00</td>\n",
       "      <td>128.8453</td>\n",
       "      <td>34.8060</td>\n",
       "      <td>8.1</td>\n",
       "      <td>0.0</td>\n",
       "      <td>2022-11-21 15:59:42.102923</td>\n",
       "      <td>2022-11-21 06:42:30</td>\n",
       "      <td>2022-11-21 06:31:07</td>\n",
       "      <td>under way using engine</td>\n",
       "      <td>18.343674</td>\n",
       "      <td>23.530763</td>\n",
       "    </tr>\n",
       "    <tr>\n",
       "      <th>291</th>\n",
       "      <td>515</td>\n",
       "      <td>COSCO FOS</td>\n",
       "      <td>477947700</td>\n",
       "      <td>9484302.0</td>\n",
       "      <td>4253</td>\n",
       "      <td>KRBNP</td>\n",
       "      <td>2022-11-21 08:00:00</td>\n",
       "      <td>128.8453</td>\n",
       "      <td>34.8092</td>\n",
       "      <td>9.0</td>\n",
       "      <td>2.0</td>\n",
       "      <td>2022-11-21 16:04:44.580934</td>\n",
       "      <td>2022-11-21 06:43:45</td>\n",
       "      <td>2022-11-21 06:31:07</td>\n",
       "      <td>under way using engine</td>\n",
       "      <td>17.990854</td>\n",
       "      <td>22.562173</td>\n",
       "    </tr>\n",
       "    <tr>\n",
       "      <th>292</th>\n",
       "      <td>516</td>\n",
       "      <td>COSCO FOS</td>\n",
       "      <td>477947700</td>\n",
       "      <td>9484302.0</td>\n",
       "      <td>4253</td>\n",
       "      <td>KRBNP</td>\n",
       "      <td>2022-11-21 08:00:00</td>\n",
       "      <td>128.8511</td>\n",
       "      <td>34.8521</td>\n",
       "      <td>8.8</td>\n",
       "      <td>0.0</td>\n",
       "      <td>2022-11-21 16:19:52.596682</td>\n",
       "      <td>2022-11-21 06:58:54</td>\n",
       "      <td>2022-11-21 06:55:09</td>\n",
       "      <td>under way using engine</td>\n",
       "      <td>13.380367</td>\n",
       "      <td>16.833685</td>\n",
       "    </tr>\n",
       "    <tr>\n",
       "      <th>293</th>\n",
       "      <td>517</td>\n",
       "      <td>COSCO FOS</td>\n",
       "      <td>477947700</td>\n",
       "      <td>9484302.0</td>\n",
       "      <td>4253</td>\n",
       "      <td>KRBNP</td>\n",
       "      <td>2022-11-21 08:00:00</td>\n",
       "      <td>128.8510</td>\n",
       "      <td>34.8628</td>\n",
       "      <td>9.4</td>\n",
       "      <td>1.0</td>\n",
       "      <td>2022-11-21 16:25:00.575389</td>\n",
       "      <td>2022-11-21 07:03:11</td>\n",
       "      <td>2022-11-21 06:55:09</td>\n",
       "      <td>under way using engine</td>\n",
       "      <td>12.219086</td>\n",
       "      <td>15.270903</td>\n",
       "    </tr>\n",
       "    <tr>\n",
       "      <th>294</th>\n",
       "      <td>518</td>\n",
       "      <td>COSCO FOS</td>\n",
       "      <td>477947700</td>\n",
       "      <td>9484302.0</td>\n",
       "      <td>4253</td>\n",
       "      <td>KRBNP</td>\n",
       "      <td>2022-11-21 08:00:00</td>\n",
       "      <td>128.8493</td>\n",
       "      <td>34.8922</td>\n",
       "      <td>9.4</td>\n",
       "      <td>340.0</td>\n",
       "      <td>2022-11-21 16:35:01.296680</td>\n",
       "      <td>2022-11-21 07:14:04</td>\n",
       "      <td>2022-11-21 07:13:06</td>\n",
       "      <td>under way using engine</td>\n",
       "      <td>9.026448</td>\n",
       "      <td>11.280878</td>\n",
       "    </tr>\n",
       "    <tr>\n",
       "      <th>295</th>\n",
       "      <td>519</td>\n",
       "      <td>COSCO FOS</td>\n",
       "      <td>477947700</td>\n",
       "      <td>9484302.0</td>\n",
       "      <td>4253</td>\n",
       "      <td>KRBNP</td>\n",
       "      <td>2022-11-21 08:00:00</td>\n",
       "      <td>128.8326</td>\n",
       "      <td>34.9308</td>\n",
       "      <td>9.7</td>\n",
       "      <td>345.0</td>\n",
       "      <td>2022-11-21 16:50:10.106911</td>\n",
       "      <td>2022-11-21 07:29:14</td>\n",
       "      <td>2022-11-21 07:25:09</td>\n",
       "      <td>under way using engine</td>\n",
       "      <td>4.477744</td>\n",
       "      <td>5.594956</td>\n",
       "    </tr>\n",
       "    <tr>\n",
       "      <th>296</th>\n",
       "      <td>520</td>\n",
       "      <td>COSCO FOS</td>\n",
       "      <td>477947700</td>\n",
       "      <td>9484302.0</td>\n",
       "      <td>4253</td>\n",
       "      <td>KRBNP</td>\n",
       "      <td>2022-11-21 08:00:00</td>\n",
       "      <td>128.8316</td>\n",
       "      <td>34.9334</td>\n",
       "      <td>9.7</td>\n",
       "      <td>345.0</td>\n",
       "      <td>2022-11-21 16:55:12.370789</td>\n",
       "      <td>2022-11-21 07:30:20</td>\n",
       "      <td>2022-11-21 07:31:07</td>\n",
       "      <td>under way using engine</td>\n",
       "      <td>4.174799</td>\n",
       "      <td>5.216425</td>\n",
       "    </tr>\n",
       "    <tr>\n",
       "      <th>297</th>\n",
       "      <td>521</td>\n",
       "      <td>COSCO FOS</td>\n",
       "      <td>477947700</td>\n",
       "      <td>9484302.0</td>\n",
       "      <td>4253</td>\n",
       "      <td>KRBNP</td>\n",
       "      <td>2022-11-21 08:00:00</td>\n",
       "      <td>128.8109</td>\n",
       "      <td>34.9799</td>\n",
       "      <td>11.9</td>\n",
       "      <td>343.0</td>\n",
       "      <td>2022-11-21 17:10:24.772941</td>\n",
       "      <td>2022-11-21 07:46:50</td>\n",
       "      <td>2022-11-21 07:49:08</td>\n",
       "      <td>under way using engine</td>\n",
       "      <td>1.385139</td>\n",
       "      <td>1.818734</td>\n",
       "    </tr>\n",
       "    <tr>\n",
       "      <th>298</th>\n",
       "      <td>522</td>\n",
       "      <td>COSCO FOS</td>\n",
       "      <td>477947700</td>\n",
       "      <td>9484302.0</td>\n",
       "      <td>4253</td>\n",
       "      <td>KRBNP</td>\n",
       "      <td>2022-11-21 08:00:00</td>\n",
       "      <td>128.7941</td>\n",
       "      <td>35.0195</td>\n",
       "      <td>12.4</td>\n",
       "      <td>341.0</td>\n",
       "      <td>2022-11-21 17:20:26.867541</td>\n",
       "      <td>2022-11-21 08:00:05</td>\n",
       "      <td>2022-11-21 07:49:08</td>\n",
       "      <td>under way using engine</td>\n",
       "      <td>6.009961</td>\n",
       "      <td>8.060099</td>\n",
       "    </tr>\n",
       "    <tr>\n",
       "      <th>299</th>\n",
       "      <td>523</td>\n",
       "      <td>COSCO FOS</td>\n",
       "      <td>477947700</td>\n",
       "      <td>9484302.0</td>\n",
       "      <td>4253</td>\n",
       "      <td>KRBNP</td>\n",
       "      <td>2022-11-21 08:00:00</td>\n",
       "      <td>128.7889</td>\n",
       "      <td>35.0318</td>\n",
       "      <td>10.6</td>\n",
       "      <td>341.0</td>\n",
       "      <td>2022-11-21 17:25:29.125227</td>\n",
       "      <td>2022-11-21 08:04:23</td>\n",
       "      <td>2022-11-21 07:49:08</td>\n",
       "      <td>under way using engine</td>\n",
       "      <td>7.455118</td>\n",
       "      <td>9.412492</td>\n",
       "    </tr>\n",
       "    <tr>\n",
       "      <th>300</th>\n",
       "      <td>524</td>\n",
       "      <td>COSCO FOS</td>\n",
       "      <td>477947700</td>\n",
       "      <td>9484302.0</td>\n",
       "      <td>4253</td>\n",
       "      <td>KRBNP</td>\n",
       "      <td>2022-11-21 08:00:00</td>\n",
       "      <td>128.7868</td>\n",
       "      <td>35.0597</td>\n",
       "      <td>8.2</td>\n",
       "      <td>25.0</td>\n",
       "      <td>2022-11-21 17:35:35.996969</td>\n",
       "      <td>2022-11-21 08:15:14</td>\n",
       "      <td>2022-11-21 08:13:09</td>\n",
       "      <td>under way using engine</td>\n",
       "      <td>10.450602</td>\n",
       "      <td>13.357489</td>\n",
       "    </tr>\n",
       "    <tr>\n",
       "      <th>301</th>\n",
       "      <td>525</td>\n",
       "      <td>COSCO FOS</td>\n",
       "      <td>477947700</td>\n",
       "      <td>9484302.0</td>\n",
       "      <td>4253</td>\n",
       "      <td>KRBNP</td>\n",
       "      <td>2022-11-21 08:00:00</td>\n",
       "      <td>128.7908</td>\n",
       "      <td>35.0657</td>\n",
       "      <td>8.0</td>\n",
       "      <td>53.0</td>\n",
       "      <td>2022-11-21 17:40:38.692701</td>\n",
       "      <td>2022-11-21 08:18:19</td>\n",
       "      <td>2022-11-21 08:13:09</td>\n",
       "      <td>under way using engine</td>\n",
       "      <td>10.999747</td>\n",
       "      <td>14.165268</td>\n",
       "    </tr>\n",
       "    <tr>\n",
       "      <th>302</th>\n",
       "      <td>526</td>\n",
       "      <td>COSCO FOS</td>\n",
       "      <td>477947700</td>\n",
       "      <td>9484302.0</td>\n",
       "      <td>4253</td>\n",
       "      <td>KRBNP</td>\n",
       "      <td>2022-11-21 08:00:00</td>\n",
       "      <td>128.8049</td>\n",
       "      <td>35.0702</td>\n",
       "      <td>7.1</td>\n",
       "      <td>75.0</td>\n",
       "      <td>2022-11-21 17:45:41.601632</td>\n",
       "      <td>2022-11-21 08:24:32</td>\n",
       "      <td>2022-11-21 08:13:09</td>\n",
       "      <td>under way using engine</td>\n",
       "      <td>11.264421</td>\n",
       "      <td>15.235716</td>\n",
       "    </tr>\n",
       "    <tr>\n",
       "      <th>303</th>\n",
       "      <td>527</td>\n",
       "      <td>COSCO FOS</td>\n",
       "      <td>477947700</td>\n",
       "      <td>9484302.0</td>\n",
       "      <td>4253</td>\n",
       "      <td>KRBNP</td>\n",
       "      <td>2022-11-21 08:00:00</td>\n",
       "      <td>128.8218</td>\n",
       "      <td>35.0740</td>\n",
       "      <td>3.9</td>\n",
       "      <td>69.0</td>\n",
       "      <td>2022-11-21 17:55:45.279861</td>\n",
       "      <td>2022-11-21 08:34:22</td>\n",
       "      <td>2022-11-21 08:13:09</td>\n",
       "      <td>under way using engine</td>\n",
       "      <td>11.610739</td>\n",
       "      <td>24.556266</td>\n",
       "    </tr>\n",
       "    <tr>\n",
       "      <th>304</th>\n",
       "      <td>528</td>\n",
       "      <td>COSCO FOS</td>\n",
       "      <td>477947700</td>\n",
       "      <td>9484302.0</td>\n",
       "      <td>4253</td>\n",
       "      <td>KRBNP</td>\n",
       "      <td>2022-11-21 08:00:00</td>\n",
       "      <td>128.8286</td>\n",
       "      <td>35.0767</td>\n",
       "      <td>0.9</td>\n",
       "      <td>80.0</td>\n",
       "      <td>2022-11-21 18:05:52.289081</td>\n",
       "      <td>2022-11-21 08:45:01</td>\n",
       "      <td>2022-11-21 08:37:08</td>\n",
       "      <td>under way using engine</td>\n",
       "      <td>11.938104</td>\n",
       "      <td>105.884565</td>\n",
       "    </tr>\n",
       "    <tr>\n",
       "      <th>305</th>\n",
       "      <td>529</td>\n",
       "      <td>COSCO FOS</td>\n",
       "      <td>477947700</td>\n",
       "      <td>9484302.0</td>\n",
       "      <td>4253</td>\n",
       "      <td>KRBNP</td>\n",
       "      <td>2022-11-21 08:00:00</td>\n",
       "      <td>128.8303</td>\n",
       "      <td>35.0770</td>\n",
       "      <td>0.1</td>\n",
       "      <td>91.0</td>\n",
       "      <td>2022-11-21 20:12:03.039219</td>\n",
       "      <td>2022-11-21 10:46:03</td>\n",
       "      <td>2022-11-21 10:49:07</td>\n",
       "      <td>moored</td>\n",
       "      <td>11.983151</td>\n",
       "      <td>956.161110</td>\n",
       "    </tr>\n",
       "    <tr>\n",
       "      <th>306</th>\n",
       "      <td>530</td>\n",
       "      <td>COSCO FOS</td>\n",
       "      <td>477947700</td>\n",
       "      <td>9484302.0</td>\n",
       "      <td>4253</td>\n",
       "      <td>KRBNP</td>\n",
       "      <td>2022-11-21 08:00:00</td>\n",
       "      <td>128.8302</td>\n",
       "      <td>35.0772</td>\n",
       "      <td>0.0</td>\n",
       "      <td>91.0</td>\n",
       "      <td>2022-11-21 20:17:05.890117</td>\n",
       "      <td>2022-11-21 10:52:05</td>\n",
       "      <td>2022-11-21 10:55:06</td>\n",
       "      <td>moored</td>\n",
       "      <td>12.004568</td>\n",
       "      <td>NaN</td>\n",
       "    </tr>\n",
       "    <tr>\n",
       "      <th>307</th>\n",
       "      <td>531</td>\n",
       "      <td>COSCO FOS</td>\n",
       "      <td>477947700</td>\n",
       "      <td>9484302.0</td>\n",
       "      <td>4253</td>\n",
       "      <td>KRBNP</td>\n",
       "      <td>2022-11-21 08:00:00</td>\n",
       "      <td>128.8300</td>\n",
       "      <td>35.0772</td>\n",
       "      <td>0.0</td>\n",
       "      <td>91.0</td>\n",
       "      <td>2022-11-21 20:42:20.130436</td>\n",
       "      <td>2022-11-21 11:15:59</td>\n",
       "      <td>2022-11-21 11:13:06</td>\n",
       "      <td>moored</td>\n",
       "      <td>12.003097</td>\n",
       "      <td>NaN</td>\n",
       "    </tr>\n",
       "    <tr>\n",
       "      <th>308</th>\n",
       "      <td>532</td>\n",
       "      <td>COSCO FOS</td>\n",
       "      <td>477947700</td>\n",
       "      <td>9484302.0</td>\n",
       "      <td>4253</td>\n",
       "      <td>KRBNP</td>\n",
       "      <td>2022-11-21 08:00:00</td>\n",
       "      <td>128.8300</td>\n",
       "      <td>35.0774</td>\n",
       "      <td>0.2</td>\n",
       "      <td>90.0</td>\n",
       "      <td>2022-11-22 01:14:53.431509</td>\n",
       "      <td>2022-11-21 16:13:17</td>\n",
       "      <td>2022-11-21 04:13:07</td>\n",
       "      <td>moored</td>\n",
       "      <td>12.025264</td>\n",
       "      <td>479.762638</td>\n",
       "    </tr>\n",
       "  </tbody>\n",
       "</table>\n",
       "</div>"
      ],
      "text/plain": [
       "     index vessel_name       mmsi        imo  CAPACITY destination  \\\n",
       "289    513   COSCO FOS  477947700  9484302.0      4253       KRBNP   \n",
       "290    514   COSCO FOS  477947700  9484302.0      4253       KRBNP   \n",
       "291    515   COSCO FOS  477947700  9484302.0      4253       KRBNP   \n",
       "292    516   COSCO FOS  477947700  9484302.0      4253       KRBNP   \n",
       "293    517   COSCO FOS  477947700  9484302.0      4253       KRBNP   \n",
       "294    518   COSCO FOS  477947700  9484302.0      4253       KRBNP   \n",
       "295    519   COSCO FOS  477947700  9484302.0      4253       KRBNP   \n",
       "296    520   COSCO FOS  477947700  9484302.0      4253       KRBNP   \n",
       "297    521   COSCO FOS  477947700  9484302.0      4253       KRBNP   \n",
       "298    522   COSCO FOS  477947700  9484302.0      4253       KRBNP   \n",
       "299    523   COSCO FOS  477947700  9484302.0      4253       KRBNP   \n",
       "300    524   COSCO FOS  477947700  9484302.0      4253       KRBNP   \n",
       "301    525   COSCO FOS  477947700  9484302.0      4253       KRBNP   \n",
       "302    526   COSCO FOS  477947700  9484302.0      4253       KRBNP   \n",
       "303    527   COSCO FOS  477947700  9484302.0      4253       KRBNP   \n",
       "304    528   COSCO FOS  477947700  9484302.0      4253       KRBNP   \n",
       "305    529   COSCO FOS  477947700  9484302.0      4253       KRBNP   \n",
       "306    530   COSCO FOS  477947700  9484302.0      4253       KRBNP   \n",
       "307    531   COSCO FOS  477947700  9484302.0      4253       KRBNP   \n",
       "308    532   COSCO FOS  477947700  9484302.0      4253       KRBNP   \n",
       "\n",
       "                     eta  longitude  latitude  speed  heading  \\\n",
       "289  2022-11-21 08:00:00   128.8405   34.7681    9.8      8.0   \n",
       "290  2022-11-21 08:00:00   128.8453   34.8060    8.1      0.0   \n",
       "291  2022-11-21 08:00:00   128.8453   34.8092    9.0      2.0   \n",
       "292  2022-11-21 08:00:00   128.8511   34.8521    8.8      0.0   \n",
       "293  2022-11-21 08:00:00   128.8510   34.8628    9.4      1.0   \n",
       "294  2022-11-21 08:00:00   128.8493   34.8922    9.4    340.0   \n",
       "295  2022-11-21 08:00:00   128.8326   34.9308    9.7    345.0   \n",
       "296  2022-11-21 08:00:00   128.8316   34.9334    9.7    345.0   \n",
       "297  2022-11-21 08:00:00   128.8109   34.9799   11.9    343.0   \n",
       "298  2022-11-21 08:00:00   128.7941   35.0195   12.4    341.0   \n",
       "299  2022-11-21 08:00:00   128.7889   35.0318   10.6    341.0   \n",
       "300  2022-11-21 08:00:00   128.7868   35.0597    8.2     25.0   \n",
       "301  2022-11-21 08:00:00   128.7908   35.0657    8.0     53.0   \n",
       "302  2022-11-21 08:00:00   128.8049   35.0702    7.1     75.0   \n",
       "303  2022-11-21 08:00:00   128.8218   35.0740    3.9     69.0   \n",
       "304  2022-11-21 08:00:00   128.8286   35.0767    0.9     80.0   \n",
       "305  2022-11-21 08:00:00   128.8303   35.0770    0.1     91.0   \n",
       "306  2022-11-21 08:00:00   128.8302   35.0772    0.0     91.0   \n",
       "307  2022-11-21 08:00:00   128.8300   35.0772    0.0     91.0   \n",
       "308  2022-11-21 08:00:00   128.8300   35.0774    0.2     90.0   \n",
       "\n",
       "                      timestamp time_position_data_received  \\\n",
       "289  2022-11-21 15:44:32.624580         2022-11-21 06:28:05   \n",
       "290  2022-11-21 15:59:42.102923         2022-11-21 06:42:30   \n",
       "291  2022-11-21 16:04:44.580934         2022-11-21 06:43:45   \n",
       "292  2022-11-21 16:19:52.596682         2022-11-21 06:58:54   \n",
       "293  2022-11-21 16:25:00.575389         2022-11-21 07:03:11   \n",
       "294  2022-11-21 16:35:01.296680         2022-11-21 07:14:04   \n",
       "295  2022-11-21 16:50:10.106911         2022-11-21 07:29:14   \n",
       "296  2022-11-21 16:55:12.370789         2022-11-21 07:30:20   \n",
       "297  2022-11-21 17:10:24.772941         2022-11-21 07:46:50   \n",
       "298  2022-11-21 17:20:26.867541         2022-11-21 08:00:05   \n",
       "299  2022-11-21 17:25:29.125227         2022-11-21 08:04:23   \n",
       "300  2022-11-21 17:35:35.996969         2022-11-21 08:15:14   \n",
       "301  2022-11-21 17:40:38.692701         2022-11-21 08:18:19   \n",
       "302  2022-11-21 17:45:41.601632         2022-11-21 08:24:32   \n",
       "303  2022-11-21 17:55:45.279861         2022-11-21 08:34:22   \n",
       "304  2022-11-21 18:05:52.289081         2022-11-21 08:45:01   \n",
       "305  2022-11-21 20:12:03.039219         2022-11-21 10:46:03   \n",
       "306  2022-11-21 20:17:05.890117         2022-11-21 10:52:05   \n",
       "307  2022-11-21 20:42:20.130436         2022-11-21 11:15:59   \n",
       "308  2022-11-22 01:14:53.431509         2022-11-21 16:13:17   \n",
       "\n",
       "    time_voyage_data_received         navigation_info  remained_distance  \\\n",
       "289       2022-11-21 06:13:04  under way using engine          22.487958   \n",
       "290       2022-11-21 06:31:07  under way using engine          18.343674   \n",
       "291       2022-11-21 06:31:07  under way using engine          17.990854   \n",
       "292       2022-11-21 06:55:09  under way using engine          13.380367   \n",
       "293       2022-11-21 06:55:09  under way using engine          12.219086   \n",
       "294       2022-11-21 07:13:06  under way using engine           9.026448   \n",
       "295       2022-11-21 07:25:09  under way using engine           4.477744   \n",
       "296       2022-11-21 07:31:07  under way using engine           4.174799   \n",
       "297       2022-11-21 07:49:08  under way using engine           1.385139   \n",
       "298       2022-11-21 07:49:08  under way using engine           6.009961   \n",
       "299       2022-11-21 07:49:08  under way using engine           7.455118   \n",
       "300       2022-11-21 08:13:09  under way using engine          10.450602   \n",
       "301       2022-11-21 08:13:09  under way using engine          10.999747   \n",
       "302       2022-11-21 08:13:09  under way using engine          11.264421   \n",
       "303       2022-11-21 08:13:09  under way using engine          11.610739   \n",
       "304       2022-11-21 08:37:08  under way using engine          11.938104   \n",
       "305       2022-11-21 10:49:07                  moored          11.983151   \n",
       "306       2022-11-21 10:55:06                  moored          12.004568   \n",
       "307       2022-11-21 11:13:06                  moored          12.003097   \n",
       "308       2022-11-21 04:13:07                  moored          12.025264   \n",
       "\n",
       "     estimated_fuel_consumption  \n",
       "289                   28.108978  \n",
       "290                   23.530763  \n",
       "291                   22.562173  \n",
       "292                   16.833685  \n",
       "293                   15.270903  \n",
       "294                   11.280878  \n",
       "295                    5.594956  \n",
       "296                    5.216425  \n",
       "297                    1.818734  \n",
       "298                    8.060099  \n",
       "299                    9.412492  \n",
       "300                   13.357489  \n",
       "301                   14.165268  \n",
       "302                   15.235716  \n",
       "303                   24.556266  \n",
       "304                  105.884565  \n",
       "305                  956.161110  \n",
       "306                         NaN  \n",
       "307                         NaN  \n",
       "308                  479.762638  "
      ]
     },
     "execution_count": 22,
     "metadata": {},
     "output_type": "execute_result"
    }
   ],
   "source": [
    "df_test_2.tail(20)"
   ]
  },
  {
   "cell_type": "markdown",
   "id": "c5dcce71",
   "metadata": {},
   "source": [
    "# 알고리즘"
   ]
  },
  {
   "cell_type": "markdown",
   "id": "3797fdca",
   "metadata": {},
   "source": [
    "1. 현재 위치에서 어떤 segment가 가장 가까운지 선택   \n",
    "2. segment 내의 어떤 점과 가장 가까운지. 그리고 그 거리 구하기.\n",
    "3. 현재 속도와 그 segment 간의 속도 비율 측정. 만약 속도를 느리게 가고 있다면 그 비율만큼 전체 segment 평균속도 조정할것임.\n",
    "4. 현재 segment에 진입하고 현재 속도로 언제 빠져나갈지 계산 (Ta)\n",
    "5. 남은 segment의 평균속도 및 남은 거리 각각 계산해서 (Tb,Tc,...,Tfinal) 현재 시각과 더하기\n",
    "6. 구한 ETA와 ATA의 차이 구해서 칼럼에 새로 저장할 것.\n",
    "7. 케이스를 나눠서 남은 거리 50 nm, 100nm, 150nm, 200nm 별로 오차 계산 (추후) "
   ]
  },
  {
   "attachments": {
    "image.png": {
     "image/png": "[encoded data removed]"
    }
   },
   "cell_type": "markdown",
   "id": "22f385e9",
   "metadata": {},
   "source": [
    "## 현재 위치에서 어떤 segment가이 가장 가까운지\n",
    "- 샘플 포인트 별로 직선 긋고 거리가 가장 가까운 segment 찾기\n",
    "- 해당 위치에서 가장 가까운 ais 점과 연결하기\n",
    "    - 가장 가까운 점을 찾았다면, 그 점과 그 다음 점의 헤딩 각도를 비교해야 함(만약 가까운 쪽을 연결하면 항로를 돌아가 시간이 더 오래 걸릴 수 있으니)\n",
    "    - ![image.png](attachment:image.png)\n",
    "    - 예를 들어 1번으로 연결한다면 오히려 더 돌아가는 꼴이 된다. 그래서 2번으로 연결해야 한다. \n",
    "    - 즉 가장 가까운 점 + 1과 현재 위치를 연결한다. 길이, 현재 속도로 걸리는 시간 계산\n",
    "    - **segment로 연결되는 길 내부에 지형(수심)이 맞지 않는 부분은 돌아서 가는 방법**(추후체크)\n",
    "- segment 끝나는 지점까지 duration 계산\n",
    "    - 현재 segment의 번호 확인. 변수명 seg_no\n",
    "    - initial duration은 위에서 계산.\n",
    "    - 현재 속도를 기준으로 남은 포인트 별로 남은 거리를 추출하여 duration_0 계산\n",
    "    - 전체 segment 개수 - seg_no 하여 남아있는 segment 갯수 저장. 변수명 rest_of_seg_all_no\n",
    "    - 기존의 평균 속도 / 현재 속도 계산하여 비율 확인. \n",
    "    - for i in rest_of_seg_all_no: \n",
    "        - 각 평균 속도 조정. 전체 길이 구하고, 평균 속도 * 감속 비율 = 새로운 평균속도 \n",
    "        - duration_i 계산\n",
    "    - 구한 duration_0 ~ duration_i_final 까지 모두 더하여 ETA 계산"
   ]
  },
  {
   "cell_type": "code",
   "execution_count": 63,
   "id": "9b0c747d",
   "metadata": {
    "ExecuteTime": {
     "end_time": "2023-01-06T06:54:24.706847Z",
     "start_time": "2023-01-06T06:54:24.667185Z"
    }
   },
   "outputs": [
    {
     "name": "stdout",
     "output_type": "stream",
     "text": [
      "282\n"
     ]
    }
   ],
   "source": [
    "sample = pd.read_csv(\"voy_path/COSCO_FOS_VRKR6_25.csv\")\n",
    "sample.sort_values(by=\"timestamp\", ignore_index=True, inplace=True)\n",
    "for idx in df_test.index:\n",
    "    LONGITUDE = sample.loc[idx, \"longitude\"]\n",
    "    LATITUDE = sample.loc[idx, \"latitude\"]\n",
    "    heading = sample.loc[idx, \"heading\"]\n",
    "    speed = sample.loc[idx, \"speed\"]\n",
    "    if Point(LONGITUDE, LATITUDE).within(poly) and heading < 200 and speed > 11:\n",
    "        print(idx)\n",
    "        break\n",
    "sample = sample.loc[idx:,]\n",
    "sample.reset_index(inplace=True)\n"
   ]
  },
  {
   "cell_type": "code",
   "execution_count": 65,
   "id": "27a58e00",
   "metadata": {
    "ExecuteTime": {
     "end_time": "2023-01-06T06:54:37.977233Z",
     "start_time": "2023-01-06T06:54:37.965862Z"
    }
   },
   "outputs": [],
   "source": [
    "sample = sample.loc[20,:]"
   ]
  },
  {
   "cell_type": "code",
   "execution_count": 66,
   "id": "72082c6f",
   "metadata": {
    "ExecuteTime": {
     "end_time": "2023-01-06T06:54:38.792344Z",
     "start_time": "2023-01-06T06:54:38.785933Z"
    }
   },
   "outputs": [],
   "source": [
    "longitude = sample[\"longitude\"]\n",
    "latitude = sample[\"latitude\"]"
   ]
  },
  {
   "cell_type": "code",
   "execution_count": 67,
   "id": "fdfdd5e6",
   "metadata": {
    "ExecuteTime": {
     "end_time": "2023-01-06T06:54:39.078328Z",
     "start_time": "2023-01-06T06:54:39.066328Z"
    }
   },
   "outputs": [],
   "source": [
    "current_point = (latitude, longitude)\n",
    "current_speed = sample[\"speed\"]\n",
    "current_timestamp = sample[\"timestamp\"]"
   ]
  },
  {
   "cell_type": "code",
   "execution_count": 68,
   "id": "85460c26",
   "metadata": {
    "ExecuteTime": {
     "end_time": "2023-01-06T06:54:39.535649Z",
     "start_time": "2023-01-06T06:54:39.529642Z"
    }
   },
   "outputs": [
    {
     "data": {
      "text/plain": [
       "Timestamp('2022-11-13 02:14:26.635679')"
      ]
     },
     "execution_count": 68,
     "metadata": {},
     "output_type": "execute_result"
    }
   ],
   "source": [
    "current_timestamp = pd.to_datetime(current_timestamp)\n",
    "current_timestamp"
   ]
  },
  {
   "cell_type": "code",
   "execution_count": 69,
   "id": "8e2039ac",
   "metadata": {
    "ExecuteTime": {
     "end_time": "2023-01-06T06:54:41.228236Z",
     "start_time": "2023-01-06T06:54:41.159847Z"
    }
   },
   "outputs": [],
   "source": [
    "shortest_distance = 999\n",
    "for i in range(len(segmenting_index_list)):\n",
    "    d = pd.read_csv(f\"실험/segment_test_new_{i}.csv\")\n",
    "    for idx in d.index:\n",
    "        \n",
    "        LONGITUDE = d.loc[idx, \"longitude\"]\n",
    "        LATITUDE = d.loc[idx, \"latitude\"]\n",
    "\n",
    "        ais_point = (LATITUDE, LONGITUDE)\n",
    "        distance = haversine(current_point, ais_point, unit=\"km\")\n",
    "        if distance < shortest_distance:\n",
    "            shortest_distance = distance \n",
    "            shortest_point_idx = d.loc[idx, \"index\"]\n",
    "            seg_no = i"
   ]
  },
  {
   "cell_type": "code",
   "execution_count": 80,
   "id": "029ab3ae",
   "metadata": {
    "ExecuteTime": {
     "end_time": "2023-01-06T06:59:52.696277Z",
     "start_time": "2023-01-06T06:59:52.681276Z"
    }
   },
   "outputs": [
    {
     "data": {
      "text/plain": [
       "2.883777245664597"
      ]
     },
     "execution_count": 80,
     "metadata": {},
     "output_type": "execute_result"
    }
   ],
   "source": [
    "shortest_distance"
   ]
  },
  {
   "cell_type": "code",
   "execution_count": 71,
   "id": "20fe31fa",
   "metadata": {
    "ExecuteTime": {
     "end_time": "2023-01-06T06:54:43.549074Z",
     "start_time": "2023-01-06T06:54:43.546244Z"
    }
   },
   "outputs": [],
   "source": [
    "import folium"
   ]
  },
  {
   "cell_type": "code",
   "execution_count": 73,
   "id": "162ff3eb",
   "metadata": {
    "ExecuteTime": {
     "end_time": "2023-01-06T06:54:51.792040Z",
     "start_time": "2023-01-06T06:54:51.779062Z"
    }
   },
   "outputs": [],
   "source": [
    "# lat, lon = current_point\n",
    "# m = folium.Map()\n",
    "# folium.Marker(location = [lat, lon]).add_to(m)\n",
    "# display(m)"
   ]
  },
  {
   "cell_type": "code",
   "execution_count": 81,
   "id": "60b80bf1",
   "metadata": {
    "ExecuteTime": {
     "end_time": "2023-01-06T07:01:23.181194Z",
     "start_time": "2023-01-06T07:01:23.170949Z"
    }
   },
   "outputs": [],
   "source": [
    "def cal_duration(speed, distance):\n",
    "    hour = int(distance // km_h)\n",
    "    minute = int(\n",
    "        (distance / km_h - distance // km_h) * 60)\n",
    "    duration = datetime.timedelta(hours=hour,minutes=minute)\n",
    "    return duration"
   ]
  },
  {
   "cell_type": "code",
   "execution_count": 82,
   "id": "9886df2b",
   "metadata": {
    "ExecuteTime": {
     "end_time": "2023-01-06T07:01:38.460838Z",
     "start_time": "2023-01-06T07:01:38.453169Z"
    }
   },
   "outputs": [],
   "source": [
    "df__ = df_test_2.query(f'index == {shortest_point_idx + 1}')\n",
    "new_point = (df__[\"latitude\"].values[0],df__[\"longitude\"].values[0])\n",
    "distance = haversine(current_point, new_point, unit=\"km\")\n",
    "km_h = current_speed * 1.852\n",
    "init_duration = cal_duration(km_h, distance)"
   ]
  },
  {
   "cell_type": "code",
   "execution_count": 83,
   "id": "791d1940",
   "metadata": {
    "ExecuteTime": {
     "end_time": "2023-01-06T07:01:39.356486Z",
     "start_time": "2023-01-06T07:01:39.339143Z"
    }
   },
   "outputs": [
    {
     "data": {
      "text/plain": [
       "datetime.timedelta(seconds=3180)"
      ]
     },
     "execution_count": 83,
     "metadata": {},
     "output_type": "execute_result"
    }
   ],
   "source": [
    "init_duration"
   ]
  },
  {
   "cell_type": "code",
   "execution_count": 88,
   "id": "310f4516",
   "metadata": {
    "ExecuteTime": {
     "end_time": "2023-01-06T07:02:37.653042Z",
     "start_time": "2023-01-06T07:02:37.624725Z"
    }
   },
   "outputs": [],
   "source": [
    "init_seg_df = pd.read_csv(f\"실험/segment_test_new_{seg_no}.csv\")\n",
    "starting_index = init_seg_df.query(f'index == {shortest_point_idx + 1}').index\n",
    "speed_damping_ratio = current_speed / init_seg_df[\"speed\"].mean()\n",
    "remained_init_seg_df = init_seg_df.loc[starting_index[0]:,]\n",
    "remained_init_seg_df.reset_index(drop=True, inplace=True)\n",
    "accu_distance = 0\n",
    "for idx in remained_init_seg_df.index:\n",
    "    if idx != 0:\n",
    "        LONGITUDE = remained_init_seg_df.loc[idx, \"longitude\"]\n",
    "        LATITUDE = remained_init_seg_df.loc[idx, \"latitude\"]\n",
    "        current_coord = (LATITUDE, LONGITUDE)\n",
    "\n",
    "        LONGITUDE = remained_init_seg_df.loc[idx - 1, \"longitude\"]\n",
    "        LATITUDE = remained_init_seg_df.loc[idx - 1, \"latitude\"]\n",
    "        previous_current_coord = (LATITUDE, LONGITUDE)\n",
    "\n",
    "        accu_distance += haversine(current_coord, previous_current_coord, unit=\"km\")\n",
    "duration_0 = cal_duration(km_h, accu_distance)"
   ]
  },
  {
   "cell_type": "code",
   "execution_count": 90,
   "id": "b8de173d",
   "metadata": {
    "ExecuteTime": {
     "end_time": "2023-01-06T07:03:05.441229Z",
     "start_time": "2023-01-06T07:03:05.434197Z"
    }
   },
   "outputs": [],
   "source": [
    "duration_0 = duration_0 + init_duration"
   ]
  },
  {
   "cell_type": "code",
   "execution_count": 119,
   "id": "a8c2d597",
   "metadata": {
    "ExecuteTime": {
     "end_time": "2023-01-06T07:34:06.506027Z",
     "start_time": "2023-01-06T07:34:06.498055Z"
    }
   },
   "outputs": [],
   "source": [
    "# 억까 방지\n",
    "busan_berth = '128.7362432822305,34.91571835540296,5.941836244531453 128.8816505843355,34.93956159255044,9.088787041386029 128.8718190496849,35.09310779849003,8.308118991212194 128.7247817257968,35.08647052441917,-9.228016031556635 128.7362432822305,34.91571835540296,5.941836244531453'\n",
    "coord_list = busan_berth.split(\" \")\n",
    "coord_list\n",
    "coord_list2 = []\n",
    "for i in coord_list:\n",
    "    temp = i.split(\",\")[:2]\n",
    "    temp = list(map(float, temp))\n",
    "    coord_list2.append(temp)\n",
    "poly = Polygon(coord_list2)\n",
    "# if Point(LONGITUDE, LATITUDE).within(poly):"
   ]
  },
  {
   "cell_type": "code",
   "execution_count": 118,
   "id": "e3f7cc36",
   "metadata": {
    "ExecuteTime": {
     "end_time": "2023-01-06T07:33:20.628356Z",
     "start_time": "2023-01-06T07:33:20.598453Z"
    }
   },
   "outputs": [
    {
     "data": {
      "text/html": [
       "<div>\n",
       "<style scoped>\n",
       "    .dataframe tbody tr th:only-of-type {\n",
       "        vertical-align: middle;\n",
       "    }\n",
       "\n",
       "    .dataframe tbody tr th {\n",
       "        vertical-align: top;\n",
       "    }\n",
       "\n",
       "    .dataframe thead th {\n",
       "        text-align: right;\n",
       "    }\n",
       "</style>\n",
       "<table border=\"1\" class=\"dataframe\">\n",
       "  <thead>\n",
       "    <tr style=\"text-align: right;\">\n",
       "      <th></th>\n",
       "      <th>vessel_name</th>\n",
       "      <th>mmsi</th>\n",
       "      <th>imo</th>\n",
       "      <th>CAPACITY</th>\n",
       "      <th>destination</th>\n",
       "      <th>eta</th>\n",
       "      <th>longitude</th>\n",
       "      <th>latitude</th>\n",
       "      <th>speed</th>\n",
       "      <th>heading</th>\n",
       "      <th>timestamp</th>\n",
       "      <th>time_position_data_received</th>\n",
       "      <th>time_voyage_data_received</th>\n",
       "      <th>navigation_info</th>\n",
       "      <th>remained_distance</th>\n",
       "      <th>estimated_fuel_consumption</th>\n",
       "    </tr>\n",
       "  </thead>\n",
       "  <tbody>\n",
       "    <tr>\n",
       "      <th>0</th>\n",
       "      <td>COSCO FOS</td>\n",
       "      <td>477947700</td>\n",
       "      <td>9484302.0</td>\n",
       "      <td>4253</td>\n",
       "      <td>CNTSN</td>\n",
       "      <td>2022-11-17 09:00:00</td>\n",
       "      <td>127.0882</td>\n",
       "      <td>34.1223</td>\n",
       "      <td>16.0</td>\n",
       "      <td>270.0</td>\n",
       "      <td>2022-11-16 16:56:08.041108</td>\n",
       "      <td>2022-11-16 07:55:49</td>\n",
       "      <td>2022-11-16 04:19:07</td>\n",
       "      <td>under way using engine</td>\n",
       "      <td>184.436450</td>\n",
       "      <td>306.205403</td>\n",
       "    </tr>\n",
       "    <tr>\n",
       "      <th>1</th>\n",
       "      <td>COSCO FOS</td>\n",
       "      <td>477947700</td>\n",
       "      <td>9484302.0</td>\n",
       "      <td>4253</td>\n",
       "      <td>CNTSN</td>\n",
       "      <td>2022-11-17 09:00:00</td>\n",
       "      <td>127.0609</td>\n",
       "      <td>34.1211</td>\n",
       "      <td>16.1</td>\n",
       "      <td>267.0</td>\n",
       "      <td>2022-11-16 17:01:11.033821</td>\n",
       "      <td>2022-11-16 08:00:55</td>\n",
       "      <td>2022-11-16 04:19:07</td>\n",
       "      <td>under way using engine</td>\n",
       "      <td>186.658612</td>\n",
       "      <td>312.035073</td>\n",
       "    </tr>\n",
       "    <tr>\n",
       "      <th>2</th>\n",
       "      <td>COSCO FOS</td>\n",
       "      <td>477947700</td>\n",
       "      <td>9484302.0</td>\n",
       "      <td>4253</td>\n",
       "      <td>CNTSN</td>\n",
       "      <td>2022-11-17 09:00:00</td>\n",
       "      <td>126.6711</td>\n",
       "      <td>34.0831</td>\n",
       "      <td>16.1</td>\n",
       "      <td>262.0</td>\n",
       "      <td>2022-11-16 18:16:53.451054</td>\n",
       "      <td>2022-11-16 09:14:25</td>\n",
       "      <td>2022-11-16 04:19:07</td>\n",
       "      <td>under way using engine</td>\n",
       "      <td>220.108466</td>\n",
       "      <td>367.952814</td>\n",
       "    </tr>\n",
       "    <tr>\n",
       "      <th>3</th>\n",
       "      <td>COSCO FOS</td>\n",
       "      <td>477947700</td>\n",
       "      <td>9484302.0</td>\n",
       "      <td>4253</td>\n",
       "      <td>CNTSN</td>\n",
       "      <td>2022-11-17 09:00:00</td>\n",
       "      <td>126.6067</td>\n",
       "      <td>34.0795</td>\n",
       "      <td>16.0</td>\n",
       "      <td>277.0</td>\n",
       "      <td>2022-11-16 18:26:58.801742</td>\n",
       "      <td>2022-11-16 09:26:25</td>\n",
       "      <td>2022-11-16 04:19:07</td>\n",
       "      <td>under way using engine</td>\n",
       "      <td>225.577733</td>\n",
       "      <td>374.509054</td>\n",
       "    </tr>\n",
       "    <tr>\n",
       "      <th>4</th>\n",
       "      <td>COSCO FOS</td>\n",
       "      <td>477947700</td>\n",
       "      <td>9484302.0</td>\n",
       "      <td>4253</td>\n",
       "      <td>CNTSN</td>\n",
       "      <td>2022-11-17 09:00:00</td>\n",
       "      <td>126.5502</td>\n",
       "      <td>34.0820</td>\n",
       "      <td>16.2</td>\n",
       "      <td>280.0</td>\n",
       "      <td>2022-11-16 18:42:07.917210</td>\n",
       "      <td>2022-11-16 09:37:09</td>\n",
       "      <td>2022-11-16 04:19:07</td>\n",
       "      <td>under way using engine</td>\n",
       "      <td>230.117608</td>\n",
       "      <td>387.353392</td>\n",
       "    </tr>\n",
       "    <tr>\n",
       "      <th>...</th>\n",
       "      <td>...</td>\n",
       "      <td>...</td>\n",
       "      <td>...</td>\n",
       "      <td>...</td>\n",
       "      <td>...</td>\n",
       "      <td>...</td>\n",
       "      <td>...</td>\n",
       "      <td>...</td>\n",
       "      <td>...</td>\n",
       "      <td>...</td>\n",
       "      <td>...</td>\n",
       "      <td>...</td>\n",
       "      <td>...</td>\n",
       "      <td>...</td>\n",
       "      <td>...</td>\n",
       "      <td>...</td>\n",
       "    </tr>\n",
       "    <tr>\n",
       "      <th>528</th>\n",
       "      <td>COSCO FOS</td>\n",
       "      <td>477947700</td>\n",
       "      <td>9484302.0</td>\n",
       "      <td>4253</td>\n",
       "      <td>KRBNP</td>\n",
       "      <td>2022-11-21 08:00:00</td>\n",
       "      <td>128.8286</td>\n",
       "      <td>35.0767</td>\n",
       "      <td>0.9</td>\n",
       "      <td>80.0</td>\n",
       "      <td>2022-11-21 18:05:52.289081</td>\n",
       "      <td>2022-11-21 08:45:01</td>\n",
       "      <td>2022-11-21 08:37:08</td>\n",
       "      <td>under way using engine</td>\n",
       "      <td>11.938104</td>\n",
       "      <td>105.884565</td>\n",
       "    </tr>\n",
       "    <tr>\n",
       "      <th>529</th>\n",
       "      <td>COSCO FOS</td>\n",
       "      <td>477947700</td>\n",
       "      <td>9484302.0</td>\n",
       "      <td>4253</td>\n",
       "      <td>KRBNP</td>\n",
       "      <td>2022-11-21 08:00:00</td>\n",
       "      <td>128.8303</td>\n",
       "      <td>35.0770</td>\n",
       "      <td>0.1</td>\n",
       "      <td>91.0</td>\n",
       "      <td>2022-11-21 20:12:03.039219</td>\n",
       "      <td>2022-11-21 10:46:03</td>\n",
       "      <td>2022-11-21 10:49:07</td>\n",
       "      <td>moored</td>\n",
       "      <td>11.983151</td>\n",
       "      <td>956.161110</td>\n",
       "    </tr>\n",
       "    <tr>\n",
       "      <th>530</th>\n",
       "      <td>COSCO FOS</td>\n",
       "      <td>477947700</td>\n",
       "      <td>9484302.0</td>\n",
       "      <td>4253</td>\n",
       "      <td>KRBNP</td>\n",
       "      <td>2022-11-21 08:00:00</td>\n",
       "      <td>128.8302</td>\n",
       "      <td>35.0772</td>\n",
       "      <td>0.0</td>\n",
       "      <td>91.0</td>\n",
       "      <td>2022-11-21 20:17:05.890117</td>\n",
       "      <td>2022-11-21 10:52:05</td>\n",
       "      <td>2022-11-21 10:55:06</td>\n",
       "      <td>moored</td>\n",
       "      <td>12.004568</td>\n",
       "      <td>NaN</td>\n",
       "    </tr>\n",
       "    <tr>\n",
       "      <th>531</th>\n",
       "      <td>COSCO FOS</td>\n",
       "      <td>477947700</td>\n",
       "      <td>9484302.0</td>\n",
       "      <td>4253</td>\n",
       "      <td>KRBNP</td>\n",
       "      <td>2022-11-21 08:00:00</td>\n",
       "      <td>128.8300</td>\n",
       "      <td>35.0772</td>\n",
       "      <td>0.0</td>\n",
       "      <td>91.0</td>\n",
       "      <td>2022-11-21 20:42:20.130436</td>\n",
       "      <td>2022-11-21 11:15:59</td>\n",
       "      <td>2022-11-21 11:13:06</td>\n",
       "      <td>moored</td>\n",
       "      <td>12.003097</td>\n",
       "      <td>NaN</td>\n",
       "    </tr>\n",
       "    <tr>\n",
       "      <th>532</th>\n",
       "      <td>COSCO FOS</td>\n",
       "      <td>477947700</td>\n",
       "      <td>9484302.0</td>\n",
       "      <td>4253</td>\n",
       "      <td>KRBNP</td>\n",
       "      <td>2022-11-21 08:00:00</td>\n",
       "      <td>128.8300</td>\n",
       "      <td>35.0774</td>\n",
       "      <td>0.2</td>\n",
       "      <td>90.0</td>\n",
       "      <td>2022-11-22 01:14:53.431509</td>\n",
       "      <td>2022-11-21 16:13:17</td>\n",
       "      <td>2022-11-21 04:13:07</td>\n",
       "      <td>moored</td>\n",
       "      <td>12.025264</td>\n",
       "      <td>479.762638</td>\n",
       "    </tr>\n",
       "  </tbody>\n",
       "</table>\n",
       "<p>533 rows × 16 columns</p>\n",
       "</div>"
      ],
      "text/plain": [
       "    vessel_name       mmsi        imo  CAPACITY destination  \\\n",
       "0     COSCO FOS  477947700  9484302.0      4253       CNTSN   \n",
       "1     COSCO FOS  477947700  9484302.0      4253       CNTSN   \n",
       "2     COSCO FOS  477947700  9484302.0      4253       CNTSN   \n",
       "3     COSCO FOS  477947700  9484302.0      4253       CNTSN   \n",
       "4     COSCO FOS  477947700  9484302.0      4253       CNTSN   \n",
       "..          ...        ...        ...       ...         ...   \n",
       "528   COSCO FOS  477947700  9484302.0      4253       KRBNP   \n",
       "529   COSCO FOS  477947700  9484302.0      4253       KRBNP   \n",
       "530   COSCO FOS  477947700  9484302.0      4253       KRBNP   \n",
       "531   COSCO FOS  477947700  9484302.0      4253       KRBNP   \n",
       "532   COSCO FOS  477947700  9484302.0      4253       KRBNP   \n",
       "\n",
       "                     eta  longitude  latitude  speed  heading  \\\n",
       "0    2022-11-17 09:00:00   127.0882   34.1223   16.0    270.0   \n",
       "1    2022-11-17 09:00:00   127.0609   34.1211   16.1    267.0   \n",
       "2    2022-11-17 09:00:00   126.6711   34.0831   16.1    262.0   \n",
       "3    2022-11-17 09:00:00   126.6067   34.0795   16.0    277.0   \n",
       "4    2022-11-17 09:00:00   126.5502   34.0820   16.2    280.0   \n",
       "..                   ...        ...       ...    ...      ...   \n",
       "528  2022-11-21 08:00:00   128.8286   35.0767    0.9     80.0   \n",
       "529  2022-11-21 08:00:00   128.8303   35.0770    0.1     91.0   \n",
       "530  2022-11-21 08:00:00   128.8302   35.0772    0.0     91.0   \n",
       "531  2022-11-21 08:00:00   128.8300   35.0772    0.0     91.0   \n",
       "532  2022-11-21 08:00:00   128.8300   35.0774    0.2     90.0   \n",
       "\n",
       "                      timestamp time_position_data_received  \\\n",
       "0    2022-11-16 16:56:08.041108         2022-11-16 07:55:49   \n",
       "1    2022-11-16 17:01:11.033821         2022-11-16 08:00:55   \n",
       "2    2022-11-16 18:16:53.451054         2022-11-16 09:14:25   \n",
       "3    2022-11-16 18:26:58.801742         2022-11-16 09:26:25   \n",
       "4    2022-11-16 18:42:07.917210         2022-11-16 09:37:09   \n",
       "..                          ...                         ...   \n",
       "528  2022-11-21 18:05:52.289081         2022-11-21 08:45:01   \n",
       "529  2022-11-21 20:12:03.039219         2022-11-21 10:46:03   \n",
       "530  2022-11-21 20:17:05.890117         2022-11-21 10:52:05   \n",
       "531  2022-11-21 20:42:20.130436         2022-11-21 11:15:59   \n",
       "532  2022-11-22 01:14:53.431509         2022-11-21 16:13:17   \n",
       "\n",
       "    time_voyage_data_received         navigation_info  remained_distance  \\\n",
       "0         2022-11-16 04:19:07  under way using engine         184.436450   \n",
       "1         2022-11-16 04:19:07  under way using engine         186.658612   \n",
       "2         2022-11-16 04:19:07  under way using engine         220.108466   \n",
       "3         2022-11-16 04:19:07  under way using engine         225.577733   \n",
       "4         2022-11-16 04:19:07  under way using engine         230.117608   \n",
       "..                        ...                     ...                ...   \n",
       "528       2022-11-21 08:37:08  under way using engine          11.938104   \n",
       "529       2022-11-21 10:49:07                  moored          11.983151   \n",
       "530       2022-11-21 10:55:06                  moored          12.004568   \n",
       "531       2022-11-21 11:13:06                  moored          12.003097   \n",
       "532       2022-11-21 04:13:07                  moored          12.025264   \n",
       "\n",
       "     estimated_fuel_consumption  \n",
       "0                    306.205403  \n",
       "1                    312.035073  \n",
       "2                    367.952814  \n",
       "3                    374.509054  \n",
       "4                    387.353392  \n",
       "..                          ...  \n",
       "528                  105.884565  \n",
       "529                  956.161110  \n",
       "530                         NaN  \n",
       "531                         NaN  \n",
       "532                  479.762638  \n",
       "\n",
       "[533 rows x 16 columns]"
      ]
     },
     "execution_count": 118,
     "metadata": {},
     "output_type": "execute_result"
    }
   ],
   "source": [
    "df_test"
   ]
  },
  {
   "cell_type": "code",
   "execution_count": 124,
   "id": "aeed0b54",
   "metadata": {
    "ExecuteTime": {
     "end_time": "2023-01-06T07:34:51.804371Z",
     "start_time": "2023-01-06T07:34:51.771508Z"
    }
   },
   "outputs": [
    {
     "data": {
      "text/plain": [
       "520"
      ]
     },
     "execution_count": 124,
     "metadata": {},
     "output_type": "execute_result"
    }
   ],
   "source": [
    "for i in df_test.index:\n",
    "    LONGITUDE = df_test.loc[i, 'longitude']\n",
    "    LATITUDE = df_test.loc[i, 'latitude']\n",
    "    if Point(LONGITUDE, LATITUDE).within(poly):    \n",
    "        stop_index = i\n",
    "#         print(i)\n",
    "        break\n",
    "stop_index"
   ]
  },
  {
   "cell_type": "code",
   "execution_count": 92,
   "id": "c8fa331a",
   "metadata": {
    "ExecuteTime": {
     "end_time": "2023-01-06T07:06:00.987527Z",
     "start_time": "2023-01-06T07:06:00.908982Z"
    }
   },
   "outputs": [],
   "source": [
    "# 다음 segment 부터\n",
    "cnt = 0\n",
    "for i in range(seg_no, len(segmenting_index_list)):\n",
    "    cnt += 1\n",
    "    d = pd.read_csv(f\"실험/segment_test_new_{i}.csv\")\n",
    "    mean_speed = d[\"speed\"].mean()\n",
    "    damped_mean_speed = mean_speed * speed_damping_ratio\n",
    "    km_h = damped_mean_speed * 1.852\n",
    "    distance = reckon_point_lengths(d)\n",
    "    globals()['duration' + str(cnt)] = cal_duration(km_h, distance)"
   ]
  },
  {
   "cell_type": "code",
   "execution_count": 98,
   "id": "d7b179e8",
   "metadata": {
    "ExecuteTime": {
     "end_time": "2023-01-06T07:08:51.153496Z",
     "start_time": "2023-01-06T07:08:51.141789Z"
    }
   },
   "outputs": [],
   "source": [
    "dura_list = []\n",
    "for i in globals():\n",
    "    if \"duration\" in i and \"cal_duration\" not in i:\n",
    "        dura_list.append(globals()[i])\n"
   ]
  },
  {
   "cell_type": "code",
   "execution_count": 100,
   "id": "870d7ada",
   "metadata": {
    "ExecuteTime": {
     "end_time": "2023-01-06T07:08:58.701202Z",
     "start_time": "2023-01-06T07:08:58.695004Z"
    }
   },
   "outputs": [],
   "source": [
    "# ETA calculation\n",
    "accu_timedelta = datetime.timedelta(minutes=0)\n",
    "for i in dura_list:\n",
    "    accu_timedelta += i\n",
    "ETA = current_timestamp + accu_timedelta"
   ]
  },
  {
   "cell_type": "code",
   "execution_count": 101,
   "id": "6575cc96",
   "metadata": {
    "ExecuteTime": {
     "end_time": "2023-01-06T07:09:00.509541Z",
     "start_time": "2023-01-06T07:09:00.489923Z"
    }
   },
   "outputs": [
    {
     "data": {
      "text/plain": [
       "Timestamp('2022-11-14 18:56:26.635679')"
      ]
     },
     "execution_count": 101,
     "metadata": {},
     "output_type": "execute_result"
    }
   ],
   "source": [
    "ETA"
   ]
  },
  {
   "cell_type": "code",
   "execution_count": 105,
   "id": "7a8172c8",
   "metadata": {
    "ExecuteTime": {
     "end_time": "2023-01-06T07:21:44.052632Z",
     "start_time": "2023-01-06T07:21:44.036633Z"
    }
   },
   "outputs": [],
   "source": [
    "ATA = pd.to_datetime('2022-11-14 15:45:30.478230')"
   ]
  },
  {
   "cell_type": "code",
   "execution_count": 106,
   "id": "7a223386",
   "metadata": {
    "ExecuteTime": {
     "end_time": "2023-01-06T07:21:44.522250Z",
     "start_time": "2023-01-06T07:21:44.513268Z"
    }
   },
   "outputs": [
    {
     "data": {
      "text/plain": [
       "Timedelta('0 days 03:10:56.157449')"
      ]
     },
     "execution_count": 106,
     "metadata": {},
     "output_type": "execute_result"
    }
   ],
   "source": [
    "ETA - ATA"
   ]
  },
  {
   "cell_type": "markdown",
   "id": "d237511b",
   "metadata": {},
   "source": [
    "뒷 부분때문에 이렇게 되는것 같은데 좀 억울하네"
   ]
  },
  {
   "cell_type": "code",
   "execution_count": null,
   "id": "afed81c3",
   "metadata": {},
   "outputs": [],
   "source": []
  }
 ],
 "metadata": {
  "kernelspec": {
   "display_name": "안정된가상환경",
   "language": "python",
   "name": "oracle2"
  },
  "language_info": {
   "codemirror_mode": {
    "name": "ipython",
    "version": 3
   },
   "file_extension": ".py",
   "mimetype": "text/x-python",
   "name": "python",
   "nbconvert_exporter": "python",
   "pygments_lexer": "ipython3",
   "version": "3.7.11"
  },
  "toc": {
   "base_numbering": 1,
   "nav_menu": {},
   "number_sections": true,
   "sideBar": true,
   "skip_h1_title": false,
   "title_cell": "Table of Contents",
   "title_sidebar": "Contents",
   "toc_cell": false,
   "toc_position": {},
   "toc_section_display": true,
   "toc_window_display": false
  }
 },
 "nbformat": 4,
 "nbformat_minor": 5
}
