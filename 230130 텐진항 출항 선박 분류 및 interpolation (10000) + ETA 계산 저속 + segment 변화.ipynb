{
 "cells": [
  {
   "cell_type": "code",
   "execution_count": 1,
   "id": "bd4a6614",
   "metadata": {
    "ExecuteTime": {
     "end_time": "2023-01-30T11:36:38.341008Z",
     "start_time": "2023-01-30T11:36:36.978422Z"
    }
   },
   "outputs": [],
   "source": [
    "import pandas as pd\n",
    "import numpy as np\n",
    "import cx_Oracle\n",
    "import os\n",
    "import json\n",
    "import datetime\n",
    "import warnings\n",
    "import matplotlib.pyplot as plt\n",
    "warnings.filterwarnings(action=\"ignore\")\n",
    "from selenium import webdriver\n",
    "from selenium.webdriver.support.ui import Select\n",
    "from selenium.webdriver.common.by import By\n",
    "import bs4\n",
    "import requests\n",
    "import time\n",
    "import math\n",
    "import random\n",
    "from shapely.geometry import Point, Polygon\n",
    "import time as timesys\n",
    "from pyproj import Geod\n",
    "from haversine import haversine\n",
    "pd.set_option('display.max_columns', None)"
   ]
  },
  {
   "cell_type": "code",
   "execution_count": 2,
   "id": "005565da",
   "metadata": {
    "ExecuteTime": {
     "end_time": "2023-01-30T11:36:38.356034Z",
     "start_time": "2023-01-30T11:36:38.342516Z"
    }
   },
   "outputs": [],
   "source": [
    "interpolation_number = \"10000\""
   ]
  },
  {
   "cell_type": "markdown",
   "id": "4cc2734b",
   "metadata": {},
   "source": [
    "# 전항지 출항 확인"
   ]
  },
  {
   "cell_type": "markdown",
   "id": "f510f10e",
   "metadata": {},
   "source": [
    "전항지 출항 지점 확인"
   ]
  },
  {
   "cell_type": "code",
   "execution_count": 3,
   "id": "562f222b",
   "metadata": {
    "ExecuteTime": {
     "end_time": "2023-01-30T11:36:38.371055Z",
     "start_time": "2023-01-30T11:36:38.358033Z"
    }
   },
   "outputs": [],
   "source": [
    "import os\n",
    " \n",
    "path_dir = 'voy_path'\n",
    " \n",
    "file_list = os.listdir(path_dir)\n",
    "file_new_list = []\n",
    "for i in file_list:\n",
    "    if \"portmis\" in i:\n",
    "        file_new_list.append(i)"
   ]
  },
  {
   "cell_type": "code",
   "execution_count": 4,
   "id": "b9eaf4a4",
   "metadata": {
    "ExecuteTime": {
     "end_time": "2023-01-30T11:36:38.386080Z",
     "start_time": "2023-01-30T11:36:38.372055Z"
    }
   },
   "outputs": [],
   "source": [
    "# ATA 확인\n",
    "def check_ATA(df_test):\n",
    "    for i in df_test.index:\n",
    "        LONGITUDE = df_test.loc[i, 'longitude']\n",
    "        LATITUDE = df_test.loc[i, 'latitude']\n",
    "        if Point(LONGITUDE, LATITUDE).within(poly_busan):    \n",
    "            stop_index = i - 1\n",
    "            break\n",
    "            continue\n",
    "    return stop_index"
   ]
  },
  {
   "cell_type": "markdown",
   "id": "92735066",
   "metadata": {},
   "source": [
    "# 시각화 툴로 processed된 것들 확인"
   ]
  },
  {
   "cell_type": "markdown",
   "id": "bff8b5dc",
   "metadata": {},
   "source": [
    "항로 클러스터링"
   ]
  },
  {
   "cell_type": "code",
   "execution_count": 5,
   "id": "cfef7a28",
   "metadata": {
    "ExecuteTime": {
     "end_time": "2023-01-30T11:36:38.402063Z",
     "start_time": "2023-01-30T11:36:38.387079Z"
    }
   },
   "outputs": [],
   "source": [
    "# dense_upper_china_list = ['COSCO_FOS_VRKR6_23processed'\n",
    "# ,'AKA_BHUM_9V7282_7processed'\n",
    "# , 'COSCO_FOS_VRKR6_25processed'\n",
    "# , 'MSC_LA_SPEZIA_DIGX2_2processed'\n",
    "# , 'OOCL_NEW_YORK_VRJS2_2processed'\n",
    "# , 'MSC_WASHINGTON_5LDP4_4processed'\n",
    "# , 'MSC_SOFIA_PAZ_D5FL9_2processed'\n",
    "# , 'ZHU_CHENG_XIN_ZHOU_VRKR6_26processed'\n",
    "# , 'OOCL_HAMBURG_VRZK9_6processed'\n",
    "# , 'SEAMAX_STRATFORD_V7EP2_6processed'\n",
    "# , 'OOCL_LUXEMBOURG_VRGO3_5processed'\n",
    "# , 'ZHU_CHENG_XIN_ZHOU_VRKR6_25processed'\n",
    "# , 'MSC_LUCIANA_3FTY3_4processed'\n",
    "# , 'MSC_RENEE_VRPL2_5processed'\n",
    "# , 'COSCO_FOS_VRKR6_24processed'\n",
    "# , 'COSCO_FOS_VRKR6_20processed'\n",
    "# , 'COSCO_FOS_VRKR6_26processed'\n",
    "# , 'ZHU_CHENG_XIN_ZHOU_VRKR6_23processed'\n",
    "# , 'OOCL_HAMBURG_VRZK9_5processed']\n",
    "\n",
    "COSCO_FOS_voyages_list = [\n",
    "    'COSCO_FOS_VRKR6_2022_20processed', 'COSCO_FOS_VRKR6_2022_23processed',\n",
    "    'COSCO_FOS_VRKR6_2022_24processed', 'COSCO_FOS_VRKR6_2022_25processed',\n",
    "    'COSCO_FOS_VRKR6_2022_29processed', 'COSCO_FOS_VRKR6_2022_27processed',\n",
    "    'COSCO_FOS_VRKR6_2022_28processed', 'COSCO_FOS_VRKR6_2022_29processed',\n",
    "    'COSCO_FOS_VRKR6_2022_30processed'\n",
    "]\n",
    "\n",
    "AKA_BHUM_voyages_list = [\n",
    "    'AKA_BHUM_9V7282_2022_7processed', 'AKA_BHUM_9V7282_2022_8processed'\n",
    "]\n",
    "OOCL_NEW_YORK_voyages_list = [\n",
    "    'OOCL_NEW_YORK_VRJS2_2022_1processed',\n",
    "    'OOCL_NEW_YORK_VRJS2_2022_2processed',\n",
    "    'OOCL_NEW_YORK_VRJS2_2022_3processed'\n",
    "]\n",
    "\n",
    "OOCL_LUXEMBOURG_voyages_list = [\n",
    "    'OOCL_LUXEMBOURG_VRGO3_2022_5processed',\n",
    "    'OOCL_LUXEMBOURG_VRGO3_2022_6processed'\n",
    "]\n",
    "\n",
    "OOCL_GENOA_voyages_list = [\n",
    "    'OOCL_GENOA_VROK9_2022_3processed', 'OOCL_GENOA_VROK9_2022_5processed'\n",
    "]\n",
    "\n",
    "OOCL_HAMBURG_voyages_list = [\n",
    "    'OOCL_HAMBURG_VRZK9_2022_5processed', 'OOCL_HAMBURG_VRZK9_2022_6processed'\n",
    "]\n",
    "\n",
    "SEAMAX_STRATFORD_voyages_list = [\n",
    "    'SEAMAX_STRATFORD_V7EP2_2022_6processed',\n",
    "    'SEAMAX_STRATFORD_V7EP2_2022_7processed'\n",
    "]\n",
    "\n",
    "ZIM_CHARLESTORN_voyages_list = [\n",
    "    'ZIM_CHARLESTON_VRUC3_2022_6processed',\n",
    "    'ZIM_CHARLESTON_VRUC3_2022_7processed'\n",
    "]\n",
    "\n",
    "single_voyage_list = [\n",
    "    'MSC_ARIANE_3FDA3_2022_1processed', 'MSC_DANIT_3FZU8_2022_2processed',\n",
    "    'MSC_EVA_3EVM7_2022_1processed', 'MSC_EXPRESS_III_A8LG7_2022_1processed',\n",
    "    'MSC_KANOKO_D5TM3_2023_1processed', 'MSC_LA_SPEZIA_DIGX2_2022_2processed',\n",
    "    'MSC_VANESSA_HOWD_2023_1processed', 'MSC_VIRGO_CQEB9_2023_2processed',\n",
    "    'MSC_SOFIA_PAZ_D5FL9_2022_2processed',\n",
    "    'MSC_WASHINGTON_5LDP4_2022_4processed',\n",
    "    'MSC_RAVENNA_A8ZU8_2022_3processed', 'MSC_VANDYA_3FDW4_2022_2processed',\n",
    "    'MSC_RENEE_VRPL2_2022_5processed', 'SEASPAN_OCEANIA_VRBI2_2023_1processed',\n",
    "    'SEASPAN_BREEZE_VRNL8_2023_1processed', 'VALENCE_9HA3398_2023_1processed'\n",
    "]"
   ]
  },
  {
   "cell_type": "code",
   "execution_count": 6,
   "id": "223d3f32",
   "metadata": {
    "ExecuteTime": {
     "end_time": "2023-01-30T11:36:38.417010Z",
     "start_time": "2023-01-30T11:36:38.402993Z"
    }
   },
   "outputs": [],
   "source": [
    "upper_china_path_dir = 'voy_path/upper_china/processed/'"
   ]
  },
  {
   "cell_type": "markdown",
   "id": "086a02f4",
   "metadata": {},
   "source": [
    "# Tianjin to Busan PNIT"
   ]
  },
  {
   "cell_type": "markdown",
   "id": "76b6b99f",
   "metadata": {},
   "source": [
    "## COSCO_FOS"
   ]
  },
  {
   "cell_type": "code",
   "execution_count": 7,
   "id": "50cea66b",
   "metadata": {
    "ExecuteTime": {
     "end_time": "2023-01-30T11:36:38.431852Z",
     "start_time": "2023-01-30T11:36:38.418014Z"
    }
   },
   "outputs": [],
   "source": [
    "# coordinates_array = pd.DataFrame(data={\"latitude\" : [],\"longitude\" : []})\n",
    "\n",
    "# for i in COSCO_FOS_voyages_list:\n",
    "#     df = pd.read_csv(upper_china_path_dir + i + \".csv\")\n",
    "#     coordinates_array = coordinates_array.append(df[[\"latitude\",\"longitude\"]], ignore_index=True)"
   ]
  },
  {
   "cell_type": "code",
   "execution_count": 8,
   "id": "4da88527",
   "metadata": {
    "ExecuteTime": {
     "end_time": "2023-01-30T11:36:38.884271Z",
     "start_time": "2023-01-30T11:36:38.432793Z"
    }
   },
   "outputs": [],
   "source": [
    "import matplotlib.pyplot as plt\n",
    "import seaborn as sns"
   ]
  },
  {
   "cell_type": "code",
   "execution_count": 9,
   "id": "73887a8a",
   "metadata": {
    "ExecuteTime": {
     "end_time": "2023-01-30T11:36:38.899786Z",
     "start_time": "2023-01-30T11:36:38.886276Z"
    }
   },
   "outputs": [],
   "source": [
    "from shapely.geometry import LineString"
   ]
  },
  {
   "cell_type": "code",
   "execution_count": 10,
   "id": "70c24b01",
   "metadata": {
    "ExecuteTime": {
     "end_time": "2023-01-30T11:36:38.915282Z",
     "start_time": "2023-01-30T11:36:38.900786Z"
    }
   },
   "outputs": [],
   "source": [
    "from scipy import interpolate\n",
    "import pandas as pd"
   ]
  },
  {
   "cell_type": "markdown",
   "id": "f61e1977",
   "metadata": {},
   "source": [
    "## below 3 knot 제거"
   ]
  },
  {
   "cell_type": "markdown",
   "id": "087874ba",
   "metadata": {},
   "source": [
    "### interpolation 10000"
   ]
  },
  {
   "cell_type": "code",
   "execution_count": 11,
   "id": "6720bf9d",
   "metadata": {
    "ExecuteTime": {
     "end_time": "2023-01-30T11:36:38.930796Z",
     "start_time": "2023-01-30T11:36:38.916283Z"
    }
   },
   "outputs": [],
   "source": [
    "result_df_dict=  {\n",
    "    \"experiment_no\" : [],\n",
    "    \"mean_speed\" : [],\n",
    "    \"max_speed\" : []\n",
    "}"
   ]
  },
  {
   "cell_type": "code",
   "execution_count": 12,
   "id": "e814e9d8",
   "metadata": {
    "ExecuteTime": {
     "end_time": "2023-01-30T11:36:38.945805Z",
     "start_time": "2023-01-30T11:36:38.931796Z"
    }
   },
   "outputs": [],
   "source": [
    "# 가는 길인데 굳이 오래 돌아갈 필요는 없잖아 알고리즘\n",
    "def optimal_next_point(current_position, shortest_point_idx, shortest_distance,\n",
    "                       path_df):\n",
    "    posi_c = current_position\n",
    "    latitude_i = path_df.loc[shortest_point_idx, \"latitude\"]\n",
    "    longitude_i = path_df.loc[shortest_point_idx, \"longitude\"]\n",
    "    posi_i = (latitude_i, longitude_i)\n",
    "    min_d = shortest_distance\n",
    "    n = shortest_point_idx + 1\n",
    "    while True:\n",
    "        try:\n",
    "            latitude_n = path_df.loc[n, \"latitude\"]\n",
    "            longitude_n = path_df.loc[n, \"longitude\"]\n",
    "            posi_n = (latitude_n, longitude_n)\n",
    "            distance = haversine(posi_c, posi_n, unit=\"km\")\n",
    "            if n == shortest_point_idx + 1:\n",
    "                path_distance = haversine(posi_i, posi_n, unit=\"km\")\n",
    "                paths_distance = path_distance\n",
    "            else:\n",
    "                path_distance = haversine(posi_n, posi_previous_n, unit=\"km\")\n",
    "                paths_distance += path_distance\n",
    "\n",
    "            if distance < (paths_distance + min_d):\n",
    "                optimal_next_point_idx = n\n",
    "                return optimal_next_point_idx\n",
    "            elif n == path_df.index[-1]:\n",
    "                print(\"no better optimal_point\")\n",
    "                return shortest_point_idx + 1\n",
    "            else:\n",
    "                n = n + 1\n",
    "                posi_previous_n = posi_n\n",
    "        except:\n",
    "            print(\"no better optimal_point\")\n",
    "            return shortest_point_idx + 1"
   ]
  },
  {
   "cell_type": "code",
   "execution_count": 13,
   "id": "278bd39e",
   "metadata": {
    "ExecuteTime": {
     "end_time": "2023-01-30T11:36:38.960876Z",
     "start_time": "2023-01-30T11:36:38.947799Z"
    }
   },
   "outputs": [],
   "source": [
    "# 인덱스 번호를 가지고 항로의 segment 번호를 찾음\n",
    "# 만약 segment의 마지막 번호라면 seg_no를 하나 더한다.\n",
    "\n",
    "def find_segment_no(optimal_point_idx, path_df, the_number_of_segment):\n",
    "    seg_no = optimal_point_idx // (len(path_df) / the_number_of_segment)\n",
    "    next_no = (optimal_point_idx + 1) // (len(path_df) / the_number_of_segment)\n",
    "    if seg_no != next_no:\n",
    "        return int(next_no)\n",
    "    else:\n",
    "        return int(seg_no)"
   ]
  },
  {
   "cell_type": "code",
   "execution_count": 14,
   "id": "e8fd56cb",
   "metadata": {
    "ExecuteTime": {
     "end_time": "2023-01-30T11:36:38.976415Z",
     "start_time": "2023-01-30T11:36:38.961875Z"
    }
   },
   "outputs": [],
   "source": [
    "# df 내의 포인트 전체 길이 구하는 함수\n",
    "def reckon_point_lengths(df_test_2):\n",
    "    distance = 0\n",
    "    df_test_2.reset_index(inplace=True, drop=True)\n",
    "    for idx in df_test_2.index:\n",
    "        if idx != 0:\n",
    "            LONGITUDE = df_test_2.loc[idx, \"longitude\"]\n",
    "            LATITUDE = df_test_2.loc[idx, \"latitude\"]\n",
    "            current_coord = (LATITUDE, LONGITUDE)\n",
    "\n",
    "            LONGITUDE = df_test_2.loc[idx - 1, \"longitude\"]\n",
    "            LATITUDE = df_test_2.loc[idx - 1, \"latitude\"]\n",
    "            previous_current_coord = (LATITUDE, LONGITUDE)\n",
    "\n",
    "            distance += haversine(current_coord, previous_current_coord, unit=\"km\")\n",
    "    return distance"
   ]
  },
  {
   "cell_type": "code",
   "execution_count": 15,
   "id": "ef9ba7a1",
   "metadata": {
    "ExecuteTime": {
     "end_time": "2023-01-30T11:36:38.991939Z",
     "start_time": "2023-01-30T11:36:38.977418Z"
    }
   },
   "outputs": [],
   "source": [
    "def cal_duration(speed, distance):\n",
    "    hour = int(distance // km_h)\n",
    "    minute = int(\n",
    "        (distance / km_h - hour) * 60)\n",
    "    second = ((distance / km_h - hour) * 60 - minute) * 60\n",
    "    duration = datetime.timedelta(hours=hour,minutes=minute, seconds=second)\n",
    "    return duration"
   ]
  },
  {
   "cell_type": "markdown",
   "id": "6a0e6078",
   "metadata": {},
   "source": [
    "# ETA 실험 (interpolation 10000), COSCO FOS 29항차 저속"
   ]
  },
  {
   "cell_type": "code",
   "execution_count": 16,
   "id": "3fd21d32",
   "metadata": {
    "ExecuteTime": {
     "end_time": "2023-01-30T11:36:39.038287Z",
     "start_time": "2023-01-30T11:36:38.993037Z"
    }
   },
   "outputs": [
    {
     "data": {
      "text/html": [
       "<div>\n",
       "<style scoped>\n",
       "    .dataframe tbody tr th:only-of-type {\n",
       "        vertical-align: middle;\n",
       "    }\n",
       "\n",
       "    .dataframe tbody tr th {\n",
       "        vertical-align: top;\n",
       "    }\n",
       "\n",
       "    .dataframe thead th {\n",
       "        text-align: right;\n",
       "    }\n",
       "</style>\n",
       "<table border=\"1\" class=\"dataframe\">\n",
       "  <thead>\n",
       "    <tr style=\"text-align: right;\">\n",
       "      <th></th>\n",
       "      <th>timestamp</th>\n",
       "      <th>longitude</th>\n",
       "      <th>latitude</th>\n",
       "      <th>speed</th>\n",
       "    </tr>\n",
       "  </thead>\n",
       "  <tbody>\n",
       "    <tr>\n",
       "      <th>0</th>\n",
       "      <td>1.668974e+09</td>\n",
       "      <td>117.979120</td>\n",
       "      <td>38.933880</td>\n",
       "      <td>10.280000</td>\n",
       "    </tr>\n",
       "    <tr>\n",
       "      <th>1</th>\n",
       "      <td>1.668974e+09</td>\n",
       "      <td>117.981084</td>\n",
       "      <td>38.933637</td>\n",
       "      <td>10.388327</td>\n",
       "    </tr>\n",
       "    <tr>\n",
       "      <th>2</th>\n",
       "      <td>1.668974e+09</td>\n",
       "      <td>117.983048</td>\n",
       "      <td>38.933394</td>\n",
       "      <td>10.496653</td>\n",
       "    </tr>\n",
       "    <tr>\n",
       "      <th>3</th>\n",
       "      <td>1.668974e+09</td>\n",
       "      <td>117.985012</td>\n",
       "      <td>38.933151</td>\n",
       "      <td>10.604980</td>\n",
       "    </tr>\n",
       "    <tr>\n",
       "      <th>4</th>\n",
       "      <td>1.668974e+09</td>\n",
       "      <td>117.986977</td>\n",
       "      <td>38.932908</td>\n",
       "      <td>10.713307</td>\n",
       "    </tr>\n",
       "    <tr>\n",
       "      <th>...</th>\n",
       "      <td>...</td>\n",
       "      <td>...</td>\n",
       "      <td>...</td>\n",
       "      <td>...</td>\n",
       "    </tr>\n",
       "    <tr>\n",
       "      <th>9995</th>\n",
       "      <td>1.669262e+09</td>\n",
       "      <td>128.856269</td>\n",
       "      <td>34.909660</td>\n",
       "      <td>8.835972</td>\n",
       "    </tr>\n",
       "    <tr>\n",
       "      <th>9996</th>\n",
       "      <td>1.669262e+09</td>\n",
       "      <td>128.855447</td>\n",
       "      <td>34.910475</td>\n",
       "      <td>8.826979</td>\n",
       "    </tr>\n",
       "    <tr>\n",
       "      <th>9997</th>\n",
       "      <td>1.669262e+09</td>\n",
       "      <td>128.854625</td>\n",
       "      <td>34.911290</td>\n",
       "      <td>8.817986</td>\n",
       "    </tr>\n",
       "    <tr>\n",
       "      <th>9998</th>\n",
       "      <td>1.669262e+09</td>\n",
       "      <td>128.853802</td>\n",
       "      <td>34.912105</td>\n",
       "      <td>8.808993</td>\n",
       "    </tr>\n",
       "    <tr>\n",
       "      <th>9999</th>\n",
       "      <td>1.669262e+09</td>\n",
       "      <td>128.852980</td>\n",
       "      <td>34.912920</td>\n",
       "      <td>8.800000</td>\n",
       "    </tr>\n",
       "  </tbody>\n",
       "</table>\n",
       "<p>10000 rows × 4 columns</p>\n",
       "</div>"
      ],
      "text/plain": [
       "         timestamp   longitude   latitude      speed\n",
       "0     1.668974e+09  117.979120  38.933880  10.280000\n",
       "1     1.668974e+09  117.981084  38.933637  10.388327\n",
       "2     1.668974e+09  117.983048  38.933394  10.496653\n",
       "3     1.668974e+09  117.985012  38.933151  10.604980\n",
       "4     1.668974e+09  117.986977  38.932908  10.713307\n",
       "...            ...         ...        ...        ...\n",
       "9995  1.669262e+09  128.856269  34.909660   8.835972\n",
       "9996  1.669262e+09  128.855447  34.910475   8.826979\n",
       "9997  1.669262e+09  128.854625  34.911290   8.817986\n",
       "9998  1.669262e+09  128.853802  34.912105   8.808993\n",
       "9999  1.669262e+09  128.852980  34.912920   8.800000\n",
       "\n",
       "[10000 rows x 4 columns]"
      ]
     },
     "execution_count": 16,
     "metadata": {},
     "output_type": "execute_result"
    }
   ],
   "source": [
    "low_speed_interpolated_df = pd.read_csv(f\"실험/upper_china_cosco_fos_low_speed_below_3_knot_{interpolation_number}_concaternated_df.csv\")\n",
    "low_speed_interpolated_df"
   ]
  },
  {
   "cell_type": "code",
   "execution_count": 17,
   "id": "f128203a",
   "metadata": {
    "ExecuteTime": {
     "end_time": "2023-01-30T11:36:39.069827Z",
     "start_time": "2023-01-30T11:36:39.040282Z"
    }
   },
   "outputs": [],
   "source": [
    "test_df_26 = pd.read_csv(\"voy_path/upper_china/processed/COSCO_FOS_VRKR6_2022_29processed.csv\")\n",
    "test_df_26['timestamp'] = pd.to_datetime(test_df_26['timestamp'])\n",
    "test_df_26['time_position_data_received'] = pd.to_datetime(test_df_26['time_position_data_received'])\n",
    "test_df_26['time_voyage_data_received'] = pd.to_datetime(test_df_26['time_voyage_data_received'])\n",
    "test_df_26.drop('index', axis=1, inplace=True)\n",
    "test_df_26 = test_df_26.loc[test_df_26[['longitude','latitude','time_position_data_received']].drop_duplicates().index]\n",
    "test_df_26.reset_index(inplace=True, drop=True)"
   ]
  },
  {
   "cell_type": "markdown",
   "id": "6376df13",
   "metadata": {
    "code_folding": []
   },
   "source": [
    "## segment 100"
   ]
  },
  {
   "cell_type": "code",
   "execution_count": 18,
   "id": "b6341b0c",
   "metadata": {
    "ExecuteTime": {
     "end_time": "2023-01-30T11:36:39.084822Z",
     "start_time": "2023-01-30T11:36:39.070825Z"
    }
   },
   "outputs": [],
   "source": [
    "the_number_of_segment = 100"
   ]
  },
  {
   "cell_type": "code",
   "execution_count": 19,
   "id": "d08789d2",
   "metadata": {
    "ExecuteTime": {
     "end_time": "2023-01-30T11:36:39.100022Z",
     "start_time": "2023-01-30T11:36:39.085822Z"
    }
   },
   "outputs": [],
   "source": [
    "seg_length = int(len(low_speed_interpolated_df) / the_number_of_segment)"
   ]
  },
  {
   "cell_type": "code",
   "execution_count": 20,
   "id": "6d67eb8a",
   "metadata": {
    "ExecuteTime": {
     "end_time": "2023-01-30T11:36:39.146216Z",
     "start_time": "2023-01-30T11:36:39.101022Z"
    }
   },
   "outputs": [],
   "source": [
    "low_speed_df_list = []\n",
    "for i in range(the_number_of_segment):\n",
    "    idx = seg_length * (i + 1)\n",
    "    if i == 0:\n",
    "        df = low_speed_interpolated_df.loc[0:idx - 1]\n",
    "        df.reset_index(inplace=True)\n",
    "    else:\n",
    "        df = low_speed_interpolated_df.loc[idx - seg_length:idx - 1]\n",
    "        df.reset_index(inplace=True)\n",
    "    low_speed_df_list.append(df)"
   ]
  },
  {
   "cell_type": "code",
   "execution_count": 21,
   "id": "06f6251c",
   "metadata": {
    "ExecuteTime": {
     "end_time": "2023-01-30T11:36:39.162296Z",
     "start_time": "2023-01-30T11:36:39.147220Z"
    }
   },
   "outputs": [],
   "source": [
    "for df in low_speed_df_list:\n",
    "    d = df[\"speed\"].mean()\n",
    "#     print(d)"
   ]
  },
  {
   "cell_type": "markdown",
   "id": "cc983214",
   "metadata": {},
   "source": [
    "### 저속 (7knot 미만 제거)"
   ]
  },
  {
   "cell_type": "markdown",
   "id": "cacc9211",
   "metadata": {},
   "source": [
    "#### 3. 순간 속력 이용 + 알고리즘 x  +  감속 계수 x"
   ]
  },
  {
   "cell_type": "code",
   "execution_count": 22,
   "id": "98249d21",
   "metadata": {
    "ExecuteTime": {
     "end_time": "2023-01-30T11:36:39.177782Z",
     "start_time": "2023-01-30T11:36:39.163242Z"
    }
   },
   "outputs": [],
   "source": [
    "test_df_26 = pd.read_csv(\"voy_path/upper_china/processed/COSCO_FOS_VRKR6_2022_29processed.csv\")\n",
    "test_df_26['timestamp'] = pd.to_datetime(test_df_26['timestamp'])\n",
    "test_df_26['time_position_data_received'] = pd.to_datetime(test_df_26['time_position_data_received'])\n",
    "test_df_26['time_voyage_data_received'] = pd.to_datetime(test_df_26['time_voyage_data_received'])\n",
    "test_df_26.drop('index', axis=1, inplace=True)\n",
    "test_df_26 = test_df_26.loc[test_df_26[['longitude','latitude','time_position_data_received']].drop_duplicates().index]\n",
    "test_df_26.reset_index(inplace=True, drop=True)"
   ]
  },
  {
   "cell_type": "code",
   "execution_count": 23,
   "id": "333ad254",
   "metadata": {
    "ExecuteTime": {
     "end_time": "2023-01-30T11:36:41.135924Z",
     "start_time": "2023-01-30T11:36:39.178781Z"
    }
   },
   "outputs": [
    {
     "ename": "KeyboardInterrupt",
     "evalue": "",
     "output_type": "error",
     "traceback": [
      "\u001b[1;31m---------------------------------------------------------------------------\u001b[0m",
      "\u001b[1;31mKeyboardInterrupt\u001b[0m                         Traceback (most recent call last)",
      "\u001b[1;32m~\\AppData\\Local\\Temp\\ipykernel_26876\\3561154031.py\u001b[0m in \u001b[0;36m<module>\u001b[1;34m\u001b[0m\n\u001b[0;32m     17\u001b[0m     \u001b[1;32mfor\u001b[0m \u001b[0mseg_no\u001b[0m\u001b[1;33m,\u001b[0m \u001b[0mseg_df\u001b[0m \u001b[1;32min\u001b[0m \u001b[0menumerate\u001b[0m\u001b[1;33m(\u001b[0m\u001b[0mlow_speed_df_list\u001b[0m\u001b[1;33m)\u001b[0m\u001b[1;33m:\u001b[0m\u001b[1;33m\u001b[0m\u001b[1;33m\u001b[0m\u001b[0m\n\u001b[0;32m     18\u001b[0m         \u001b[1;32mfor\u001b[0m \u001b[0midx\u001b[0m \u001b[1;32min\u001b[0m \u001b[0mseg_df\u001b[0m\u001b[1;33m.\u001b[0m\u001b[0mindex\u001b[0m\u001b[1;33m:\u001b[0m\u001b[1;33m\u001b[0m\u001b[1;33m\u001b[0m\u001b[0m\n\u001b[1;32m---> 19\u001b[1;33m             \u001b[0mLONGITUDE\u001b[0m \u001b[1;33m=\u001b[0m \u001b[0mseg_df\u001b[0m\u001b[1;33m.\u001b[0m\u001b[0mloc\u001b[0m\u001b[1;33m[\u001b[0m\u001b[0midx\u001b[0m\u001b[1;33m,\u001b[0m \u001b[1;34m\"longitude\"\u001b[0m\u001b[1;33m]\u001b[0m\u001b[1;33m\u001b[0m\u001b[1;33m\u001b[0m\u001b[0m\n\u001b[0m\u001b[0;32m     20\u001b[0m             \u001b[0mLATITUDE\u001b[0m \u001b[1;33m=\u001b[0m \u001b[0mseg_df\u001b[0m\u001b[1;33m.\u001b[0m\u001b[0mloc\u001b[0m\u001b[1;33m[\u001b[0m\u001b[0midx\u001b[0m\u001b[1;33m,\u001b[0m \u001b[1;34m\"latitude\"\u001b[0m\u001b[1;33m]\u001b[0m\u001b[1;33m\u001b[0m\u001b[1;33m\u001b[0m\u001b[0m\n\u001b[0;32m     21\u001b[0m \u001b[1;33m\u001b[0m\u001b[0m\n",
      "\u001b[1;32m~\\anaconda3\\envs\\oracle2\\lib\\site-packages\\pandas\\core\\indexing.py\u001b[0m in \u001b[0;36m__getitem__\u001b[1;34m(self, key)\u001b[0m\n\u001b[0;32m    920\u001b[0m             \u001b[0mkey\u001b[0m \u001b[1;33m=\u001b[0m \u001b[0mtuple\u001b[0m\u001b[1;33m(\u001b[0m\u001b[0mlist\u001b[0m\u001b[1;33m(\u001b[0m\u001b[0mx\u001b[0m\u001b[1;33m)\u001b[0m \u001b[1;32mif\u001b[0m \u001b[0mis_iterator\u001b[0m\u001b[1;33m(\u001b[0m\u001b[0mx\u001b[0m\u001b[1;33m)\u001b[0m \u001b[1;32melse\u001b[0m \u001b[0mx\u001b[0m \u001b[1;32mfor\u001b[0m \u001b[0mx\u001b[0m \u001b[1;32min\u001b[0m \u001b[0mkey\u001b[0m\u001b[1;33m)\u001b[0m\u001b[1;33m\u001b[0m\u001b[1;33m\u001b[0m\u001b[0m\n\u001b[0;32m    921\u001b[0m             \u001b[0mkey\u001b[0m \u001b[1;33m=\u001b[0m \u001b[0mtuple\u001b[0m\u001b[1;33m(\u001b[0m\u001b[0mcom\u001b[0m\u001b[1;33m.\u001b[0m\u001b[0mapply_if_callable\u001b[0m\u001b[1;33m(\u001b[0m\u001b[0mx\u001b[0m\u001b[1;33m,\u001b[0m \u001b[0mself\u001b[0m\u001b[1;33m.\u001b[0m\u001b[0mobj\u001b[0m\u001b[1;33m)\u001b[0m \u001b[1;32mfor\u001b[0m \u001b[0mx\u001b[0m \u001b[1;32min\u001b[0m \u001b[0mkey\u001b[0m\u001b[1;33m)\u001b[0m\u001b[1;33m\u001b[0m\u001b[1;33m\u001b[0m\u001b[0m\n\u001b[1;32m--> 922\u001b[1;33m             \u001b[1;32mif\u001b[0m \u001b[0mself\u001b[0m\u001b[1;33m.\u001b[0m\u001b[0m_is_scalar_access\u001b[0m\u001b[1;33m(\u001b[0m\u001b[0mkey\u001b[0m\u001b[1;33m)\u001b[0m\u001b[1;33m:\u001b[0m\u001b[1;33m\u001b[0m\u001b[1;33m\u001b[0m\u001b[0m\n\u001b[0m\u001b[0;32m    923\u001b[0m                 \u001b[1;32mwith\u001b[0m \u001b[0msuppress\u001b[0m\u001b[1;33m(\u001b[0m\u001b[0mKeyError\u001b[0m\u001b[1;33m,\u001b[0m \u001b[0mIndexError\u001b[0m\u001b[1;33m)\u001b[0m\u001b[1;33m:\u001b[0m\u001b[1;33m\u001b[0m\u001b[1;33m\u001b[0m\u001b[0m\n\u001b[0;32m    924\u001b[0m                     \u001b[1;32mreturn\u001b[0m \u001b[0mself\u001b[0m\u001b[1;33m.\u001b[0m\u001b[0mobj\u001b[0m\u001b[1;33m.\u001b[0m\u001b[0m_get_value\u001b[0m\u001b[1;33m(\u001b[0m\u001b[1;33m*\u001b[0m\u001b[0mkey\u001b[0m\u001b[1;33m,\u001b[0m \u001b[0mtakeable\u001b[0m\u001b[1;33m=\u001b[0m\u001b[0mself\u001b[0m\u001b[1;33m.\u001b[0m\u001b[0m_takeable\u001b[0m\u001b[1;33m)\u001b[0m\u001b[1;33m\u001b[0m\u001b[1;33m\u001b[0m\u001b[0m\n",
      "\u001b[1;32m~\\anaconda3\\envs\\oracle2\\lib\\site-packages\\pandas\\core\\indexing.py\u001b[0m in \u001b[0;36m_is_scalar_access\u001b[1;34m(self, key)\u001b[0m\n\u001b[0;32m    995\u001b[0m             \u001b[1;32mreturn\u001b[0m \u001b[1;32mFalse\u001b[0m\u001b[1;33m\u001b[0m\u001b[1;33m\u001b[0m\u001b[0m\n\u001b[0;32m    996\u001b[0m \u001b[1;33m\u001b[0m\u001b[0m\n\u001b[1;32m--> 997\u001b[1;33m         \u001b[1;32mfor\u001b[0m \u001b[0mi\u001b[0m\u001b[1;33m,\u001b[0m \u001b[0mk\u001b[0m \u001b[1;32min\u001b[0m \u001b[0menumerate\u001b[0m\u001b[1;33m(\u001b[0m\u001b[0mkey\u001b[0m\u001b[1;33m)\u001b[0m\u001b[1;33m:\u001b[0m\u001b[1;33m\u001b[0m\u001b[1;33m\u001b[0m\u001b[0m\n\u001b[0m\u001b[0;32m    998\u001b[0m             \u001b[1;32mif\u001b[0m \u001b[1;32mnot\u001b[0m \u001b[0mis_scalar\u001b[0m\u001b[1;33m(\u001b[0m\u001b[0mk\u001b[0m\u001b[1;33m)\u001b[0m\u001b[1;33m:\u001b[0m\u001b[1;33m\u001b[0m\u001b[1;33m\u001b[0m\u001b[0m\n\u001b[0;32m    999\u001b[0m                 \u001b[1;32mreturn\u001b[0m \u001b[1;32mFalse\u001b[0m\u001b[1;33m\u001b[0m\u001b[1;33m\u001b[0m\u001b[0m\n",
      "\u001b[1;31mKeyboardInterrupt\u001b[0m: "
     ]
    }
   ],
   "source": [
    "for col in test_df_26.index:\n",
    "    if col == test_df_26.index[-8]:\n",
    "        break\n",
    "    # 테스트 데이터\n",
    "    re_sample = test_df_26.loc[col,:]\n",
    "    longitude = re_sample[\"longitude\"]\n",
    "    latitude = re_sample[\"latitude\"]\n",
    "    current_point = (latitude, longitude)\n",
    "    \n",
    "    # 1. 순간 속력 (AIS) \n",
    "    current_speed = re_sample[\"speed\"]\n",
    "    current_position_timestamp = re_sample[\"time_position_data_received\"]\n",
    "    if current_speed < 7:\n",
    "        continue\n",
    "    # 현재 위치에서 가장 짧은 segment 찾기\n",
    "    shortest_distance = 9999\n",
    "    for seg_no, seg_df in enumerate(low_speed_df_list):\n",
    "        for idx in seg_df.index:\n",
    "            LONGITUDE = seg_df.loc[idx, \"longitude\"]\n",
    "            LATITUDE = seg_df.loc[idx, \"latitude\"]\n",
    "\n",
    "            ais_point = (LATITUDE, LONGITUDE)\n",
    "            distance = haversine(current_point, ais_point, unit=\"km\")\n",
    "            # 가장 짧은 segment 간의 거리, segment 번호, 인덱스 저장\n",
    "            if distance <= shortest_distance:\n",
    "                shortest_distance = distance \n",
    "                shortest_point_idx = seg_df.loc[idx, \"index\"]\n",
    "                shortest_seg_no = seg_no\n",
    "                \n",
    "    # 다음 인덱스\n",
    "#     optimal_point_idx = optimal_next_point(current_point, shortest_point_idx, shortest_distance, low_speed_interpolated_df)\n",
    "    optimal_point_idx = low_speed_interpolated_df.query(f'index == {shortest_point_idx}').index[0] + 1\n",
    "    lon_optimal = low_speed_interpolated_df.loc[optimal_point_idx, \"longitude\"]\n",
    "    lat_optimal = low_speed_interpolated_df.loc[optimal_point_idx, \"latitude\"]\n",
    "    \n",
    "    optimal_point = (lat_optimal, lon_optimal)\n",
    "    optimal_distance = haversine(current_point, optimal_point, unit=\"km\")\n",
    "    km_h = current_speed * 1.852\n",
    "    init_duration = cal_duration(km_h, optimal_distance)\n",
    "    \n",
    "    \n",
    "    # 가장 가까운 segment 찾기\n",
    "    \n",
    "    optimal_seg_no = find_segment_no(optimal_point_idx, low_speed_interpolated_df,the_number_of_segment)\n",
    "    if optimal_seg_no == the_number_of_segment:\n",
    "        continue\n",
    "    initial_seg_df = low_speed_df_list[optimal_seg_no]\n",
    "    # speed_damping_ratio는 각 segment에 맞게\n",
    "#     speed_damping_ratio = current_speed / initial_seg_df[\"speed\"].mean()\n",
    "    speed_damping_ratio = 1\n",
    "    km_h = current_speed * 1.852 * speed_damping_ratio\n",
    "    \n",
    "    \n",
    "    remaining_initial_seg_df = initial_seg_df.loc[optimal_point_idx:,:]\n",
    "    remaining_initial_seg_df.reset_index(inplace=True, drop=True)\n",
    "    accu_distance = 0\n",
    "    for idx in remaining_initial_seg_df.index:\n",
    "        if idx != 0:\n",
    "            LONGITUDE = remaining_initial_seg_df.loc[idx, \"longitude\"]\n",
    "            LATITUDE = remaining_initial_seg_df.loc[idx, \"latitude\"]\n",
    "            current_coord = (LATITUDE, LONGITUDE)\n",
    "\n",
    "            LONGITUDE = remaining_initial_seg_df.loc[idx - 1, \"longitude\"]\n",
    "            LATITUDE = remaining_initial_seg_df.loc[idx - 1, \"latitude\"]\n",
    "            previous_current_coord = (LATITUDE, LONGITUDE)\n",
    "            \n",
    "            accu_distance += haversine(current_coord, previous_current_coord, unit=\"km\")\n",
    "            \n",
    "    duration_0 = cal_duration(km_h, accu_distance)\n",
    "    duration_0 = duration_0 + init_duration\n",
    "    \n",
    "    \n",
    "        \n",
    "    dura_list = []  \n",
    "    for next_seg_no in range(optimal_seg_no + 1, the_number_of_segment):\n",
    "        next_seg_df = low_speed_df_list[next_seg_no]\n",
    "        \n",
    "        seg_mean_speed = next_seg_df['speed'].mean()\n",
    "#         speed_damping_ratio = current_speed / seg_mean_speed\n",
    "        speed_damping_ratio = 1\n",
    "        damped_mean_speed = seg_mean_speed * speed_damping_ratio\n",
    "        km_h = damped_mean_speed * 1.852\n",
    "        distance = reckon_point_lengths(next_seg_df)\n",
    "        dura_list.append(cal_duration(km_h, distance))\n",
    "    \n",
    "    accu_timedelta = datetime.timedelta(seconds=0)\n",
    "    for i in dura_list:\n",
    "        accu_timedelta += i\n",
    "    # 현재 시간 + duration = ETA\n",
    "    ETA = current_position_timestamp + accu_timedelta\n",
    "    test_df_26.loc[col,'ETA'] = ETA\n",
    "    optimal_seg_no = 0\n",
    "\n",
    "test_df_26['ATA'] = test_df_26.loc[test_df_26.index[-1],\"time_position_data_received\"]\n",
    "test_df_26['error'] = abs(test_df_26['ATA'] - test_df_26['ETA'])\n",
    "\n",
    "experiment_no = f\"4.1.1.1_{the_number_of_segment}\".replace(\".\",\"_\")\n",
    "result_df_dict['experiment_no'].append(experiment_no)\n",
    "result_df_dict['mean_speed'].append(test_df_26.loc[test_df_26.index[:-20]][\"error\"].mean())\n",
    "result_df_dict['max_speed'].append(test_df_26.loc[test_df_26.index[:-20]][\"error\"].max())\n",
    "\n",
    "globals()[f\"exp_result_df_{experiment_no}\"] = test_df_26"
   ]
  },
  {
   "cell_type": "code",
   "execution_count": null,
   "id": "596ee4db",
   "metadata": {
    "ExecuteTime": {
     "end_time": "2023-01-30T11:36:41.140924Z",
     "start_time": "2023-01-30T11:36:41.140924Z"
    }
   },
   "outputs": [],
   "source": [
    "print(\"최대:\", test_df_26.loc[test_df_26.index[:-20]][\"error\"].max())\n",
    "print(\"평균:\", test_df_26.loc[test_df_26.index[:-20]][\"error\"].mean())"
   ]
  },
  {
   "cell_type": "code",
   "execution_count": null,
   "id": "ffcdb1e2",
   "metadata": {
    "ExecuteTime": {
     "end_time": "2023-01-30T11:36:41.141928Z",
     "start_time": "2023-01-30T11:36:41.141928Z"
    }
   },
   "outputs": [],
   "source": [
    "test_df_26.loc[test_df_26['error'].dropna(axis=0).index].sort_values(by=\"error\")"
   ]
  },
  {
   "cell_type": "code",
   "execution_count": null,
   "id": "9e761f7f",
   "metadata": {},
   "outputs": [],
   "source": []
  },
  {
   "cell_type": "markdown",
   "id": "e27c82fb",
   "metadata": {},
   "source": [
    "### 저속 (7knot 미만 포함)"
   ]
  },
  {
   "cell_type": "markdown",
   "id": "626632bb",
   "metadata": {},
   "source": [
    "#### 3. 순간 속력 이용 + 알고리즘 x  +  감속 계수 x"
   ]
  },
  {
   "cell_type": "code",
   "execution_count": null,
   "id": "7731a724",
   "metadata": {
    "ExecuteTime": {
     "end_time": "2023-01-30T11:36:41.143377Z",
     "start_time": "2023-01-30T11:36:41.143377Z"
    }
   },
   "outputs": [],
   "source": [
    "test_df_26 = pd.read_csv(\"voy_path/upper_china/processed/COSCO_FOS_VRKR6_2022_29processed.csv\")\n",
    "test_df_26['timestamp'] = pd.to_datetime(test_df_26['timestamp'])\n",
    "test_df_26['time_position_data_received'] = pd.to_datetime(test_df_26['time_position_data_received'])\n",
    "test_df_26['time_voyage_data_received'] = pd.to_datetime(test_df_26['time_voyage_data_received'])\n",
    "test_df_26.drop('index', axis=1, inplace=True)\n",
    "test_df_26 = test_df_26.loc[test_df_26[['longitude','latitude','time_position_data_received']].drop_duplicates().index]\n",
    "test_df_26.reset_index(inplace=True, drop=True)"
   ]
  },
  {
   "cell_type": "code",
   "execution_count": null,
   "id": "03f25c1e",
   "metadata": {
    "ExecuteTime": {
     "end_time": "2023-01-30T11:36:41.144377Z",
     "start_time": "2023-01-30T11:36:41.144377Z"
    }
   },
   "outputs": [],
   "source": [
    "for col in test_df_26.index:\n",
    "    if col == test_df_26.index[-8]:\n",
    "        break\n",
    "    # 테스트 데이터\n",
    "    re_sample = test_df_26.loc[col,:]\n",
    "    longitude = re_sample[\"longitude\"]\n",
    "    latitude = re_sample[\"latitude\"]\n",
    "    current_point = (latitude, longitude)\n",
    "    \n",
    "    # 1. 순간 속력 (AIS) \n",
    "    current_speed = re_sample[\"speed\"]\n",
    "    current_position_timestamp = re_sample[\"time_position_data_received\"]\n",
    "#     if current_speed < 7:\n",
    "#         continue\n",
    "    # 현재 위치에서 가장 짧은 segment 찾기\n",
    "    shortest_distance = 9999\n",
    "    for seg_no, seg_df in enumerate(low_speed_df_list):\n",
    "        for idx in seg_df.index:\n",
    "            LONGITUDE = seg_df.loc[idx, \"longitude\"]\n",
    "            LATITUDE = seg_df.loc[idx, \"latitude\"]\n",
    "\n",
    "            ais_point = (LATITUDE, LONGITUDE)\n",
    "            distance = haversine(current_point, ais_point, unit=\"km\")\n",
    "            # 가장 짧은 segment 간의 거리, segment 번호, 인덱스 저장\n",
    "            if distance <= shortest_distance:\n",
    "                shortest_distance = distance \n",
    "                shortest_point_idx = seg_df.loc[idx, \"index\"]\n",
    "                shortest_seg_no = seg_no\n",
    "                \n",
    "    # 다음 인덱스\n",
    "#     optimal_point_idx = optimal_next_point(current_point, shortest_point_idx, shortest_distance, low_speed_interpolated_df)\n",
    "    optimal_point_idx = low_speed_interpolated_df.query(f'index == {shortest_point_idx}').index[0] + 1\n",
    "    lon_optimal = low_speed_interpolated_df.loc[optimal_point_idx, \"longitude\"]\n",
    "    lat_optimal = low_speed_interpolated_df.loc[optimal_point_idx, \"latitude\"]\n",
    "    \n",
    "    optimal_point = (lat_optimal, lon_optimal)\n",
    "    optimal_distance = haversine(current_point, optimal_point, unit=\"km\")\n",
    "    km_h = current_speed * 1.852\n",
    "    init_duration = cal_duration(km_h, optimal_distance)\n",
    "    \n",
    "    \n",
    "    # 가장 가까운 segment 찾기\n",
    "    \n",
    "    optimal_seg_no = find_segment_no(optimal_point_idx, low_speed_interpolated_df,the_number_of_segment)\n",
    "    if optimal_seg_no == the_number_of_segment:\n",
    "        continue\n",
    "    initial_seg_df = low_speed_df_list[optimal_seg_no]\n",
    "    # speed_damping_ratio는 각 segment에 맞게\n",
    "#     speed_damping_ratio = current_speed / initial_seg_df[\"speed\"].mean()\n",
    "    speed_damping_ratio = 1\n",
    "    km_h = current_speed * 1.852 * speed_damping_ratio\n",
    "    \n",
    "    \n",
    "    remaining_initial_seg_df = initial_seg_df.loc[optimal_point_idx:,:]\n",
    "    remaining_initial_seg_df.reset_index(inplace=True, drop=True)\n",
    "    accu_distance = 0\n",
    "    for idx in remaining_initial_seg_df.index:\n",
    "        if idx != 0:\n",
    "            LONGITUDE = remaining_initial_seg_df.loc[idx, \"longitude\"]\n",
    "            LATITUDE = remaining_initial_seg_df.loc[idx, \"latitude\"]\n",
    "            current_coord = (LATITUDE, LONGITUDE)\n",
    "\n",
    "            LONGITUDE = remaining_initial_seg_df.loc[idx - 1, \"longitude\"]\n",
    "            LATITUDE = remaining_initial_seg_df.loc[idx - 1, \"latitude\"]\n",
    "            previous_current_coord = (LATITUDE, LONGITUDE)\n",
    "            \n",
    "            accu_distance += haversine(current_coord, previous_current_coord, unit=\"km\")\n",
    "            \n",
    "    duration_0 = cal_duration(km_h, accu_distance)\n",
    "    duration_0 = duration_0 + init_duration\n",
    "    \n",
    "    \n",
    "        \n",
    "    dura_list = []  \n",
    "    for next_seg_no in range(optimal_seg_no + 1, the_number_of_segment):\n",
    "        next_seg_df = low_speed_df_list[next_seg_no]\n",
    "        \n",
    "        seg_mean_speed = next_seg_df['speed'].mean()\n",
    "#         speed_damping_ratio = current_speed / seg_mean_speed\n",
    "        speed_damping_ratio = 1\n",
    "        damped_mean_speed = seg_mean_speed * speed_damping_ratio\n",
    "        km_h = damped_mean_speed * 1.852\n",
    "        distance = reckon_point_lengths(next_seg_df)\n",
    "        dura_list.append(cal_duration(km_h, distance))\n",
    "    \n",
    "    accu_timedelta = datetime.timedelta(seconds=0)\n",
    "    for i in dura_list:\n",
    "        accu_timedelta += i\n",
    "    # 현재 시간 + duration = ETA\n",
    "    ETA = current_position_timestamp + accu_timedelta\n",
    "    test_df_26.loc[col,'ETA'] = ETA\n",
    "    optimal_seg_no = 0\n",
    "\n",
    "test_df_26['ATA'] = test_df_26.loc[test_df_26.index[-1],\"time_position_data_received\"]\n",
    "test_df_26['error'] = abs(test_df_26['ATA'] - test_df_26['ETA'])\n",
    "\n",
    "experiment_no = f\"4.1.2.1_{the_number_of_segment}\".replace(\".\",\"_\")\n",
    "result_df_dict['experiment_no'].append(experiment_no)\n",
    "result_df_dict['mean_speed'].append(test_df_26.loc[test_df_26.index[:-20]][\"error\"].mean())\n",
    "result_df_dict['max_speed'].append(test_df_26.loc[test_df_26.index[:-20]][\"error\"].max())\n",
    "\n",
    "globals()[f\"exp_result_df_{experiment_no}\"] = test_df_26"
   ]
  },
  {
   "cell_type": "code",
   "execution_count": null,
   "id": "1c06b9d7",
   "metadata": {
    "ExecuteTime": {
     "end_time": "2023-01-30T11:36:41.145376Z",
     "start_time": "2023-01-30T11:36:41.145376Z"
    }
   },
   "outputs": [],
   "source": [
    "print(\"최대:\", test_df_26.loc[test_df_26.index[:-20]][\"error\"].max())\n",
    "print(\"평균:\", test_df_26.loc[test_df_26.index[:-20]][\"error\"].mean())"
   ]
  },
  {
   "cell_type": "code",
   "execution_count": null,
   "id": "1334a668",
   "metadata": {
    "ExecuteTime": {
     "end_time": "2023-01-30T11:36:41.146376Z",
     "start_time": "2023-01-30T11:36:41.146376Z"
    }
   },
   "outputs": [],
   "source": [
    "test_df_26.loc[test_df_26['error'].dropna(axis=0).index].sort_values(by=\"error\")"
   ]
  },
  {
   "cell_type": "code",
   "execution_count": null,
   "id": "638f0653",
   "metadata": {},
   "outputs": [],
   "source": []
  },
  {
   "cell_type": "markdown",
   "id": "e5f39a3e",
   "metadata": {
    "code_folding": []
   },
   "source": [
    "## segment 20"
   ]
  },
  {
   "cell_type": "code",
   "execution_count": null,
   "id": "c53af601",
   "metadata": {
    "ExecuteTime": {
     "end_time": "2023-01-30T11:36:41.147377Z",
     "start_time": "2023-01-30T11:36:41.147377Z"
    }
   },
   "outputs": [],
   "source": [
    "the_number_of_segment = 20"
   ]
  },
  {
   "cell_type": "code",
   "execution_count": null,
   "id": "158690d8",
   "metadata": {
    "ExecuteTime": {
     "end_time": "2023-01-30T11:36:41.148377Z",
     "start_time": "2023-01-30T11:36:41.148377Z"
    }
   },
   "outputs": [],
   "source": [
    "seg_length = int(len(low_speed_interpolated_df) / the_number_of_segment)"
   ]
  },
  {
   "cell_type": "code",
   "execution_count": null,
   "id": "e62ee613",
   "metadata": {
    "ExecuteTime": {
     "end_time": "2023-01-30T11:36:41.148377Z",
     "start_time": "2023-01-30T11:36:41.148377Z"
    }
   },
   "outputs": [],
   "source": [
    "low_speed_df_list = []\n",
    "for i in range(the_number_of_segment):\n",
    "    idx = seg_length * (i + 1)\n",
    "    if i == 0:\n",
    "        df = low_speed_interpolated_df.loc[0:idx - 1]\n",
    "        df.reset_index(inplace=True)\n",
    "    else:\n",
    "        df = low_speed_interpolated_df.loc[idx - seg_length:idx - 1]\n",
    "        df.reset_index(inplace=True)\n",
    "    low_speed_df_list.append(df)"
   ]
  },
  {
   "cell_type": "code",
   "execution_count": null,
   "id": "8a65c40a",
   "metadata": {
    "ExecuteTime": {
     "end_time": "2023-01-30T11:36:41.149376Z",
     "start_time": "2023-01-30T11:36:41.149376Z"
    }
   },
   "outputs": [],
   "source": [
    "for df in low_speed_df_list:\n",
    "    d = df[\"speed\"].mean()\n",
    "#     print(d)"
   ]
  },
  {
   "cell_type": "markdown",
   "id": "13ceb12e",
   "metadata": {},
   "source": [
    "### 저속 (7knot 미만 제거)"
   ]
  },
  {
   "cell_type": "markdown",
   "id": "1795c7a6",
   "metadata": {},
   "source": [
    "#### 3. 순간 속력 이용 + 알고리즘 x  +  감속 계수 x"
   ]
  },
  {
   "cell_type": "code",
   "execution_count": null,
   "id": "038e312d",
   "metadata": {
    "ExecuteTime": {
     "end_time": "2023-01-30T11:36:41.150376Z",
     "start_time": "2023-01-30T11:36:41.150376Z"
    }
   },
   "outputs": [],
   "source": [
    "test_df_26 = pd.read_csv(\"voy_path/upper_china/processed/COSCO_FOS_VRKR6_2022_29processed.csv\")\n",
    "test_df_26['timestamp'] = pd.to_datetime(test_df_26['timestamp'])\n",
    "test_df_26['time_position_data_received'] = pd.to_datetime(test_df_26['time_position_data_received'])\n",
    "test_df_26['time_voyage_data_received'] = pd.to_datetime(test_df_26['time_voyage_data_received'])\n",
    "test_df_26.drop('index', axis=1, inplace=True)\n",
    "test_df_26 = test_df_26.loc[test_df_26[['longitude','latitude','time_position_data_received']].drop_duplicates().index]\n",
    "test_df_26.reset_index(inplace=True, drop=True)"
   ]
  },
  {
   "cell_type": "code",
   "execution_count": null,
   "id": "567d2fdc",
   "metadata": {
    "ExecuteTime": {
     "end_time": "2023-01-30T11:36:41.151951Z",
     "start_time": "2023-01-30T11:36:41.151951Z"
    }
   },
   "outputs": [],
   "source": [
    "for col in test_df_26.index:\n",
    "    if col == test_df_26.index[-8]:\n",
    "        break\n",
    "    # 테스트 데이터\n",
    "    re_sample = test_df_26.loc[col,:]\n",
    "    longitude = re_sample[\"longitude\"]\n",
    "    latitude = re_sample[\"latitude\"]\n",
    "    current_point = (latitude, longitude)\n",
    "    \n",
    "    # 1. 순간 속력 (AIS) \n",
    "    current_speed = re_sample[\"speed\"]\n",
    "    current_position_timestamp = re_sample[\"time_position_data_received\"]\n",
    "    if current_speed < 7:\n",
    "        continue\n",
    "    # 현재 위치에서 가장 짧은 segment 찾기\n",
    "    shortest_distance = 9999\n",
    "    for seg_no, seg_df in enumerate(low_speed_df_list):\n",
    "        for idx in seg_df.index:\n",
    "            LONGITUDE = seg_df.loc[idx, \"longitude\"]\n",
    "            LATITUDE = seg_df.loc[idx, \"latitude\"]\n",
    "\n",
    "            ais_point = (LATITUDE, LONGITUDE)\n",
    "            distance = haversine(current_point, ais_point, unit=\"km\")\n",
    "            # 가장 짧은 segment 간의 거리, segment 번호, 인덱스 저장\n",
    "            if distance <= shortest_distance:\n",
    "                shortest_distance = distance \n",
    "                shortest_point_idx = seg_df.loc[idx, \"index\"]\n",
    "                shortest_seg_no = seg_no\n",
    "                \n",
    "    # 다음 인덱스\n",
    "#     optimal_point_idx = optimal_next_point(current_point, shortest_point_idx, shortest_distance, low_speed_interpolated_df)\n",
    "    optimal_point_idx = low_speed_interpolated_df.query(f'index == {shortest_point_idx}').index[0] + 1\n",
    "    lon_optimal = low_speed_interpolated_df.loc[optimal_point_idx, \"longitude\"]\n",
    "    lat_optimal = low_speed_interpolated_df.loc[optimal_point_idx, \"latitude\"]\n",
    "    \n",
    "    optimal_point = (lat_optimal, lon_optimal)\n",
    "    optimal_distance = haversine(current_point, optimal_point, unit=\"km\")\n",
    "    km_h = current_speed * 1.852\n",
    "    init_duration = cal_duration(km_h, optimal_distance)\n",
    "    \n",
    "    \n",
    "    # 가장 가까운 segment 찾기\n",
    "    \n",
    "    optimal_seg_no = find_segment_no(optimal_point_idx, low_speed_interpolated_df,the_number_of_segment)\n",
    "    if optimal_seg_no == the_number_of_segment:\n",
    "        continue\n",
    "    initial_seg_df = low_speed_df_list[optimal_seg_no]\n",
    "    # speed_damping_ratio는 각 segment에 맞게\n",
    "#     speed_damping_ratio = current_speed / initial_seg_df[\"speed\"].mean()\n",
    "    speed_damping_ratio = 1\n",
    "    km_h = current_speed * 1.852 * speed_damping_ratio\n",
    "    \n",
    "    \n",
    "    remaining_initial_seg_df = initial_seg_df.loc[optimal_point_idx:,:]\n",
    "    remaining_initial_seg_df.reset_index(inplace=True, drop=True)\n",
    "    accu_distance = 0\n",
    "    for idx in remaining_initial_seg_df.index:\n",
    "        if idx != 0:\n",
    "            LONGITUDE = remaining_initial_seg_df.loc[idx, \"longitude\"]\n",
    "            LATITUDE = remaining_initial_seg_df.loc[idx, \"latitude\"]\n",
    "            current_coord = (LATITUDE, LONGITUDE)\n",
    "\n",
    "            LONGITUDE = remaining_initial_seg_df.loc[idx - 1, \"longitude\"]\n",
    "            LATITUDE = remaining_initial_seg_df.loc[idx - 1, \"latitude\"]\n",
    "            previous_current_coord = (LATITUDE, LONGITUDE)\n",
    "            \n",
    "            accu_distance += haversine(current_coord, previous_current_coord, unit=\"km\")\n",
    "            \n",
    "    duration_0 = cal_duration(km_h, accu_distance)\n",
    "    duration_0 = duration_0 + init_duration\n",
    "    \n",
    "    \n",
    "        \n",
    "    dura_list = []  \n",
    "    for next_seg_no in range(optimal_seg_no + 1, the_number_of_segment):\n",
    "        next_seg_df = low_speed_df_list[next_seg_no]\n",
    "        \n",
    "        seg_mean_speed = next_seg_df['speed'].mean()\n",
    "#         speed_damping_ratio = current_speed / seg_mean_speed\n",
    "        speed_damping_ratio = 1\n",
    "        damped_mean_speed = seg_mean_speed * speed_damping_ratio\n",
    "        km_h = damped_mean_speed * 1.852\n",
    "        distance = reckon_point_lengths(next_seg_df)\n",
    "        dura_list.append(cal_duration(km_h, distance))\n",
    "    \n",
    "    accu_timedelta = datetime.timedelta(seconds=0)\n",
    "    for i in dura_list:\n",
    "        accu_timedelta += i\n",
    "    # 현재 시간 + duration = ETA\n",
    "    ETA = current_position_timestamp + accu_timedelta\n",
    "    test_df_26.loc[col,'ETA'] = ETA\n",
    "    optimal_seg_no = 0\n",
    "\n",
    "test_df_26['ATA'] = test_df_26.loc[test_df_26.index[-1],\"time_position_data_received\"]\n",
    "test_df_26['error'] = abs(test_df_26['ATA'] - test_df_26['ETA'])\n",
    "\n",
    "experiment_no = f\"4.2.1.1_{the_number_of_segment}\".replace(\".\",\"_\")\n",
    "result_df_dict['experiment_no'].append(experiment_no)\n",
    "result_df_dict['mean_speed'].append(test_df_26.loc[test_df_26.index[:-20]][\"error\"].mean())\n",
    "result_df_dict['max_speed'].append(test_df_26.loc[test_df_26.index[:-20]][\"error\"].max())\n",
    "\n",
    "globals()[f\"exp_result_df_{experiment_no}\"] = test_df_26"
   ]
  },
  {
   "cell_type": "code",
   "execution_count": null,
   "id": "6c6977ad",
   "metadata": {
    "ExecuteTime": {
     "end_time": "2023-01-30T11:36:41.152886Z",
     "start_time": "2023-01-30T11:36:41.152886Z"
    }
   },
   "outputs": [],
   "source": [
    "print(\"최대:\", test_df_26.loc[test_df_26.index[:-20]][\"error\"].max())\n",
    "print(\"평균:\", test_df_26.loc[test_df_26.index[:-20]][\"error\"].mean())"
   ]
  },
  {
   "cell_type": "code",
   "execution_count": null,
   "id": "5523fbdf",
   "metadata": {
    "ExecuteTime": {
     "end_time": "2023-01-30T11:36:41.153888Z",
     "start_time": "2023-01-30T11:36:41.153888Z"
    }
   },
   "outputs": [],
   "source": [
    "test_df_26.loc[test_df_26['error'].dropna(axis=0).index].sort_values(by=\"error\")"
   ]
  },
  {
   "cell_type": "code",
   "execution_count": null,
   "id": "711d7686",
   "metadata": {},
   "outputs": [],
   "source": []
  },
  {
   "cell_type": "markdown",
   "id": "8efd341f",
   "metadata": {},
   "source": [
    "### 저속 (7knot 미만 포함)"
   ]
  },
  {
   "cell_type": "markdown",
   "id": "8cdbafe9",
   "metadata": {},
   "source": [
    "#### 3. 순간 속력 이용 + 알고리즘 x  +  감속 계수 x"
   ]
  },
  {
   "cell_type": "code",
   "execution_count": null,
   "id": "d417e2f3",
   "metadata": {
    "ExecuteTime": {
     "end_time": "2023-01-30T11:36:41.154887Z",
     "start_time": "2023-01-30T11:36:41.154887Z"
    }
   },
   "outputs": [],
   "source": [
    "test_df_26 = pd.read_csv(\"voy_path/upper_china/processed/COSCO_FOS_VRKR6_2022_29processed.csv\")\n",
    "test_df_26['timestamp'] = pd.to_datetime(test_df_26['timestamp'])\n",
    "test_df_26['time_position_data_received'] = pd.to_datetime(test_df_26['time_position_data_received'])\n",
    "test_df_26['time_voyage_data_received'] = pd.to_datetime(test_df_26['time_voyage_data_received'])\n",
    "test_df_26.drop('index', axis=1, inplace=True)\n",
    "test_df_26 = test_df_26.loc[test_df_26[['longitude','latitude','time_position_data_received']].drop_duplicates().index]\n",
    "test_df_26.reset_index(inplace=True, drop=True)"
   ]
  },
  {
   "cell_type": "code",
   "execution_count": null,
   "id": "804fdf40",
   "metadata": {
    "ExecuteTime": {
     "end_time": "2023-01-30T11:36:41.155887Z",
     "start_time": "2023-01-30T11:36:41.155887Z"
    }
   },
   "outputs": [],
   "source": [
    "for col in test_df_26.index:\n",
    "    if col == test_df_26.index[-8]:\n",
    "        break\n",
    "    # 테스트 데이터\n",
    "    re_sample = test_df_26.loc[col,:]\n",
    "    longitude = re_sample[\"longitude\"]\n",
    "    latitude = re_sample[\"latitude\"]\n",
    "    current_point = (latitude, longitude)\n",
    "    \n",
    "    # 1. 순간 속력 (AIS) \n",
    "    current_speed = re_sample[\"speed\"]\n",
    "    current_position_timestamp = re_sample[\"time_position_data_received\"]\n",
    "#     if current_speed < 7:\n",
    "#         continue\n",
    "    # 현재 위치에서 가장 짧은 segment 찾기\n",
    "    shortest_distance = 9999\n",
    "    for seg_no, seg_df in enumerate(low_speed_df_list):\n",
    "        for idx in seg_df.index:\n",
    "            LONGITUDE = seg_df.loc[idx, \"longitude\"]\n",
    "            LATITUDE = seg_df.loc[idx, \"latitude\"]\n",
    "\n",
    "            ais_point = (LATITUDE, LONGITUDE)\n",
    "            distance = haversine(current_point, ais_point, unit=\"km\")\n",
    "            # 가장 짧은 segment 간의 거리, segment 번호, 인덱스 저장\n",
    "            if distance <= shortest_distance:\n",
    "                shortest_distance = distance \n",
    "                shortest_point_idx = seg_df.loc[idx, \"index\"]\n",
    "                shortest_seg_no = seg_no\n",
    "                \n",
    "    # 다음 인덱스\n",
    "#     optimal_point_idx = optimal_next_point(current_point, shortest_point_idx, shortest_distance, low_speed_interpolated_df)\n",
    "    optimal_point_idx = low_speed_interpolated_df.query(f'index == {shortest_point_idx}').index[0] + 1\n",
    "    lon_optimal = low_speed_interpolated_df.loc[optimal_point_idx, \"longitude\"]\n",
    "    lat_optimal = low_speed_interpolated_df.loc[optimal_point_idx, \"latitude\"]\n",
    "    \n",
    "    optimal_point = (lat_optimal, lon_optimal)\n",
    "    optimal_distance = haversine(current_point, optimal_point, unit=\"km\")\n",
    "    km_h = current_speed * 1.852\n",
    "    init_duration = cal_duration(km_h, optimal_distance)\n",
    "    \n",
    "    \n",
    "    # 가장 가까운 segment 찾기\n",
    "    \n",
    "    optimal_seg_no = find_segment_no(optimal_point_idx, low_speed_interpolated_df,the_number_of_segment)\n",
    "    if optimal_seg_no == the_number_of_segment:\n",
    "        continue\n",
    "    initial_seg_df = low_speed_df_list[optimal_seg_no]\n",
    "    # speed_damping_ratio는 각 segment에 맞게\n",
    "#     speed_damping_ratio = current_speed / initial_seg_df[\"speed\"].mean()\n",
    "    speed_damping_ratio = 1\n",
    "    km_h = current_speed * 1.852 * speed_damping_ratio\n",
    "    \n",
    "    \n",
    "    remaining_initial_seg_df = initial_seg_df.loc[optimal_point_idx:,:]\n",
    "    remaining_initial_seg_df.reset_index(inplace=True, drop=True)\n",
    "    accu_distance = 0\n",
    "    for idx in remaining_initial_seg_df.index:\n",
    "        if idx != 0:\n",
    "            LONGITUDE = remaining_initial_seg_df.loc[idx, \"longitude\"]\n",
    "            LATITUDE = remaining_initial_seg_df.loc[idx, \"latitude\"]\n",
    "            current_coord = (LATITUDE, LONGITUDE)\n",
    "\n",
    "            LONGITUDE = remaining_initial_seg_df.loc[idx - 1, \"longitude\"]\n",
    "            LATITUDE = remaining_initial_seg_df.loc[idx - 1, \"latitude\"]\n",
    "            previous_current_coord = (LATITUDE, LONGITUDE)\n",
    "            \n",
    "            accu_distance += haversine(current_coord, previous_current_coord, unit=\"km\")\n",
    "            \n",
    "    duration_0 = cal_duration(km_h, accu_distance)\n",
    "    duration_0 = duration_0 + init_duration\n",
    "    \n",
    "    \n",
    "        \n",
    "    dura_list = []  \n",
    "    for next_seg_no in range(optimal_seg_no + 1, the_number_of_segment):\n",
    "        next_seg_df = low_speed_df_list[next_seg_no]\n",
    "        \n",
    "        seg_mean_speed = next_seg_df['speed'].mean()\n",
    "#         speed_damping_ratio = current_speed / seg_mean_speed\n",
    "        speed_damping_ratio = 1\n",
    "        damped_mean_speed = seg_mean_speed * speed_damping_ratio\n",
    "        km_h = damped_mean_speed * 1.852\n",
    "        distance = reckon_point_lengths(next_seg_df)\n",
    "        dura_list.append(cal_duration(km_h, distance))\n",
    "    \n",
    "    accu_timedelta = datetime.timedelta(seconds=0)\n",
    "    for i in dura_list:\n",
    "        accu_timedelta += i\n",
    "    # 현재 시간 + duration = ETA\n",
    "    ETA = current_position_timestamp + accu_timedelta\n",
    "    test_df_26.loc[col,'ETA'] = ETA\n",
    "    optimal_seg_no = 0\n",
    "\n",
    "test_df_26['ATA'] = test_df_26.loc[test_df_26.index[-1],\"time_position_data_received\"]\n",
    "test_df_26['error'] = abs(test_df_26['ATA'] - test_df_26['ETA'])\n",
    "\n",
    "experiment_no = f\"4.2.2.1_{the_number_of_segment}\".replace(\".\",\"_\")\n",
    "result_df_dict['experiment_no'].append(experiment_no)\n",
    "result_df_dict['mean_speed'].append(test_df_26.loc[test_df_26.index[:-20]][\"error\"].mean())\n",
    "result_df_dict['max_speed'].append(test_df_26.loc[test_df_26.index[:-20]][\"error\"].max())\n",
    "\n",
    "globals()[f\"exp_result_df_{experiment_no}\"] = test_df_26"
   ]
  },
  {
   "cell_type": "code",
   "execution_count": null,
   "id": "1d5595cd",
   "metadata": {
    "ExecuteTime": {
     "end_time": "2023-01-30T11:36:41.156886Z",
     "start_time": "2023-01-30T11:36:41.156886Z"
    }
   },
   "outputs": [],
   "source": [
    "print(\"최대:\", test_df_26.loc[test_df_26.index[:-20]][\"error\"].max())\n",
    "print(\"평균:\", test_df_26.loc[test_df_26.index[:-20]][\"error\"].mean())"
   ]
  },
  {
   "cell_type": "code",
   "execution_count": null,
   "id": "f0799b21",
   "metadata": {
    "ExecuteTime": {
     "end_time": "2023-01-30T11:36:41.157889Z",
     "start_time": "2023-01-30T11:36:41.157889Z"
    }
   },
   "outputs": [],
   "source": [
    "test_df_26.loc[test_df_26['error'].dropna(axis=0).index].sort_values(by=\"error\")"
   ]
  },
  {
   "cell_type": "code",
   "execution_count": null,
   "id": "b625f639",
   "metadata": {},
   "outputs": [],
   "source": []
  },
  {
   "cell_type": "markdown",
   "id": "79c563e1",
   "metadata": {
    "code_folding": []
   },
   "source": [
    "## segment 30"
   ]
  },
  {
   "cell_type": "code",
   "execution_count": null,
   "id": "3e546b07",
   "metadata": {
    "ExecuteTime": {
     "end_time": "2023-01-30T11:36:41.244938Z",
     "start_time": "2023-01-30T11:36:41.244938Z"
    }
   },
   "outputs": [],
   "source": [
    "the_number_of_segment = 30"
   ]
  },
  {
   "cell_type": "code",
   "execution_count": null,
   "id": "4bd82dbd",
   "metadata": {
    "ExecuteTime": {
     "end_time": "2023-01-30T11:36:41.245936Z",
     "start_time": "2023-01-30T11:36:41.245936Z"
    }
   },
   "outputs": [],
   "source": [
    "seg_length = int(len(low_speed_interpolated_df) / the_number_of_segment)"
   ]
  },
  {
   "cell_type": "code",
   "execution_count": null,
   "id": "bb73250e",
   "metadata": {
    "ExecuteTime": {
     "end_time": "2023-01-30T11:36:41.246937Z",
     "start_time": "2023-01-30T11:36:41.246937Z"
    }
   },
   "outputs": [],
   "source": [
    "low_speed_df_list = []\n",
    "for i in range(the_number_of_segment):\n",
    "    idx = seg_length * (i + 1)\n",
    "    if i == 0:\n",
    "        df = low_speed_interpolated_df.loc[0:idx - 1]\n",
    "        df.reset_index(inplace=True)\n",
    "    else:\n",
    "        df = low_speed_interpolated_df.loc[idx - seg_length:idx - 1]\n",
    "        df.reset_index(inplace=True)\n",
    "    low_speed_df_list.append(df)"
   ]
  },
  {
   "cell_type": "code",
   "execution_count": null,
   "id": "f517e3e9",
   "metadata": {
    "ExecuteTime": {
     "end_time": "2023-01-30T11:36:41.247935Z",
     "start_time": "2023-01-30T11:36:41.247935Z"
    }
   },
   "outputs": [],
   "source": [
    "for df in low_speed_df_list:\n",
    "    d = df[\"speed\"].mean()\n",
    "#     print(d)"
   ]
  },
  {
   "cell_type": "markdown",
   "id": "67450b63",
   "metadata": {},
   "source": [
    "### 저속 (7knot 미만 제거)"
   ]
  },
  {
   "cell_type": "markdown",
   "id": "d325655d",
   "metadata": {},
   "source": [
    "#### 3. 순간 속력 이용 + 알고리즘 x  +  감속 계수 x"
   ]
  },
  {
   "cell_type": "code",
   "execution_count": null,
   "id": "7da21838",
   "metadata": {
    "ExecuteTime": {
     "end_time": "2023-01-30T11:36:41.248936Z",
     "start_time": "2023-01-30T11:36:41.248936Z"
    }
   },
   "outputs": [],
   "source": [
    "test_df_26 = pd.read_csv(\"voy_path/upper_china/processed/COSCO_FOS_VRKR6_2022_29processed.csv\")\n",
    "test_df_26['timestamp'] = pd.to_datetime(test_df_26['timestamp'])\n",
    "test_df_26['time_position_data_received'] = pd.to_datetime(test_df_26['time_position_data_received'])\n",
    "test_df_26['time_voyage_data_received'] = pd.to_datetime(test_df_26['time_voyage_data_received'])\n",
    "test_df_26.drop('index', axis=1, inplace=True)\n",
    "test_df_26 = test_df_26.loc[test_df_26[['longitude','latitude','time_position_data_received']].drop_duplicates().index]\n",
    "test_df_26.reset_index(inplace=True, drop=True)"
   ]
  },
  {
   "cell_type": "code",
   "execution_count": null,
   "id": "ac09c432",
   "metadata": {
    "ExecuteTime": {
     "end_time": "2023-01-30T11:36:41.249939Z",
     "start_time": "2023-01-30T11:36:41.249939Z"
    }
   },
   "outputs": [],
   "source": [
    "for col in test_df_26.index:\n",
    "    if col == test_df_26.index[-8]:\n",
    "        break\n",
    "    # 테스트 데이터\n",
    "    re_sample = test_df_26.loc[col,:]\n",
    "    longitude = re_sample[\"longitude\"]\n",
    "    latitude = re_sample[\"latitude\"]\n",
    "    current_point = (latitude, longitude)\n",
    "    \n",
    "    # 1. 순간 속력 (AIS) \n",
    "    current_speed = re_sample[\"speed\"]\n",
    "    current_position_timestamp = re_sample[\"time_position_data_received\"]\n",
    "    if current_speed < 7:\n",
    "        continue\n",
    "    # 현재 위치에서 가장 짧은 segment 찾기\n",
    "    shortest_distance = 9999\n",
    "    for seg_no, seg_df in enumerate(low_speed_df_list):\n",
    "        for idx in seg_df.index:\n",
    "            LONGITUDE = seg_df.loc[idx, \"longitude\"]\n",
    "            LATITUDE = seg_df.loc[idx, \"latitude\"]\n",
    "\n",
    "            ais_point = (LATITUDE, LONGITUDE)\n",
    "            distance = haversine(current_point, ais_point, unit=\"km\")\n",
    "            # 가장 짧은 segment 간의 거리, segment 번호, 인덱스 저장\n",
    "            if distance <= shortest_distance:\n",
    "                shortest_distance = distance \n",
    "                shortest_point_idx = seg_df.loc[idx, \"index\"]\n",
    "                shortest_seg_no = seg_no\n",
    "                \n",
    "    # 다음 인덱스\n",
    "#     optimal_point_idx = optimal_next_point(current_point, shortest_point_idx, shortest_distance, low_speed_interpolated_df)\n",
    "    optimal_point_idx = low_speed_interpolated_df.query(f'index == {shortest_point_idx}').index[0] + 1\n",
    "    lon_optimal = low_speed_interpolated_df.loc[optimal_point_idx, \"longitude\"]\n",
    "    lat_optimal = low_speed_interpolated_df.loc[optimal_point_idx, \"latitude\"]\n",
    "    \n",
    "    optimal_point = (lat_optimal, lon_optimal)\n",
    "    optimal_distance = haversine(current_point, optimal_point, unit=\"km\")\n",
    "    km_h = current_speed * 1.852\n",
    "    init_duration = cal_duration(km_h, optimal_distance)\n",
    "    \n",
    "    \n",
    "    # 가장 가까운 segment 찾기\n",
    "    \n",
    "    optimal_seg_no = find_segment_no(optimal_point_idx, low_speed_interpolated_df,the_number_of_segment)\n",
    "    if optimal_seg_no == the_number_of_segment:\n",
    "        continue\n",
    "    initial_seg_df = low_speed_df_list[optimal_seg_no]\n",
    "    # speed_damping_ratio는 각 segment에 맞게\n",
    "#     speed_damping_ratio = current_speed / initial_seg_df[\"speed\"].mean()\n",
    "    speed_damping_ratio = 1\n",
    "    km_h = current_speed * 1.852 * speed_damping_ratio\n",
    "    \n",
    "    \n",
    "    remaining_initial_seg_df = initial_seg_df.loc[optimal_point_idx:,:]\n",
    "    remaining_initial_seg_df.reset_index(inplace=True, drop=True)\n",
    "    accu_distance = 0\n",
    "    for idx in remaining_initial_seg_df.index:\n",
    "        if idx != 0:\n",
    "            LONGITUDE = remaining_initial_seg_df.loc[idx, \"longitude\"]\n",
    "            LATITUDE = remaining_initial_seg_df.loc[idx, \"latitude\"]\n",
    "            current_coord = (LATITUDE, LONGITUDE)\n",
    "\n",
    "            LONGITUDE = remaining_initial_seg_df.loc[idx - 1, \"longitude\"]\n",
    "            LATITUDE = remaining_initial_seg_df.loc[idx - 1, \"latitude\"]\n",
    "            previous_current_coord = (LATITUDE, LONGITUDE)\n",
    "            \n",
    "            accu_distance += haversine(current_coord, previous_current_coord, unit=\"km\")\n",
    "            \n",
    "    duration_0 = cal_duration(km_h, accu_distance)\n",
    "    duration_0 = duration_0 + init_duration\n",
    "    \n",
    "    \n",
    "        \n",
    "    dura_list = []  \n",
    "    for next_seg_no in range(optimal_seg_no + 1, the_number_of_segment):\n",
    "        next_seg_df = low_speed_df_list[next_seg_no]\n",
    "        \n",
    "        seg_mean_speed = next_seg_df['speed'].mean()\n",
    "#         speed_damping_ratio = current_speed / seg_mean_speed\n",
    "        speed_damping_ratio = 1\n",
    "        damped_mean_speed = seg_mean_speed * speed_damping_ratio\n",
    "        km_h = damped_mean_speed * 1.852\n",
    "        distance = reckon_point_lengths(next_seg_df)\n",
    "        dura_list.append(cal_duration(km_h, distance))\n",
    "    \n",
    "    accu_timedelta = datetime.timedelta(seconds=0)\n",
    "    for i in dura_list:\n",
    "        accu_timedelta += i\n",
    "    # 현재 시간 + duration = ETA\n",
    "    ETA = current_position_timestamp + accu_timedelta\n",
    "    test_df_26.loc[col,'ETA'] = ETA\n",
    "    optimal_seg_no = 0\n",
    "\n",
    "test_df_26['ATA'] = test_df_26.loc[test_df_26.index[-1],\"time_position_data_received\"]\n",
    "test_df_26['error'] = abs(test_df_26['ATA'] - test_df_26['ETA'])\n",
    "\n",
    "experiment_no = f\"4.3.1.1_{the_number_of_segment}\".replace(\".\",\"_\")\n",
    "result_df_dict['experiment_no'].append(experiment_no)\n",
    "result_df_dict['mean_speed'].append(test_df_26.loc[test_df_26.index[:-20]][\"error\"].mean())\n",
    "result_df_dict['max_speed'].append(test_df_26.loc[test_df_26.index[:-20]][\"error\"].max())\n",
    "\n",
    "globals()[f\"exp_result_df_{experiment_no}\"] = test_df_26"
   ]
  },
  {
   "cell_type": "code",
   "execution_count": null,
   "id": "23c59827",
   "metadata": {
    "ExecuteTime": {
     "end_time": "2023-01-30T11:36:41.250937Z",
     "start_time": "2023-01-30T11:36:41.250937Z"
    }
   },
   "outputs": [],
   "source": [
    "print(\"최대:\", test_df_26.loc[test_df_26.index[:-20]][\"error\"].max())\n",
    "print(\"평균:\", test_df_26.loc[test_df_26.index[:-20]][\"error\"].mean())"
   ]
  },
  {
   "cell_type": "code",
   "execution_count": null,
   "id": "245f822a",
   "metadata": {
    "ExecuteTime": {
     "end_time": "2023-01-30T11:36:41.251937Z",
     "start_time": "2023-01-30T11:36:41.251937Z"
    }
   },
   "outputs": [],
   "source": [
    "test_df_26.loc[test_df_26['error'].dropna(axis=0).index].sort_values(by=\"error\")"
   ]
  },
  {
   "cell_type": "code",
   "execution_count": null,
   "id": "343e68b5",
   "metadata": {},
   "outputs": [],
   "source": []
  },
  {
   "cell_type": "markdown",
   "id": "fd7ee1b6",
   "metadata": {},
   "source": [
    "### 저속 (7knot 미만 포함)"
   ]
  },
  {
   "cell_type": "markdown",
   "id": "b41f4842",
   "metadata": {},
   "source": [
    "#### 3. 순간 속력 이용 + 알고리즘 x  +  감속 계수 x"
   ]
  },
  {
   "cell_type": "code",
   "execution_count": null,
   "id": "b64ca88f",
   "metadata": {
    "ExecuteTime": {
     "end_time": "2023-01-30T11:36:41.253007Z",
     "start_time": "2023-01-30T11:36:41.253007Z"
    }
   },
   "outputs": [],
   "source": [
    "test_df_26 = pd.read_csv(\"voy_path/upper_china/processed/COSCO_FOS_VRKR6_2022_29processed.csv\")\n",
    "test_df_26['timestamp'] = pd.to_datetime(test_df_26['timestamp'])\n",
    "test_df_26['time_position_data_received'] = pd.to_datetime(test_df_26['time_position_data_received'])\n",
    "test_df_26['time_voyage_data_received'] = pd.to_datetime(test_df_26['time_voyage_data_received'])\n",
    "test_df_26.drop('index', axis=1, inplace=True)\n",
    "test_df_26 = test_df_26.loc[test_df_26[['longitude','latitude','time_position_data_received']].drop_duplicates().index]\n",
    "test_df_26.reset_index(inplace=True, drop=True)"
   ]
  },
  {
   "cell_type": "code",
   "execution_count": null,
   "id": "79b52827",
   "metadata": {
    "ExecuteTime": {
     "end_time": "2023-01-30T11:36:41.254008Z",
     "start_time": "2023-01-30T11:36:41.254008Z"
    }
   },
   "outputs": [],
   "source": [
    "for col in test_df_26.index:\n",
    "    if col == test_df_26.index[-8]:\n",
    "        break\n",
    "    # 테스트 데이터\n",
    "    re_sample = test_df_26.loc[col,:]\n",
    "    longitude = re_sample[\"longitude\"]\n",
    "    latitude = re_sample[\"latitude\"]\n",
    "    current_point = (latitude, longitude)\n",
    "    \n",
    "    # 1. 순간 속력 (AIS) \n",
    "    current_speed = re_sample[\"speed\"]\n",
    "    current_position_timestamp = re_sample[\"time_position_data_received\"]\n",
    "#     if current_speed < 7:\n",
    "#         continue\n",
    "    # 현재 위치에서 가장 짧은 segment 찾기\n",
    "    shortest_distance = 9999\n",
    "    for seg_no, seg_df in enumerate(low_speed_df_list):\n",
    "        for idx in seg_df.index:\n",
    "            LONGITUDE = seg_df.loc[idx, \"longitude\"]\n",
    "            LATITUDE = seg_df.loc[idx, \"latitude\"]\n",
    "\n",
    "            ais_point = (LATITUDE, LONGITUDE)\n",
    "            distance = haversine(current_point, ais_point, unit=\"km\")\n",
    "            # 가장 짧은 segment 간의 거리, segment 번호, 인덱스 저장\n",
    "            if distance <= shortest_distance:\n",
    "                shortest_distance = distance \n",
    "                shortest_point_idx = seg_df.loc[idx, \"index\"]\n",
    "                shortest_seg_no = seg_no\n",
    "                \n",
    "    # 다음 인덱스\n",
    "#     optimal_point_idx = optimal_next_point(current_point, shortest_point_idx, shortest_distance, low_speed_interpolated_df)\n",
    "    optimal_point_idx = low_speed_interpolated_df.query(f'index == {shortest_point_idx}').index[0] + 1\n",
    "    lon_optimal = low_speed_interpolated_df.loc[optimal_point_idx, \"longitude\"]\n",
    "    lat_optimal = low_speed_interpolated_df.loc[optimal_point_idx, \"latitude\"]\n",
    "    \n",
    "    optimal_point = (lat_optimal, lon_optimal)\n",
    "    optimal_distance = haversine(current_point, optimal_point, unit=\"km\")\n",
    "    km_h = current_speed * 1.852\n",
    "    init_duration = cal_duration(km_h, optimal_distance)\n",
    "    \n",
    "    \n",
    "    # 가장 가까운 segment 찾기\n",
    "    \n",
    "    optimal_seg_no = find_segment_no(optimal_point_idx, low_speed_interpolated_df,the_number_of_segment)\n",
    "    if optimal_seg_no == the_number_of_segment:\n",
    "        continue\n",
    "    initial_seg_df = low_speed_df_list[optimal_seg_no]\n",
    "    # speed_damping_ratio는 각 segment에 맞게\n",
    "#     speed_damping_ratio = current_speed / initial_seg_df[\"speed\"].mean()\n",
    "    speed_damping_ratio = 1\n",
    "    km_h = current_speed * 1.852 * speed_damping_ratio\n",
    "    \n",
    "    \n",
    "    remaining_initial_seg_df = initial_seg_df.loc[optimal_point_idx:,:]\n",
    "    remaining_initial_seg_df.reset_index(inplace=True, drop=True)\n",
    "    accu_distance = 0\n",
    "    for idx in remaining_initial_seg_df.index:\n",
    "        if idx != 0:\n",
    "            LONGITUDE = remaining_initial_seg_df.loc[idx, \"longitude\"]\n",
    "            LATITUDE = remaining_initial_seg_df.loc[idx, \"latitude\"]\n",
    "            current_coord = (LATITUDE, LONGITUDE)\n",
    "\n",
    "            LONGITUDE = remaining_initial_seg_df.loc[idx - 1, \"longitude\"]\n",
    "            LATITUDE = remaining_initial_seg_df.loc[idx - 1, \"latitude\"]\n",
    "            previous_current_coord = (LATITUDE, LONGITUDE)\n",
    "            \n",
    "            accu_distance += haversine(current_coord, previous_current_coord, unit=\"km\")\n",
    "            \n",
    "    duration_0 = cal_duration(km_h, accu_distance)\n",
    "    duration_0 = duration_0 + init_duration\n",
    "    \n",
    "    \n",
    "        \n",
    "    dura_list = []  \n",
    "    for next_seg_no in range(optimal_seg_no + 1, the_number_of_segment):\n",
    "        next_seg_df = low_speed_df_list[next_seg_no]\n",
    "        \n",
    "        seg_mean_speed = next_seg_df['speed'].mean()\n",
    "#         speed_damping_ratio = current_speed / seg_mean_speed\n",
    "        speed_damping_ratio = 1\n",
    "        damped_mean_speed = seg_mean_speed * speed_damping_ratio\n",
    "        km_h = damped_mean_speed * 1.852\n",
    "        distance = reckon_point_lengths(next_seg_df)\n",
    "        dura_list.append(cal_duration(km_h, distance))\n",
    "    \n",
    "    accu_timedelta = datetime.timedelta(seconds=0)\n",
    "    for i in dura_list:\n",
    "        accu_timedelta += i\n",
    "    # 현재 시간 + duration = ETA\n",
    "    ETA = current_position_timestamp + accu_timedelta\n",
    "    test_df_26.loc[col,'ETA'] = ETA\n",
    "    optimal_seg_no = 0\n",
    "\n",
    "test_df_26['ATA'] = test_df_26.loc[test_df_26.index[-1],\"time_position_data_received\"]\n",
    "test_df_26['error'] = abs(test_df_26['ATA'] - test_df_26['ETA'])\n",
    "\n",
    "experiment_no = f\"4.3.2.1_{the_number_of_segment}\".replace(\".\",\"_\")\n",
    "result_df_dict['experiment_no'].append(experiment_no)\n",
    "result_df_dict['mean_speed'].append(test_df_26.loc[test_df_26.index[:-20]][\"error\"].mean())\n",
    "result_df_dict['max_speed'].append(test_df_26.loc[test_df_26.index[:-20]][\"error\"].max())\n",
    "\n",
    "globals()[f\"exp_result_df_{experiment_no}\"] = test_df_26"
   ]
  },
  {
   "cell_type": "code",
   "execution_count": null,
   "id": "01890df8",
   "metadata": {
    "ExecuteTime": {
     "end_time": "2023-01-30T11:36:41.255008Z",
     "start_time": "2023-01-30T11:36:41.255008Z"
    }
   },
   "outputs": [],
   "source": [
    "print(\"최대:\", test_df_26.loc[test_df_26.index[:-20]][\"error\"].max())\n",
    "print(\"평균:\", test_df_26.loc[test_df_26.index[:-20]][\"error\"].mean())"
   ]
  },
  {
   "cell_type": "code",
   "execution_count": null,
   "id": "d4dab1cd",
   "metadata": {
    "ExecuteTime": {
     "end_time": "2023-01-30T11:36:41.255008Z",
     "start_time": "2023-01-30T11:36:41.255008Z"
    }
   },
   "outputs": [],
   "source": [
    "test_df_26.loc[test_df_26['error'].dropna(axis=0).index].sort_values(by=\"error\")"
   ]
  },
  {
   "cell_type": "code",
   "execution_count": null,
   "id": "57a56952",
   "metadata": {},
   "outputs": [],
   "source": []
  },
  {
   "cell_type": "markdown",
   "id": "077b1d4d",
   "metadata": {
    "code_folding": []
   },
   "source": [
    "## segment 40"
   ]
  },
  {
   "cell_type": "code",
   "execution_count": null,
   "id": "20c4abab",
   "metadata": {
    "ExecuteTime": {
     "end_time": "2023-01-30T11:36:41.244938Z",
     "start_time": "2023-01-30T11:36:41.244938Z"
    }
   },
   "outputs": [],
   "source": [
    "the_number_of_segment = 40"
   ]
  },
  {
   "cell_type": "code",
   "execution_count": null,
   "id": "04989c8d",
   "metadata": {
    "ExecuteTime": {
     "end_time": "2023-01-30T11:36:41.245936Z",
     "start_time": "2023-01-30T11:36:41.245936Z"
    }
   },
   "outputs": [],
   "source": [
    "seg_length = int(len(low_speed_interpolated_df) / the_number_of_segment)"
   ]
  },
  {
   "cell_type": "code",
   "execution_count": null,
   "id": "2ce3939a",
   "metadata": {
    "ExecuteTime": {
     "end_time": "2023-01-30T11:36:41.246937Z",
     "start_time": "2023-01-30T11:36:41.246937Z"
    }
   },
   "outputs": [],
   "source": [
    "low_speed_df_list = []\n",
    "for i in range(the_number_of_segment):\n",
    "    idx = seg_length * (i + 1)\n",
    "    if i == 0:\n",
    "        df = low_speed_interpolated_df.loc[0:idx - 1]\n",
    "        df.reset_index(inplace=True)\n",
    "    else:\n",
    "        df = low_speed_interpolated_df.loc[idx - seg_length:idx - 1]\n",
    "        df.reset_index(inplace=True)\n",
    "    low_speed_df_list.append(df)"
   ]
  },
  {
   "cell_type": "code",
   "execution_count": null,
   "id": "b3157510",
   "metadata": {
    "ExecuteTime": {
     "end_time": "2023-01-30T11:36:41.247935Z",
     "start_time": "2023-01-30T11:36:41.247935Z"
    }
   },
   "outputs": [],
   "source": [
    "for df in low_speed_df_list:\n",
    "    d = df[\"speed\"].mean()\n",
    "#     print(d)"
   ]
  },
  {
   "cell_type": "markdown",
   "id": "e4b7f21b",
   "metadata": {},
   "source": [
    "### 저속 (7knot 미만 제거)"
   ]
  },
  {
   "cell_type": "markdown",
   "id": "66dc3a72",
   "metadata": {},
   "source": [
    "#### 3. 순간 속력 이용 + 알고리즘 x  +  감속 계수 x"
   ]
  },
  {
   "cell_type": "code",
   "execution_count": null,
   "id": "096bde4c",
   "metadata": {
    "ExecuteTime": {
     "end_time": "2023-01-30T11:36:41.248936Z",
     "start_time": "2023-01-30T11:36:41.248936Z"
    }
   },
   "outputs": [],
   "source": [
    "test_df_26 = pd.read_csv(\"voy_path/upper_china/processed/COSCO_FOS_VRKR6_2022_29processed.csv\")\n",
    "test_df_26['timestamp'] = pd.to_datetime(test_df_26['timestamp'])\n",
    "test_df_26['time_position_data_received'] = pd.to_datetime(test_df_26['time_position_data_received'])\n",
    "test_df_26['time_voyage_data_received'] = pd.to_datetime(test_df_26['time_voyage_data_received'])\n",
    "test_df_26.drop('index', axis=1, inplace=True)\n",
    "test_df_26 = test_df_26.loc[test_df_26[['longitude','latitude','time_position_data_received']].drop_duplicates().index]\n",
    "test_df_26.reset_index(inplace=True, drop=True)"
   ]
  },
  {
   "cell_type": "code",
   "execution_count": null,
   "id": "34255d12",
   "metadata": {
    "ExecuteTime": {
     "end_time": "2023-01-30T11:36:41.249939Z",
     "start_time": "2023-01-30T11:36:41.249939Z"
    }
   },
   "outputs": [],
   "source": [
    "for col in test_df_26.index:\n",
    "    if col == test_df_26.index[-8]:\n",
    "        break\n",
    "    # 테스트 데이터\n",
    "    re_sample = test_df_26.loc[col,:]\n",
    "    longitude = re_sample[\"longitude\"]\n",
    "    latitude = re_sample[\"latitude\"]\n",
    "    current_point = (latitude, longitude)\n",
    "    \n",
    "    # 1. 순간 속력 (AIS) \n",
    "    current_speed = re_sample[\"speed\"]\n",
    "    current_position_timestamp = re_sample[\"time_position_data_received\"]\n",
    "    if current_speed < 7:\n",
    "        continue\n",
    "    # 현재 위치에서 가장 짧은 segment 찾기\n",
    "    shortest_distance = 9999\n",
    "    for seg_no, seg_df in enumerate(low_speed_df_list):\n",
    "        for idx in seg_df.index:\n",
    "            LONGITUDE = seg_df.loc[idx, \"longitude\"]\n",
    "            LATITUDE = seg_df.loc[idx, \"latitude\"]\n",
    "\n",
    "            ais_point = (LATITUDE, LONGITUDE)\n",
    "            distance = haversine(current_point, ais_point, unit=\"km\")\n",
    "            # 가장 짧은 segment 간의 거리, segment 번호, 인덱스 저장\n",
    "            if distance <= shortest_distance:\n",
    "                shortest_distance = distance \n",
    "                shortest_point_idx = seg_df.loc[idx, \"index\"]\n",
    "                shortest_seg_no = seg_no\n",
    "                \n",
    "    # 다음 인덱스\n",
    "#     optimal_point_idx = optimal_next_point(current_point, shortest_point_idx, shortest_distance, low_speed_interpolated_df)\n",
    "    optimal_point_idx = low_speed_interpolated_df.query(f'index == {shortest_point_idx}').index[0] + 1\n",
    "    lon_optimal = low_speed_interpolated_df.loc[optimal_point_idx, \"longitude\"]\n",
    "    lat_optimal = low_speed_interpolated_df.loc[optimal_point_idx, \"latitude\"]\n",
    "    \n",
    "    optimal_point = (lat_optimal, lon_optimal)\n",
    "    optimal_distance = haversine(current_point, optimal_point, unit=\"km\")\n",
    "    km_h = current_speed * 1.852\n",
    "    init_duration = cal_duration(km_h, optimal_distance)\n",
    "    \n",
    "    \n",
    "    # 가장 가까운 segment 찾기\n",
    "    \n",
    "    optimal_seg_no = find_segment_no(optimal_point_idx, low_speed_interpolated_df,the_number_of_segment)\n",
    "    if optimal_seg_no == the_number_of_segment:\n",
    "        continue\n",
    "    initial_seg_df = low_speed_df_list[optimal_seg_no]\n",
    "    # speed_damping_ratio는 각 segment에 맞게\n",
    "#     speed_damping_ratio = current_speed / initial_seg_df[\"speed\"].mean()\n",
    "    speed_damping_ratio = 1\n",
    "    km_h = current_speed * 1.852 * speed_damping_ratio\n",
    "    \n",
    "    \n",
    "    remaining_initial_seg_df = initial_seg_df.loc[optimal_point_idx:,:]\n",
    "    remaining_initial_seg_df.reset_index(inplace=True, drop=True)\n",
    "    accu_distance = 0\n",
    "    for idx in remaining_initial_seg_df.index:\n",
    "        if idx != 0:\n",
    "            LONGITUDE = remaining_initial_seg_df.loc[idx, \"longitude\"]\n",
    "            LATITUDE = remaining_initial_seg_df.loc[idx, \"latitude\"]\n",
    "            current_coord = (LATITUDE, LONGITUDE)\n",
    "\n",
    "            LONGITUDE = remaining_initial_seg_df.loc[idx - 1, \"longitude\"]\n",
    "            LATITUDE = remaining_initial_seg_df.loc[idx - 1, \"latitude\"]\n",
    "            previous_current_coord = (LATITUDE, LONGITUDE)\n",
    "            \n",
    "            accu_distance += haversine(current_coord, previous_current_coord, unit=\"km\")\n",
    "            \n",
    "    duration_0 = cal_duration(km_h, accu_distance)\n",
    "    duration_0 = duration_0 + init_duration\n",
    "    \n",
    "    \n",
    "        \n",
    "    dura_list = []  \n",
    "    for next_seg_no in range(optimal_seg_no + 1, the_number_of_segment):\n",
    "        next_seg_df = low_speed_df_list[next_seg_no]\n",
    "        \n",
    "        seg_mean_speed = next_seg_df['speed'].mean()\n",
    "#         speed_damping_ratio = current_speed / seg_mean_speed\n",
    "        speed_damping_ratio = 1\n",
    "        damped_mean_speed = seg_mean_speed * speed_damping_ratio\n",
    "        km_h = damped_mean_speed * 1.852\n",
    "        distance = reckon_point_lengths(next_seg_df)\n",
    "        dura_list.append(cal_duration(km_h, distance))\n",
    "    \n",
    "    accu_timedelta = datetime.timedelta(seconds=0)\n",
    "    for i in dura_list:\n",
    "        accu_timedelta += i\n",
    "    # 현재 시간 + duration = ETA\n",
    "    ETA = current_position_timestamp + accu_timedelta\n",
    "    test_df_26.loc[col,'ETA'] = ETA\n",
    "    optimal_seg_no = 0\n",
    "\n",
    "test_df_26['ATA'] = test_df_26.loc[test_df_26.index[-1],\"time_position_data_received\"]\n",
    "test_df_26['error'] = abs(test_df_26['ATA'] - test_df_26['ETA'])\n",
    "\n",
    "experiment_no = f\"4.4.1.1_{the_number_of_segment}\".replace(\".\",\"_\")\n",
    "result_df_dict['experiment_no'].append(experiment_no)\n",
    "result_df_dict['mean_speed'].append(test_df_26.loc[test_df_26.index[:-20]][\"error\"].mean())\n",
    "result_df_dict['max_speed'].append(test_df_26.loc[test_df_26.index[:-20]][\"error\"].max())\n",
    "\n",
    "globals()[f\"exp_result_df_{experiment_no}\"] = test_df_26"
   ]
  },
  {
   "cell_type": "code",
   "execution_count": null,
   "id": "7d6a8cfc",
   "metadata": {
    "ExecuteTime": {
     "end_time": "2023-01-30T11:36:41.250937Z",
     "start_time": "2023-01-30T11:36:41.250937Z"
    }
   },
   "outputs": [],
   "source": [
    "print(\"최대:\", test_df_26.loc[test_df_26.index[:-20]][\"error\"].max())\n",
    "print(\"평균:\", test_df_26.loc[test_df_26.index[:-20]][\"error\"].mean())"
   ]
  },
  {
   "cell_type": "code",
   "execution_count": null,
   "id": "c0314772",
   "metadata": {
    "ExecuteTime": {
     "end_time": "2023-01-30T11:36:41.251937Z",
     "start_time": "2023-01-30T11:36:41.251937Z"
    }
   },
   "outputs": [],
   "source": [
    "test_df_26.loc[test_df_26['error'].dropna(axis=0).index].sort_values(by=\"error\")"
   ]
  },
  {
   "cell_type": "code",
   "execution_count": null,
   "id": "06a800b6",
   "metadata": {},
   "outputs": [],
   "source": []
  },
  {
   "cell_type": "markdown",
   "id": "b3416713",
   "metadata": {},
   "source": [
    "### 저속 (7knot 미만 포함)"
   ]
  },
  {
   "cell_type": "markdown",
   "id": "9b70b915",
   "metadata": {},
   "source": [
    "#### 3. 순간 속력 이용 + 알고리즘 x  +  감속 계수 x"
   ]
  },
  {
   "cell_type": "code",
   "execution_count": null,
   "id": "37a208c7",
   "metadata": {
    "ExecuteTime": {
     "end_time": "2023-01-30T11:36:41.253007Z",
     "start_time": "2023-01-30T11:36:41.253007Z"
    }
   },
   "outputs": [],
   "source": [
    "test_df_26 = pd.read_csv(\"voy_path/upper_china/processed/COSCO_FOS_VRKR6_2022_29processed.csv\")\n",
    "test_df_26['timestamp'] = pd.to_datetime(test_df_26['timestamp'])\n",
    "test_df_26['time_position_data_received'] = pd.to_datetime(test_df_26['time_position_data_received'])\n",
    "test_df_26['time_voyage_data_received'] = pd.to_datetime(test_df_26['time_voyage_data_received'])\n",
    "test_df_26.drop('index', axis=1, inplace=True)\n",
    "test_df_26 = test_df_26.loc[test_df_26[['longitude','latitude','time_position_data_received']].drop_duplicates().index]\n",
    "test_df_26.reset_index(inplace=True, drop=True)"
   ]
  },
  {
   "cell_type": "code",
   "execution_count": null,
   "id": "3cbafc77",
   "metadata": {
    "ExecuteTime": {
     "end_time": "2023-01-30T11:36:41.254008Z",
     "start_time": "2023-01-30T11:36:41.254008Z"
    }
   },
   "outputs": [],
   "source": [
    "for col in test_df_26.index:\n",
    "    if col == test_df_26.index[-8]:\n",
    "        break\n",
    "    # 테스트 데이터\n",
    "    re_sample = test_df_26.loc[col,:]\n",
    "    longitude = re_sample[\"longitude\"]\n",
    "    latitude = re_sample[\"latitude\"]\n",
    "    current_point = (latitude, longitude)\n",
    "    \n",
    "    # 1. 순간 속력 (AIS) \n",
    "    current_speed = re_sample[\"speed\"]\n",
    "    current_position_timestamp = re_sample[\"time_position_data_received\"]\n",
    "#     if current_speed < 7:\n",
    "#         continue\n",
    "    # 현재 위치에서 가장 짧은 segment 찾기\n",
    "    shortest_distance = 9999\n",
    "    for seg_no, seg_df in enumerate(low_speed_df_list):\n",
    "        for idx in seg_df.index:\n",
    "            LONGITUDE = seg_df.loc[idx, \"longitude\"]\n",
    "            LATITUDE = seg_df.loc[idx, \"latitude\"]\n",
    "\n",
    "            ais_point = (LATITUDE, LONGITUDE)\n",
    "            distance = haversine(current_point, ais_point, unit=\"km\")\n",
    "            # 가장 짧은 segment 간의 거리, segment 번호, 인덱스 저장\n",
    "            if distance <= shortest_distance:\n",
    "                shortest_distance = distance \n",
    "                shortest_point_idx = seg_df.loc[idx, \"index\"]\n",
    "                shortest_seg_no = seg_no\n",
    "                \n",
    "    # 다음 인덱스\n",
    "#     optimal_point_idx = optimal_next_point(current_point, shortest_point_idx, shortest_distance, low_speed_interpolated_df)\n",
    "    optimal_point_idx = low_speed_interpolated_df.query(f'index == {shortest_point_idx}').index[0] + 1\n",
    "    lon_optimal = low_speed_interpolated_df.loc[optimal_point_idx, \"longitude\"]\n",
    "    lat_optimal = low_speed_interpolated_df.loc[optimal_point_idx, \"latitude\"]\n",
    "    \n",
    "    optimal_point = (lat_optimal, lon_optimal)\n",
    "    optimal_distance = haversine(current_point, optimal_point, unit=\"km\")\n",
    "    km_h = current_speed * 1.852\n",
    "    init_duration = cal_duration(km_h, optimal_distance)\n",
    "    \n",
    "    \n",
    "    # 가장 가까운 segment 찾기\n",
    "    \n",
    "    optimal_seg_no = find_segment_no(optimal_point_idx, low_speed_interpolated_df,the_number_of_segment)\n",
    "    if optimal_seg_no == the_number_of_segment:\n",
    "        continue\n",
    "    initial_seg_df = low_speed_df_list[optimal_seg_no]\n",
    "    # speed_damping_ratio는 각 segment에 맞게\n",
    "#     speed_damping_ratio = current_speed / initial_seg_df[\"speed\"].mean()\n",
    "    speed_damping_ratio = 1\n",
    "    km_h = current_speed * 1.852 * speed_damping_ratio\n",
    "    \n",
    "    \n",
    "    remaining_initial_seg_df = initial_seg_df.loc[optimal_point_idx:,:]\n",
    "    remaining_initial_seg_df.reset_index(inplace=True, drop=True)\n",
    "    accu_distance = 0\n",
    "    for idx in remaining_initial_seg_df.index:\n",
    "        if idx != 0:\n",
    "            LONGITUDE = remaining_initial_seg_df.loc[idx, \"longitude\"]\n",
    "            LATITUDE = remaining_initial_seg_df.loc[idx, \"latitude\"]\n",
    "            current_coord = (LATITUDE, LONGITUDE)\n",
    "\n",
    "            LONGITUDE = remaining_initial_seg_df.loc[idx - 1, \"longitude\"]\n",
    "            LATITUDE = remaining_initial_seg_df.loc[idx - 1, \"latitude\"]\n",
    "            previous_current_coord = (LATITUDE, LONGITUDE)\n",
    "            \n",
    "            accu_distance += haversine(current_coord, previous_current_coord, unit=\"km\")\n",
    "            \n",
    "    duration_0 = cal_duration(km_h, accu_distance)\n",
    "    duration_0 = duration_0 + init_duration\n",
    "    \n",
    "    \n",
    "        \n",
    "    dura_list = []  \n",
    "    for next_seg_no in range(optimal_seg_no + 1, the_number_of_segment):\n",
    "        next_seg_df = low_speed_df_list[next_seg_no]\n",
    "        \n",
    "        seg_mean_speed = next_seg_df['speed'].mean()\n",
    "#         speed_damping_ratio = current_speed / seg_mean_speed\n",
    "        speed_damping_ratio = 1\n",
    "        damped_mean_speed = seg_mean_speed * speed_damping_ratio\n",
    "        km_h = damped_mean_speed * 1.852\n",
    "        distance = reckon_point_lengths(next_seg_df)\n",
    "        dura_list.append(cal_duration(km_h, distance))\n",
    "    \n",
    "    accu_timedelta = datetime.timedelta(seconds=0)\n",
    "    for i in dura_list:\n",
    "        accu_timedelta += i\n",
    "    # 현재 시간 + duration = ETA\n",
    "    ETA = current_position_timestamp + accu_timedelta\n",
    "    test_df_26.loc[col,'ETA'] = ETA\n",
    "    optimal_seg_no = 0\n",
    "\n",
    "test_df_26['ATA'] = test_df_26.loc[test_df_26.index[-1],\"time_position_data_received\"]\n",
    "test_df_26['error'] = abs(test_df_26['ATA'] - test_df_26['ETA'])\n",
    "\n",
    "experiment_no = f\"4.4.2.1_{the_number_of_segment}\".replace(\".\",\"_\")\n",
    "result_df_dict['experiment_no'].append(experiment_no)\n",
    "result_df_dict['mean_speed'].append(test_df_26.loc[test_df_26.index[:-20]][\"error\"].mean())\n",
    "result_df_dict['max_speed'].append(test_df_26.loc[test_df_26.index[:-20]][\"error\"].max())\n",
    "\n",
    "globals()[f\"exp_result_df_{experiment_no}\"] = test_df_26"
   ]
  },
  {
   "cell_type": "code",
   "execution_count": null,
   "id": "65884120",
   "metadata": {
    "ExecuteTime": {
     "end_time": "2023-01-30T11:36:41.255008Z",
     "start_time": "2023-01-30T11:36:41.255008Z"
    }
   },
   "outputs": [],
   "source": [
    "print(\"최대:\", test_df_26.loc[test_df_26.index[:-20]][\"error\"].max())\n",
    "print(\"평균:\", test_df_26.loc[test_df_26.index[:-20]][\"error\"].mean())"
   ]
  },
  {
   "cell_type": "code",
   "execution_count": null,
   "id": "c87905f1",
   "metadata": {
    "ExecuteTime": {
     "end_time": "2023-01-30T11:36:41.255008Z",
     "start_time": "2023-01-30T11:36:41.255008Z"
    }
   },
   "outputs": [],
   "source": [
    "test_df_26.loc[test_df_26['error'].dropna(axis=0).index].sort_values(by=\"error\")"
   ]
  },
  {
   "cell_type": "code",
   "execution_count": null,
   "id": "3b1e2e09",
   "metadata": {},
   "outputs": [],
   "source": []
  },
  {
   "cell_type": "markdown",
   "id": "449c6420",
   "metadata": {
    "code_folding": []
   },
   "source": [
    "## segment 50"
   ]
  },
  {
   "cell_type": "code",
   "execution_count": null,
   "id": "ed1a3f79",
   "metadata": {
    "ExecuteTime": {
     "end_time": "2023-01-30T11:36:41.244938Z",
     "start_time": "2023-01-30T11:36:41.244938Z"
    }
   },
   "outputs": [],
   "source": [
    "the_number_of_segment = 50"
   ]
  },
  {
   "cell_type": "code",
   "execution_count": null,
   "id": "e5f7151a",
   "metadata": {
    "ExecuteTime": {
     "end_time": "2023-01-30T11:36:41.245936Z",
     "start_time": "2023-01-30T11:36:41.245936Z"
    }
   },
   "outputs": [],
   "source": [
    "seg_length = int(len(low_speed_interpolated_df) / the_number_of_segment)"
   ]
  },
  {
   "cell_type": "code",
   "execution_count": null,
   "id": "37ed278d",
   "metadata": {
    "ExecuteTime": {
     "end_time": "2023-01-30T11:36:41.246937Z",
     "start_time": "2023-01-30T11:36:41.246937Z"
    }
   },
   "outputs": [],
   "source": [
    "low_speed_df_list = []\n",
    "for i in range(the_number_of_segment):\n",
    "    idx = seg_length * (i + 1)\n",
    "    if i == 0:\n",
    "        df = low_speed_interpolated_df.loc[0:idx - 1]\n",
    "        df.reset_index(inplace=True)\n",
    "    else:\n",
    "        df = low_speed_interpolated_df.loc[idx - seg_length:idx - 1]\n",
    "        df.reset_index(inplace=True)\n",
    "    low_speed_df_list.append(df)"
   ]
  },
  {
   "cell_type": "code",
   "execution_count": null,
   "id": "a5d2cbb4",
   "metadata": {
    "ExecuteTime": {
     "end_time": "2023-01-30T11:36:41.247935Z",
     "start_time": "2023-01-30T11:36:41.247935Z"
    }
   },
   "outputs": [],
   "source": [
    "for df in low_speed_df_list:\n",
    "    d = df[\"speed\"].mean()\n",
    "#     print(d)"
   ]
  },
  {
   "cell_type": "markdown",
   "id": "045637a0",
   "metadata": {},
   "source": [
    "### 저속 (7knot 미만 제거)"
   ]
  },
  {
   "cell_type": "markdown",
   "id": "3b15ceaa",
   "metadata": {},
   "source": [
    "#### 3. 순간 속력 이용 + 알고리즘 x  +  감속 계수 x"
   ]
  },
  {
   "cell_type": "code",
   "execution_count": null,
   "id": "3108c5fd",
   "metadata": {
    "ExecuteTime": {
     "end_time": "2023-01-30T11:36:41.248936Z",
     "start_time": "2023-01-30T11:36:41.248936Z"
    }
   },
   "outputs": [],
   "source": [
    "test_df_26 = pd.read_csv(\"voy_path/upper_china/processed/COSCO_FOS_VRKR6_2022_29processed.csv\")\n",
    "test_df_26['timestamp'] = pd.to_datetime(test_df_26['timestamp'])\n",
    "test_df_26['time_position_data_received'] = pd.to_datetime(test_df_26['time_position_data_received'])\n",
    "test_df_26['time_voyage_data_received'] = pd.to_datetime(test_df_26['time_voyage_data_received'])\n",
    "test_df_26.drop('index', axis=1, inplace=True)\n",
    "test_df_26 = test_df_26.loc[test_df_26[['longitude','latitude','time_position_data_received']].drop_duplicates().index]\n",
    "test_df_26.reset_index(inplace=True, drop=True)"
   ]
  },
  {
   "cell_type": "code",
   "execution_count": null,
   "id": "d1edbe91",
   "metadata": {
    "ExecuteTime": {
     "end_time": "2023-01-30T11:36:41.249939Z",
     "start_time": "2023-01-30T11:36:41.249939Z"
    }
   },
   "outputs": [],
   "source": [
    "for col in test_df_26.index:\n",
    "    if col == test_df_26.index[-8]:\n",
    "        break\n",
    "    # 테스트 데이터\n",
    "    re_sample = test_df_26.loc[col,:]\n",
    "    longitude = re_sample[\"longitude\"]\n",
    "    latitude = re_sample[\"latitude\"]\n",
    "    current_point = (latitude, longitude)\n",
    "    \n",
    "    # 1. 순간 속력 (AIS) \n",
    "    current_speed = re_sample[\"speed\"]\n",
    "    current_position_timestamp = re_sample[\"time_position_data_received\"]\n",
    "    if current_speed < 7:\n",
    "        continue\n",
    "    # 현재 위치에서 가장 짧은 segment 찾기\n",
    "    shortest_distance = 9999\n",
    "    for seg_no, seg_df in enumerate(low_speed_df_list):\n",
    "        for idx in seg_df.index:\n",
    "            LONGITUDE = seg_df.loc[idx, \"longitude\"]\n",
    "            LATITUDE = seg_df.loc[idx, \"latitude\"]\n",
    "\n",
    "            ais_point = (LATITUDE, LONGITUDE)\n",
    "            distance = haversine(current_point, ais_point, unit=\"km\")\n",
    "            # 가장 짧은 segment 간의 거리, segment 번호, 인덱스 저장\n",
    "            if distance <= shortest_distance:\n",
    "                shortest_distance = distance \n",
    "                shortest_point_idx = seg_df.loc[idx, \"index\"]\n",
    "                shortest_seg_no = seg_no\n",
    "                \n",
    "    # 다음 인덱스\n",
    "#     optimal_point_idx = optimal_next_point(current_point, shortest_point_idx, shortest_distance, low_speed_interpolated_df)\n",
    "    optimal_point_idx = low_speed_interpolated_df.query(f'index == {shortest_point_idx}').index[0] + 1\n",
    "    lon_optimal = low_speed_interpolated_df.loc[optimal_point_idx, \"longitude\"]\n",
    "    lat_optimal = low_speed_interpolated_df.loc[optimal_point_idx, \"latitude\"]\n",
    "    \n",
    "    optimal_point = (lat_optimal, lon_optimal)\n",
    "    optimal_distance = haversine(current_point, optimal_point, unit=\"km\")\n",
    "    km_h = current_speed * 1.852\n",
    "    init_duration = cal_duration(km_h, optimal_distance)\n",
    "    \n",
    "    \n",
    "    # 가장 가까운 segment 찾기\n",
    "    \n",
    "    optimal_seg_no = find_segment_no(optimal_point_idx, low_speed_interpolated_df,the_number_of_segment)\n",
    "    if optimal_seg_no == the_number_of_segment:\n",
    "        continue\n",
    "    initial_seg_df = low_speed_df_list[optimal_seg_no]\n",
    "    # speed_damping_ratio는 각 segment에 맞게\n",
    "#     speed_damping_ratio = current_speed / initial_seg_df[\"speed\"].mean()\n",
    "    speed_damping_ratio = 1\n",
    "    km_h = current_speed * 1.852 * speed_damping_ratio\n",
    "    \n",
    "    \n",
    "    remaining_initial_seg_df = initial_seg_df.loc[optimal_point_idx:,:]\n",
    "    remaining_initial_seg_df.reset_index(inplace=True, drop=True)\n",
    "    accu_distance = 0\n",
    "    for idx in remaining_initial_seg_df.index:\n",
    "        if idx != 0:\n",
    "            LONGITUDE = remaining_initial_seg_df.loc[idx, \"longitude\"]\n",
    "            LATITUDE = remaining_initial_seg_df.loc[idx, \"latitude\"]\n",
    "            current_coord = (LATITUDE, LONGITUDE)\n",
    "\n",
    "            LONGITUDE = remaining_initial_seg_df.loc[idx - 1, \"longitude\"]\n",
    "            LATITUDE = remaining_initial_seg_df.loc[idx - 1, \"latitude\"]\n",
    "            previous_current_coord = (LATITUDE, LONGITUDE)\n",
    "            \n",
    "            accu_distance += haversine(current_coord, previous_current_coord, unit=\"km\")\n",
    "            \n",
    "    duration_0 = cal_duration(km_h, accu_distance)\n",
    "    duration_0 = duration_0 + init_duration\n",
    "    \n",
    "    \n",
    "        \n",
    "    dura_list = []  \n",
    "    for next_seg_no in range(optimal_seg_no + 1, the_number_of_segment):\n",
    "        next_seg_df = low_speed_df_list[next_seg_no]\n",
    "        \n",
    "        seg_mean_speed = next_seg_df['speed'].mean()\n",
    "#         speed_damping_ratio = current_speed / seg_mean_speed\n",
    "        speed_damping_ratio = 1\n",
    "        damped_mean_speed = seg_mean_speed * speed_damping_ratio\n",
    "        km_h = damped_mean_speed * 1.852\n",
    "        distance = reckon_point_lengths(next_seg_df)\n",
    "        dura_list.append(cal_duration(km_h, distance))\n",
    "    \n",
    "    accu_timedelta = datetime.timedelta(seconds=0)\n",
    "    for i in dura_list:\n",
    "        accu_timedelta += i\n",
    "    # 현재 시간 + duration = ETA\n",
    "    ETA = current_position_timestamp + accu_timedelta\n",
    "    test_df_26.loc[col,'ETA'] = ETA\n",
    "    optimal_seg_no = 0\n",
    "\n",
    "test_df_26['ATA'] = test_df_26.loc[test_df_26.index[-1],\"time_position_data_received\"]\n",
    "test_df_26['error'] = abs(test_df_26['ATA'] - test_df_26['ETA'])\n",
    "\n",
    "experiment_no = f\"4.5.1.1_{the_number_of_segment}\".replace(\".\",\"_\")\n",
    "result_df_dict['experiment_no'].append(experiment_no)\n",
    "result_df_dict['mean_speed'].append(test_df_26.loc[test_df_26.index[:-20]][\"error\"].mean())\n",
    "result_df_dict['max_speed'].append(test_df_26.loc[test_df_26.index[:-20]][\"error\"].max())\n",
    "\n",
    "globals()[f\"exp_result_df_{experiment_no}\"] = test_df_26"
   ]
  },
  {
   "cell_type": "code",
   "execution_count": null,
   "id": "9e0898cf",
   "metadata": {
    "ExecuteTime": {
     "end_time": "2023-01-30T11:36:41.250937Z",
     "start_time": "2023-01-30T11:36:41.250937Z"
    }
   },
   "outputs": [],
   "source": [
    "print(\"최대:\", test_df_26.loc[test_df_26.index[:-20]][\"error\"].max())\n",
    "print(\"평균:\", test_df_26.loc[test_df_26.index[:-20]][\"error\"].mean())"
   ]
  },
  {
   "cell_type": "code",
   "execution_count": null,
   "id": "d076dbab",
   "metadata": {
    "ExecuteTime": {
     "end_time": "2023-01-30T11:36:41.251937Z",
     "start_time": "2023-01-30T11:36:41.251937Z"
    }
   },
   "outputs": [],
   "source": [
    "test_df_26.loc[test_df_26['error'].dropna(axis=0).index].sort_values(by=\"error\")"
   ]
  },
  {
   "cell_type": "code",
   "execution_count": null,
   "id": "db40c30c",
   "metadata": {},
   "outputs": [],
   "source": []
  },
  {
   "cell_type": "markdown",
   "id": "96892f92",
   "metadata": {},
   "source": [
    "### 저속 (7knot 미만 포함)"
   ]
  },
  {
   "cell_type": "markdown",
   "id": "2fd32a8a",
   "metadata": {},
   "source": [
    "#### 3. 순간 속력 이용 + 알고리즘 x  +  감속 계수 x"
   ]
  },
  {
   "cell_type": "code",
   "execution_count": null,
   "id": "3f73824e",
   "metadata": {
    "ExecuteTime": {
     "end_time": "2023-01-30T11:36:41.253007Z",
     "start_time": "2023-01-30T11:36:41.253007Z"
    }
   },
   "outputs": [],
   "source": [
    "test_df_26 = pd.read_csv(\"voy_path/upper_china/processed/COSCO_FOS_VRKR6_2022_29processed.csv\")\n",
    "test_df_26['timestamp'] = pd.to_datetime(test_df_26['timestamp'])\n",
    "test_df_26['time_position_data_received'] = pd.to_datetime(test_df_26['time_position_data_received'])\n",
    "test_df_26['time_voyage_data_received'] = pd.to_datetime(test_df_26['time_voyage_data_received'])\n",
    "test_df_26.drop('index', axis=1, inplace=True)\n",
    "test_df_26 = test_df_26.loc[test_df_26[['longitude','latitude','time_position_data_received']].drop_duplicates().index]\n",
    "test_df_26.reset_index(inplace=True, drop=True)"
   ]
  },
  {
   "cell_type": "code",
   "execution_count": null,
   "id": "29e9dff4",
   "metadata": {
    "ExecuteTime": {
     "end_time": "2023-01-30T11:36:41.254008Z",
     "start_time": "2023-01-30T11:36:41.254008Z"
    }
   },
   "outputs": [],
   "source": [
    "for col in test_df_26.index:\n",
    "    if col == test_df_26.index[-8]:\n",
    "        break\n",
    "    # 테스트 데이터\n",
    "    re_sample = test_df_26.loc[col,:]\n",
    "    longitude = re_sample[\"longitude\"]\n",
    "    latitude = re_sample[\"latitude\"]\n",
    "    current_point = (latitude, longitude)\n",
    "    \n",
    "    # 1. 순간 속력 (AIS) \n",
    "    current_speed = re_sample[\"speed\"]\n",
    "    current_position_timestamp = re_sample[\"time_position_data_received\"]\n",
    "#     if current_speed < 7:\n",
    "#         continue\n",
    "    # 현재 위치에서 가장 짧은 segment 찾기\n",
    "    shortest_distance = 9999\n",
    "    for seg_no, seg_df in enumerate(low_speed_df_list):\n",
    "        for idx in seg_df.index:\n",
    "            LONGITUDE = seg_df.loc[idx, \"longitude\"]\n",
    "            LATITUDE = seg_df.loc[idx, \"latitude\"]\n",
    "\n",
    "            ais_point = (LATITUDE, LONGITUDE)\n",
    "            distance = haversine(current_point, ais_point, unit=\"km\")\n",
    "            # 가장 짧은 segment 간의 거리, segment 번호, 인덱스 저장\n",
    "            if distance <= shortest_distance:\n",
    "                shortest_distance = distance \n",
    "                shortest_point_idx = seg_df.loc[idx, \"index\"]\n",
    "                shortest_seg_no = seg_no\n",
    "                \n",
    "    # 다음 인덱스\n",
    "#     optimal_point_idx = optimal_next_point(current_point, shortest_point_idx, shortest_distance, low_speed_interpolated_df)\n",
    "    optimal_point_idx = low_speed_interpolated_df.query(f'index == {shortest_point_idx}').index[0] + 1\n",
    "    lon_optimal = low_speed_interpolated_df.loc[optimal_point_idx, \"longitude\"]\n",
    "    lat_optimal = low_speed_interpolated_df.loc[optimal_point_idx, \"latitude\"]\n",
    "    \n",
    "    optimal_point = (lat_optimal, lon_optimal)\n",
    "    optimal_distance = haversine(current_point, optimal_point, unit=\"km\")\n",
    "    km_h = current_speed * 1.852\n",
    "    init_duration = cal_duration(km_h, optimal_distance)\n",
    "    \n",
    "    \n",
    "    # 가장 가까운 segment 찾기\n",
    "    \n",
    "    optimal_seg_no = find_segment_no(optimal_point_idx, low_speed_interpolated_df,the_number_of_segment)\n",
    "    if optimal_seg_no == the_number_of_segment:\n",
    "        continue\n",
    "    initial_seg_df = low_speed_df_list[optimal_seg_no]\n",
    "    # speed_damping_ratio는 각 segment에 맞게\n",
    "#     speed_damping_ratio = current_speed / initial_seg_df[\"speed\"].mean()\n",
    "    speed_damping_ratio = 1\n",
    "    km_h = current_speed * 1.852 * speed_damping_ratio\n",
    "    \n",
    "    \n",
    "    remaining_initial_seg_df = initial_seg_df.loc[optimal_point_idx:,:]\n",
    "    remaining_initial_seg_df.reset_index(inplace=True, drop=True)\n",
    "    accu_distance = 0\n",
    "    for idx in remaining_initial_seg_df.index:\n",
    "        if idx != 0:\n",
    "            LONGITUDE = remaining_initial_seg_df.loc[idx, \"longitude\"]\n",
    "            LATITUDE = remaining_initial_seg_df.loc[idx, \"latitude\"]\n",
    "            current_coord = (LATITUDE, LONGITUDE)\n",
    "\n",
    "            LONGITUDE = remaining_initial_seg_df.loc[idx - 1, \"longitude\"]\n",
    "            LATITUDE = remaining_initial_seg_df.loc[idx - 1, \"latitude\"]\n",
    "            previous_current_coord = (LATITUDE, LONGITUDE)\n",
    "            \n",
    "            accu_distance += haversine(current_coord, previous_current_coord, unit=\"km\")\n",
    "            \n",
    "    duration_0 = cal_duration(km_h, accu_distance)\n",
    "    duration_0 = duration_0 + init_duration\n",
    "    \n",
    "    \n",
    "        \n",
    "    dura_list = []  \n",
    "    for next_seg_no in range(optimal_seg_no + 1, the_number_of_segment):\n",
    "        next_seg_df = low_speed_df_list[next_seg_no]\n",
    "        \n",
    "        seg_mean_speed = next_seg_df['speed'].mean()\n",
    "#         speed_damping_ratio = current_speed / seg_mean_speed\n",
    "        speed_damping_ratio = 1\n",
    "        damped_mean_speed = seg_mean_speed * speed_damping_ratio\n",
    "        km_h = damped_mean_speed * 1.852\n",
    "        distance = reckon_point_lengths(next_seg_df)\n",
    "        dura_list.append(cal_duration(km_h, distance))\n",
    "    \n",
    "    accu_timedelta = datetime.timedelta(seconds=0)\n",
    "    for i in dura_list:\n",
    "        accu_timedelta += i\n",
    "    # 현재 시간 + duration = ETA\n",
    "    ETA = current_position_timestamp + accu_timedelta\n",
    "    test_df_26.loc[col,'ETA'] = ETA\n",
    "    optimal_seg_no = 0\n",
    "\n",
    "test_df_26['ATA'] = test_df_26.loc[test_df_26.index[-1],\"time_position_data_received\"]\n",
    "test_df_26['error'] = abs(test_df_26['ATA'] - test_df_26['ETA'])\n",
    "\n",
    "experiment_no = f\"4.5.2.1_{the_number_of_segment}\".replace(\".\",\"_\")\n",
    "result_df_dict['experiment_no'].append(experiment_no)\n",
    "result_df_dict['mean_speed'].append(test_df_26.loc[test_df_26.index[:-20]][\"error\"].mean())\n",
    "result_df_dict['max_speed'].append(test_df_26.loc[test_df_26.index[:-20]][\"error\"].max())\n",
    "\n",
    "globals()[f\"exp_result_df_{experiment_no}\"] = test_df_26"
   ]
  },
  {
   "cell_type": "code",
   "execution_count": null,
   "id": "64696cb3",
   "metadata": {
    "ExecuteTime": {
     "end_time": "2023-01-30T11:36:41.255008Z",
     "start_time": "2023-01-30T11:36:41.255008Z"
    }
   },
   "outputs": [],
   "source": [
    "print(\"최대:\", test_df_26.loc[test_df_26.index[:-20]][\"error\"].max())\n",
    "print(\"평균:\", test_df_26.loc[test_df_26.index[:-20]][\"error\"].mean())"
   ]
  },
  {
   "cell_type": "code",
   "execution_count": null,
   "id": "831d887d",
   "metadata": {
    "ExecuteTime": {
     "end_time": "2023-01-30T11:36:41.255008Z",
     "start_time": "2023-01-30T11:36:41.255008Z"
    }
   },
   "outputs": [],
   "source": [
    "test_df_26.loc[test_df_26['error'].dropna(axis=0).index].sort_values(by=\"error\")"
   ]
  },
  {
   "cell_type": "code",
   "execution_count": null,
   "id": "7ec5861d",
   "metadata": {},
   "outputs": [],
   "source": []
  },
  {
   "cell_type": "markdown",
   "id": "ec4b0689",
   "metadata": {
    "code_folding": []
   },
   "source": [
    "## segment 75"
   ]
  },
  {
   "cell_type": "code",
   "execution_count": null,
   "id": "fd7ee24a",
   "metadata": {
    "ExecuteTime": {
     "end_time": "2023-01-30T11:36:41.244938Z",
     "start_time": "2023-01-30T11:36:41.244938Z"
    }
   },
   "outputs": [],
   "source": [
    "the_number_of_segment = 75"
   ]
  },
  {
   "cell_type": "code",
   "execution_count": null,
   "id": "930a20d7",
   "metadata": {
    "ExecuteTime": {
     "end_time": "2023-01-30T11:36:41.245936Z",
     "start_time": "2023-01-30T11:36:41.245936Z"
    }
   },
   "outputs": [],
   "source": [
    "seg_length = int(len(low_speed_interpolated_df) / the_number_of_segment)"
   ]
  },
  {
   "cell_type": "code",
   "execution_count": null,
   "id": "0a4eeea4",
   "metadata": {
    "ExecuteTime": {
     "end_time": "2023-01-30T11:36:41.246937Z",
     "start_time": "2023-01-30T11:36:41.246937Z"
    }
   },
   "outputs": [],
   "source": [
    "low_speed_df_list = []\n",
    "for i in range(the_number_of_segment):\n",
    "    idx = seg_length * (i + 1)\n",
    "    if i == 0:\n",
    "        df = low_speed_interpolated_df.loc[0:idx - 1]\n",
    "        df.reset_index(inplace=True)\n",
    "    else:\n",
    "        df = low_speed_interpolated_df.loc[idx - seg_length:idx - 1]\n",
    "        df.reset_index(inplace=True)\n",
    "    low_speed_df_list.append(df)"
   ]
  },
  {
   "cell_type": "code",
   "execution_count": null,
   "id": "3070cc8f",
   "metadata": {
    "ExecuteTime": {
     "end_time": "2023-01-30T11:36:41.247935Z",
     "start_time": "2023-01-30T11:36:41.247935Z"
    }
   },
   "outputs": [],
   "source": [
    "for df in low_speed_df_list:\n",
    "    d = df[\"speed\"].mean()\n",
    "#     print(d)"
   ]
  },
  {
   "cell_type": "markdown",
   "id": "46751cdd",
   "metadata": {},
   "source": [
    "### 저속 (7knot 미만 제거)"
   ]
  },
  {
   "cell_type": "markdown",
   "id": "c2ab6e5b",
   "metadata": {},
   "source": [
    "#### 3. 순간 속력 이용 + 알고리즘 x  +  감속 계수 x"
   ]
  },
  {
   "cell_type": "code",
   "execution_count": null,
   "id": "1cca0047",
   "metadata": {
    "ExecuteTime": {
     "end_time": "2023-01-30T11:36:41.248936Z",
     "start_time": "2023-01-30T11:36:41.248936Z"
    }
   },
   "outputs": [],
   "source": [
    "test_df_26 = pd.read_csv(\"voy_path/upper_china/processed/COSCO_FOS_VRKR6_2022_29processed.csv\")\n",
    "test_df_26['timestamp'] = pd.to_datetime(test_df_26['timestamp'])\n",
    "test_df_26['time_position_data_received'] = pd.to_datetime(test_df_26['time_position_data_received'])\n",
    "test_df_26['time_voyage_data_received'] = pd.to_datetime(test_df_26['time_voyage_data_received'])\n",
    "test_df_26.drop('index', axis=1, inplace=True)\n",
    "test_df_26 = test_df_26.loc[test_df_26[['longitude','latitude','time_position_data_received']].drop_duplicates().index]\n",
    "test_df_26.reset_index(inplace=True, drop=True)"
   ]
  },
  {
   "cell_type": "code",
   "execution_count": null,
   "id": "e9583e5d",
   "metadata": {
    "ExecuteTime": {
     "end_time": "2023-01-30T11:36:41.249939Z",
     "start_time": "2023-01-30T11:36:41.249939Z"
    }
   },
   "outputs": [],
   "source": [
    "for col in test_df_26.index:\n",
    "    if col == test_df_26.index[-8]:\n",
    "        break\n",
    "    # 테스트 데이터\n",
    "    re_sample = test_df_26.loc[col,:]\n",
    "    longitude = re_sample[\"longitude\"]\n",
    "    latitude = re_sample[\"latitude\"]\n",
    "    current_point = (latitude, longitude)\n",
    "    \n",
    "    # 1. 순간 속력 (AIS) \n",
    "    current_speed = re_sample[\"speed\"]\n",
    "    current_position_timestamp = re_sample[\"time_position_data_received\"]\n",
    "    if current_speed < 7:\n",
    "        continue\n",
    "    # 현재 위치에서 가장 짧은 segment 찾기\n",
    "    shortest_distance = 9999\n",
    "    for seg_no, seg_df in enumerate(low_speed_df_list):\n",
    "        for idx in seg_df.index:\n",
    "            LONGITUDE = seg_df.loc[idx, \"longitude\"]\n",
    "            LATITUDE = seg_df.loc[idx, \"latitude\"]\n",
    "\n",
    "            ais_point = (LATITUDE, LONGITUDE)\n",
    "            distance = haversine(current_point, ais_point, unit=\"km\")\n",
    "            # 가장 짧은 segment 간의 거리, segment 번호, 인덱스 저장\n",
    "            if distance <= shortest_distance:\n",
    "                shortest_distance = distance \n",
    "                shortest_point_idx = seg_df.loc[idx, \"index\"]\n",
    "                shortest_seg_no = seg_no\n",
    "                \n",
    "    # 다음 인덱스\n",
    "#     optimal_point_idx = optimal_next_point(current_point, shortest_point_idx, shortest_distance, low_speed_interpolated_df)\n",
    "    optimal_point_idx = low_speed_interpolated_df.query(f'index == {shortest_point_idx}').index[0] + 1\n",
    "    lon_optimal = low_speed_interpolated_df.loc[optimal_point_idx, \"longitude\"]\n",
    "    lat_optimal = low_speed_interpolated_df.loc[optimal_point_idx, \"latitude\"]\n",
    "    \n",
    "    optimal_point = (lat_optimal, lon_optimal)\n",
    "    optimal_distance = haversine(current_point, optimal_point, unit=\"km\")\n",
    "    km_h = current_speed * 1.852\n",
    "    init_duration = cal_duration(km_h, optimal_distance)\n",
    "    \n",
    "    \n",
    "    # 가장 가까운 segment 찾기\n",
    "    \n",
    "    optimal_seg_no = find_segment_no(optimal_point_idx, low_speed_interpolated_df,the_number_of_segment)\n",
    "    if optimal_seg_no == the_number_of_segment:\n",
    "        continue\n",
    "    initial_seg_df = low_speed_df_list[optimal_seg_no]\n",
    "    # speed_damping_ratio는 각 segment에 맞게\n",
    "#     speed_damping_ratio = current_speed / initial_seg_df[\"speed\"].mean()\n",
    "    speed_damping_ratio = 1\n",
    "    km_h = current_speed * 1.852 * speed_damping_ratio\n",
    "    \n",
    "    \n",
    "    remaining_initial_seg_df = initial_seg_df.loc[optimal_point_idx:,:]\n",
    "    remaining_initial_seg_df.reset_index(inplace=True, drop=True)\n",
    "    accu_distance = 0\n",
    "    for idx in remaining_initial_seg_df.index:\n",
    "        if idx != 0:\n",
    "            LONGITUDE = remaining_initial_seg_df.loc[idx, \"longitude\"]\n",
    "            LATITUDE = remaining_initial_seg_df.loc[idx, \"latitude\"]\n",
    "            current_coord = (LATITUDE, LONGITUDE)\n",
    "\n",
    "            LONGITUDE = remaining_initial_seg_df.loc[idx - 1, \"longitude\"]\n",
    "            LATITUDE = remaining_initial_seg_df.loc[idx - 1, \"latitude\"]\n",
    "            previous_current_coord = (LATITUDE, LONGITUDE)\n",
    "            \n",
    "            accu_distance += haversine(current_coord, previous_current_coord, unit=\"km\")\n",
    "            \n",
    "    duration_0 = cal_duration(km_h, accu_distance)\n",
    "    duration_0 = duration_0 + init_duration\n",
    "    \n",
    "    \n",
    "        \n",
    "    dura_list = []  \n",
    "    for next_seg_no in range(optimal_seg_no + 1, the_number_of_segment):\n",
    "        next_seg_df = low_speed_df_list[next_seg_no]\n",
    "        \n",
    "        seg_mean_speed = next_seg_df['speed'].mean()\n",
    "#         speed_damping_ratio = current_speed / seg_mean_speed\n",
    "        speed_damping_ratio = 1\n",
    "        damped_mean_speed = seg_mean_speed * speed_damping_ratio\n",
    "        km_h = damped_mean_speed * 1.852\n",
    "        distance = reckon_point_lengths(next_seg_df)\n",
    "        dura_list.append(cal_duration(km_h, distance))\n",
    "    \n",
    "    accu_timedelta = datetime.timedelta(seconds=0)\n",
    "    for i in dura_list:\n",
    "        accu_timedelta += i\n",
    "    # 현재 시간 + duration = ETA\n",
    "    ETA = current_position_timestamp + accu_timedelta\n",
    "    test_df_26.loc[col,'ETA'] = ETA\n",
    "    optimal_seg_no = 0\n",
    "\n",
    "test_df_26['ATA'] = test_df_26.loc[test_df_26.index[-1],\"time_position_data_received\"]\n",
    "test_df_26['error'] = abs(test_df_26['ATA'] - test_df_26['ETA'])\n",
    "\n",
    "experiment_no = f\"4.6.1.1_{the_number_of_segment}\".replace(\".\",\"_\")\n",
    "result_df_dict['experiment_no'].append(experiment_no)\n",
    "result_df_dict['mean_speed'].append(test_df_26.loc[test_df_26.index[:-20]][\"error\"].mean())\n",
    "result_df_dict['max_speed'].append(test_df_26.loc[test_df_26.index[:-20]][\"error\"].max())\n",
    "\n",
    "globals()[f\"exp_result_df_{experiment_no}\"] = test_df_26"
   ]
  },
  {
   "cell_type": "code",
   "execution_count": null,
   "id": "79567254",
   "metadata": {
    "ExecuteTime": {
     "end_time": "2023-01-30T11:36:41.250937Z",
     "start_time": "2023-01-30T11:36:41.250937Z"
    }
   },
   "outputs": [],
   "source": [
    "print(\"최대:\", test_df_26.loc[test_df_26.index[:-20]][\"error\"].max())\n",
    "print(\"평균:\", test_df_26.loc[test_df_26.index[:-20]][\"error\"].mean())"
   ]
  },
  {
   "cell_type": "code",
   "execution_count": null,
   "id": "d5dba4e3",
   "metadata": {
    "ExecuteTime": {
     "end_time": "2023-01-30T11:36:41.251937Z",
     "start_time": "2023-01-30T11:36:41.251937Z"
    }
   },
   "outputs": [],
   "source": [
    "test_df_26.loc[test_df_26['error'].dropna(axis=0).index].sort_values(by=\"error\")"
   ]
  },
  {
   "cell_type": "code",
   "execution_count": null,
   "id": "20a315a1",
   "metadata": {},
   "outputs": [],
   "source": []
  },
  {
   "cell_type": "markdown",
   "id": "3db541e1",
   "metadata": {},
   "source": [
    "### 저속 (7knot 미만 포함)"
   ]
  },
  {
   "cell_type": "markdown",
   "id": "a5dfee9a",
   "metadata": {},
   "source": [
    "#### 3. 순간 속력 이용 + 알고리즘 x  +  감속 계수 x"
   ]
  },
  {
   "cell_type": "code",
   "execution_count": null,
   "id": "7559992e",
   "metadata": {
    "ExecuteTime": {
     "end_time": "2023-01-30T11:36:41.253007Z",
     "start_time": "2023-01-30T11:36:41.253007Z"
    }
   },
   "outputs": [],
   "source": [
    "test_df_26 = pd.read_csv(\"voy_path/upper_china/processed/COSCO_FOS_VRKR6_2022_29processed.csv\")\n",
    "test_df_26['timestamp'] = pd.to_datetime(test_df_26['timestamp'])\n",
    "test_df_26['time_position_data_received'] = pd.to_datetime(test_df_26['time_position_data_received'])\n",
    "test_df_26['time_voyage_data_received'] = pd.to_datetime(test_df_26['time_voyage_data_received'])\n",
    "test_df_26.drop('index', axis=1, inplace=True)\n",
    "test_df_26 = test_df_26.loc[test_df_26[['longitude','latitude','time_position_data_received']].drop_duplicates().index]\n",
    "test_df_26.reset_index(inplace=True, drop=True)"
   ]
  },
  {
   "cell_type": "code",
   "execution_count": null,
   "id": "5291685a",
   "metadata": {
    "ExecuteTime": {
     "end_time": "2023-01-30T11:36:41.254008Z",
     "start_time": "2023-01-30T11:36:41.254008Z"
    }
   },
   "outputs": [],
   "source": [
    "for col in test_df_26.index:\n",
    "    if col == test_df_26.index[-8]:\n",
    "        break\n",
    "    # 테스트 데이터\n",
    "    re_sample = test_df_26.loc[col,:]\n",
    "    longitude = re_sample[\"longitude\"]\n",
    "    latitude = re_sample[\"latitude\"]\n",
    "    current_point = (latitude, longitude)\n",
    "    \n",
    "    # 1. 순간 속력 (AIS) \n",
    "    current_speed = re_sample[\"speed\"]\n",
    "    current_position_timestamp = re_sample[\"time_position_data_received\"]\n",
    "#     if current_speed < 7:\n",
    "#         continue\n",
    "    # 현재 위치에서 가장 짧은 segment 찾기\n",
    "    shortest_distance = 9999\n",
    "    for seg_no, seg_df in enumerate(low_speed_df_list):\n",
    "        for idx in seg_df.index:\n",
    "            LONGITUDE = seg_df.loc[idx, \"longitude\"]\n",
    "            LATITUDE = seg_df.loc[idx, \"latitude\"]\n",
    "\n",
    "            ais_point = (LATITUDE, LONGITUDE)\n",
    "            distance = haversine(current_point, ais_point, unit=\"km\")\n",
    "            # 가장 짧은 segment 간의 거리, segment 번호, 인덱스 저장\n",
    "            if distance <= shortest_distance:\n",
    "                shortest_distance = distance \n",
    "                shortest_point_idx = seg_df.loc[idx, \"index\"]\n",
    "                shortest_seg_no = seg_no\n",
    "                \n",
    "    # 다음 인덱스\n",
    "#     optimal_point_idx = optimal_next_point(current_point, shortest_point_idx, shortest_distance, low_speed_interpolated_df)\n",
    "    optimal_point_idx = low_speed_interpolated_df.query(f'index == {shortest_point_idx}').index[0] + 1\n",
    "    lon_optimal = low_speed_interpolated_df.loc[optimal_point_idx, \"longitude\"]\n",
    "    lat_optimal = low_speed_interpolated_df.loc[optimal_point_idx, \"latitude\"]\n",
    "    \n",
    "    optimal_point = (lat_optimal, lon_optimal)\n",
    "    optimal_distance = haversine(current_point, optimal_point, unit=\"km\")\n",
    "    km_h = current_speed * 1.852\n",
    "    init_duration = cal_duration(km_h, optimal_distance)\n",
    "    \n",
    "    \n",
    "    # 가장 가까운 segment 찾기\n",
    "    \n",
    "    optimal_seg_no = find_segment_no(optimal_point_idx, low_speed_interpolated_df,the_number_of_segment)\n",
    "    if optimal_seg_no == the_number_of_segment:\n",
    "        continue\n",
    "    initial_seg_df = low_speed_df_list[optimal_seg_no]\n",
    "    # speed_damping_ratio는 각 segment에 맞게\n",
    "#     speed_damping_ratio = current_speed / initial_seg_df[\"speed\"].mean()\n",
    "    speed_damping_ratio = 1\n",
    "    km_h = current_speed * 1.852 * speed_damping_ratio\n",
    "    \n",
    "    \n",
    "    remaining_initial_seg_df = initial_seg_df.loc[optimal_point_idx:,:]\n",
    "    remaining_initial_seg_df.reset_index(inplace=True, drop=True)\n",
    "    accu_distance = 0\n",
    "    for idx in remaining_initial_seg_df.index:\n",
    "        if idx != 0:\n",
    "            LONGITUDE = remaining_initial_seg_df.loc[idx, \"longitude\"]\n",
    "            LATITUDE = remaining_initial_seg_df.loc[idx, \"latitude\"]\n",
    "            current_coord = (LATITUDE, LONGITUDE)\n",
    "\n",
    "            LONGITUDE = remaining_initial_seg_df.loc[idx - 1, \"longitude\"]\n",
    "            LATITUDE = remaining_initial_seg_df.loc[idx - 1, \"latitude\"]\n",
    "            previous_current_coord = (LATITUDE, LONGITUDE)\n",
    "            \n",
    "            accu_distance += haversine(current_coord, previous_current_coord, unit=\"km\")\n",
    "            \n",
    "    duration_0 = cal_duration(km_h, accu_distance)\n",
    "    duration_0 = duration_0 + init_duration\n",
    "    \n",
    "    \n",
    "        \n",
    "    dura_list = []  \n",
    "    for next_seg_no in range(optimal_seg_no + 1, the_number_of_segment):\n",
    "        next_seg_df = low_speed_df_list[next_seg_no]\n",
    "        \n",
    "        seg_mean_speed = next_seg_df['speed'].mean()\n",
    "#         speed_damping_ratio = current_speed / seg_mean_speed\n",
    "        speed_damping_ratio = 1\n",
    "        damped_mean_speed = seg_mean_speed * speed_damping_ratio\n",
    "        km_h = damped_mean_speed * 1.852\n",
    "        distance = reckon_point_lengths(next_seg_df)\n",
    "        dura_list.append(cal_duration(km_h, distance))\n",
    "    \n",
    "    accu_timedelta = datetime.timedelta(seconds=0)\n",
    "    for i in dura_list:\n",
    "        accu_timedelta += i\n",
    "    # 현재 시간 + duration = ETA\n",
    "    ETA = current_position_timestamp + accu_timedelta\n",
    "    test_df_26.loc[col,'ETA'] = ETA\n",
    "    optimal_seg_no = 0\n",
    "\n",
    "test_df_26['ATA'] = test_df_26.loc[test_df_26.index[-1],\"time_position_data_received\"]\n",
    "test_df_26['error'] = abs(test_df_26['ATA'] - test_df_26['ETA'])\n",
    "\n",
    "experiment_no = f\"4.6.2.1_{the_number_of_segment}\".replace(\".\",\"_\")\n",
    "result_df_dict['experiment_no'].append(experiment_no)\n",
    "result_df_dict['mean_speed'].append(test_df_26.loc[test_df_26.index[:-20]][\"error\"].mean())\n",
    "result_df_dict['max_speed'].append(test_df_26.loc[test_df_26.index[:-20]][\"error\"].max())\n",
    "\n",
    "globals()[f\"exp_result_df_{experiment_no}\"] = test_df_26"
   ]
  },
  {
   "cell_type": "code",
   "execution_count": null,
   "id": "722ce1bc",
   "metadata": {
    "ExecuteTime": {
     "end_time": "2023-01-30T11:36:41.255008Z",
     "start_time": "2023-01-30T11:36:41.255008Z"
    }
   },
   "outputs": [],
   "source": [
    "print(\"최대:\", test_df_26.loc[test_df_26.index[:-20]][\"error\"].max())\n",
    "print(\"평균:\", test_df_26.loc[test_df_26.index[:-20]][\"error\"].mean())"
   ]
  },
  {
   "cell_type": "code",
   "execution_count": null,
   "id": "2e3be2ac",
   "metadata": {
    "ExecuteTime": {
     "end_time": "2023-01-30T11:36:41.255008Z",
     "start_time": "2023-01-30T11:36:41.255008Z"
    }
   },
   "outputs": [],
   "source": [
    "test_df_26.loc[test_df_26['error'].dropna(axis=0).index].sort_values(by=\"error\")"
   ]
  },
  {
   "cell_type": "code",
   "execution_count": null,
   "id": "d9b151dd",
   "metadata": {},
   "outputs": [],
   "source": []
  },
  {
   "cell_type": "markdown",
   "id": "99555d1f",
   "metadata": {
    "code_folding": []
   },
   "source": [
    "## segment 90"
   ]
  },
  {
   "cell_type": "code",
   "execution_count": null,
   "id": "a838c69f",
   "metadata": {
    "ExecuteTime": {
     "end_time": "2023-01-30T11:36:41.244938Z",
     "start_time": "2023-01-30T11:36:41.244938Z"
    }
   },
   "outputs": [],
   "source": [
    "the_number_of_segment = 90"
   ]
  },
  {
   "cell_type": "code",
   "execution_count": null,
   "id": "7267dde7",
   "metadata": {
    "ExecuteTime": {
     "end_time": "2023-01-30T11:36:41.245936Z",
     "start_time": "2023-01-30T11:36:41.245936Z"
    }
   },
   "outputs": [],
   "source": [
    "seg_length = int(len(low_speed_interpolated_df) / the_number_of_segment)"
   ]
  },
  {
   "cell_type": "code",
   "execution_count": null,
   "id": "57da48c2",
   "metadata": {
    "ExecuteTime": {
     "end_time": "2023-01-30T11:36:41.246937Z",
     "start_time": "2023-01-30T11:36:41.246937Z"
    }
   },
   "outputs": [],
   "source": [
    "low_speed_df_list = []\n",
    "for i in range(the_number_of_segment):\n",
    "    idx = seg_length * (i + 1)\n",
    "    if i == 0:\n",
    "        df = low_speed_interpolated_df.loc[0:idx - 1]\n",
    "        df.reset_index(inplace=True)\n",
    "    else:\n",
    "        df = low_speed_interpolated_df.loc[idx - seg_length:idx - 1]\n",
    "        df.reset_index(inplace=True)\n",
    "    low_speed_df_list.append(df)"
   ]
  },
  {
   "cell_type": "code",
   "execution_count": null,
   "id": "5a11d27d",
   "metadata": {
    "ExecuteTime": {
     "end_time": "2023-01-30T11:36:41.247935Z",
     "start_time": "2023-01-30T11:36:41.247935Z"
    }
   },
   "outputs": [],
   "source": [
    "for df in low_speed_df_list:\n",
    "    d = df[\"speed\"].mean()\n",
    "#     print(d)"
   ]
  },
  {
   "cell_type": "markdown",
   "id": "8550e61f",
   "metadata": {},
   "source": [
    "### 저속 (7knot 미만 제거)"
   ]
  },
  {
   "cell_type": "markdown",
   "id": "5aa5421e",
   "metadata": {},
   "source": [
    "#### 3. 순간 속력 이용 + 알고리즘 x  +  감속 계수 x"
   ]
  },
  {
   "cell_type": "code",
   "execution_count": null,
   "id": "66ed4c91",
   "metadata": {
    "ExecuteTime": {
     "end_time": "2023-01-30T11:36:41.248936Z",
     "start_time": "2023-01-30T11:36:41.248936Z"
    }
   },
   "outputs": [],
   "source": [
    "test_df_26 = pd.read_csv(\"voy_path/upper_china/processed/COSCO_FOS_VRKR6_2022_29processed.csv\")\n",
    "test_df_26['timestamp'] = pd.to_datetime(test_df_26['timestamp'])\n",
    "test_df_26['time_position_data_received'] = pd.to_datetime(test_df_26['time_position_data_received'])\n",
    "test_df_26['time_voyage_data_received'] = pd.to_datetime(test_df_26['time_voyage_data_received'])\n",
    "test_df_26.drop('index', axis=1, inplace=True)\n",
    "test_df_26 = test_df_26.loc[test_df_26[['longitude','latitude','time_position_data_received']].drop_duplicates().index]\n",
    "test_df_26.reset_index(inplace=True, drop=True)"
   ]
  },
  {
   "cell_type": "code",
   "execution_count": null,
   "id": "c12d8c8e",
   "metadata": {
    "ExecuteTime": {
     "end_time": "2023-01-30T11:36:41.249939Z",
     "start_time": "2023-01-30T11:36:41.249939Z"
    }
   },
   "outputs": [],
   "source": [
    "for col in test_df_26.index:\n",
    "    if col == test_df_26.index[-8]:\n",
    "        break\n",
    "    # 테스트 데이터\n",
    "    re_sample = test_df_26.loc[col,:]\n",
    "    longitude = re_sample[\"longitude\"]\n",
    "    latitude = re_sample[\"latitude\"]\n",
    "    current_point = (latitude, longitude)\n",
    "    \n",
    "    # 1. 순간 속력 (AIS) \n",
    "    current_speed = re_sample[\"speed\"]\n",
    "    current_position_timestamp = re_sample[\"time_position_data_received\"]\n",
    "    if current_speed < 7:\n",
    "        continue\n",
    "    # 현재 위치에서 가장 짧은 segment 찾기\n",
    "    shortest_distance = 9999\n",
    "    for seg_no, seg_df in enumerate(low_speed_df_list):\n",
    "        for idx in seg_df.index:\n",
    "            LONGITUDE = seg_df.loc[idx, \"longitude\"]\n",
    "            LATITUDE = seg_df.loc[idx, \"latitude\"]\n",
    "\n",
    "            ais_point = (LATITUDE, LONGITUDE)\n",
    "            distance = haversine(current_point, ais_point, unit=\"km\")\n",
    "            # 가장 짧은 segment 간의 거리, segment 번호, 인덱스 저장\n",
    "            if distance <= shortest_distance:\n",
    "                shortest_distance = distance \n",
    "                shortest_point_idx = seg_df.loc[idx, \"index\"]\n",
    "                shortest_seg_no = seg_no\n",
    "                \n",
    "    # 다음 인덱스\n",
    "#     optimal_point_idx = optimal_next_point(current_point, shortest_point_idx, shortest_distance, low_speed_interpolated_df)\n",
    "    optimal_point_idx = low_speed_interpolated_df.query(f'index == {shortest_point_idx}').index[0] + 1\n",
    "    lon_optimal = low_speed_interpolated_df.loc[optimal_point_idx, \"longitude\"]\n",
    "    lat_optimal = low_speed_interpolated_df.loc[optimal_point_idx, \"latitude\"]\n",
    "    \n",
    "    optimal_point = (lat_optimal, lon_optimal)\n",
    "    optimal_distance = haversine(current_point, optimal_point, unit=\"km\")\n",
    "    km_h = current_speed * 1.852\n",
    "    init_duration = cal_duration(km_h, optimal_distance)\n",
    "    \n",
    "    \n",
    "    # 가장 가까운 segment 찾기\n",
    "    \n",
    "    optimal_seg_no = find_segment_no(optimal_point_idx, low_speed_interpolated_df,the_number_of_segment)\n",
    "    if optimal_seg_no == the_number_of_segment:\n",
    "        continue\n",
    "    initial_seg_df = low_speed_df_list[optimal_seg_no]\n",
    "    # speed_damping_ratio는 각 segment에 맞게\n",
    "#     speed_damping_ratio = current_speed / initial_seg_df[\"speed\"].mean()\n",
    "    speed_damping_ratio = 1\n",
    "    km_h = current_speed * 1.852 * speed_damping_ratio\n",
    "    \n",
    "    \n",
    "    remaining_initial_seg_df = initial_seg_df.loc[optimal_point_idx:,:]\n",
    "    remaining_initial_seg_df.reset_index(inplace=True, drop=True)\n",
    "    accu_distance = 0\n",
    "    for idx in remaining_initial_seg_df.index:\n",
    "        if idx != 0:\n",
    "            LONGITUDE = remaining_initial_seg_df.loc[idx, \"longitude\"]\n",
    "            LATITUDE = remaining_initial_seg_df.loc[idx, \"latitude\"]\n",
    "            current_coord = (LATITUDE, LONGITUDE)\n",
    "\n",
    "            LONGITUDE = remaining_initial_seg_df.loc[idx - 1, \"longitude\"]\n",
    "            LATITUDE = remaining_initial_seg_df.loc[idx - 1, \"latitude\"]\n",
    "            previous_current_coord = (LATITUDE, LONGITUDE)\n",
    "            \n",
    "            accu_distance += haversine(current_coord, previous_current_coord, unit=\"km\")\n",
    "            \n",
    "    duration_0 = cal_duration(km_h, accu_distance)\n",
    "    duration_0 = duration_0 + init_duration\n",
    "    \n",
    "    \n",
    "        \n",
    "    dura_list = []  \n",
    "    for next_seg_no in range(optimal_seg_no + 1, the_number_of_segment):\n",
    "        next_seg_df = low_speed_df_list[next_seg_no]\n",
    "        \n",
    "        seg_mean_speed = next_seg_df['speed'].mean()\n",
    "#         speed_damping_ratio = current_speed / seg_mean_speed\n",
    "        speed_damping_ratio = 1\n",
    "        damped_mean_speed = seg_mean_speed * speed_damping_ratio\n",
    "        km_h = damped_mean_speed * 1.852\n",
    "        distance = reckon_point_lengths(next_seg_df)\n",
    "        dura_list.append(cal_duration(km_h, distance))\n",
    "    \n",
    "    accu_timedelta = datetime.timedelta(seconds=0)\n",
    "    for i in dura_list:\n",
    "        accu_timedelta += i\n",
    "    # 현재 시간 + duration = ETA\n",
    "    ETA = current_position_timestamp + accu_timedelta\n",
    "    test_df_26.loc[col,'ETA'] = ETA\n",
    "    optimal_seg_no = 0\n",
    "\n",
    "test_df_26['ATA'] = test_df_26.loc[test_df_26.index[-1],\"time_position_data_received\"]\n",
    "test_df_26['error'] = abs(test_df_26['ATA'] - test_df_26['ETA'])\n",
    "\n",
    "experiment_no = f\"4.7.1.1_{the_number_of_segment}\".replace(\".\",\"_\")\n",
    "result_df_dict['experiment_no'].append(experiment_no)\n",
    "result_df_dict['mean_speed'].append(test_df_26.loc[test_df_26.index[:-20]][\"error\"].mean())\n",
    "result_df_dict['max_speed'].append(test_df_26.loc[test_df_26.index[:-20]][\"error\"].max())\n",
    "\n",
    "globals()[f\"exp_result_df_{experiment_no}\"] = test_df_26"
   ]
  },
  {
   "cell_type": "code",
   "execution_count": null,
   "id": "df58ec2c",
   "metadata": {
    "ExecuteTime": {
     "end_time": "2023-01-30T11:36:41.250937Z",
     "start_time": "2023-01-30T11:36:41.250937Z"
    }
   },
   "outputs": [],
   "source": [
    "print(\"최대:\", test_df_26.loc[test_df_26.index[:-20]][\"error\"].max())\n",
    "print(\"평균:\", test_df_26.loc[test_df_26.index[:-20]][\"error\"].mean())"
   ]
  },
  {
   "cell_type": "code",
   "execution_count": null,
   "id": "b0dc954a",
   "metadata": {
    "ExecuteTime": {
     "end_time": "2023-01-30T11:36:41.251937Z",
     "start_time": "2023-01-30T11:36:41.251937Z"
    }
   },
   "outputs": [],
   "source": [
    "test_df_26.loc[test_df_26['error'].dropna(axis=0).index].sort_values(by=\"error\")"
   ]
  },
  {
   "cell_type": "code",
   "execution_count": null,
   "id": "1fa9b356",
   "metadata": {},
   "outputs": [],
   "source": []
  },
  {
   "cell_type": "markdown",
   "id": "fb0a7e16",
   "metadata": {},
   "source": [
    "### 저속 (7knot 미만 포함)"
   ]
  },
  {
   "cell_type": "markdown",
   "id": "2cf29603",
   "metadata": {},
   "source": [
    "#### 3. 순간 속력 이용 + 알고리즘 x  +  감속 계수 x"
   ]
  },
  {
   "cell_type": "code",
   "execution_count": null,
   "id": "8ddb3ba4",
   "metadata": {
    "ExecuteTime": {
     "end_time": "2023-01-30T11:36:41.253007Z",
     "start_time": "2023-01-30T11:36:41.253007Z"
    }
   },
   "outputs": [],
   "source": [
    "test_df_26 = pd.read_csv(\"voy_path/upper_china/processed/COSCO_FOS_VRKR6_2022_29processed.csv\")\n",
    "test_df_26['timestamp'] = pd.to_datetime(test_df_26['timestamp'])\n",
    "test_df_26['time_position_data_received'] = pd.to_datetime(test_df_26['time_position_data_received'])\n",
    "test_df_26['time_voyage_data_received'] = pd.to_datetime(test_df_26['time_voyage_data_received'])\n",
    "test_df_26.drop('index', axis=1, inplace=True)\n",
    "test_df_26 = test_df_26.loc[test_df_26[['longitude','latitude','time_position_data_received']].drop_duplicates().index]\n",
    "test_df_26.reset_index(inplace=True, drop=True)"
   ]
  },
  {
   "cell_type": "code",
   "execution_count": null,
   "id": "12397ba8",
   "metadata": {
    "ExecuteTime": {
     "end_time": "2023-01-30T11:36:41.254008Z",
     "start_time": "2023-01-30T11:36:41.254008Z"
    }
   },
   "outputs": [],
   "source": [
    "for col in test_df_26.index:\n",
    "    if col == test_df_26.index[-8]:\n",
    "        break\n",
    "    # 테스트 데이터\n",
    "    re_sample = test_df_26.loc[col,:]\n",
    "    longitude = re_sample[\"longitude\"]\n",
    "    latitude = re_sample[\"latitude\"]\n",
    "    current_point = (latitude, longitude)\n",
    "    \n",
    "    # 1. 순간 속력 (AIS) \n",
    "    current_speed = re_sample[\"speed\"]\n",
    "    current_position_timestamp = re_sample[\"time_position_data_received\"]\n",
    "#     if current_speed < 7:\n",
    "#         continue\n",
    "    # 현재 위치에서 가장 짧은 segment 찾기\n",
    "    shortest_distance = 9999\n",
    "    for seg_no, seg_df in enumerate(low_speed_df_list):\n",
    "        for idx in seg_df.index:\n",
    "            LONGITUDE = seg_df.loc[idx, \"longitude\"]\n",
    "            LATITUDE = seg_df.loc[idx, \"latitude\"]\n",
    "\n",
    "            ais_point = (LATITUDE, LONGITUDE)\n",
    "            distance = haversine(current_point, ais_point, unit=\"km\")\n",
    "            # 가장 짧은 segment 간의 거리, segment 번호, 인덱스 저장\n",
    "            if distance <= shortest_distance:\n",
    "                shortest_distance = distance \n",
    "                shortest_point_idx = seg_df.loc[idx, \"index\"]\n",
    "                shortest_seg_no = seg_no\n",
    "                \n",
    "    # 다음 인덱스\n",
    "#     optimal_point_idx = optimal_next_point(current_point, shortest_point_idx, shortest_distance, low_speed_interpolated_df)\n",
    "    optimal_point_idx = low_speed_interpolated_df.query(f'index == {shortest_point_idx}').index[0] + 1\n",
    "    lon_optimal = low_speed_interpolated_df.loc[optimal_point_idx, \"longitude\"]\n",
    "    lat_optimal = low_speed_interpolated_df.loc[optimal_point_idx, \"latitude\"]\n",
    "    \n",
    "    optimal_point = (lat_optimal, lon_optimal)\n",
    "    optimal_distance = haversine(current_point, optimal_point, unit=\"km\")\n",
    "    km_h = current_speed * 1.852\n",
    "    init_duration = cal_duration(km_h, optimal_distance)\n",
    "    \n",
    "    \n",
    "    # 가장 가까운 segment 찾기\n",
    "    \n",
    "    optimal_seg_no = find_segment_no(optimal_point_idx, low_speed_interpolated_df,the_number_of_segment)\n",
    "    if optimal_seg_no == the_number_of_segment:\n",
    "        continue\n",
    "    initial_seg_df = low_speed_df_list[optimal_seg_no]\n",
    "    # speed_damping_ratio는 각 segment에 맞게\n",
    "#     speed_damping_ratio = current_speed / initial_seg_df[\"speed\"].mean()\n",
    "    speed_damping_ratio = 1\n",
    "    km_h = current_speed * 1.852 * speed_damping_ratio\n",
    "    \n",
    "    \n",
    "    remaining_initial_seg_df = initial_seg_df.loc[optimal_point_idx:,:]\n",
    "    remaining_initial_seg_df.reset_index(inplace=True, drop=True)\n",
    "    accu_distance = 0\n",
    "    for idx in remaining_initial_seg_df.index:\n",
    "        if idx != 0:\n",
    "            LONGITUDE = remaining_initial_seg_df.loc[idx, \"longitude\"]\n",
    "            LATITUDE = remaining_initial_seg_df.loc[idx, \"latitude\"]\n",
    "            current_coord = (LATITUDE, LONGITUDE)\n",
    "\n",
    "            LONGITUDE = remaining_initial_seg_df.loc[idx - 1, \"longitude\"]\n",
    "            LATITUDE = remaining_initial_seg_df.loc[idx - 1, \"latitude\"]\n",
    "            previous_current_coord = (LATITUDE, LONGITUDE)\n",
    "            \n",
    "            accu_distance += haversine(current_coord, previous_current_coord, unit=\"km\")\n",
    "            \n",
    "    duration_0 = cal_duration(km_h, accu_distance)\n",
    "    duration_0 = duration_0 + init_duration\n",
    "    \n",
    "    \n",
    "        \n",
    "    dura_list = []  \n",
    "    for next_seg_no in range(optimal_seg_no + 1, the_number_of_segment):\n",
    "        next_seg_df = low_speed_df_list[next_seg_no]\n",
    "        \n",
    "        seg_mean_speed = next_seg_df['speed'].mean()\n",
    "#         speed_damping_ratio = current_speed / seg_mean_speed\n",
    "        speed_damping_ratio = 1\n",
    "        damped_mean_speed = seg_mean_speed * speed_damping_ratio\n",
    "        km_h = damped_mean_speed * 1.852\n",
    "        distance = reckon_point_lengths(next_seg_df)\n",
    "        dura_list.append(cal_duration(km_h, distance))\n",
    "    \n",
    "    accu_timedelta = datetime.timedelta(seconds=0)\n",
    "    for i in dura_list:\n",
    "        accu_timedelta += i\n",
    "    # 현재 시간 + duration = ETA\n",
    "    ETA = current_position_timestamp + accu_timedelta\n",
    "    test_df_26.loc[col,'ETA'] = ETA\n",
    "    optimal_seg_no = 0\n",
    "\n",
    "test_df_26['ATA'] = test_df_26.loc[test_df_26.index[-1],\"time_position_data_received\"]\n",
    "test_df_26['error'] = abs(test_df_26['ATA'] - test_df_26['ETA'])\n",
    "\n",
    "experiment_no = f\"4.7.2.1_{the_number_of_segment}\".replace(\".\",\"_\")\n",
    "result_df_dict['experiment_no'].append(experiment_no)\n",
    "result_df_dict['mean_speed'].append(test_df_26.loc[test_df_26.index[:-20]][\"error\"].mean())\n",
    "result_df_dict['max_speed'].append(test_df_26.loc[test_df_26.index[:-20]][\"error\"].max())\n",
    "\n",
    "globals()[f\"exp_result_df_{experiment_no}\"] = test_df_26"
   ]
  },
  {
   "cell_type": "code",
   "execution_count": null,
   "id": "6b578814",
   "metadata": {
    "ExecuteTime": {
     "end_time": "2023-01-30T11:36:41.255008Z",
     "start_time": "2023-01-30T11:36:41.255008Z"
    }
   },
   "outputs": [],
   "source": [
    "print(\"최대:\", test_df_26.loc[test_df_26.index[:-20]][\"error\"].max())\n",
    "print(\"평균:\", test_df_26.loc[test_df_26.index[:-20]][\"error\"].mean())"
   ]
  },
  {
   "cell_type": "code",
   "execution_count": null,
   "id": "49a5263f",
   "metadata": {
    "ExecuteTime": {
     "end_time": "2023-01-30T11:36:41.255008Z",
     "start_time": "2023-01-30T11:36:41.255008Z"
    }
   },
   "outputs": [],
   "source": [
    "test_df_26.loc[test_df_26['error'].dropna(axis=0).index].sort_values(by=\"error\")"
   ]
  },
  {
   "cell_type": "code",
   "execution_count": null,
   "id": "c5a4afe8",
   "metadata": {},
   "outputs": [],
   "source": []
  },
  {
   "cell_type": "markdown",
   "id": "04f2a15d",
   "metadata": {
    "code_folding": []
   },
   "source": [
    "## segment 110"
   ]
  },
  {
   "cell_type": "code",
   "execution_count": null,
   "id": "12860bdb",
   "metadata": {
    "ExecuteTime": {
     "end_time": "2023-01-30T11:36:41.244938Z",
     "start_time": "2023-01-30T11:36:41.244938Z"
    }
   },
   "outputs": [],
   "source": [
    "the_number_of_segment = 110"
   ]
  },
  {
   "cell_type": "code",
   "execution_count": null,
   "id": "3044e935",
   "metadata": {
    "ExecuteTime": {
     "end_time": "2023-01-30T11:36:41.245936Z",
     "start_time": "2023-01-30T11:36:41.245936Z"
    }
   },
   "outputs": [],
   "source": [
    "seg_length = int(len(low_speed_interpolated_df) / the_number_of_segment)"
   ]
  },
  {
   "cell_type": "code",
   "execution_count": null,
   "id": "8dd2b04e",
   "metadata": {
    "ExecuteTime": {
     "end_time": "2023-01-30T11:36:41.246937Z",
     "start_time": "2023-01-30T11:36:41.246937Z"
    }
   },
   "outputs": [],
   "source": [
    "low_speed_df_list = []\n",
    "for i in range(the_number_of_segment):\n",
    "    idx = seg_length * (i + 1)\n",
    "    if i == 0:\n",
    "        df = low_speed_interpolated_df.loc[0:idx - 1]\n",
    "        df.reset_index(inplace=True)\n",
    "    else:\n",
    "        df = low_speed_interpolated_df.loc[idx - seg_length:idx - 1]\n",
    "        df.reset_index(inplace=True)\n",
    "    low_speed_df_list.append(df)"
   ]
  },
  {
   "cell_type": "code",
   "execution_count": null,
   "id": "80f40b8e",
   "metadata": {
    "ExecuteTime": {
     "end_time": "2023-01-30T11:36:41.247935Z",
     "start_time": "2023-01-30T11:36:41.247935Z"
    }
   },
   "outputs": [],
   "source": [
    "for df in low_speed_df_list:\n",
    "    d = df[\"speed\"].mean()\n",
    "#     print(d)"
   ]
  },
  {
   "cell_type": "markdown",
   "id": "70650407",
   "metadata": {},
   "source": [
    "### 저속 (7knot 미만 제거)"
   ]
  },
  {
   "cell_type": "markdown",
   "id": "2648f4b4",
   "metadata": {},
   "source": [
    "#### 3. 순간 속력 이용 + 알고리즘 x  +  감속 계수 x"
   ]
  },
  {
   "cell_type": "code",
   "execution_count": null,
   "id": "2dac9644",
   "metadata": {
    "ExecuteTime": {
     "end_time": "2023-01-30T11:36:41.248936Z",
     "start_time": "2023-01-30T11:36:41.248936Z"
    }
   },
   "outputs": [],
   "source": [
    "test_df_26 = pd.read_csv(\"voy_path/upper_china/processed/COSCO_FOS_VRKR6_2022_29processed.csv\")\n",
    "test_df_26['timestamp'] = pd.to_datetime(test_df_26['timestamp'])\n",
    "test_df_26['time_position_data_received'] = pd.to_datetime(test_df_26['time_position_data_received'])\n",
    "test_df_26['time_voyage_data_received'] = pd.to_datetime(test_df_26['time_voyage_data_received'])\n",
    "test_df_26.drop('index', axis=1, inplace=True)\n",
    "test_df_26 = test_df_26.loc[test_df_26[['longitude','latitude','time_position_data_received']].drop_duplicates().index]\n",
    "test_df_26.reset_index(inplace=True, drop=True)"
   ]
  },
  {
   "cell_type": "code",
   "execution_count": null,
   "id": "e53e7566",
   "metadata": {
    "ExecuteTime": {
     "end_time": "2023-01-30T11:36:41.249939Z",
     "start_time": "2023-01-30T11:36:41.249939Z"
    }
   },
   "outputs": [],
   "source": [
    "for col in test_df_26.index:\n",
    "    if col == test_df_26.index[-8]:\n",
    "        break\n",
    "    # 테스트 데이터\n",
    "    re_sample = test_df_26.loc[col,:]\n",
    "    longitude = re_sample[\"longitude\"]\n",
    "    latitude = re_sample[\"latitude\"]\n",
    "    current_point = (latitude, longitude)\n",
    "    \n",
    "    # 1. 순간 속력 (AIS) \n",
    "    current_speed = re_sample[\"speed\"]\n",
    "    current_position_timestamp = re_sample[\"time_position_data_received\"]\n",
    "    if current_speed < 7:\n",
    "        continue\n",
    "    # 현재 위치에서 가장 짧은 segment 찾기\n",
    "    shortest_distance = 9999\n",
    "    for seg_no, seg_df in enumerate(low_speed_df_list):\n",
    "        for idx in seg_df.index:\n",
    "            LONGITUDE = seg_df.loc[idx, \"longitude\"]\n",
    "            LATITUDE = seg_df.loc[idx, \"latitude\"]\n",
    "\n",
    "            ais_point = (LATITUDE, LONGITUDE)\n",
    "            distance = haversine(current_point, ais_point, unit=\"km\")\n",
    "            # 가장 짧은 segment 간의 거리, segment 번호, 인덱스 저장\n",
    "            if distance <= shortest_distance:\n",
    "                shortest_distance = distance \n",
    "                shortest_point_idx = seg_df.loc[idx, \"index\"]\n",
    "                shortest_seg_no = seg_no\n",
    "                \n",
    "    # 다음 인덱스\n",
    "#     optimal_point_idx = optimal_next_point(current_point, shortest_point_idx, shortest_distance, low_speed_interpolated_df)\n",
    "    optimal_point_idx = low_speed_interpolated_df.query(f'index == {shortest_point_idx}').index[0] + 1\n",
    "    lon_optimal = low_speed_interpolated_df.loc[optimal_point_idx, \"longitude\"]\n",
    "    lat_optimal = low_speed_interpolated_df.loc[optimal_point_idx, \"latitude\"]\n",
    "    \n",
    "    optimal_point = (lat_optimal, lon_optimal)\n",
    "    optimal_distance = haversine(current_point, optimal_point, unit=\"km\")\n",
    "    km_h = current_speed * 1.852\n",
    "    init_duration = cal_duration(km_h, optimal_distance)\n",
    "    \n",
    "    \n",
    "    # 가장 가까운 segment 찾기\n",
    "    \n",
    "    optimal_seg_no = find_segment_no(optimal_point_idx, low_speed_interpolated_df,the_number_of_segment)\n",
    "    if optimal_seg_no == the_number_of_segment:\n",
    "        continue\n",
    "    initial_seg_df = low_speed_df_list[optimal_seg_no]\n",
    "    # speed_damping_ratio는 각 segment에 맞게\n",
    "#     speed_damping_ratio = current_speed / initial_seg_df[\"speed\"].mean()\n",
    "    speed_damping_ratio = 1\n",
    "    km_h = current_speed * 1.852 * speed_damping_ratio\n",
    "    \n",
    "    \n",
    "    remaining_initial_seg_df = initial_seg_df.loc[optimal_point_idx:,:]\n",
    "    remaining_initial_seg_df.reset_index(inplace=True, drop=True)\n",
    "    accu_distance = 0\n",
    "    for idx in remaining_initial_seg_df.index:\n",
    "        if idx != 0:\n",
    "            LONGITUDE = remaining_initial_seg_df.loc[idx, \"longitude\"]\n",
    "            LATITUDE = remaining_initial_seg_df.loc[idx, \"latitude\"]\n",
    "            current_coord = (LATITUDE, LONGITUDE)\n",
    "\n",
    "            LONGITUDE = remaining_initial_seg_df.loc[idx - 1, \"longitude\"]\n",
    "            LATITUDE = remaining_initial_seg_df.loc[idx - 1, \"latitude\"]\n",
    "            previous_current_coord = (LATITUDE, LONGITUDE)\n",
    "            \n",
    "            accu_distance += haversine(current_coord, previous_current_coord, unit=\"km\")\n",
    "            \n",
    "    duration_0 = cal_duration(km_h, accu_distance)\n",
    "    duration_0 = duration_0 + init_duration\n",
    "    \n",
    "    \n",
    "        \n",
    "    dura_list = []  \n",
    "    for next_seg_no in range(optimal_seg_no + 1, the_number_of_segment):\n",
    "        next_seg_df = low_speed_df_list[next_seg_no]\n",
    "        \n",
    "        seg_mean_speed = next_seg_df['speed'].mean()\n",
    "#         speed_damping_ratio = current_speed / seg_mean_speed\n",
    "        speed_damping_ratio = 1\n",
    "        damped_mean_speed = seg_mean_speed * speed_damping_ratio\n",
    "        km_h = damped_mean_speed * 1.852\n",
    "        distance = reckon_point_lengths(next_seg_df)\n",
    "        dura_list.append(cal_duration(km_h, distance))\n",
    "    \n",
    "    accu_timedelta = datetime.timedelta(seconds=0)\n",
    "    for i in dura_list:\n",
    "        accu_timedelta += i\n",
    "    # 현재 시간 + duration = ETA\n",
    "    ETA = current_position_timestamp + accu_timedelta\n",
    "    test_df_26.loc[col,'ETA'] = ETA\n",
    "    optimal_seg_no = 0\n",
    "\n",
    "test_df_26['ATA'] = test_df_26.loc[test_df_26.index[-1],\"time_position_data_received\"]\n",
    "test_df_26['error'] = abs(test_df_26['ATA'] - test_df_26['ETA'])\n",
    "\n",
    "experiment_no = f\"4.8.1.1_{the_number_of_segment}\".replace(\".\",\"_\")\n",
    "result_df_dict['experiment_no'].append(experiment_no)\n",
    "result_df_dict['mean_speed'].append(test_df_26.loc[test_df_26.index[:-20]][\"error\"].mean())\n",
    "result_df_dict['max_speed'].append(test_df_26.loc[test_df_26.index[:-20]][\"error\"].max())\n",
    "\n",
    "globals()[f\"exp_result_df_{experiment_no}\"] = test_df_26"
   ]
  },
  {
   "cell_type": "code",
   "execution_count": null,
   "id": "ebb751b8",
   "metadata": {
    "ExecuteTime": {
     "end_time": "2023-01-30T11:36:41.250937Z",
     "start_time": "2023-01-30T11:36:41.250937Z"
    }
   },
   "outputs": [],
   "source": [
    "print(\"최대:\", test_df_26.loc[test_df_26.index[:-20]][\"error\"].max())\n",
    "print(\"평균:\", test_df_26.loc[test_df_26.index[:-20]][\"error\"].mean())"
   ]
  },
  {
   "cell_type": "code",
   "execution_count": null,
   "id": "0e5bd1f3",
   "metadata": {
    "ExecuteTime": {
     "end_time": "2023-01-30T11:36:41.251937Z",
     "start_time": "2023-01-30T11:36:41.251937Z"
    }
   },
   "outputs": [],
   "source": [
    "test_df_26.loc[test_df_26['error'].dropna(axis=0).index].sort_values(by=\"error\")"
   ]
  },
  {
   "cell_type": "code",
   "execution_count": null,
   "id": "fdde125d",
   "metadata": {},
   "outputs": [],
   "source": []
  },
  {
   "cell_type": "markdown",
   "id": "fd041337",
   "metadata": {},
   "source": [
    "### 저속 (7knot 미만 포함)"
   ]
  },
  {
   "cell_type": "markdown",
   "id": "21593384",
   "metadata": {},
   "source": [
    "#### 3. 순간 속력 이용 + 알고리즘 x  +  감속 계수 x"
   ]
  },
  {
   "cell_type": "code",
   "execution_count": null,
   "id": "98b74b01",
   "metadata": {
    "ExecuteTime": {
     "end_time": "2023-01-30T11:36:41.253007Z",
     "start_time": "2023-01-30T11:36:41.253007Z"
    }
   },
   "outputs": [],
   "source": [
    "test_df_26 = pd.read_csv(\"voy_path/upper_china/processed/COSCO_FOS_VRKR6_2022_29processed.csv\")\n",
    "test_df_26['timestamp'] = pd.to_datetime(test_df_26['timestamp'])\n",
    "test_df_26['time_position_data_received'] = pd.to_datetime(test_df_26['time_position_data_received'])\n",
    "test_df_26['time_voyage_data_received'] = pd.to_datetime(test_df_26['time_voyage_data_received'])\n",
    "test_df_26.drop('index', axis=1, inplace=True)\n",
    "test_df_26 = test_df_26.loc[test_df_26[['longitude','latitude','time_position_data_received']].drop_duplicates().index]\n",
    "test_df_26.reset_index(inplace=True, drop=True)"
   ]
  },
  {
   "cell_type": "code",
   "execution_count": null,
   "id": "e298e473",
   "metadata": {
    "ExecuteTime": {
     "end_time": "2023-01-30T11:36:41.254008Z",
     "start_time": "2023-01-30T11:36:41.254008Z"
    }
   },
   "outputs": [],
   "source": [
    "for col in test_df_26.index:\n",
    "    if col == test_df_26.index[-8]:\n",
    "        break\n",
    "    # 테스트 데이터\n",
    "    re_sample = test_df_26.loc[col,:]\n",
    "    longitude = re_sample[\"longitude\"]\n",
    "    latitude = re_sample[\"latitude\"]\n",
    "    current_point = (latitude, longitude)\n",
    "    \n",
    "    # 1. 순간 속력 (AIS) \n",
    "    current_speed = re_sample[\"speed\"]\n",
    "    current_position_timestamp = re_sample[\"time_position_data_received\"]\n",
    "#     if current_speed < 7:\n",
    "#         continue\n",
    "    # 현재 위치에서 가장 짧은 segment 찾기\n",
    "    shortest_distance = 9999\n",
    "    for seg_no, seg_df in enumerate(low_speed_df_list):\n",
    "        for idx in seg_df.index:\n",
    "            LONGITUDE = seg_df.loc[idx, \"longitude\"]\n",
    "            LATITUDE = seg_df.loc[idx, \"latitude\"]\n",
    "\n",
    "            ais_point = (LATITUDE, LONGITUDE)\n",
    "            distance = haversine(current_point, ais_point, unit=\"km\")\n",
    "            # 가장 짧은 segment 간의 거리, segment 번호, 인덱스 저장\n",
    "            if distance <= shortest_distance:\n",
    "                shortest_distance = distance \n",
    "                shortest_point_idx = seg_df.loc[idx, \"index\"]\n",
    "                shortest_seg_no = seg_no\n",
    "                \n",
    "    # 다음 인덱스\n",
    "#     optimal_point_idx = optimal_next_point(current_point, shortest_point_idx, shortest_distance, low_speed_interpolated_df)\n",
    "    optimal_point_idx = low_speed_interpolated_df.query(f'index == {shortest_point_idx}').index[0] + 1\n",
    "    lon_optimal = low_speed_interpolated_df.loc[optimal_point_idx, \"longitude\"]\n",
    "    lat_optimal = low_speed_interpolated_df.loc[optimal_point_idx, \"latitude\"]\n",
    "    \n",
    "    optimal_point = (lat_optimal, lon_optimal)\n",
    "    optimal_distance = haversine(current_point, optimal_point, unit=\"km\")\n",
    "    km_h = current_speed * 1.852\n",
    "    init_duration = cal_duration(km_h, optimal_distance)\n",
    "    \n",
    "    \n",
    "    # 가장 가까운 segment 찾기\n",
    "    \n",
    "    optimal_seg_no = find_segment_no(optimal_point_idx, low_speed_interpolated_df,the_number_of_segment)\n",
    "    if optimal_seg_no == the_number_of_segment:\n",
    "        continue\n",
    "    initial_seg_df = low_speed_df_list[optimal_seg_no]\n",
    "    # speed_damping_ratio는 각 segment에 맞게\n",
    "#     speed_damping_ratio = current_speed / initial_seg_df[\"speed\"].mean()\n",
    "    speed_damping_ratio = 1\n",
    "    km_h = current_speed * 1.852 * speed_damping_ratio\n",
    "    \n",
    "    \n",
    "    remaining_initial_seg_df = initial_seg_df.loc[optimal_point_idx:,:]\n",
    "    remaining_initial_seg_df.reset_index(inplace=True, drop=True)\n",
    "    accu_distance = 0\n",
    "    for idx in remaining_initial_seg_df.index:\n",
    "        if idx != 0:\n",
    "            LONGITUDE = remaining_initial_seg_df.loc[idx, \"longitude\"]\n",
    "            LATITUDE = remaining_initial_seg_df.loc[idx, \"latitude\"]\n",
    "            current_coord = (LATITUDE, LONGITUDE)\n",
    "\n",
    "            LONGITUDE = remaining_initial_seg_df.loc[idx - 1, \"longitude\"]\n",
    "            LATITUDE = remaining_initial_seg_df.loc[idx - 1, \"latitude\"]\n",
    "            previous_current_coord = (LATITUDE, LONGITUDE)\n",
    "            \n",
    "            accu_distance += haversine(current_coord, previous_current_coord, unit=\"km\")\n",
    "            \n",
    "    duration_0 = cal_duration(km_h, accu_distance)\n",
    "    duration_0 = duration_0 + init_duration\n",
    "    \n",
    "    \n",
    "        \n",
    "    dura_list = []  \n",
    "    for next_seg_no in range(optimal_seg_no + 1, the_number_of_segment):\n",
    "        next_seg_df = low_speed_df_list[next_seg_no]\n",
    "        \n",
    "        seg_mean_speed = next_seg_df['speed'].mean()\n",
    "#         speed_damping_ratio = current_speed / seg_mean_speed\n",
    "        speed_damping_ratio = 1\n",
    "        damped_mean_speed = seg_mean_speed * speed_damping_ratio\n",
    "        km_h = damped_mean_speed * 1.852\n",
    "        distance = reckon_point_lengths(next_seg_df)\n",
    "        dura_list.append(cal_duration(km_h, distance))\n",
    "    \n",
    "    accu_timedelta = datetime.timedelta(seconds=0)\n",
    "    for i in dura_list:\n",
    "        accu_timedelta += i\n",
    "    # 현재 시간 + duration = ETA\n",
    "    ETA = current_position_timestamp + accu_timedelta\n",
    "    test_df_26.loc[col,'ETA'] = ETA\n",
    "    optimal_seg_no = 0\n",
    "\n",
    "test_df_26['ATA'] = test_df_26.loc[test_df_26.index[-1],\"time_position_data_received\"]\n",
    "test_df_26['error'] = abs(test_df_26['ATA'] - test_df_26['ETA'])\n",
    "\n",
    "experiment_no = f\"4.8.2.1_{the_number_of_segment}\".replace(\".\",\"_\")\n",
    "result_df_dict['experiment_no'].append(experiment_no)\n",
    "result_df_dict['mean_speed'].append(test_df_26.loc[test_df_26.index[:-20]][\"error\"].mean())\n",
    "result_df_dict['max_speed'].append(test_df_26.loc[test_df_26.index[:-20]][\"error\"].max())\n",
    "\n",
    "globals()[f\"exp_result_df_{experiment_no}\"] = test_df_26"
   ]
  },
  {
   "cell_type": "code",
   "execution_count": null,
   "id": "56c819c8",
   "metadata": {
    "ExecuteTime": {
     "end_time": "2023-01-30T11:36:41.255008Z",
     "start_time": "2023-01-30T11:36:41.255008Z"
    }
   },
   "outputs": [],
   "source": [
    "print(\"최대:\", test_df_26.loc[test_df_26.index[:-20]][\"error\"].max())\n",
    "print(\"평균:\", test_df_26.loc[test_df_26.index[:-20]][\"error\"].mean())"
   ]
  },
  {
   "cell_type": "code",
   "execution_count": null,
   "id": "fb21f421",
   "metadata": {
    "ExecuteTime": {
     "end_time": "2023-01-30T11:36:41.255008Z",
     "start_time": "2023-01-30T11:36:41.255008Z"
    }
   },
   "outputs": [],
   "source": [
    "test_df_26.loc[test_df_26['error'].dropna(axis=0).index].sort_values(by=\"error\")"
   ]
  },
  {
   "cell_type": "code",
   "execution_count": null,
   "id": "c016da24",
   "metadata": {},
   "outputs": [],
   "source": []
  },
  {
   "cell_type": "markdown",
   "id": "54b8d7ac",
   "metadata": {
    "code_folding": []
   },
   "source": [
    "## segment 120"
   ]
  },
  {
   "cell_type": "code",
   "execution_count": null,
   "id": "b4537b83",
   "metadata": {
    "ExecuteTime": {
     "end_time": "2023-01-30T11:36:41.244938Z",
     "start_time": "2023-01-30T11:36:41.244938Z"
    }
   },
   "outputs": [],
   "source": [
    "the_number_of_segment = 120"
   ]
  },
  {
   "cell_type": "code",
   "execution_count": null,
   "id": "fb7c6acd",
   "metadata": {
    "ExecuteTime": {
     "end_time": "2023-01-30T11:36:41.245936Z",
     "start_time": "2023-01-30T11:36:41.245936Z"
    }
   },
   "outputs": [],
   "source": [
    "seg_length = int(len(low_speed_interpolated_df) / the_number_of_segment)"
   ]
  },
  {
   "cell_type": "code",
   "execution_count": null,
   "id": "2dafb334",
   "metadata": {
    "ExecuteTime": {
     "end_time": "2023-01-30T11:36:41.246937Z",
     "start_time": "2023-01-30T11:36:41.246937Z"
    }
   },
   "outputs": [],
   "source": [
    "low_speed_df_list = []\n",
    "for i in range(the_number_of_segment):\n",
    "    idx = seg_length * (i + 1)\n",
    "    if i == 0:\n",
    "        df = low_speed_interpolated_df.loc[0:idx - 1]\n",
    "        df.reset_index(inplace=True)\n",
    "    else:\n",
    "        df = low_speed_interpolated_df.loc[idx - seg_length:idx - 1]\n",
    "        df.reset_index(inplace=True)\n",
    "    low_speed_df_list.append(df)"
   ]
  },
  {
   "cell_type": "code",
   "execution_count": null,
   "id": "06741168",
   "metadata": {
    "ExecuteTime": {
     "end_time": "2023-01-30T11:36:41.247935Z",
     "start_time": "2023-01-30T11:36:41.247935Z"
    }
   },
   "outputs": [],
   "source": [
    "for df in low_speed_df_list:\n",
    "    d = df[\"speed\"].mean()\n",
    "#     print(d)"
   ]
  },
  {
   "cell_type": "markdown",
   "id": "ad2a243c",
   "metadata": {},
   "source": [
    "### 저속 (7knot 미만 제거)"
   ]
  },
  {
   "cell_type": "markdown",
   "id": "35dd9ba7",
   "metadata": {},
   "source": [
    "#### 3. 순간 속력 이용 + 알고리즘 x  +  감속 계수 x"
   ]
  },
  {
   "cell_type": "code",
   "execution_count": null,
   "id": "21621fd1",
   "metadata": {
    "ExecuteTime": {
     "end_time": "2023-01-30T11:36:41.248936Z",
     "start_time": "2023-01-30T11:36:41.248936Z"
    }
   },
   "outputs": [],
   "source": [
    "test_df_26 = pd.read_csv(\"voy_path/upper_china/processed/COSCO_FOS_VRKR6_2022_29processed.csv\")\n",
    "test_df_26['timestamp'] = pd.to_datetime(test_df_26['timestamp'])\n",
    "test_df_26['time_position_data_received'] = pd.to_datetime(test_df_26['time_position_data_received'])\n",
    "test_df_26['time_voyage_data_received'] = pd.to_datetime(test_df_26['time_voyage_data_received'])\n",
    "test_df_26.drop('index', axis=1, inplace=True)\n",
    "test_df_26 = test_df_26.loc[test_df_26[['longitude','latitude','time_position_data_received']].drop_duplicates().index]\n",
    "test_df_26.reset_index(inplace=True, drop=True)"
   ]
  },
  {
   "cell_type": "code",
   "execution_count": null,
   "id": "256e8bf5",
   "metadata": {
    "ExecuteTime": {
     "end_time": "2023-01-30T11:36:41.249939Z",
     "start_time": "2023-01-30T11:36:41.249939Z"
    }
   },
   "outputs": [],
   "source": [
    "for col in test_df_26.index:\n",
    "    if col == test_df_26.index[-8]:\n",
    "        break\n",
    "    # 테스트 데이터\n",
    "    re_sample = test_df_26.loc[col,:]\n",
    "    longitude = re_sample[\"longitude\"]\n",
    "    latitude = re_sample[\"latitude\"]\n",
    "    current_point = (latitude, longitude)\n",
    "    \n",
    "    # 1. 순간 속력 (AIS) \n",
    "    current_speed = re_sample[\"speed\"]\n",
    "    current_position_timestamp = re_sample[\"time_position_data_received\"]\n",
    "    if current_speed < 7:\n",
    "        continue\n",
    "    # 현재 위치에서 가장 짧은 segment 찾기\n",
    "    shortest_distance = 9999\n",
    "    for seg_no, seg_df in enumerate(low_speed_df_list):\n",
    "        for idx in seg_df.index:\n",
    "            LONGITUDE = seg_df.loc[idx, \"longitude\"]\n",
    "            LATITUDE = seg_df.loc[idx, \"latitude\"]\n",
    "\n",
    "            ais_point = (LATITUDE, LONGITUDE)\n",
    "            distance = haversine(current_point, ais_point, unit=\"km\")\n",
    "            # 가장 짧은 segment 간의 거리, segment 번호, 인덱스 저장\n",
    "            if distance <= shortest_distance:\n",
    "                shortest_distance = distance \n",
    "                shortest_point_idx = seg_df.loc[idx, \"index\"]\n",
    "                shortest_seg_no = seg_no\n",
    "                \n",
    "    # 다음 인덱스\n",
    "#     optimal_point_idx = optimal_next_point(current_point, shortest_point_idx, shortest_distance, low_speed_interpolated_df)\n",
    "    optimal_point_idx = low_speed_interpolated_df.query(f'index == {shortest_point_idx}').index[0] + 1\n",
    "    lon_optimal = low_speed_interpolated_df.loc[optimal_point_idx, \"longitude\"]\n",
    "    lat_optimal = low_speed_interpolated_df.loc[optimal_point_idx, \"latitude\"]\n",
    "    \n",
    "    optimal_point = (lat_optimal, lon_optimal)\n",
    "    optimal_distance = haversine(current_point, optimal_point, unit=\"km\")\n",
    "    km_h = current_speed * 1.852\n",
    "    init_duration = cal_duration(km_h, optimal_distance)\n",
    "    \n",
    "    \n",
    "    # 가장 가까운 segment 찾기\n",
    "    \n",
    "    optimal_seg_no = find_segment_no(optimal_point_idx, low_speed_interpolated_df,the_number_of_segment)\n",
    "    if optimal_seg_no == the_number_of_segment:\n",
    "        continue\n",
    "    initial_seg_df = low_speed_df_list[optimal_seg_no]\n",
    "    # speed_damping_ratio는 각 segment에 맞게\n",
    "#     speed_damping_ratio = current_speed / initial_seg_df[\"speed\"].mean()\n",
    "    speed_damping_ratio = 1\n",
    "    km_h = current_speed * 1.852 * speed_damping_ratio\n",
    "    \n",
    "    \n",
    "    remaining_initial_seg_df = initial_seg_df.loc[optimal_point_idx:,:]\n",
    "    remaining_initial_seg_df.reset_index(inplace=True, drop=True)\n",
    "    accu_distance = 0\n",
    "    for idx in remaining_initial_seg_df.index:\n",
    "        if idx != 0:\n",
    "            LONGITUDE = remaining_initial_seg_df.loc[idx, \"longitude\"]\n",
    "            LATITUDE = remaining_initial_seg_df.loc[idx, \"latitude\"]\n",
    "            current_coord = (LATITUDE, LONGITUDE)\n",
    "\n",
    "            LONGITUDE = remaining_initial_seg_df.loc[idx - 1, \"longitude\"]\n",
    "            LATITUDE = remaining_initial_seg_df.loc[idx - 1, \"latitude\"]\n",
    "            previous_current_coord = (LATITUDE, LONGITUDE)\n",
    "            \n",
    "            accu_distance += haversine(current_coord, previous_current_coord, unit=\"km\")\n",
    "            \n",
    "    duration_0 = cal_duration(km_h, accu_distance)\n",
    "    duration_0 = duration_0 + init_duration\n",
    "    \n",
    "    \n",
    "        \n",
    "    dura_list = []  \n",
    "    for next_seg_no in range(optimal_seg_no + 1, the_number_of_segment):\n",
    "        next_seg_df = low_speed_df_list[next_seg_no]\n",
    "        \n",
    "        seg_mean_speed = next_seg_df['speed'].mean()\n",
    "#         speed_damping_ratio = current_speed / seg_mean_speed\n",
    "        speed_damping_ratio = 1\n",
    "        damped_mean_speed = seg_mean_speed * speed_damping_ratio\n",
    "        km_h = damped_mean_speed * 1.852\n",
    "        distance = reckon_point_lengths(next_seg_df)\n",
    "        dura_list.append(cal_duration(km_h, distance))\n",
    "    \n",
    "    accu_timedelta = datetime.timedelta(seconds=0)\n",
    "    for i in dura_list:\n",
    "        accu_timedelta += i\n",
    "    # 현재 시간 + duration = ETA\n",
    "    ETA = current_position_timestamp + accu_timedelta\n",
    "    test_df_26.loc[col,'ETA'] = ETA\n",
    "    optimal_seg_no = 0\n",
    "\n",
    "test_df_26['ATA'] = test_df_26.loc[test_df_26.index[-1],\"time_position_data_received\"]\n",
    "test_df_26['error'] = abs(test_df_26['ATA'] - test_df_26['ETA'])\n",
    "\n",
    "experiment_no = f\"4.9.1.1_{the_number_of_segment}\".replace(\".\",\"_\")\n",
    "result_df_dict['experiment_no'].append(experiment_no)\n",
    "result_df_dict['mean_speed'].append(test_df_26.loc[test_df_26.index[:-20]][\"error\"].mean())\n",
    "result_df_dict['max_speed'].append(test_df_26.loc[test_df_26.index[:-20]][\"error\"].max())\n",
    "\n",
    "globals()[f\"exp_result_df_{experiment_no}\"] = test_df_26"
   ]
  },
  {
   "cell_type": "code",
   "execution_count": null,
   "id": "eaa6012a",
   "metadata": {
    "ExecuteTime": {
     "end_time": "2023-01-30T11:36:41.250937Z",
     "start_time": "2023-01-30T11:36:41.250937Z"
    }
   },
   "outputs": [],
   "source": [
    "print(\"최대:\", test_df_26.loc[test_df_26.index[:-20]][\"error\"].max())\n",
    "print(\"평균:\", test_df_26.loc[test_df_26.index[:-20]][\"error\"].mean())"
   ]
  },
  {
   "cell_type": "code",
   "execution_count": null,
   "id": "ce3b28fa",
   "metadata": {
    "ExecuteTime": {
     "end_time": "2023-01-30T11:36:41.251937Z",
     "start_time": "2023-01-30T11:36:41.251937Z"
    }
   },
   "outputs": [],
   "source": [
    "test_df_26.loc[test_df_26['error'].dropna(axis=0).index].sort_values(by=\"error\")"
   ]
  },
  {
   "cell_type": "code",
   "execution_count": null,
   "id": "cdd21ac1",
   "metadata": {},
   "outputs": [],
   "source": []
  },
  {
   "cell_type": "markdown",
   "id": "b4f6b740",
   "metadata": {},
   "source": [
    "### 저속 (7knot 미만 포함)"
   ]
  },
  {
   "cell_type": "markdown",
   "id": "a0e155c1",
   "metadata": {},
   "source": [
    "#### 3. 순간 속력 이용 + 알고리즘 x  +  감속 계수 x"
   ]
  },
  {
   "cell_type": "code",
   "execution_count": null,
   "id": "7a6bdb06",
   "metadata": {
    "ExecuteTime": {
     "end_time": "2023-01-30T11:36:41.253007Z",
     "start_time": "2023-01-30T11:36:41.253007Z"
    }
   },
   "outputs": [],
   "source": [
    "test_df_26 = pd.read_csv(\"voy_path/upper_china/processed/COSCO_FOS_VRKR6_2022_29processed.csv\")\n",
    "test_df_26['timestamp'] = pd.to_datetime(test_df_26['timestamp'])\n",
    "test_df_26['time_position_data_received'] = pd.to_datetime(test_df_26['time_position_data_received'])\n",
    "test_df_26['time_voyage_data_received'] = pd.to_datetime(test_df_26['time_voyage_data_received'])\n",
    "test_df_26.drop('index', axis=1, inplace=True)\n",
    "test_df_26 = test_df_26.loc[test_df_26[['longitude','latitude','time_position_data_received']].drop_duplicates().index]\n",
    "test_df_26.reset_index(inplace=True, drop=True)"
   ]
  },
  {
   "cell_type": "code",
   "execution_count": null,
   "id": "357f3a21",
   "metadata": {
    "ExecuteTime": {
     "end_time": "2023-01-30T11:36:41.254008Z",
     "start_time": "2023-01-30T11:36:41.254008Z"
    }
   },
   "outputs": [],
   "source": [
    "for col in test_df_26.index:\n",
    "    if col == test_df_26.index[-8]:\n",
    "        break\n",
    "    # 테스트 데이터\n",
    "    re_sample = test_df_26.loc[col,:]\n",
    "    longitude = re_sample[\"longitude\"]\n",
    "    latitude = re_sample[\"latitude\"]\n",
    "    current_point = (latitude, longitude)\n",
    "    \n",
    "    # 1. 순간 속력 (AIS) \n",
    "    current_speed = re_sample[\"speed\"]\n",
    "    current_position_timestamp = re_sample[\"time_position_data_received\"]\n",
    "#     if current_speed < 7:\n",
    "#         continue\n",
    "    # 현재 위치에서 가장 짧은 segment 찾기\n",
    "    shortest_distance = 9999\n",
    "    for seg_no, seg_df in enumerate(low_speed_df_list):\n",
    "        for idx in seg_df.index:\n",
    "            LONGITUDE = seg_df.loc[idx, \"longitude\"]\n",
    "            LATITUDE = seg_df.loc[idx, \"latitude\"]\n",
    "\n",
    "            ais_point = (LATITUDE, LONGITUDE)\n",
    "            distance = haversine(current_point, ais_point, unit=\"km\")\n",
    "            # 가장 짧은 segment 간의 거리, segment 번호, 인덱스 저장\n",
    "            if distance <= shortest_distance:\n",
    "                shortest_distance = distance \n",
    "                shortest_point_idx = seg_df.loc[idx, \"index\"]\n",
    "                shortest_seg_no = seg_no\n",
    "                \n",
    "    # 다음 인덱스\n",
    "#     optimal_point_idx = optimal_next_point(current_point, shortest_point_idx, shortest_distance, low_speed_interpolated_df)\n",
    "    optimal_point_idx = low_speed_interpolated_df.query(f'index == {shortest_point_idx}').index[0] + 1\n",
    "    lon_optimal = low_speed_interpolated_df.loc[optimal_point_idx, \"longitude\"]\n",
    "    lat_optimal = low_speed_interpolated_df.loc[optimal_point_idx, \"latitude\"]\n",
    "    \n",
    "    optimal_point = (lat_optimal, lon_optimal)\n",
    "    optimal_distance = haversine(current_point, optimal_point, unit=\"km\")\n",
    "    km_h = current_speed * 1.852\n",
    "    init_duration = cal_duration(km_h, optimal_distance)\n",
    "    \n",
    "    \n",
    "    # 가장 가까운 segment 찾기\n",
    "    \n",
    "    optimal_seg_no = find_segment_no(optimal_point_idx, low_speed_interpolated_df,the_number_of_segment)\n",
    "    if optimal_seg_no == the_number_of_segment:\n",
    "        continue\n",
    "    initial_seg_df = low_speed_df_list[optimal_seg_no]\n",
    "    # speed_damping_ratio는 각 segment에 맞게\n",
    "#     speed_damping_ratio = current_speed / initial_seg_df[\"speed\"].mean()\n",
    "    speed_damping_ratio = 1\n",
    "    km_h = current_speed * 1.852 * speed_damping_ratio\n",
    "    \n",
    "    \n",
    "    remaining_initial_seg_df = initial_seg_df.loc[optimal_point_idx:,:]\n",
    "    remaining_initial_seg_df.reset_index(inplace=True, drop=True)\n",
    "    accu_distance = 0\n",
    "    for idx in remaining_initial_seg_df.index:\n",
    "        if idx != 0:\n",
    "            LONGITUDE = remaining_initial_seg_df.loc[idx, \"longitude\"]\n",
    "            LATITUDE = remaining_initial_seg_df.loc[idx, \"latitude\"]\n",
    "            current_coord = (LATITUDE, LONGITUDE)\n",
    "\n",
    "            LONGITUDE = remaining_initial_seg_df.loc[idx - 1, \"longitude\"]\n",
    "            LATITUDE = remaining_initial_seg_df.loc[idx - 1, \"latitude\"]\n",
    "            previous_current_coord = (LATITUDE, LONGITUDE)\n",
    "            \n",
    "            accu_distance += haversine(current_coord, previous_current_coord, unit=\"km\")\n",
    "            \n",
    "    duration_0 = cal_duration(km_h, accu_distance)\n",
    "    duration_0 = duration_0 + init_duration\n",
    "    \n",
    "    \n",
    "        \n",
    "    dura_list = []  \n",
    "    for next_seg_no in range(optimal_seg_no + 1, the_number_of_segment):\n",
    "        next_seg_df = low_speed_df_list[next_seg_no]\n",
    "        \n",
    "        seg_mean_speed = next_seg_df['speed'].mean()\n",
    "#         speed_damping_ratio = current_speed / seg_mean_speed\n",
    "        speed_damping_ratio = 1\n",
    "        damped_mean_speed = seg_mean_speed * speed_damping_ratio\n",
    "        km_h = damped_mean_speed * 1.852\n",
    "        distance = reckon_point_lengths(next_seg_df)\n",
    "        dura_list.append(cal_duration(km_h, distance))\n",
    "    \n",
    "    accu_timedelta = datetime.timedelta(seconds=0)\n",
    "    for i in dura_list:\n",
    "        accu_timedelta += i\n",
    "    # 현재 시간 + duration = ETA\n",
    "    ETA = current_position_timestamp + accu_timedelta\n",
    "    test_df_26.loc[col,'ETA'] = ETA\n",
    "    optimal_seg_no = 0\n",
    "\n",
    "test_df_26['ATA'] = test_df_26.loc[test_df_26.index[-1],\"time_position_data_received\"]\n",
    "test_df_26['error'] = abs(test_df_26['ATA'] - test_df_26['ETA'])\n",
    "\n",
    "experiment_no = f\"4.9.2.1_{the_number_of_segment}\".replace(\".\",\"_\")\n",
    "result_df_dict['experiment_no'].append(experiment_no)\n",
    "result_df_dict['mean_speed'].append(test_df_26.loc[test_df_26.index[:-20]][\"error\"].mean())\n",
    "result_df_dict['max_speed'].append(test_df_26.loc[test_df_26.index[:-20]][\"error\"].max())\n",
    "\n",
    "globals()[f\"exp_result_df_{experiment_no}\"] = test_df_26"
   ]
  },
  {
   "cell_type": "code",
   "execution_count": null,
   "id": "7ec764f5",
   "metadata": {
    "ExecuteTime": {
     "end_time": "2023-01-30T11:36:41.255008Z",
     "start_time": "2023-01-30T11:36:41.255008Z"
    }
   },
   "outputs": [],
   "source": [
    "print(\"최대:\", test_df_26.loc[test_df_26.index[:-20]][\"error\"].max())\n",
    "print(\"평균:\", test_df_26.loc[test_df_26.index[:-20]][\"error\"].mean())"
   ]
  },
  {
   "cell_type": "code",
   "execution_count": null,
   "id": "2315c61a",
   "metadata": {
    "ExecuteTime": {
     "end_time": "2023-01-30T11:36:41.255008Z",
     "start_time": "2023-01-30T11:36:41.255008Z"
    }
   },
   "outputs": [],
   "source": [
    "test_df_26.loc[test_df_26['error'].dropna(axis=0).index].sort_values(by=\"error\")"
   ]
  },
  {
   "cell_type": "code",
   "execution_count": null,
   "id": "8e24f814",
   "metadata": {},
   "outputs": [],
   "source": []
  },
  {
   "cell_type": "markdown",
   "id": "10de61bc",
   "metadata": {
    "code_folding": []
   },
   "source": [
    "## segment 130"
   ]
  },
  {
   "cell_type": "code",
   "execution_count": null,
   "id": "c66db183",
   "metadata": {
    "ExecuteTime": {
     "end_time": "2023-01-30T11:36:41.244938Z",
     "start_time": "2023-01-30T11:36:41.244938Z"
    }
   },
   "outputs": [],
   "source": [
    "the_number_of_segment = 130"
   ]
  },
  {
   "cell_type": "code",
   "execution_count": null,
   "id": "cf54248f",
   "metadata": {
    "ExecuteTime": {
     "end_time": "2023-01-30T11:36:41.245936Z",
     "start_time": "2023-01-30T11:36:41.245936Z"
    }
   },
   "outputs": [],
   "source": [
    "seg_length = int(len(low_speed_interpolated_df) / the_number_of_segment)"
   ]
  },
  {
   "cell_type": "code",
   "execution_count": null,
   "id": "27722df1",
   "metadata": {
    "ExecuteTime": {
     "end_time": "2023-01-30T11:36:41.246937Z",
     "start_time": "2023-01-30T11:36:41.246937Z"
    }
   },
   "outputs": [],
   "source": [
    "low_speed_df_list = []\n",
    "for i in range(the_number_of_segment):\n",
    "    idx = seg_length * (i + 1)\n",
    "    if i == 0:\n",
    "        df = low_speed_interpolated_df.loc[0:idx - 1]\n",
    "        df.reset_index(inplace=True)\n",
    "    else:\n",
    "        df = low_speed_interpolated_df.loc[idx - seg_length:idx - 1]\n",
    "        df.reset_index(inplace=True)\n",
    "    low_speed_df_list.append(df)"
   ]
  },
  {
   "cell_type": "code",
   "execution_count": null,
   "id": "9a1071d7",
   "metadata": {
    "ExecuteTime": {
     "end_time": "2023-01-30T11:36:41.247935Z",
     "start_time": "2023-01-30T11:36:41.247935Z"
    }
   },
   "outputs": [],
   "source": [
    "for df in low_speed_df_list:\n",
    "    d = df[\"speed\"].mean()\n",
    "#     print(d)"
   ]
  },
  {
   "cell_type": "markdown",
   "id": "ad334c98",
   "metadata": {},
   "source": [
    "### 저속 (7knot 미만 제거)"
   ]
  },
  {
   "cell_type": "markdown",
   "id": "ef94d526",
   "metadata": {},
   "source": [
    "#### 3. 순간 속력 이용 + 알고리즘 x  +  감속 계수 x"
   ]
  },
  {
   "cell_type": "code",
   "execution_count": null,
   "id": "77e409e4",
   "metadata": {
    "ExecuteTime": {
     "end_time": "2023-01-30T11:36:41.248936Z",
     "start_time": "2023-01-30T11:36:41.248936Z"
    }
   },
   "outputs": [],
   "source": [
    "test_df_26 = pd.read_csv(\"voy_path/upper_china/processed/COSCO_FOS_VRKR6_2022_29processed.csv\")\n",
    "test_df_26['timestamp'] = pd.to_datetime(test_df_26['timestamp'])\n",
    "test_df_26['time_position_data_received'] = pd.to_datetime(test_df_26['time_position_data_received'])\n",
    "test_df_26['time_voyage_data_received'] = pd.to_datetime(test_df_26['time_voyage_data_received'])\n",
    "test_df_26.drop('index', axis=1, inplace=True)\n",
    "test_df_26 = test_df_26.loc[test_df_26[['longitude','latitude','time_position_data_received']].drop_duplicates().index]\n",
    "test_df_26.reset_index(inplace=True, drop=True)"
   ]
  },
  {
   "cell_type": "code",
   "execution_count": null,
   "id": "c4c53f11",
   "metadata": {
    "ExecuteTime": {
     "end_time": "2023-01-30T11:36:41.249939Z",
     "start_time": "2023-01-30T11:36:41.249939Z"
    }
   },
   "outputs": [],
   "source": [
    "for col in test_df_26.index:\n",
    "    if col == test_df_26.index[-8]:\n",
    "        break\n",
    "    # 테스트 데이터\n",
    "    re_sample = test_df_26.loc[col,:]\n",
    "    longitude = re_sample[\"longitude\"]\n",
    "    latitude = re_sample[\"latitude\"]\n",
    "    current_point = (latitude, longitude)\n",
    "    \n",
    "    # 1. 순간 속력 (AIS) \n",
    "    current_speed = re_sample[\"speed\"]\n",
    "    current_position_timestamp = re_sample[\"time_position_data_received\"]\n",
    "    if current_speed < 7:\n",
    "        continue\n",
    "    # 현재 위치에서 가장 짧은 segment 찾기\n",
    "    shortest_distance = 9999\n",
    "    for seg_no, seg_df in enumerate(low_speed_df_list):\n",
    "        for idx in seg_df.index:\n",
    "            LONGITUDE = seg_df.loc[idx, \"longitude\"]\n",
    "            LATITUDE = seg_df.loc[idx, \"latitude\"]\n",
    "\n",
    "            ais_point = (LATITUDE, LONGITUDE)\n",
    "            distance = haversine(current_point, ais_point, unit=\"km\")\n",
    "            # 가장 짧은 segment 간의 거리, segment 번호, 인덱스 저장\n",
    "            if distance <= shortest_distance:\n",
    "                shortest_distance = distance \n",
    "                shortest_point_idx = seg_df.loc[idx, \"index\"]\n",
    "                shortest_seg_no = seg_no\n",
    "                \n",
    "    # 다음 인덱스\n",
    "#     optimal_point_idx = optimal_next_point(current_point, shortest_point_idx, shortest_distance, low_speed_interpolated_df)\n",
    "    optimal_point_idx = low_speed_interpolated_df.query(f'index == {shortest_point_idx}').index[0] + 1\n",
    "    lon_optimal = low_speed_interpolated_df.loc[optimal_point_idx, \"longitude\"]\n",
    "    lat_optimal = low_speed_interpolated_df.loc[optimal_point_idx, \"latitude\"]\n",
    "    \n",
    "    optimal_point = (lat_optimal, lon_optimal)\n",
    "    optimal_distance = haversine(current_point, optimal_point, unit=\"km\")\n",
    "    km_h = current_speed * 1.852\n",
    "    init_duration = cal_duration(km_h, optimal_distance)\n",
    "    \n",
    "    \n",
    "    # 가장 가까운 segment 찾기\n",
    "    \n",
    "    optimal_seg_no = find_segment_no(optimal_point_idx, low_speed_interpolated_df,the_number_of_segment)\n",
    "    if optimal_seg_no == the_number_of_segment:\n",
    "        continue\n",
    "    initial_seg_df = low_speed_df_list[optimal_seg_no]\n",
    "    # speed_damping_ratio는 각 segment에 맞게\n",
    "#     speed_damping_ratio = current_speed / initial_seg_df[\"speed\"].mean()\n",
    "    speed_damping_ratio = 1\n",
    "    km_h = current_speed * 1.852 * speed_damping_ratio\n",
    "    \n",
    "    \n",
    "    remaining_initial_seg_df = initial_seg_df.loc[optimal_point_idx:,:]\n",
    "    remaining_initial_seg_df.reset_index(inplace=True, drop=True)\n",
    "    accu_distance = 0\n",
    "    for idx in remaining_initial_seg_df.index:\n",
    "        if idx != 0:\n",
    "            LONGITUDE = remaining_initial_seg_df.loc[idx, \"longitude\"]\n",
    "            LATITUDE = remaining_initial_seg_df.loc[idx, \"latitude\"]\n",
    "            current_coord = (LATITUDE, LONGITUDE)\n",
    "\n",
    "            LONGITUDE = remaining_initial_seg_df.loc[idx - 1, \"longitude\"]\n",
    "            LATITUDE = remaining_initial_seg_df.loc[idx - 1, \"latitude\"]\n",
    "            previous_current_coord = (LATITUDE, LONGITUDE)\n",
    "            \n",
    "            accu_distance += haversine(current_coord, previous_current_coord, unit=\"km\")\n",
    "            \n",
    "    duration_0 = cal_duration(km_h, accu_distance)\n",
    "    duration_0 = duration_0 + init_duration\n",
    "    \n",
    "    \n",
    "        \n",
    "    dura_list = []  \n",
    "    for next_seg_no in range(optimal_seg_no + 1, the_number_of_segment):\n",
    "        next_seg_df = low_speed_df_list[next_seg_no]\n",
    "        \n",
    "        seg_mean_speed = next_seg_df['speed'].mean()\n",
    "#         speed_damping_ratio = current_speed / seg_mean_speed\n",
    "        speed_damping_ratio = 1\n",
    "        damped_mean_speed = seg_mean_speed * speed_damping_ratio\n",
    "        km_h = damped_mean_speed * 1.852\n",
    "        distance = reckon_point_lengths(next_seg_df)\n",
    "        dura_list.append(cal_duration(km_h, distance))\n",
    "    \n",
    "    accu_timedelta = datetime.timedelta(seconds=0)\n",
    "    for i in dura_list:\n",
    "        accu_timedelta += i\n",
    "    # 현재 시간 + duration = ETA\n",
    "    ETA = current_position_timestamp + accu_timedelta\n",
    "    test_df_26.loc[col,'ETA'] = ETA\n",
    "    optimal_seg_no = 0\n",
    "\n",
    "test_df_26['ATA'] = test_df_26.loc[test_df_26.index[-1],\"time_position_data_received\"]\n",
    "test_df_26['error'] = abs(test_df_26['ATA'] - test_df_26['ETA'])\n",
    "\n",
    "experiment_no = f\"4.10.1.1_{the_number_of_segment}\".replace(\".\",\"_\")\n",
    "result_df_dict['experiment_no'].append(experiment_no)\n",
    "result_df_dict['mean_speed'].append(test_df_26.loc[test_df_26.index[:-20]][\"error\"].mean())\n",
    "result_df_dict['max_speed'].append(test_df_26.loc[test_df_26.index[:-20]][\"error\"].max())\n",
    "\n",
    "globals()[f\"exp_result_df_{experiment_no}\"] = test_df_26"
   ]
  },
  {
   "cell_type": "code",
   "execution_count": null,
   "id": "51c939ad",
   "metadata": {
    "ExecuteTime": {
     "end_time": "2023-01-30T11:36:41.250937Z",
     "start_time": "2023-01-30T11:36:41.250937Z"
    }
   },
   "outputs": [],
   "source": [
    "print(\"최대:\", test_df_26.loc[test_df_26.index[:-20]][\"error\"].max())\n",
    "print(\"평균:\", test_df_26.loc[test_df_26.index[:-20]][\"error\"].mean())"
   ]
  },
  {
   "cell_type": "code",
   "execution_count": null,
   "id": "12da2053",
   "metadata": {
    "ExecuteTime": {
     "end_time": "2023-01-30T11:36:41.251937Z",
     "start_time": "2023-01-30T11:36:41.251937Z"
    }
   },
   "outputs": [],
   "source": [
    "test_df_26.loc[test_df_26['error'].dropna(axis=0).index].sort_values(by=\"error\")"
   ]
  },
  {
   "cell_type": "code",
   "execution_count": null,
   "id": "689c4675",
   "metadata": {},
   "outputs": [],
   "source": []
  },
  {
   "cell_type": "markdown",
   "id": "bf5101cb",
   "metadata": {},
   "source": [
    "### 저속 (7knot 미만 포함)"
   ]
  },
  {
   "cell_type": "markdown",
   "id": "2315b15d",
   "metadata": {},
   "source": [
    "#### 3. 순간 속력 이용 + 알고리즘 x  +  감속 계수 x"
   ]
  },
  {
   "cell_type": "code",
   "execution_count": null,
   "id": "4cb50d1e",
   "metadata": {
    "ExecuteTime": {
     "end_time": "2023-01-30T11:36:41.253007Z",
     "start_time": "2023-01-30T11:36:41.253007Z"
    }
   },
   "outputs": [],
   "source": [
    "test_df_26 = pd.read_csv(\"voy_path/upper_china/processed/COSCO_FOS_VRKR6_2022_29processed.csv\")\n",
    "test_df_26['timestamp'] = pd.to_datetime(test_df_26['timestamp'])\n",
    "test_df_26['time_position_data_received'] = pd.to_datetime(test_df_26['time_position_data_received'])\n",
    "test_df_26['time_voyage_data_received'] = pd.to_datetime(test_df_26['time_voyage_data_received'])\n",
    "test_df_26.drop('index', axis=1, inplace=True)\n",
    "test_df_26 = test_df_26.loc[test_df_26[['longitude','latitude','time_position_data_received']].drop_duplicates().index]\n",
    "test_df_26.reset_index(inplace=True, drop=True)"
   ]
  },
  {
   "cell_type": "code",
   "execution_count": null,
   "id": "c0bcb981",
   "metadata": {
    "ExecuteTime": {
     "end_time": "2023-01-30T11:36:41.254008Z",
     "start_time": "2023-01-30T11:36:41.254008Z"
    }
   },
   "outputs": [],
   "source": [
    "for col in test_df_26.index:\n",
    "    if col == test_df_26.index[-8]:\n",
    "        break\n",
    "    # 테스트 데이터\n",
    "    re_sample = test_df_26.loc[col,:]\n",
    "    longitude = re_sample[\"longitude\"]\n",
    "    latitude = re_sample[\"latitude\"]\n",
    "    current_point = (latitude, longitude)\n",
    "    \n",
    "    # 1. 순간 속력 (AIS) \n",
    "    current_speed = re_sample[\"speed\"]\n",
    "    current_position_timestamp = re_sample[\"time_position_data_received\"]\n",
    "#     if current_speed < 7:\n",
    "#         continue\n",
    "    # 현재 위치에서 가장 짧은 segment 찾기\n",
    "    shortest_distance = 9999\n",
    "    for seg_no, seg_df in enumerate(low_speed_df_list):\n",
    "        for idx in seg_df.index:\n",
    "            LONGITUDE = seg_df.loc[idx, \"longitude\"]\n",
    "            LATITUDE = seg_df.loc[idx, \"latitude\"]\n",
    "\n",
    "            ais_point = (LATITUDE, LONGITUDE)\n",
    "            distance = haversine(current_point, ais_point, unit=\"km\")\n",
    "            # 가장 짧은 segment 간의 거리, segment 번호, 인덱스 저장\n",
    "            if distance <= shortest_distance:\n",
    "                shortest_distance = distance \n",
    "                shortest_point_idx = seg_df.loc[idx, \"index\"]\n",
    "                shortest_seg_no = seg_no\n",
    "                \n",
    "    # 다음 인덱스\n",
    "#     optimal_point_idx = optimal_next_point(current_point, shortest_point_idx, shortest_distance, low_speed_interpolated_df)\n",
    "    optimal_point_idx = low_speed_interpolated_df.query(f'index == {shortest_point_idx}').index[0] + 1\n",
    "    lon_optimal = low_speed_interpolated_df.loc[optimal_point_idx, \"longitude\"]\n",
    "    lat_optimal = low_speed_interpolated_df.loc[optimal_point_idx, \"latitude\"]\n",
    "    \n",
    "    optimal_point = (lat_optimal, lon_optimal)\n",
    "    optimal_distance = haversine(current_point, optimal_point, unit=\"km\")\n",
    "    km_h = current_speed * 1.852\n",
    "    init_duration = cal_duration(km_h, optimal_distance)\n",
    "    \n",
    "    \n",
    "    # 가장 가까운 segment 찾기\n",
    "    \n",
    "    optimal_seg_no = find_segment_no(optimal_point_idx, low_speed_interpolated_df,the_number_of_segment)\n",
    "    if optimal_seg_no == the_number_of_segment:\n",
    "        continue\n",
    "    initial_seg_df = low_speed_df_list[optimal_seg_no]\n",
    "    # speed_damping_ratio는 각 segment에 맞게\n",
    "#     speed_damping_ratio = current_speed / initial_seg_df[\"speed\"].mean()\n",
    "    speed_damping_ratio = 1\n",
    "    km_h = current_speed * 1.852 * speed_damping_ratio\n",
    "    \n",
    "    \n",
    "    remaining_initial_seg_df = initial_seg_df.loc[optimal_point_idx:,:]\n",
    "    remaining_initial_seg_df.reset_index(inplace=True, drop=True)\n",
    "    accu_distance = 0\n",
    "    for idx in remaining_initial_seg_df.index:\n",
    "        if idx != 0:\n",
    "            LONGITUDE = remaining_initial_seg_df.loc[idx, \"longitude\"]\n",
    "            LATITUDE = remaining_initial_seg_df.loc[idx, \"latitude\"]\n",
    "            current_coord = (LATITUDE, LONGITUDE)\n",
    "\n",
    "            LONGITUDE = remaining_initial_seg_df.loc[idx - 1, \"longitude\"]\n",
    "            LATITUDE = remaining_initial_seg_df.loc[idx - 1, \"latitude\"]\n",
    "            previous_current_coord = (LATITUDE, LONGITUDE)\n",
    "            \n",
    "            accu_distance += haversine(current_coord, previous_current_coord, unit=\"km\")\n",
    "            \n",
    "    duration_0 = cal_duration(km_h, accu_distance)\n",
    "    duration_0 = duration_0 + init_duration\n",
    "    \n",
    "    \n",
    "        \n",
    "    dura_list = []  \n",
    "    for next_seg_no in range(optimal_seg_no + 1, the_number_of_segment):\n",
    "        next_seg_df = low_speed_df_list[next_seg_no]\n",
    "        \n",
    "        seg_mean_speed = next_seg_df['speed'].mean()\n",
    "#         speed_damping_ratio = current_speed / seg_mean_speed\n",
    "        speed_damping_ratio = 1\n",
    "        damped_mean_speed = seg_mean_speed * speed_damping_ratio\n",
    "        km_h = damped_mean_speed * 1.852\n",
    "        distance = reckon_point_lengths(next_seg_df)\n",
    "        dura_list.append(cal_duration(km_h, distance))\n",
    "    \n",
    "    accu_timedelta = datetime.timedelta(seconds=0)\n",
    "    for i in dura_list:\n",
    "        accu_timedelta += i\n",
    "    # 현재 시간 + duration = ETA\n",
    "    ETA = current_position_timestamp + accu_timedelta\n",
    "    test_df_26.loc[col,'ETA'] = ETA\n",
    "    optimal_seg_no = 0\n",
    "\n",
    "test_df_26['ATA'] = test_df_26.loc[test_df_26.index[-1],\"time_position_data_received\"]\n",
    "test_df_26['error'] = abs(test_df_26['ATA'] - test_df_26['ETA'])\n",
    "\n",
    "experiment_no = f\"4.10.2.1_{the_number_of_segment}\".replace(\".\",\"_\")\n",
    "result_df_dict['experiment_no'].append(experiment_no)\n",
    "result_df_dict['mean_speed'].append(test_df_26.loc[test_df_26.index[:-20]][\"error\"].mean())\n",
    "result_df_dict['max_speed'].append(test_df_26.loc[test_df_26.index[:-20]][\"error\"].max())\n",
    "\n",
    "globals()[f\"exp_result_df_{experiment_no}\"] = test_df_26"
   ]
  },
  {
   "cell_type": "code",
   "execution_count": null,
   "id": "4873554d",
   "metadata": {
    "ExecuteTime": {
     "end_time": "2023-01-30T11:36:41.255008Z",
     "start_time": "2023-01-30T11:36:41.255008Z"
    }
   },
   "outputs": [],
   "source": [
    "print(\"최대:\", test_df_26.loc[test_df_26.index[:-20]][\"error\"].max())\n",
    "print(\"평균:\", test_df_26.loc[test_df_26.index[:-20]][\"error\"].mean())"
   ]
  },
  {
   "cell_type": "code",
   "execution_count": null,
   "id": "958ebab5",
   "metadata": {
    "ExecuteTime": {
     "end_time": "2023-01-30T11:36:41.255008Z",
     "start_time": "2023-01-30T11:36:41.255008Z"
    }
   },
   "outputs": [],
   "source": [
    "test_df_26.loc[test_df_26['error'].dropna(axis=0).index].sort_values(by=\"error\")"
   ]
  },
  {
   "cell_type": "code",
   "execution_count": null,
   "id": "5d5aae77",
   "metadata": {},
   "outputs": [],
   "source": []
  },
  {
   "cell_type": "markdown",
   "id": "025c6a0d",
   "metadata": {
    "code_folding": []
   },
   "source": [
    "## segment 140"
   ]
  },
  {
   "cell_type": "code",
   "execution_count": null,
   "id": "7b2a1cbc",
   "metadata": {
    "ExecuteTime": {
     "end_time": "2023-01-30T11:36:41.256008Z",
     "start_time": "2023-01-30T11:36:41.256008Z"
    }
   },
   "outputs": [],
   "source": [
    "the_number_of_segment = 140"
   ]
  },
  {
   "cell_type": "code",
   "execution_count": null,
   "id": "578da6ee",
   "metadata": {
    "ExecuteTime": {
     "end_time": "2023-01-30T11:36:41.257008Z",
     "start_time": "2023-01-30T11:36:41.257008Z"
    }
   },
   "outputs": [],
   "source": [
    "seg_length = int(len(low_speed_interpolated_df) / the_number_of_segment)"
   ]
  },
  {
   "cell_type": "code",
   "execution_count": null,
   "id": "40d4a074",
   "metadata": {
    "ExecuteTime": {
     "end_time": "2023-01-30T11:36:41.259009Z",
     "start_time": "2023-01-30T11:36:41.258007Z"
    }
   },
   "outputs": [],
   "source": [
    "low_speed_df_list = []\n",
    "for i in range(the_number_of_segment):\n",
    "    idx = seg_length * (i + 1)\n",
    "    if i == 0:\n",
    "        df = low_speed_interpolated_df.loc[0:idx - 1]\n",
    "        df.reset_index(inplace=True)\n",
    "    else:\n",
    "        df = low_speed_interpolated_df.loc[idx - seg_length:idx - 1]\n",
    "        df.reset_index(inplace=True)\n",
    "    low_speed_df_list.append(df)"
   ]
  },
  {
   "cell_type": "code",
   "execution_count": null,
   "id": "459a7efd",
   "metadata": {
    "ExecuteTime": {
     "end_time": "2023-01-30T11:36:41.260011Z",
     "start_time": "2023-01-30T11:36:41.260011Z"
    }
   },
   "outputs": [],
   "source": [
    "for df in low_speed_df_list:\n",
    "    d = df[\"speed\"].mean()\n",
    "#     print(d)"
   ]
  },
  {
   "cell_type": "markdown",
   "id": "88cff7d8",
   "metadata": {},
   "source": [
    "### 저속 (7knot 미만 제거)"
   ]
  },
  {
   "cell_type": "markdown",
   "id": "247ed6b1",
   "metadata": {},
   "source": [
    "#### 3. 순간 속력 이용 + 알고리즘 x  +  감속 계수 x"
   ]
  },
  {
   "cell_type": "code",
   "execution_count": null,
   "id": "dbe5264c",
   "metadata": {
    "ExecuteTime": {
     "end_time": "2023-01-30T11:36:41.261010Z",
     "start_time": "2023-01-30T11:36:41.261010Z"
    }
   },
   "outputs": [],
   "source": [
    "test_df_26 = pd.read_csv(\"voy_path/upper_china/processed/COSCO_FOS_VRKR6_2022_29processed.csv\")\n",
    "test_df_26['timestamp'] = pd.to_datetime(test_df_26['timestamp'])\n",
    "test_df_26['time_position_data_received'] = pd.to_datetime(test_df_26['time_position_data_received'])\n",
    "test_df_26['time_voyage_data_received'] = pd.to_datetime(test_df_26['time_voyage_data_received'])\n",
    "test_df_26.drop('index', axis=1, inplace=True)\n",
    "test_df_26 = test_df_26.loc[test_df_26[['longitude','latitude','time_position_data_received']].drop_duplicates().index]\n",
    "test_df_26.reset_index(inplace=True, drop=True)"
   ]
  },
  {
   "cell_type": "code",
   "execution_count": null,
   "id": "30168852",
   "metadata": {
    "ExecuteTime": {
     "end_time": "2023-01-30T11:36:41.263090Z",
     "start_time": "2023-01-30T11:36:41.263090Z"
    }
   },
   "outputs": [],
   "source": [
    "for col in test_df_26.index:\n",
    "    if col == test_df_26.index[-8]:\n",
    "        break\n",
    "    # 테스트 데이터\n",
    "    re_sample = test_df_26.loc[col,:]\n",
    "    longitude = re_sample[\"longitude\"]\n",
    "    latitude = re_sample[\"latitude\"]\n",
    "    current_point = (latitude, longitude)\n",
    "    \n",
    "    # 1. 순간 속력 (AIS) \n",
    "    current_speed = re_sample[\"speed\"]\n",
    "    current_position_timestamp = re_sample[\"time_position_data_received\"]\n",
    "    if current_speed < 7:\n",
    "        continue\n",
    "    # 현재 위치에서 가장 짧은 segment 찾기\n",
    "    shortest_distance = 9999\n",
    "    for seg_no, seg_df in enumerate(low_speed_df_list):\n",
    "        for idx in seg_df.index:\n",
    "            LONGITUDE = seg_df.loc[idx, \"longitude\"]\n",
    "            LATITUDE = seg_df.loc[idx, \"latitude\"]\n",
    "\n",
    "            ais_point = (LATITUDE, LONGITUDE)\n",
    "            distance = haversine(current_point, ais_point, unit=\"km\")\n",
    "            # 가장 짧은 segment 간의 거리, segment 번호, 인덱스 저장\n",
    "            if distance <= shortest_distance:\n",
    "                shortest_distance = distance \n",
    "                shortest_point_idx = seg_df.loc[idx, \"index\"]\n",
    "                shortest_seg_no = seg_no\n",
    "                \n",
    "    # 다음 인덱스\n",
    "#     optimal_point_idx = optimal_next_point(current_point, shortest_point_idx, shortest_distance, low_speed_interpolated_df)\n",
    "    optimal_point_idx = low_speed_interpolated_df.query(f'index == {shortest_point_idx}').index[0] + 1\n",
    "    lon_optimal = low_speed_interpolated_df.loc[optimal_point_idx, \"longitude\"]\n",
    "    lat_optimal = low_speed_interpolated_df.loc[optimal_point_idx, \"latitude\"]\n",
    "    \n",
    "    optimal_point = (lat_optimal, lon_optimal)\n",
    "    optimal_distance = haversine(current_point, optimal_point, unit=\"km\")\n",
    "    km_h = current_speed * 1.852\n",
    "    init_duration = cal_duration(km_h, optimal_distance)\n",
    "    \n",
    "    \n",
    "    # 가장 가까운 segment 찾기\n",
    "    \n",
    "    optimal_seg_no = find_segment_no(optimal_point_idx, low_speed_interpolated_df,the_number_of_segment)\n",
    "    if optimal_seg_no == the_number_of_segment:\n",
    "        continue\n",
    "    initial_seg_df = low_speed_df_list[optimal_seg_no]\n",
    "    # speed_damping_ratio는 각 segment에 맞게\n",
    "#     speed_damping_ratio = current_speed / initial_seg_df[\"speed\"].mean()\n",
    "    speed_damping_ratio = 1\n",
    "    km_h = current_speed * 1.852 * speed_damping_ratio\n",
    "    \n",
    "    \n",
    "    remaining_initial_seg_df = initial_seg_df.loc[optimal_point_idx:,:]\n",
    "    remaining_initial_seg_df.reset_index(inplace=True, drop=True)\n",
    "    accu_distance = 0\n",
    "    for idx in remaining_initial_seg_df.index:\n",
    "        if idx != 0:\n",
    "            LONGITUDE = remaining_initial_seg_df.loc[idx, \"longitude\"]\n",
    "            LATITUDE = remaining_initial_seg_df.loc[idx, \"latitude\"]\n",
    "            current_coord = (LATITUDE, LONGITUDE)\n",
    "\n",
    "            LONGITUDE = remaining_initial_seg_df.loc[idx - 1, \"longitude\"]\n",
    "            LATITUDE = remaining_initial_seg_df.loc[idx - 1, \"latitude\"]\n",
    "            previous_current_coord = (LATITUDE, LONGITUDE)\n",
    "            \n",
    "            accu_distance += haversine(current_coord, previous_current_coord, unit=\"km\")\n",
    "            \n",
    "    duration_0 = cal_duration(km_h, accu_distance)\n",
    "    duration_0 = duration_0 + init_duration\n",
    "    \n",
    "    \n",
    "        \n",
    "    dura_list = []  \n",
    "    for next_seg_no in range(optimal_seg_no + 1, the_number_of_segment):\n",
    "        next_seg_df = low_speed_df_list[next_seg_no]\n",
    "        \n",
    "        seg_mean_speed = next_seg_df['speed'].mean()\n",
    "#         speed_damping_ratio = current_speed / seg_mean_speed\n",
    "        speed_damping_ratio = 1\n",
    "        damped_mean_speed = seg_mean_speed * speed_damping_ratio\n",
    "        km_h = damped_mean_speed * 1.852\n",
    "        distance = reckon_point_lengths(next_seg_df)\n",
    "        dura_list.append(cal_duration(km_h, distance))\n",
    "    \n",
    "    accu_timedelta = datetime.timedelta(seconds=0)\n",
    "    for i in dura_list:\n",
    "        accu_timedelta += i\n",
    "    # 현재 시간 + duration = ETA\n",
    "    ETA = current_position_timestamp + accu_timedelta\n",
    "    test_df_26.loc[col,'ETA'] = ETA\n",
    "    optimal_seg_no = 0\n",
    "\n",
    "test_df_26['ATA'] = test_df_26.loc[test_df_26.index[-1],\"time_position_data_received\"]\n",
    "test_df_26['error'] = abs(test_df_26['ATA'] - test_df_26['ETA'])\n",
    "\n",
    "experiment_no = f\"4.11.1.1_{the_number_of_segment}\".replace(\".\",\"_\")\n",
    "result_df_dict['experiment_no'].append(experiment_no)\n",
    "result_df_dict['mean_speed'].append(test_df_26.loc[test_df_26.index[:-20]][\"error\"].mean())\n",
    "result_df_dict['max_speed'].append(test_df_26.loc[test_df_26.index[:-20]][\"error\"].max())\n",
    "\n",
    "globals()[f\"exp_result_df_{experiment_no}\"] = test_df_26"
   ]
  },
  {
   "cell_type": "code",
   "execution_count": null,
   "id": "996ee5e2",
   "metadata": {
    "ExecuteTime": {
     "end_time": "2023-01-30T11:36:41.264089Z",
     "start_time": "2023-01-30T11:36:41.264089Z"
    }
   },
   "outputs": [],
   "source": [
    "print(\"최대:\", test_df_26.loc[test_df_26.index[:-20]][\"error\"].max())\n",
    "print(\"평균:\", test_df_26.loc[test_df_26.index[:-20]][\"error\"].mean())"
   ]
  },
  {
   "cell_type": "code",
   "execution_count": null,
   "id": "0c4a7b0e",
   "metadata": {
    "ExecuteTime": {
     "end_time": "2023-01-30T11:36:41.265091Z",
     "start_time": "2023-01-30T11:36:41.265091Z"
    }
   },
   "outputs": [],
   "source": [
    "test_df_26.loc[test_df_26['error'].dropna(axis=0).index].sort_values(by=\"error\")"
   ]
  },
  {
   "cell_type": "code",
   "execution_count": null,
   "id": "9a64171b",
   "metadata": {},
   "outputs": [],
   "source": []
  },
  {
   "cell_type": "markdown",
   "id": "95c6499d",
   "metadata": {},
   "source": [
    "### 저속 (7knot 미만 포함)"
   ]
  },
  {
   "cell_type": "markdown",
   "id": "752105af",
   "metadata": {},
   "source": [
    "#### 3. 순간 속력 이용 + 알고리즘 x  +  감속 계수 x"
   ]
  },
  {
   "cell_type": "code",
   "execution_count": null,
   "id": "98c7c675",
   "metadata": {
    "ExecuteTime": {
     "end_time": "2023-01-30T11:36:41.266090Z",
     "start_time": "2023-01-30T11:36:41.266090Z"
    }
   },
   "outputs": [],
   "source": [
    "test_df_26 = pd.read_csv(\"voy_path/upper_china/processed/COSCO_FOS_VRKR6_2022_29processed.csv\")\n",
    "test_df_26['timestamp'] = pd.to_datetime(test_df_26['timestamp'])\n",
    "test_df_26['time_position_data_received'] = pd.to_datetime(test_df_26['time_position_data_received'])\n",
    "test_df_26['time_voyage_data_received'] = pd.to_datetime(test_df_26['time_voyage_data_received'])\n",
    "test_df_26.drop('index', axis=1, inplace=True)\n",
    "test_df_26 = test_df_26.loc[test_df_26[['longitude','latitude','time_position_data_received']].drop_duplicates().index]\n",
    "test_df_26.reset_index(inplace=True, drop=True)"
   ]
  },
  {
   "cell_type": "code",
   "execution_count": null,
   "id": "215890e7",
   "metadata": {
    "ExecuteTime": {
     "end_time": "2023-01-30T11:36:41.266090Z",
     "start_time": "2023-01-30T11:36:41.266090Z"
    }
   },
   "outputs": [],
   "source": [
    "for col in test_df_26.index:\n",
    "    if col == test_df_26.index[-8]:\n",
    "        break\n",
    "    # 테스트 데이터\n",
    "    re_sample = test_df_26.loc[col,:]\n",
    "    longitude = re_sample[\"longitude\"]\n",
    "    latitude = re_sample[\"latitude\"]\n",
    "    current_point = (latitude, longitude)\n",
    "    \n",
    "    # 1. 순간 속력 (AIS) \n",
    "    current_speed = re_sample[\"speed\"]\n",
    "    current_position_timestamp = re_sample[\"time_position_data_received\"]\n",
    "#     if current_speed < 7:\n",
    "#         continue\n",
    "    # 현재 위치에서 가장 짧은 segment 찾기\n",
    "    shortest_distance = 9999\n",
    "    for seg_no, seg_df in enumerate(low_speed_df_list):\n",
    "        for idx in seg_df.index:\n",
    "            LONGITUDE = seg_df.loc[idx, \"longitude\"]\n",
    "            LATITUDE = seg_df.loc[idx, \"latitude\"]\n",
    "\n",
    "            ais_point = (LATITUDE, LONGITUDE)\n",
    "            distance = haversine(current_point, ais_point, unit=\"km\")\n",
    "            # 가장 짧은 segment 간의 거리, segment 번호, 인덱스 저장\n",
    "            if distance <= shortest_distance:\n",
    "                shortest_distance = distance \n",
    "                shortest_point_idx = seg_df.loc[idx, \"index\"]\n",
    "                shortest_seg_no = seg_no\n",
    "                \n",
    "    # 다음 인덱스\n",
    "#     optimal_point_idx = optimal_next_point(current_point, shortest_point_idx, shortest_distance, low_speed_interpolated_df)\n",
    "    optimal_point_idx = low_speed_interpolated_df.query(f'index == {shortest_point_idx}').index[0] + 1\n",
    "    lon_optimal = low_speed_interpolated_df.loc[optimal_point_idx, \"longitude\"]\n",
    "    lat_optimal = low_speed_interpolated_df.loc[optimal_point_idx, \"latitude\"]\n",
    "    \n",
    "    optimal_point = (lat_optimal, lon_optimal)\n",
    "    optimal_distance = haversine(current_point, optimal_point, unit=\"km\")\n",
    "    km_h = current_speed * 1.852\n",
    "    init_duration = cal_duration(km_h, optimal_distance)\n",
    "    \n",
    "    \n",
    "    # 가장 가까운 segment 찾기\n",
    "    \n",
    "    optimal_seg_no = find_segment_no(optimal_point_idx, low_speed_interpolated_df,the_number_of_segment)\n",
    "    if optimal_seg_no == the_number_of_segment:\n",
    "        continue\n",
    "    initial_seg_df = low_speed_df_list[optimal_seg_no]\n",
    "    # speed_damping_ratio는 각 segment에 맞게\n",
    "#     speed_damping_ratio = current_speed / initial_seg_df[\"speed\"].mean()\n",
    "    speed_damping_ratio = 1\n",
    "    km_h = current_speed * 1.852 * speed_damping_ratio\n",
    "    \n",
    "    \n",
    "    remaining_initial_seg_df = initial_seg_df.loc[optimal_point_idx:,:]\n",
    "    remaining_initial_seg_df.reset_index(inplace=True, drop=True)\n",
    "    accu_distance = 0\n",
    "    for idx in remaining_initial_seg_df.index:\n",
    "        if idx != 0:\n",
    "            LONGITUDE = remaining_initial_seg_df.loc[idx, \"longitude\"]\n",
    "            LATITUDE = remaining_initial_seg_df.loc[idx, \"latitude\"]\n",
    "            current_coord = (LATITUDE, LONGITUDE)\n",
    "\n",
    "            LONGITUDE = remaining_initial_seg_df.loc[idx - 1, \"longitude\"]\n",
    "            LATITUDE = remaining_initial_seg_df.loc[idx - 1, \"latitude\"]\n",
    "            previous_current_coord = (LATITUDE, LONGITUDE)\n",
    "            \n",
    "            accu_distance += haversine(current_coord, previous_current_coord, unit=\"km\")\n",
    "            \n",
    "    duration_0 = cal_duration(km_h, accu_distance)\n",
    "    duration_0 = duration_0 + init_duration\n",
    "    \n",
    "    \n",
    "        \n",
    "    dura_list = []  \n",
    "    for next_seg_no in range(optimal_seg_no + 1, the_number_of_segment):\n",
    "        next_seg_df = low_speed_df_list[next_seg_no]\n",
    "        \n",
    "        seg_mean_speed = next_seg_df['speed'].mean()\n",
    "#         speed_damping_ratio = current_speed / seg_mean_speed\n",
    "        speed_damping_ratio = 1\n",
    "        damped_mean_speed = seg_mean_speed * speed_damping_ratio\n",
    "        km_h = damped_mean_speed * 1.852\n",
    "        distance = reckon_point_lengths(next_seg_df)\n",
    "        dura_list.append(cal_duration(km_h, distance))\n",
    "    \n",
    "    accu_timedelta = datetime.timedelta(seconds=0)\n",
    "    for i in dura_list:\n",
    "        accu_timedelta += i\n",
    "    # 현재 시간 + duration = ETA\n",
    "    ETA = current_position_timestamp + accu_timedelta\n",
    "    test_df_26.loc[col,'ETA'] = ETA\n",
    "    optimal_seg_no = 0\n",
    "\n",
    "test_df_26['ATA'] = test_df_26.loc[test_df_26.index[-1],\"time_position_data_received\"]\n",
    "test_df_26['error'] = abs(test_df_26['ATA'] - test_df_26['ETA'])\n",
    "\n",
    "experiment_no = f\"4.11.2.1_{the_number_of_segment}\".replace(\".\",\"_\")\n",
    "result_df_dict['experiment_no'].append(experiment_no)\n",
    "result_df_dict['mean_speed'].append(test_df_26.loc[test_df_26.index[:-20]][\"error\"].mean())\n",
    "result_df_dict['max_speed'].append(test_df_26.loc[test_df_26.index[:-20]][\"error\"].max())\n",
    "\n",
    "globals()[f\"exp_result_df_{experiment_no}\"] = test_df_26"
   ]
  },
  {
   "cell_type": "code",
   "execution_count": null,
   "id": "f3853c15",
   "metadata": {
    "ExecuteTime": {
     "end_time": "2023-01-30T11:36:41.267090Z",
     "start_time": "2023-01-30T11:36:41.267090Z"
    }
   },
   "outputs": [],
   "source": [
    "print(\"최대:\", test_df_26.loc[test_df_26.index[:-20]][\"error\"].max())\n",
    "print(\"평균:\", test_df_26.loc[test_df_26.index[:-20]][\"error\"].mean())"
   ]
  },
  {
   "cell_type": "code",
   "execution_count": null,
   "id": "fa8e77f8",
   "metadata": {
    "ExecuteTime": {
     "end_time": "2023-01-30T11:36:41.268091Z",
     "start_time": "2023-01-30T11:36:41.268091Z"
    }
   },
   "outputs": [],
   "source": [
    "test_df_26.loc[test_df_26['error'].dropna(axis=0).index].sort_values(by=\"error\")"
   ]
  },
  {
   "cell_type": "markdown",
   "id": "ced382d1",
   "metadata": {},
   "source": [
    "# 결과 확인"
   ]
  },
  {
   "cell_type": "code",
   "execution_count": null,
   "id": "281984bf",
   "metadata": {
    "ExecuteTime": {
     "end_time": "2023-01-30T11:36:41.269091Z",
     "start_time": "2023-01-30T11:36:41.269091Z"
    }
   },
   "outputs": [],
   "source": [
    "result_pool = pd.DataFrame(result_df_dict)\n",
    "result_pool"
   ]
  },
  {
   "cell_type": "code",
   "execution_count": null,
   "id": "6506e705",
   "metadata": {
    "ExecuteTime": {
     "end_time": "2023-01-30T11:36:41.270090Z",
     "start_time": "2023-01-30T11:36:41.270090Z"
    },
    "scrolled": false
   },
   "outputs": [],
   "source": [
    "result_pool.sort_values(by=\"mean_speed\").head(15)"
   ]
  },
  {
   "cell_type": "code",
   "execution_count": null,
   "id": "5c7b5420",
   "metadata": {
    "ExecuteTime": {
     "end_time": "2023-01-30T11:36:41.271092Z",
     "start_time": "2023-01-30T11:36:41.271092Z"
    }
   },
   "outputs": [],
   "source": [
    "result_pool.to_csv(f\"230130_result_pool_interpolation_{interpolation_number}_segments_cosco_fos_low_speed_voyages.csv\", encoding=\"utf-8 sig\", header=True, index=False)"
   ]
  },
  {
   "cell_type": "code",
   "execution_count": null,
   "id": "cb8eaa7b",
   "metadata": {
    "ExecuteTime": {
     "end_time": "2023-01-30T11:36:41.272091Z",
     "start_time": "2023-01-30T11:36:41.272091Z"
    }
   },
   "outputs": [],
   "source": [
    "for i in globals():\n",
    "    if 'exp_result_df_' in i:\n",
    "        print(i)\n",
    "        globals()[i].to_csv(f\"실험/230130_slow_{i}\", encoding=\"utf-8 sig\", header=True, index=False)"
   ]
  },
  {
   "cell_type": "code",
   "execution_count": null,
   "id": "7929bef8",
   "metadata": {},
   "outputs": [],
   "source": []
  }
 ],
 "metadata": {
  "kernelspec": {
   "display_name": "안정된가상환경",
   "language": "python",
   "name": "oracle2"
  },
  "language_info": {
   "codemirror_mode": {
    "name": "ipython",
    "version": 3
   },
   "file_extension": ".py",
   "mimetype": "text/x-python",
   "name": "python",
   "nbconvert_exporter": "python",
   "pygments_lexer": "ipython3",
   "version": "3.7.11"
  },
  "toc": {
   "base_numbering": 1,
   "nav_menu": {},
   "number_sections": true,
   "sideBar": true,
   "skip_h1_title": false,
   "title_cell": "Table of Contents",
   "title_sidebar": "Contents",
   "toc_cell": false,
   "toc_position": {
    "height": "calc(100% - 180px)",
    "left": "10px",
    "top": "150px",
    "width": "600px"
   },
   "toc_section_display": true,
   "toc_window_display": true
  }
 },
 "nbformat": 4,
 "nbformat_minor": 5
}
