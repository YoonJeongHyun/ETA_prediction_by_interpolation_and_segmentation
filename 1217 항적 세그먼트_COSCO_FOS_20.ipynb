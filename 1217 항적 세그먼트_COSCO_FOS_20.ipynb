{
 "cells": [
  {
   "cell_type": "code",
   "execution_count": 1,
   "id": "bd4a6614",
   "metadata": {
    "ExecuteTime": {
     "end_time": "2022-12-17T09:19:13.108010Z",
     "start_time": "2022-12-17T09:19:12.521385Z"
    }
   },
   "outputs": [],
   "source": [
    "import pandas as pd\n",
    "import numpy as np\n",
    "import cx_Oracle\n",
    "import os\n",
    "import json\n",
    "import datetime\n",
    "import warnings\n",
    "\n",
    "warnings.filterwarnings(action=\"ignore\")\n",
    "from selenium import webdriver\n",
    "from selenium.webdriver.support.ui import Select\n",
    "from selenium.webdriver.common.by import By\n",
    "import bs4\n",
    "import requests\n",
    "import time\n",
    "import math\n",
    "import random\n",
    "from shapely.geometry import Point, Polygon\n",
    "import time as timesys\n",
    "from pyproj import Geod\n",
    "from haversine import haversine\n",
    "pd.set_option('display.max_columns', None)"
   ]
  },
  {
   "cell_type": "code",
   "execution_count": 2,
   "id": "62ac4d5b",
   "metadata": {
    "ExecuteTime": {
     "end_time": "2022-12-17T09:19:13.123584Z",
     "start_time": "2022-12-17T09:19:13.109004Z"
    }
   },
   "outputs": [],
   "source": [
    "tianjin = '117.4961975657171,37.86803012379458,7.296245301137998 119.8081837995413,37.9250916349774,-34.2681049860788 119.8416643486643,39.32481316399956,-31.12524274095152 117.9501096884913,39.37523731857854,39.41212136434525 117.4961975657171,37.86803012379458,7.296245301137998'\n",
    "\n",
    "\n",
    "\n",
    "coord_list = tianjin.split(\" \")\n",
    "coord_list\n",
    "coord_list2 = []\n",
    "for i in coord_list:\n",
    "    temp = i.split(\",\")[:2]\n",
    "    temp = list(map(float, temp))\n",
    "    coord_list2.append(temp)\n",
    "poly = Polygon(coord_list2)\n",
    "# if Point(LONGITUDE, LATITUDE).within(poly):"
   ]
  },
  {
   "cell_type": "markdown",
   "id": "e8910b1b",
   "metadata": {},
   "source": [
    "정상 항차   \n",
    "26,25,24,23,20"
   ]
  },
  {
   "cell_type": "code",
   "execution_count": 3,
   "id": "51c4e9e3",
   "metadata": {
    "ExecuteTime": {
     "end_time": "2022-12-17T09:19:13.154708Z",
     "start_time": "2022-12-17T09:19:13.124576Z"
    }
   },
   "outputs": [
    {
     "data": {
      "text/html": [
       "<div>\n",
       "<style scoped>\n",
       "    .dataframe tbody tr th:only-of-type {\n",
       "        vertical-align: middle;\n",
       "    }\n",
       "\n",
       "    .dataframe tbody tr th {\n",
       "        vertical-align: top;\n",
       "    }\n",
       "\n",
       "    .dataframe thead th {\n",
       "        text-align: right;\n",
       "    }\n",
       "</style>\n",
       "<table border=\"1\" class=\"dataframe\">\n",
       "  <thead>\n",
       "    <tr style=\"text-align: right;\">\n",
       "      <th></th>\n",
       "      <th>vessel_name</th>\n",
       "      <th>mmsi</th>\n",
       "      <th>imo</th>\n",
       "      <th>CAPACITY</th>\n",
       "      <th>destination</th>\n",
       "      <th>eta</th>\n",
       "      <th>longitude</th>\n",
       "      <th>latitude</th>\n",
       "      <th>speed</th>\n",
       "      <th>heading</th>\n",
       "      <th>timestamp</th>\n",
       "      <th>time_position_data_received</th>\n",
       "      <th>time_voyage_data_received</th>\n",
       "      <th>navigation_info</th>\n",
       "      <th>remained_distance</th>\n",
       "      <th>estimated_fuel_consumption</th>\n",
       "    </tr>\n",
       "  </thead>\n",
       "  <tbody>\n",
       "    <tr>\n",
       "      <th>0</th>\n",
       "      <td>COSCO FOS</td>\n",
       "      <td>477947700</td>\n",
       "      <td>9484302.0</td>\n",
       "      <td>4253</td>\n",
       "      <td>CNTSN</td>\n",
       "      <td>2022-09-29 01:00:00</td>\n",
       "      <td>125.9787</td>\n",
       "      <td>34.1164</td>\n",
       "      <td>20.0</td>\n",
       "      <td>265.0</td>\n",
       "      <td>2022-09-28 02:34:41.172206</td>\n",
       "      <td>2022-09-27 17:33:59</td>\n",
       "      <td>2022-09-27 01:31:10</td>\n",
       "      <td>under way using engine</td>\n",
       "      <td>276.931761</td>\n",
       "      <td>613.081865</td>\n",
       "    </tr>\n",
       "    <tr>\n",
       "      <th>1</th>\n",
       "      <td>COSCO FOS</td>\n",
       "      <td>477947700</td>\n",
       "      <td>9484302.0</td>\n",
       "      <td>4253</td>\n",
       "      <td>CNTSN</td>\n",
       "      <td>2022-09-29 01:00:00</td>\n",
       "      <td>125.7783</td>\n",
       "      <td>34.1131</td>\n",
       "      <td>20.0</td>\n",
       "      <td>291.0</td>\n",
       "      <td>2022-09-28 03:04:43.418897</td>\n",
       "      <td>2022-09-27 18:04:29</td>\n",
       "      <td>2022-09-27 01:31:10</td>\n",
       "      <td>under way using engine</td>\n",
       "      <td>294.364669</td>\n",
       "      <td>651.675487</td>\n",
       "    </tr>\n",
       "    <tr>\n",
       "      <th>2</th>\n",
       "      <td>COSCO FOS</td>\n",
       "      <td>477947700</td>\n",
       "      <td>9484302.0</td>\n",
       "      <td>4253</td>\n",
       "      <td>CNTSN</td>\n",
       "      <td>2022-09-29 01:00:00</td>\n",
       "      <td>125.6743</td>\n",
       "      <td>34.2355</td>\n",
       "      <td>19.8</td>\n",
       "      <td>352.0</td>\n",
       "      <td>2022-09-28 03:34:46.226145</td>\n",
       "      <td>2022-09-27 18:34:22</td>\n",
       "      <td>2022-09-27 01:31:10</td>\n",
       "      <td>under way using engine</td>\n",
       "      <td>299.196674</td>\n",
       "      <td>652.772691</td>\n",
       "    </tr>\n",
       "    <tr>\n",
       "      <th>3</th>\n",
       "      <td>COSCO FOS</td>\n",
       "      <td>477947700</td>\n",
       "      <td>9484302.0</td>\n",
       "      <td>4253</td>\n",
       "      <td>CNTSN</td>\n",
       "      <td>2022-09-29 01:00:00</td>\n",
       "      <td>125.6468</td>\n",
       "      <td>34.3992</td>\n",
       "      <td>19.4</td>\n",
       "      <td>352.0</td>\n",
       "      <td>2022-09-28 04:04:49.296380</td>\n",
       "      <td>2022-09-27 19:04:34</td>\n",
       "      <td>2022-09-27 01:31:10</td>\n",
       "      <td>under way using engine</td>\n",
       "      <td>296.931314</td>\n",
       "      <td>629.172829</td>\n",
       "    </tr>\n",
       "    <tr>\n",
       "      <th>4</th>\n",
       "      <td>COSCO FOS</td>\n",
       "      <td>477947700</td>\n",
       "      <td>9484302.0</td>\n",
       "      <td>4253</td>\n",
       "      <td>CNTSN</td>\n",
       "      <td>2022-09-29 01:00:00</td>\n",
       "      <td>125.6274</td>\n",
       "      <td>34.5606</td>\n",
       "      <td>19.4</td>\n",
       "      <td>355.0</td>\n",
       "      <td>2022-09-28 04:34:52.633460</td>\n",
       "      <td>2022-09-27 19:34:41</td>\n",
       "      <td>2022-09-27 07:25:07</td>\n",
       "      <td>under way using engine</td>\n",
       "      <td>295.094039</td>\n",
       "      <td>625.279795</td>\n",
       "    </tr>\n",
       "    <tr>\n",
       "      <th>...</th>\n",
       "      <td>...</td>\n",
       "      <td>...</td>\n",
       "      <td>...</td>\n",
       "      <td>...</td>\n",
       "      <td>...</td>\n",
       "      <td>...</td>\n",
       "      <td>...</td>\n",
       "      <td>...</td>\n",
       "      <td>...</td>\n",
       "      <td>...</td>\n",
       "      <td>...</td>\n",
       "      <td>...</td>\n",
       "      <td>...</td>\n",
       "      <td>...</td>\n",
       "      <td>...</td>\n",
       "      <td>...</td>\n",
       "    </tr>\n",
       "    <tr>\n",
       "      <th>242</th>\n",
       "      <td>COSCO FOS</td>\n",
       "      <td>477947700</td>\n",
       "      <td>9484302.0</td>\n",
       "      <td>4253</td>\n",
       "      <td>KRBNP</td>\n",
       "      <td>2022-10-04 10:00:00</td>\n",
       "      <td>128.8250</td>\n",
       "      <td>35.0774</td>\n",
       "      <td>0.1</td>\n",
       "      <td>91.0</td>\n",
       "      <td>2022-10-04 23:09:58.929655</td>\n",
       "      <td>2022-10-04 14:09:15</td>\n",
       "      <td>2022-10-04 02:07:09</td>\n",
       "      <td>moored</td>\n",
       "      <td>11.997479</td>\n",
       "      <td>957.304365</td>\n",
       "    </tr>\n",
       "    <tr>\n",
       "      <th>243</th>\n",
       "      <td>COSCO FOS</td>\n",
       "      <td>477947700</td>\n",
       "      <td>9484302.0</td>\n",
       "      <td>4253</td>\n",
       "      <td>KRBNP</td>\n",
       "      <td>2022-10-04 10:00:00</td>\n",
       "      <td>128.8255</td>\n",
       "      <td>35.0773</td>\n",
       "      <td>0.0</td>\n",
       "      <td>91.0</td>\n",
       "      <td>2022-10-04 23:40:01.478256</td>\n",
       "      <td>2022-10-04 14:36:10</td>\n",
       "      <td>2022-10-04 02:31:07</td>\n",
       "      <td>moored</td>\n",
       "      <td>11.988375</td>\n",
       "      <td>NaN</td>\n",
       "    </tr>\n",
       "    <tr>\n",
       "      <th>244</th>\n",
       "      <td>COSCO FOS</td>\n",
       "      <td>477947700</td>\n",
       "      <td>9484302.0</td>\n",
       "      <td>4253</td>\n",
       "      <td>KRBNP</td>\n",
       "      <td>2022-10-04 10:00:00</td>\n",
       "      <td>128.8252</td>\n",
       "      <td>35.0776</td>\n",
       "      <td>0.1</td>\n",
       "      <td>91.0</td>\n",
       "      <td>2022-10-05 02:40:17.931761</td>\n",
       "      <td>2022-10-04 17:36:10</td>\n",
       "      <td>2022-10-04 05:37:08</td>\n",
       "      <td>moored</td>\n",
       "      <td>12.020477</td>\n",
       "      <td>959.139487</td>\n",
       "    </tr>\n",
       "    <tr>\n",
       "      <th>245</th>\n",
       "      <td>COSCO FOS</td>\n",
       "      <td>477947700</td>\n",
       "      <td>9484302.0</td>\n",
       "      <td>4253</td>\n",
       "      <td>KRBNP</td>\n",
       "      <td>2022-10-04 10:00:00</td>\n",
       "      <td>128.8251</td>\n",
       "      <td>35.0773</td>\n",
       "      <td>0.1</td>\n",
       "      <td>91.0</td>\n",
       "      <td>2022-10-05 03:40:24.322710</td>\n",
       "      <td>2022-10-04 18:39:15</td>\n",
       "      <td>2022-10-04 06:25:09</td>\n",
       "      <td>moored</td>\n",
       "      <td>11.986756</td>\n",
       "      <td>956.448815</td>\n",
       "    </tr>\n",
       "    <tr>\n",
       "      <th>246</th>\n",
       "      <td>COSCO FOS</td>\n",
       "      <td>477947700</td>\n",
       "      <td>9484302.0</td>\n",
       "      <td>4253</td>\n",
       "      <td>KRBNP</td>\n",
       "      <td>2022-10-04 10:00:00</td>\n",
       "      <td>128.8250</td>\n",
       "      <td>35.0772</td>\n",
       "      <td>0.0</td>\n",
       "      <td>91.0</td>\n",
       "      <td>2022-10-05 04:40:30.462938</td>\n",
       "      <td>2022-10-04 19:39:10</td>\n",
       "      <td>2022-10-04 07:37:06</td>\n",
       "      <td>moored</td>\n",
       "      <td>11.975259</td>\n",
       "      <td>NaN</td>\n",
       "    </tr>\n",
       "  </tbody>\n",
       "</table>\n",
       "<p>247 rows × 16 columns</p>\n",
       "</div>"
      ],
      "text/plain": [
       "    vessel_name       mmsi        imo  CAPACITY destination  \\\n",
       "0     COSCO FOS  477947700  9484302.0      4253       CNTSN   \n",
       "1     COSCO FOS  477947700  9484302.0      4253       CNTSN   \n",
       "2     COSCO FOS  477947700  9484302.0      4253       CNTSN   \n",
       "3     COSCO FOS  477947700  9484302.0      4253       CNTSN   \n",
       "4     COSCO FOS  477947700  9484302.0      4253       CNTSN   \n",
       "..          ...        ...        ...       ...         ...   \n",
       "242   COSCO FOS  477947700  9484302.0      4253       KRBNP   \n",
       "243   COSCO FOS  477947700  9484302.0      4253       KRBNP   \n",
       "244   COSCO FOS  477947700  9484302.0      4253       KRBNP   \n",
       "245   COSCO FOS  477947700  9484302.0      4253       KRBNP   \n",
       "246   COSCO FOS  477947700  9484302.0      4253       KRBNP   \n",
       "\n",
       "                     eta  longitude  latitude  speed  heading  \\\n",
       "0    2022-09-29 01:00:00   125.9787   34.1164   20.0    265.0   \n",
       "1    2022-09-29 01:00:00   125.7783   34.1131   20.0    291.0   \n",
       "2    2022-09-29 01:00:00   125.6743   34.2355   19.8    352.0   \n",
       "3    2022-09-29 01:00:00   125.6468   34.3992   19.4    352.0   \n",
       "4    2022-09-29 01:00:00   125.6274   34.5606   19.4    355.0   \n",
       "..                   ...        ...       ...    ...      ...   \n",
       "242  2022-10-04 10:00:00   128.8250   35.0774    0.1     91.0   \n",
       "243  2022-10-04 10:00:00   128.8255   35.0773    0.0     91.0   \n",
       "244  2022-10-04 10:00:00   128.8252   35.0776    0.1     91.0   \n",
       "245  2022-10-04 10:00:00   128.8251   35.0773    0.1     91.0   \n",
       "246  2022-10-04 10:00:00   128.8250   35.0772    0.0     91.0   \n",
       "\n",
       "                      timestamp time_position_data_received  \\\n",
       "0    2022-09-28 02:34:41.172206         2022-09-27 17:33:59   \n",
       "1    2022-09-28 03:04:43.418897         2022-09-27 18:04:29   \n",
       "2    2022-09-28 03:34:46.226145         2022-09-27 18:34:22   \n",
       "3    2022-09-28 04:04:49.296380         2022-09-27 19:04:34   \n",
       "4    2022-09-28 04:34:52.633460         2022-09-27 19:34:41   \n",
       "..                          ...                         ...   \n",
       "242  2022-10-04 23:09:58.929655         2022-10-04 14:09:15   \n",
       "243  2022-10-04 23:40:01.478256         2022-10-04 14:36:10   \n",
       "244  2022-10-05 02:40:17.931761         2022-10-04 17:36:10   \n",
       "245  2022-10-05 03:40:24.322710         2022-10-04 18:39:15   \n",
       "246  2022-10-05 04:40:30.462938         2022-10-04 19:39:10   \n",
       "\n",
       "    time_voyage_data_received         navigation_info  remained_distance  \\\n",
       "0         2022-09-27 01:31:10  under way using engine         276.931761   \n",
       "1         2022-09-27 01:31:10  under way using engine         294.364669   \n",
       "2         2022-09-27 01:31:10  under way using engine         299.196674   \n",
       "3         2022-09-27 01:31:10  under way using engine         296.931314   \n",
       "4         2022-09-27 07:25:07  under way using engine         295.094039   \n",
       "..                        ...                     ...                ...   \n",
       "242       2022-10-04 02:07:09                  moored          11.997479   \n",
       "243       2022-10-04 02:31:07                  moored          11.988375   \n",
       "244       2022-10-04 05:37:08                  moored          12.020477   \n",
       "245       2022-10-04 06:25:09                  moored          11.986756   \n",
       "246       2022-10-04 07:37:06                  moored          11.975259   \n",
       "\n",
       "     estimated_fuel_consumption  \n",
       "0                    613.081865  \n",
       "1                    651.675487  \n",
       "2                    652.772691  \n",
       "3                    629.172829  \n",
       "4                    625.279795  \n",
       "..                          ...  \n",
       "242                  957.304365  \n",
       "243                         NaN  \n",
       "244                  959.139487  \n",
       "245                  956.448815  \n",
       "246                         NaN  \n",
       "\n",
       "[247 rows x 16 columns]"
      ]
     },
     "execution_count": 3,
     "metadata": {},
     "output_type": "execute_result"
    }
   ],
   "source": [
    "df_test = pd.read_csv(\"voy_path/COSCO_FOS_VRKR6_20.csv\")\n",
    "df_test"
   ]
  },
  {
   "cell_type": "code",
   "execution_count": 4,
   "id": "46ce85f7",
   "metadata": {
    "ExecuteTime": {
     "end_time": "2022-12-17T09:19:13.170733Z",
     "start_time": "2022-12-17T09:19:13.155685Z"
    }
   },
   "outputs": [],
   "source": [
    "# if Point(LONGITUDE, LATITUDE).within(poly):"
   ]
  },
  {
   "cell_type": "code",
   "execution_count": 5,
   "id": "cdb92e67",
   "metadata": {
    "ExecuteTime": {
     "end_time": "2022-12-17T09:19:13.186732Z",
     "start_time": "2022-12-17T09:19:13.171734Z"
    }
   },
   "outputs": [],
   "source": [
    "df_test.sort_values(by=\"timestamp\", ignore_index=True, inplace=True)"
   ]
  },
  {
   "cell_type": "code",
   "execution_count": 6,
   "id": "f126f3a1",
   "metadata": {
    "ExecuteTime": {
     "end_time": "2022-12-17T09:19:13.202850Z",
     "start_time": "2022-12-17T09:19:13.187735Z"
    }
   },
   "outputs": [],
   "source": [
    "for idx in df_test.index:\n",
    "    LONGITUDE = df_test.loc[idx, \"longitude\"]\n",
    "    LATITUDE = df_test.loc[idx, \"latitude\"]\n",
    "    heading = df_test.loc[idx, \"heading\"]\n",
    "    speed = df_test.loc[idx, \"speed\"]\n",
    "    if Point(LONGITUDE, LATITUDE).within(poly) and heading < 200 and speed > 8:\n",
    "#         print(idx)\n",
    "        break\n",
    "        "
   ]
  },
  {
   "cell_type": "code",
   "execution_count": 7,
   "id": "e578be74",
   "metadata": {
    "ExecuteTime": {
     "end_time": "2022-12-17T09:19:13.218725Z",
     "start_time": "2022-12-17T09:19:13.203843Z"
    }
   },
   "outputs": [],
   "source": [
    "df_test_2 = df_test.loc[idx:,]\n",
    "df_test_2.reset_index(inplace=True)"
   ]
  },
  {
   "cell_type": "code",
   "execution_count": 8,
   "id": "39a84ff8",
   "metadata": {
    "ExecuteTime": {
     "end_time": "2022-12-17T09:19:13.234073Z",
     "start_time": "2022-12-17T09:19:13.219726Z"
    }
   },
   "outputs": [],
   "source": [
    "# df_test_2.to_csv(\"voy_path/COSCO_test.csv\", encoding=\"utf-8 sig\", header=True, index=False)"
   ]
  },
  {
   "cell_type": "code",
   "execution_count": 9,
   "id": "37e8d48f",
   "metadata": {
    "ExecuteTime": {
     "end_time": "2022-12-17T09:19:13.249866Z",
     "start_time": "2022-12-17T09:19:13.236067Z"
    }
   },
   "outputs": [],
   "source": [
    "distance = 0\n",
    "for idx in df_test_2.index:\n",
    "    if idx != 0:\n",
    "        LONGITUDE = df_test_2.loc[idx, \"longitude\"]\n",
    "        LATITUDE = df_test_2.loc[idx, \"latitude\"]\n",
    "        current_coord = (LATITUDE, LONGITUDE)\n",
    "\n",
    "        LONGITUDE = df_test_2.loc[idx - 1, \"longitude\"]\n",
    "        LATITUDE = df_test_2.loc[idx - 1, \"latitude\"]\n",
    "        previous_current_coord = (LATITUDE, LONGITUDE)\n",
    "\n",
    "        distance += haversine(current_coord, previous_current_coord, unit=\"km\")"
   ]
  },
  {
   "cell_type": "code",
   "execution_count": 10,
   "id": "50cb6385",
   "metadata": {
    "ExecuteTime": {
     "end_time": "2022-12-17T09:19:13.265880Z",
     "start_time": "2022-12-17T09:19:13.250866Z"
    }
   },
   "outputs": [
    {
     "data": {
      "text/plain": [
       "1390.2571841055944"
      ]
     },
     "execution_count": 10,
     "metadata": {},
     "output_type": "execute_result"
    }
   ],
   "source": [
    "distance"
   ]
  },
  {
   "cell_type": "code",
   "execution_count": 11,
   "id": "84ddc0ee",
   "metadata": {
    "ExecuteTime": {
     "end_time": "2022-12-17T09:19:13.281095Z",
     "start_time": "2022-12-17T09:19:13.266875Z"
    }
   },
   "outputs": [
    {
     "data": {
      "text/plain": [
       "67.42632559831476"
      ]
     },
     "execution_count": 11,
     "metadata": {},
     "output_type": "execute_result"
    }
   ],
   "source": [
    "1348.5265119662952 / 20"
   ]
  },
  {
   "cell_type": "code",
   "execution_count": 12,
   "id": "f61e2bb2",
   "metadata": {
    "ExecuteTime": {
     "end_time": "2022-12-17T09:19:13.296152Z",
     "start_time": "2022-12-17T09:19:13.282095Z"
    }
   },
   "outputs": [],
   "source": [
    "overall_length = 1348.5265119662952\n",
    "segment_length = overall_length/20"
   ]
  },
  {
   "cell_type": "code",
   "execution_count": 13,
   "id": "3975eafd",
   "metadata": {
    "ExecuteTime": {
     "end_time": "2022-12-17T09:19:13.311724Z",
     "start_time": "2022-12-17T09:19:13.297155Z"
    }
   },
   "outputs": [],
   "source": [
    "overall_length = distance\n",
    "segment_length = overall_length/20"
   ]
  },
  {
   "cell_type": "code",
   "execution_count": 14,
   "id": "d2bbacbd",
   "metadata": {
    "ExecuteTime": {
     "end_time": "2022-12-17T09:19:13.327737Z",
     "start_time": "2022-12-17T09:19:13.312725Z"
    }
   },
   "outputs": [
    {
     "data": {
      "text/plain": [
       "69.51285920527972"
      ]
     },
     "execution_count": 14,
     "metadata": {},
     "output_type": "execute_result"
    }
   ],
   "source": [
    "segment_length"
   ]
  },
  {
   "cell_type": "code",
   "execution_count": 15,
   "id": "78aa1630",
   "metadata": {
    "ExecuteTime": {
     "end_time": "2022-12-17T09:19:13.342882Z",
     "start_time": "2022-12-17T09:19:13.328730Z"
    },
    "scrolled": true
   },
   "outputs": [
    {
     "name": "stdout",
     "output_type": "stream",
     "text": [
      "75.3054712478748\n",
      "72.94456453129513\n",
      "79.66698682908542\n",
      "71.69434394911764\n",
      "82.71890231447972\n",
      "72.48446084634031\n",
      "77.05866363402825\n",
      "69.69870021954273\n",
      "70.60262220298297\n",
      "80.34519855421348\n",
      "70.83588533026976\n",
      "74.91218070196437\n",
      "74.00463924806776\n",
      "74.4313408905518\n",
      "81.82909180878984\n",
      "80.47227001213217\n",
      "81.38490143384719\n",
      "72.73359381958534\n"
     ]
    }
   ],
   "source": [
    "temp_accu_length = 0\n",
    "segmenting_index_list = []\n",
    "for idx in df_test_2.index:\n",
    "    \n",
    "    if idx == 0:\n",
    "        previous_length = 0\n",
    "    else:\n",
    "        LONGITUDE = df_test_2.loc[idx, \"longitude\"]\n",
    "        LATITUDE = df_test_2.loc[idx, \"latitude\"]\n",
    "        current_coord = (LATITUDE, LONGITUDE)\n",
    "\n",
    "        LONGITUDE = df_test_2.loc[idx - 1, \"longitude\"]\n",
    "        LATITUDE = df_test_2.loc[idx - 1, \"latitude\"]\n",
    "        previous_current_coord = (LATITUDE, LONGITUDE)\n",
    "\n",
    "        current_length = haversine(current_coord, previous_current_coord, unit=\"km\")\n",
    "        temp_accu_length += current_length\n",
    "        \n",
    "        if temp_accu_length >= segment_length:\n",
    "            print(temp_accu_length)\n",
    "#             segmenting_index_list.append(idx)\n",
    "            \n",
    "            \n",
    "            length_error_1 = temp_accu_length - segment_length\n",
    "            length_error_2 = temp_accu_length - segment_length - previous_length\n",
    "            if length_error_1 > length_error_2:\n",
    "                segmenting_index_list.append(idx)\n",
    "            else:\n",
    "                segmenting_index_list.append(idx - 1)\n",
    "                \n",
    "            \n",
    "            temp_accu_length = 0\n",
    "            \n",
    "        previous_length = current_length\n",
    "segmenting_index_list.append(df_test_2.index[-1])\n"
   ]
  },
  {
   "cell_type": "code",
   "execution_count": 16,
   "id": "556e7c44",
   "metadata": {
    "ExecuteTime": {
     "end_time": "2022-12-17T09:19:13.358609Z",
     "start_time": "2022-12-17T09:19:13.343882Z"
    }
   },
   "outputs": [
    {
     "data": {
      "text/plain": [
       "19"
      ]
     },
     "execution_count": 16,
     "metadata": {},
     "output_type": "execute_result"
    }
   ],
   "source": [
    "len(segmenting_index_list)"
   ]
  },
  {
   "cell_type": "code",
   "execution_count": 17,
   "id": "27572ae1",
   "metadata": {
    "ExecuteTime": {
     "end_time": "2022-12-17T09:19:13.374710Z",
     "start_time": "2022-12-17T09:19:13.359690Z"
    }
   },
   "outputs": [],
   "source": [
    "# df 내의 포인트 전체 길이 구하는 함수\n",
    "def reckon_point_lengths(df_test_2):\n",
    "    distance = 0\n",
    "    df_test_2.reset_index(inplace=True, drop=True)\n",
    "    for idx in df_test_2.index:\n",
    "        if idx != 0:\n",
    "            LONGITUDE = df_test_2.loc[idx, \"longitude\"]\n",
    "            LATITUDE = df_test_2.loc[idx, \"latitude\"]\n",
    "            current_coord = (LATITUDE, LONGITUDE)\n",
    "\n",
    "            LONGITUDE = df_test_2.loc[idx - 1, \"longitude\"]\n",
    "            LATITUDE = df_test_2.loc[idx - 1, \"latitude\"]\n",
    "            previous_current_coord = (LATITUDE, LONGITUDE)\n",
    "\n",
    "            distance += haversine(current_coord, previous_current_coord, unit=\"km\")\n",
    "    return distance"
   ]
  },
  {
   "cell_type": "code",
   "execution_count": 18,
   "id": "de0f5579",
   "metadata": {
    "ExecuteTime": {
     "end_time": "2022-12-17T09:19:13.422750Z",
     "start_time": "2022-12-17T09:19:13.375711Z"
    },
    "scrolled": false
   },
   "outputs": [
    {
     "name": "stdout",
     "output_type": "stream",
     "text": [
      "75.3054712478748\n",
      "72.94456453129513\n",
      "79.66698682908542\n",
      "71.69434394911764\n",
      "82.71890231447972\n",
      "72.48446084634031\n",
      "77.05866363402825\n",
      "69.69870021954273\n",
      "70.60262220298297\n",
      "80.34519855421348\n",
      "70.83588533026976\n",
      "74.91218070196437\n",
      "74.00463924806776\n",
      "74.4313408905518\n",
      "81.82909180878984\n",
      "80.47227001213217\n",
      "81.38490143384719\n",
      "72.73359381958534\n",
      "27.13336653142446\n"
     ]
    }
   ],
   "source": [
    "for idx, index in enumerate(segmenting_index_list):\n",
    "    if idx == 0:\n",
    "        d = df_test_2[0:index + 1]\n",
    "#         display(d)\n",
    "        distance = reckon_point_lengths(d)\n",
    "        print(distance)\n",
    "        d.to_csv(f\"실험/segment_test_new_20_{idx}.csv\", encoding=\"utf-8 sig\", header=True, index=False)\n",
    "    else:\n",
    "        d = df_test_2[previous_index:index + 1]\n",
    "#         display(d)\n",
    "        distance = reckon_point_lengths(d)\n",
    "        print(distance)\n",
    "        d.to_csv(f\"실험/segment_test_new_20_{idx}.csv\", encoding=\"utf-8 sig\", header=True, index=False)\n",
    "        \n",
    "    previous_index = index"
   ]
  },
  {
   "cell_type": "code",
   "execution_count": 19,
   "id": "fe9fb041",
   "metadata": {
    "ExecuteTime": {
     "end_time": "2022-12-17T09:19:13.576337Z",
     "start_time": "2022-12-17T09:19:13.423742Z"
    },
    "scrolled": true
   },
   "outputs": [
    {
     "name": "stdout",
     "output_type": "stream",
     "text": [
      "0 8.2\n",
      "1 9.370000000000001\n",
      "2 13.614285714285714\n",
      "3 12.457142857142857\n",
      "4 12.8125\n",
      "5 13.099999999999998\n",
      "6 11.825\n",
      "7 12.557142857142859\n",
      "8 12.657142857142858\n",
      "9 12.462499999999999\n",
      "10 3.6913043478260876\n",
      "11 2.79375\n",
      "12 11.4375\n",
      "13 11.649999999999999\n",
      "14 12.557142857142855\n",
      "15 12.625\n",
      "16 12.525\n",
      "17 4.547619047619047\n",
      "18 3.5499999999999994\n"
     ]
    }
   ],
   "source": [
    "for i in range(len(segmenting_index_list)):\n",
    "    d = pd.read_csv(f\"실험/segment_test_new_20_{i}.csv\")\n",
    "    mean_speed = d[\"speed\"].mean()\n",
    "    print(i, mean_speed)"
   ]
  },
  {
   "cell_type": "code",
   "execution_count": 20,
   "id": "4b7b56fa",
   "metadata": {
    "ExecuteTime": {
     "end_time": "2022-12-17T09:24:28.835199Z",
     "start_time": "2022-12-17T09:24:28.815453Z"
    }
   },
   "outputs": [
    {
     "name": "stdout",
     "output_type": "stream",
     "text": [
      "COSCO_FOS_20\n",
      "전항지 출항 시각 2022-09-30 23:00:41.873653\n",
      "부산 도착 시각 2022-10-05 04:40:30.462938\n"
     ]
    }
   ],
   "source": [
    "print(\"COSCO_FOS_20\")\n",
    "print(\"전항지 출항 시각\",df_test_2.loc[df_test_2.index[0], \"timestamp\"])\n",
    "print(\"부산 도착 시각\",df_test_2.loc[df_test_2.index[-1], \"timestamp\"])"
   ]
  },
  {
   "cell_type": "code",
   "execution_count": null,
   "id": "6ff1c9b1",
   "metadata": {},
   "outputs": [],
   "source": []
  }
 ],
 "metadata": {
  "kernelspec": {
   "display_name": "안정된가상환경",
   "language": "python",
   "name": "oracle2"
  },
  "language_info": {
   "codemirror_mode": {
    "name": "ipython",
    "version": 3
   },
   "file_extension": ".py",
   "mimetype": "text/x-python",
   "name": "python",
   "nbconvert_exporter": "python",
   "pygments_lexer": "ipython3",
   "version": "3.7.11"
  },
  "toc": {
   "base_numbering": 1,
   "nav_menu": {},
   "number_sections": true,
   "sideBar": true,
   "skip_h1_title": false,
   "title_cell": "Table of Contents",
   "title_sidebar": "Contents",
   "toc_cell": false,
   "toc_position": {},
   "toc_section_display": true,
   "toc_window_display": false
  }
 },
 "nbformat": 4,
 "nbformat_minor": 5
}
