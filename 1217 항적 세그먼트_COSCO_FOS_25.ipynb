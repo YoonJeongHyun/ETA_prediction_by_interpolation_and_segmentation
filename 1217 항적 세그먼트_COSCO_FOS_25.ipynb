{
 "cells": [
  {
   "cell_type": "code",
   "execution_count": 2,
   "id": "bd4a6614",
   "metadata": {
    "ExecuteTime": {
     "end_time": "2022-12-17T09:10:34.147676Z",
     "start_time": "2022-12-17T09:10:33.560653Z"
    }
   },
   "outputs": [],
   "source": [
    "import pandas as pd\n",
    "import numpy as np\n",
    "import cx_Oracle\n",
    "import os\n",
    "import json\n",
    "import datetime\n",
    "import warnings\n",
    "\n",
    "warnings.filterwarnings(action=\"ignore\")\n",
    "from selenium import webdriver\n",
    "from selenium.webdriver.support.ui import Select\n",
    "from selenium.webdriver.common.by import By\n",
    "import bs4\n",
    "import requests\n",
    "import time\n",
    "import math\n",
    "import random\n",
    "from shapely.geometry import Point, Polygon\n",
    "import time as timesys\n",
    "from pyproj import Geod\n",
    "from haversine import haversine\n",
    "pd.set_option('display.max_columns', None)"
   ]
  },
  {
   "cell_type": "code",
   "execution_count": 3,
   "id": "62ac4d5b",
   "metadata": {
    "ExecuteTime": {
     "end_time": "2022-12-17T09:10:34.162857Z",
     "start_time": "2022-12-17T09:10:34.148651Z"
    }
   },
   "outputs": [],
   "source": [
    "tianjin = '117.4961975657171,37.86803012379458,7.296245301137998 119.8081837995413,37.9250916349774,-34.2681049860788 119.8416643486643,39.32481316399956,-31.12524274095152 117.9501096884913,39.37523731857854,39.41212136434525 117.4961975657171,37.86803012379458,7.296245301137998'\n",
    "\n",
    "\n",
    "\n",
    "coord_list = tianjin.split(\" \")\n",
    "coord_list\n",
    "coord_list2 = []\n",
    "for i in coord_list:\n",
    "    temp = i.split(\",\")[:2]\n",
    "    temp = list(map(float, temp))\n",
    "    coord_list2.append(temp)\n",
    "poly = Polygon(coord_list2)\n",
    "# if Point(LONGITUDE, LATITUDE).within(poly):"
   ]
  },
  {
   "cell_type": "markdown",
   "id": "006cbc86",
   "metadata": {},
   "source": [
    "정상 항차   \n",
    "26,25,24,23,20"
   ]
  },
  {
   "cell_type": "code",
   "execution_count": 4,
   "id": "51c4e9e3",
   "metadata": {
    "ExecuteTime": {
     "end_time": "2022-12-17T09:10:35.061942Z",
     "start_time": "2022-12-17T09:10:35.011926Z"
    }
   },
   "outputs": [
    {
     "data": {
      "text/html": [
       "<div>\n",
       "<style scoped>\n",
       "    .dataframe tbody tr th:only-of-type {\n",
       "        vertical-align: middle;\n",
       "    }\n",
       "\n",
       "    .dataframe tbody tr th {\n",
       "        vertical-align: top;\n",
       "    }\n",
       "\n",
       "    .dataframe thead th {\n",
       "        text-align: right;\n",
       "    }\n",
       "</style>\n",
       "<table border=\"1\" class=\"dataframe\">\n",
       "  <thead>\n",
       "    <tr style=\"text-align: right;\">\n",
       "      <th></th>\n",
       "      <th>vessel_name</th>\n",
       "      <th>mmsi</th>\n",
       "      <th>imo</th>\n",
       "      <th>CAPACITY</th>\n",
       "      <th>destination</th>\n",
       "      <th>eta</th>\n",
       "      <th>longitude</th>\n",
       "      <th>latitude</th>\n",
       "      <th>speed</th>\n",
       "      <th>heading</th>\n",
       "      <th>timestamp</th>\n",
       "      <th>time_position_data_received</th>\n",
       "      <th>time_voyage_data_received</th>\n",
       "      <th>navigation_info</th>\n",
       "      <th>remained_distance</th>\n",
       "      <th>estimated_fuel_consumption</th>\n",
       "    </tr>\n",
       "  </thead>\n",
       "  <tbody>\n",
       "    <tr>\n",
       "      <th>0</th>\n",
       "      <td>COSCO FOS</td>\n",
       "      <td>477947700</td>\n",
       "      <td>9484302.0</td>\n",
       "      <td>4253</td>\n",
       "      <td>CNTSN</td>\n",
       "      <td>2022-11-09 09:00:00</td>\n",
       "      <td>126.5569</td>\n",
       "      <td>34.0799</td>\n",
       "      <td>18.4</td>\n",
       "      <td>280.0</td>\n",
       "      <td>2022-11-08 18:56:13.959541</td>\n",
       "      <td>2022-11-08 09:55:53</td>\n",
       "      <td>2022-11-08 07:31:08</td>\n",
       "      <td>under way using engine</td>\n",
       "      <td>229.666166</td>\n",
       "      <td>452.388243</td>\n",
       "    </tr>\n",
       "    <tr>\n",
       "      <th>1</th>\n",
       "      <td>COSCO FOS</td>\n",
       "      <td>477947700</td>\n",
       "      <td>9484302.0</td>\n",
       "      <td>4253</td>\n",
       "      <td>CNTSN</td>\n",
       "      <td>2022-11-09 09:00:00</td>\n",
       "      <td>126.5261</td>\n",
       "      <td>34.0849</td>\n",
       "      <td>18.3</td>\n",
       "      <td>285.0</td>\n",
       "      <td>2022-11-08 19:01:17.137621</td>\n",
       "      <td>2022-11-08 10:01:01</td>\n",
       "      <td>2022-11-08 07:31:08</td>\n",
       "      <td>under way using engine</td>\n",
       "      <td>231.973583</td>\n",
       "      <td>453.620310</td>\n",
       "    </tr>\n",
       "    <tr>\n",
       "      <th>2</th>\n",
       "      <td>COSCO FOS</td>\n",
       "      <td>477947700</td>\n",
       "      <td>9484302.0</td>\n",
       "      <td>4253</td>\n",
       "      <td>CNTSN</td>\n",
       "      <td>2022-11-09 09:00:00</td>\n",
       "      <td>126.4980</td>\n",
       "      <td>34.0905</td>\n",
       "      <td>18.5</td>\n",
       "      <td>280.0</td>\n",
       "      <td>2022-11-08 19:06:19.944782</td>\n",
       "      <td>2022-11-08 10:05:41</td>\n",
       "      <td>2022-11-08 07:31:08</td>\n",
       "      <td>under way using engine</td>\n",
       "      <td>234.039994</td>\n",
       "      <td>464.373403</td>\n",
       "    </tr>\n",
       "    <tr>\n",
       "      <th>3</th>\n",
       "      <td>COSCO FOS</td>\n",
       "      <td>477947700</td>\n",
       "      <td>9484302.0</td>\n",
       "      <td>4253</td>\n",
       "      <td>CNTSN</td>\n",
       "      <td>2022-11-09 09:00:00</td>\n",
       "      <td>126.4644</td>\n",
       "      <td>34.0925</td>\n",
       "      <td>18.8</td>\n",
       "      <td>275.0</td>\n",
       "      <td>2022-11-08 19:11:23.235915</td>\n",
       "      <td>2022-11-08 10:11:06</td>\n",
       "      <td>2022-11-08 07:31:08</td>\n",
       "      <td>under way using engine</td>\n",
       "      <td>236.745812</td>\n",
       "      <td>480.132626</td>\n",
       "    </tr>\n",
       "    <tr>\n",
       "      <th>4</th>\n",
       "      <td>COSCO FOS</td>\n",
       "      <td>477947700</td>\n",
       "      <td>9484302.0</td>\n",
       "      <td>4253</td>\n",
       "      <td>CNTSN</td>\n",
       "      <td>2022-11-09 09:00:00</td>\n",
       "      <td>126.4325</td>\n",
       "      <td>34.0943</td>\n",
       "      <td>18.9</td>\n",
       "      <td>275.0</td>\n",
       "      <td>2022-11-08 19:16:26.088005</td>\n",
       "      <td>2022-11-08 10:16:10</td>\n",
       "      <td>2022-11-08 07:31:08</td>\n",
       "      <td>under way using engine</td>\n",
       "      <td>239.327692</td>\n",
       "      <td>488.925120</td>\n",
       "    </tr>\n",
       "    <tr>\n",
       "      <th>...</th>\n",
       "      <td>...</td>\n",
       "      <td>...</td>\n",
       "      <td>...</td>\n",
       "      <td>...</td>\n",
       "      <td>...</td>\n",
       "      <td>...</td>\n",
       "      <td>...</td>\n",
       "      <td>...</td>\n",
       "      <td>...</td>\n",
       "      <td>...</td>\n",
       "      <td>...</td>\n",
       "      <td>...</td>\n",
       "      <td>...</td>\n",
       "      <td>...</td>\n",
       "      <td>...</td>\n",
       "      <td>...</td>\n",
       "    </tr>\n",
       "    <tr>\n",
       "      <th>483</th>\n",
       "      <td>COSCO FOS</td>\n",
       "      <td>477947700</td>\n",
       "      <td>9484302.0</td>\n",
       "      <td>4253</td>\n",
       "      <td>KRBNP</td>\n",
       "      <td>2022-11-14 05:50:00</td>\n",
       "      <td>128.8127</td>\n",
       "      <td>35.0728</td>\n",
       "      <td>6.0</td>\n",
       "      <td>80.0</td>\n",
       "      <td>2022-11-14 15:45:30.478230</td>\n",
       "      <td>2022-11-14 06:42:40</td>\n",
       "      <td>2022-11-14 06:43:07</td>\n",
       "      <td>under way using engine</td>\n",
       "      <td>11.491783</td>\n",
       "      <td>17.159610</td>\n",
       "    </tr>\n",
       "    <tr>\n",
       "      <th>484</th>\n",
       "      <td>COSCO FOS</td>\n",
       "      <td>477947700</td>\n",
       "      <td>9484302.0</td>\n",
       "      <td>4253</td>\n",
       "      <td>KRBNP</td>\n",
       "      <td>2022-11-14 05:50:00</td>\n",
       "      <td>128.8261</td>\n",
       "      <td>35.0755</td>\n",
       "      <td>1.4</td>\n",
       "      <td>76.0</td>\n",
       "      <td>2022-11-14 16:00:40.036669</td>\n",
       "      <td>2022-11-14 06:58:29</td>\n",
       "      <td>2022-11-14 06:49:08</td>\n",
       "      <td>under way using engine</td>\n",
       "      <td>11.791119</td>\n",
       "      <td>67.307567</td>\n",
       "    </tr>\n",
       "    <tr>\n",
       "      <th>485</th>\n",
       "      <td>COSCO FOS</td>\n",
       "      <td>477947700</td>\n",
       "      <td>9484302.0</td>\n",
       "      <td>4253</td>\n",
       "      <td>KRBNP</td>\n",
       "      <td>2022-11-14 05:50:00</td>\n",
       "      <td>128.8294</td>\n",
       "      <td>35.0774</td>\n",
       "      <td>0.0</td>\n",
       "      <td>90.0</td>\n",
       "      <td>2022-11-14 16:41:02.521600</td>\n",
       "      <td>2022-11-14 07:39:30</td>\n",
       "      <td>2022-11-14 07:37:07</td>\n",
       "      <td>moored</td>\n",
       "      <td>12.021023</td>\n",
       "      <td>NaN</td>\n",
       "    </tr>\n",
       "    <tr>\n",
       "      <th>486</th>\n",
       "      <td>COSCO FOS</td>\n",
       "      <td>477947700</td>\n",
       "      <td>9484302.0</td>\n",
       "      <td>4253</td>\n",
       "      <td>KRBNP</td>\n",
       "      <td>2022-11-14 05:50:00</td>\n",
       "      <td>128.8293</td>\n",
       "      <td>35.0774</td>\n",
       "      <td>0.1</td>\n",
       "      <td>91.0</td>\n",
       "      <td>2022-11-14 17:26:27.030687</td>\n",
       "      <td>2022-11-14 08:24:24</td>\n",
       "      <td>2022-11-14 08:25:09</td>\n",
       "      <td>moored</td>\n",
       "      <td>12.020340</td>\n",
       "      <td>959.128537</td>\n",
       "    </tr>\n",
       "    <tr>\n",
       "      <th>487</th>\n",
       "      <td>COSCO FOS</td>\n",
       "      <td>477947700</td>\n",
       "      <td>9484302.0</td>\n",
       "      <td>4253</td>\n",
       "      <td>KRBNP</td>\n",
       "      <td>2022-11-14 05:50:00</td>\n",
       "      <td>128.8293</td>\n",
       "      <td>35.0775</td>\n",
       "      <td>0.0</td>\n",
       "      <td>91.0</td>\n",
       "      <td>2022-11-14 18:47:12.361130</td>\n",
       "      <td>2022-11-14 09:45:30</td>\n",
       "      <td>2022-11-14 09:37:07</td>\n",
       "      <td>moored</td>\n",
       "      <td>12.031429</td>\n",
       "      <td>NaN</td>\n",
       "    </tr>\n",
       "  </tbody>\n",
       "</table>\n",
       "<p>488 rows × 16 columns</p>\n",
       "</div>"
      ],
      "text/plain": [
       "    vessel_name       mmsi        imo  CAPACITY destination  \\\n",
       "0     COSCO FOS  477947700  9484302.0      4253       CNTSN   \n",
       "1     COSCO FOS  477947700  9484302.0      4253       CNTSN   \n",
       "2     COSCO FOS  477947700  9484302.0      4253       CNTSN   \n",
       "3     COSCO FOS  477947700  9484302.0      4253       CNTSN   \n",
       "4     COSCO FOS  477947700  9484302.0      4253       CNTSN   \n",
       "..          ...        ...        ...       ...         ...   \n",
       "483   COSCO FOS  477947700  9484302.0      4253       KRBNP   \n",
       "484   COSCO FOS  477947700  9484302.0      4253       KRBNP   \n",
       "485   COSCO FOS  477947700  9484302.0      4253       KRBNP   \n",
       "486   COSCO FOS  477947700  9484302.0      4253       KRBNP   \n",
       "487   COSCO FOS  477947700  9484302.0      4253       KRBNP   \n",
       "\n",
       "                     eta  longitude  latitude  speed  heading  \\\n",
       "0    2022-11-09 09:00:00   126.5569   34.0799   18.4    280.0   \n",
       "1    2022-11-09 09:00:00   126.5261   34.0849   18.3    285.0   \n",
       "2    2022-11-09 09:00:00   126.4980   34.0905   18.5    280.0   \n",
       "3    2022-11-09 09:00:00   126.4644   34.0925   18.8    275.0   \n",
       "4    2022-11-09 09:00:00   126.4325   34.0943   18.9    275.0   \n",
       "..                   ...        ...       ...    ...      ...   \n",
       "483  2022-11-14 05:50:00   128.8127   35.0728    6.0     80.0   \n",
       "484  2022-11-14 05:50:00   128.8261   35.0755    1.4     76.0   \n",
       "485  2022-11-14 05:50:00   128.8294   35.0774    0.0     90.0   \n",
       "486  2022-11-14 05:50:00   128.8293   35.0774    0.1     91.0   \n",
       "487  2022-11-14 05:50:00   128.8293   35.0775    0.0     91.0   \n",
       "\n",
       "                      timestamp time_position_data_received  \\\n",
       "0    2022-11-08 18:56:13.959541         2022-11-08 09:55:53   \n",
       "1    2022-11-08 19:01:17.137621         2022-11-08 10:01:01   \n",
       "2    2022-11-08 19:06:19.944782         2022-11-08 10:05:41   \n",
       "3    2022-11-08 19:11:23.235915         2022-11-08 10:11:06   \n",
       "4    2022-11-08 19:16:26.088005         2022-11-08 10:16:10   \n",
       "..                          ...                         ...   \n",
       "483  2022-11-14 15:45:30.478230         2022-11-14 06:42:40   \n",
       "484  2022-11-14 16:00:40.036669         2022-11-14 06:58:29   \n",
       "485  2022-11-14 16:41:02.521600         2022-11-14 07:39:30   \n",
       "486  2022-11-14 17:26:27.030687         2022-11-14 08:24:24   \n",
       "487  2022-11-14 18:47:12.361130         2022-11-14 09:45:30   \n",
       "\n",
       "    time_voyage_data_received         navigation_info  remained_distance  \\\n",
       "0         2022-11-08 07:31:08  under way using engine         229.666166   \n",
       "1         2022-11-08 07:31:08  under way using engine         231.973583   \n",
       "2         2022-11-08 07:31:08  under way using engine         234.039994   \n",
       "3         2022-11-08 07:31:08  under way using engine         236.745812   \n",
       "4         2022-11-08 07:31:08  under way using engine         239.327692   \n",
       "..                        ...                     ...                ...   \n",
       "483       2022-11-14 06:43:07  under way using engine          11.491783   \n",
       "484       2022-11-14 06:49:08  under way using engine          11.791119   \n",
       "485       2022-11-14 07:37:07                  moored          12.021023   \n",
       "486       2022-11-14 08:25:09                  moored          12.020340   \n",
       "487       2022-11-14 09:37:07                  moored          12.031429   \n",
       "\n",
       "     estimated_fuel_consumption  \n",
       "0                    452.388243  \n",
       "1                    453.620310  \n",
       "2                    464.373403  \n",
       "3                    480.132626  \n",
       "4                    488.925120  \n",
       "..                          ...  \n",
       "483                   17.159610  \n",
       "484                   67.307567  \n",
       "485                         NaN  \n",
       "486                  959.128537  \n",
       "487                         NaN  \n",
       "\n",
       "[488 rows x 16 columns]"
      ]
     },
     "execution_count": 4,
     "metadata": {},
     "output_type": "execute_result"
    }
   ],
   "source": [
    "df_test = pd.read_csv(\"voy_path/COSCO_FOS_VRKR6_25.csv\")\n",
    "df_test"
   ]
  },
  {
   "cell_type": "code",
   "execution_count": 5,
   "id": "46ce85f7",
   "metadata": {
    "ExecuteTime": {
     "end_time": "2022-12-17T09:10:38.247350Z",
     "start_time": "2022-12-17T09:10:38.237348Z"
    }
   },
   "outputs": [],
   "source": [
    "# if Point(LONGITUDE, LATITUDE).within(poly):"
   ]
  },
  {
   "cell_type": "code",
   "execution_count": 6,
   "id": "cdb92e67",
   "metadata": {
    "ExecuteTime": {
     "end_time": "2022-12-17T09:10:38.427345Z",
     "start_time": "2022-12-17T09:10:38.418332Z"
    }
   },
   "outputs": [],
   "source": [
    "df_test.sort_values(by=\"timestamp\", ignore_index=True, inplace=True)"
   ]
  },
  {
   "cell_type": "code",
   "execution_count": 7,
   "id": "f126f3a1",
   "metadata": {
    "ExecuteTime": {
     "end_time": "2022-12-17T09:10:40.400419Z",
     "start_time": "2022-12-17T09:10:40.380832Z"
    }
   },
   "outputs": [
    {
     "name": "stdout",
     "output_type": "stream",
     "text": [
      "282\n"
     ]
    }
   ],
   "source": [
    "for idx in df_test.index:\n",
    "    LONGITUDE = df_test.loc[idx, \"longitude\"]\n",
    "    LATITUDE = df_test.loc[idx, \"latitude\"]\n",
    "    heading = df_test.loc[idx, \"heading\"]\n",
    "    speed = df_test.loc[idx, \"speed\"]\n",
    "    if Point(LONGITUDE, LATITUDE).within(poly) and heading < 200 and speed > 11:\n",
    "        print(idx)\n",
    "        break\n",
    "        "
   ]
  },
  {
   "cell_type": "code",
   "execution_count": 8,
   "id": "e578be74",
   "metadata": {
    "ExecuteTime": {
     "end_time": "2022-12-17T09:10:46.626975Z",
     "start_time": "2022-12-17T09:10:46.621976Z"
    }
   },
   "outputs": [],
   "source": [
    "df_test_2 = df_test.loc[idx:,]\n",
    "df_test_2.reset_index(inplace=True)"
   ]
  },
  {
   "cell_type": "code",
   "execution_count": 9,
   "id": "39a84ff8",
   "metadata": {
    "ExecuteTime": {
     "end_time": "2022-12-17T09:10:47.245142Z",
     "start_time": "2022-12-17T09:10:47.232230Z"
    }
   },
   "outputs": [],
   "source": [
    "# df_test_2.to_csv(\"voy_path/COSCO_test.csv\", encoding=\"utf-8 sig\", header=True, index=False)"
   ]
  },
  {
   "cell_type": "code",
   "execution_count": 10,
   "id": "37e8d48f",
   "metadata": {
    "ExecuteTime": {
     "end_time": "2022-12-17T09:10:47.645536Z",
     "start_time": "2022-12-17T09:10:47.626901Z"
    }
   },
   "outputs": [],
   "source": [
    "distance = 0\n",
    "for idx in df_test_2.index:\n",
    "    if idx != 0:\n",
    "        LONGITUDE = df_test_2.loc[idx, \"longitude\"]\n",
    "        LATITUDE = df_test_2.loc[idx, \"latitude\"]\n",
    "        current_coord = (LATITUDE, LONGITUDE)\n",
    "\n",
    "        LONGITUDE = df_test_2.loc[idx - 1, \"longitude\"]\n",
    "        LATITUDE = df_test_2.loc[idx - 1, \"latitude\"]\n",
    "        previous_current_coord = (LATITUDE, LONGITUDE)\n",
    "\n",
    "        distance += haversine(current_coord, previous_current_coord, unit=\"km\")"
   ]
  },
  {
   "cell_type": "code",
   "execution_count": 11,
   "id": "50cb6385",
   "metadata": {
    "ExecuteTime": {
     "end_time": "2022-12-17T09:10:49.177899Z",
     "start_time": "2022-12-17T09:10:49.162664Z"
    }
   },
   "outputs": [
    {
     "data": {
      "text/plain": [
       "1309.6651548009452"
      ]
     },
     "execution_count": 11,
     "metadata": {},
     "output_type": "execute_result"
    }
   ],
   "source": [
    "distance"
   ]
  },
  {
   "cell_type": "code",
   "execution_count": 12,
   "id": "3dd707c0",
   "metadata": {
    "ExecuteTime": {
     "end_time": "2022-12-17T09:10:50.113087Z",
     "start_time": "2022-12-17T09:10:50.069165Z"
    }
   },
   "outputs": [
    {
     "ename": "NameError",
     "evalue": "name 'distance2' is not defined",
     "output_type": "error",
     "traceback": [
      "\u001b[1;31m---------------------------------------------------------------------------\u001b[0m",
      "\u001b[1;31mNameError\u001b[0m                                 Traceback (most recent call last)",
      "\u001b[1;32m~\\AppData\\Local\\Temp\\ipykernel_4592\\3639709883.py\u001b[0m in \u001b[0;36m<module>\u001b[1;34m\u001b[0m\n\u001b[1;32m----> 1\u001b[1;33m \u001b[1;33m(\u001b[0m\u001b[0mdistance\u001b[0m \u001b[1;33m+\u001b[0m \u001b[0mdistance2\u001b[0m \u001b[1;33m+\u001b[0m \u001b[0mdistance3\u001b[0m \u001b[1;33m+\u001b[0m \u001b[0mdistance4\u001b[0m \u001b[1;33m+\u001b[0m \u001b[0mdistance5\u001b[0m\u001b[1;33m)\u001b[0m\u001b[1;33m/\u001b[0m\u001b[1;36m5\u001b[0m\u001b[1;33m\u001b[0m\u001b[1;33m\u001b[0m\u001b[0m\n\u001b[0m",
      "\u001b[1;31mNameError\u001b[0m: name 'distance2' is not defined"
     ]
    }
   ],
   "source": [
    "(distance + distance2 + distance3 + distance4 + distance5)/5"
   ]
  },
  {
   "cell_type": "code",
   "execution_count": 18,
   "id": "84ddc0ee",
   "metadata": {
    "ExecuteTime": {
     "end_time": "2022-12-17T02:41:23.172613Z",
     "start_time": "2022-12-17T02:41:23.167441Z"
    }
   },
   "outputs": [
    {
     "data": {
      "text/plain": [
       "67.42632559831476"
      ]
     },
     "execution_count": 18,
     "metadata": {},
     "output_type": "execute_result"
    }
   ],
   "source": [
    "1348.5265119662952 / 20"
   ]
  },
  {
   "cell_type": "code",
   "execution_count": 29,
   "id": "f61e2bb2",
   "metadata": {
    "ExecuteTime": {
     "end_time": "2022-12-17T02:44:32.724197Z",
     "start_time": "2022-12-17T02:44:32.711221Z"
    }
   },
   "outputs": [],
   "source": [
    "overall_length = 1348.5265119662952\n",
    "segment_length = overall_length/20"
   ]
  },
  {
   "cell_type": "code",
   "execution_count": 13,
   "id": "3975eafd",
   "metadata": {
    "ExecuteTime": {
     "end_time": "2022-12-17T09:10:54.194709Z",
     "start_time": "2022-12-17T09:10:54.184377Z"
    }
   },
   "outputs": [],
   "source": [
    "overall_length = distance\n",
    "segment_length = overall_length/20"
   ]
  },
  {
   "cell_type": "code",
   "execution_count": 14,
   "id": "d2bbacbd",
   "metadata": {
    "ExecuteTime": {
     "end_time": "2022-12-17T09:10:54.535824Z",
     "start_time": "2022-12-17T09:10:54.530567Z"
    }
   },
   "outputs": [
    {
     "data": {
      "text/plain": [
       "65.48325774004726"
      ]
     },
     "execution_count": 14,
     "metadata": {},
     "output_type": "execute_result"
    }
   ],
   "source": [
    "segment_length"
   ]
  },
  {
   "cell_type": "code",
   "execution_count": 15,
   "id": "78aa1630",
   "metadata": {
    "ExecuteTime": {
     "end_time": "2022-12-17T09:10:57.256369Z",
     "start_time": "2022-12-17T09:10:57.230225Z"
    },
    "scrolled": true
   },
   "outputs": [
    {
     "name": "stdout",
     "output_type": "stream",
     "text": [
      "72.62727212414536\n",
      "142.95396628771988\n",
      "65.51016254782469\n",
      "80.9702637044401\n",
      "69.41110803973697\n",
      "74.1397948130414\n",
      "300.7040847086696\n",
      "67.848224269958\n",
      "69.4899241896433\n",
      "69.54566403434967\n",
      "67.23005539201127\n",
      "66.08107794443198\n",
      "66.17147192444024\n",
      "65.76426522138014\n"
     ]
    }
   ],
   "source": [
    "temp_accu_length = 0\n",
    "segmenting_index_list = []\n",
    "for idx in df_test_2.index:\n",
    "    \n",
    "    if idx == 0:\n",
    "        previous_length = 0\n",
    "    else:\n",
    "        LONGITUDE = df_test_2.loc[idx, \"longitude\"]\n",
    "        LATITUDE = df_test_2.loc[idx, \"latitude\"]\n",
    "        current_coord = (LATITUDE, LONGITUDE)\n",
    "\n",
    "        LONGITUDE = df_test_2.loc[idx - 1, \"longitude\"]\n",
    "        LATITUDE = df_test_2.loc[idx - 1, \"latitude\"]\n",
    "        previous_current_coord = (LATITUDE, LONGITUDE)\n",
    "\n",
    "        current_length = haversine(current_coord, previous_current_coord, unit=\"km\")\n",
    "        temp_accu_length += current_length\n",
    "        \n",
    "        if temp_accu_length >= segment_length:\n",
    "            print(temp_accu_length)\n",
    "#             segmenting_index_list.append(idx)\n",
    "            \n",
    "            \n",
    "            length_error_1 = temp_accu_length - segment_length\n",
    "            length_error_2 = temp_accu_length - segment_length - previous_length\n",
    "            if length_error_1 > length_error_2:\n",
    "                segmenting_index_list.append(idx)\n",
    "            else:\n",
    "                segmenting_index_list.append(idx - 1)\n",
    "                \n",
    "            \n",
    "            temp_accu_length = 0\n",
    "            \n",
    "        previous_length = current_length\n",
    "segmenting_index_list.append(df_test_2.index[-1])\n"
   ]
  },
  {
   "cell_type": "code",
   "execution_count": 20,
   "id": "dd146d10",
   "metadata": {
    "ExecuteTime": {
     "end_time": "2022-12-17T09:15:39.080821Z",
     "start_time": "2022-12-17T09:15:39.074720Z"
    }
   },
   "outputs": [
    {
     "data": {
      "text/plain": [
       "15"
      ]
     },
     "execution_count": 20,
     "metadata": {},
     "output_type": "execute_result"
    }
   ],
   "source": [
    "len(segmenting_index_list)"
   ]
  },
  {
   "cell_type": "code",
   "execution_count": 16,
   "id": "27572ae1",
   "metadata": {
    "ExecuteTime": {
     "end_time": "2022-12-17T09:11:00.871090Z",
     "start_time": "2022-12-17T09:11:00.867166Z"
    }
   },
   "outputs": [],
   "source": [
    "# df 내의 포인트 전체 길이 구하는 함수\n",
    "def reckon_point_lengths(df_test_2):\n",
    "    distance = 0\n",
    "    df_test_2.reset_index(inplace=True, drop=True)\n",
    "    for idx in df_test_2.index:\n",
    "        if idx != 0:\n",
    "            LONGITUDE = df_test_2.loc[idx, \"longitude\"]\n",
    "            LATITUDE = df_test_2.loc[idx, \"latitude\"]\n",
    "            current_coord = (LATITUDE, LONGITUDE)\n",
    "\n",
    "            LONGITUDE = df_test_2.loc[idx - 1, \"longitude\"]\n",
    "            LATITUDE = df_test_2.loc[idx - 1, \"latitude\"]\n",
    "            previous_current_coord = (LATITUDE, LONGITUDE)\n",
    "\n",
    "            distance += haversine(current_coord, previous_current_coord, unit=\"km\")\n",
    "    return distance"
   ]
  },
  {
   "cell_type": "code",
   "execution_count": 18,
   "id": "de0f5579",
   "metadata": {
    "ExecuteTime": {
     "end_time": "2022-12-17T09:11:49.926498Z",
     "start_time": "2022-12-17T09:11:49.886816Z"
    },
    "scrolled": false
   },
   "outputs": [
    {
     "name": "stdout",
     "output_type": "stream",
     "text": [
      "72.62727212414536\n",
      "142.95396628771988\n",
      "65.51016254782469\n",
      "80.9702637044401\n",
      "69.41110803973697\n",
      "74.1397948130414\n",
      "300.7040847086696\n",
      "67.848224269958\n",
      "69.4899241896433\n",
      "69.54566403434967\n",
      "67.23005539201127\n",
      "66.08107794443198\n",
      "66.17147192444024\n",
      "65.76426522138014\n",
      "31.21781959915293\n"
     ]
    }
   ],
   "source": [
    "for idx, index in enumerate(segmenting_index_list):\n",
    "    if idx == 0:\n",
    "        d = df_test_2[0:index + 1]\n",
    "#         display(d)\n",
    "        distance = reckon_point_lengths(d)\n",
    "        print(distance)\n",
    "        d.to_csv(f\"실험/segment_test_new_25_{idx}.csv\", encoding=\"utf-8 sig\", header=True, index=False)\n",
    "    else:\n",
    "        d = df_test_2[previous_index:index + 1]\n",
    "#         display(d)\n",
    "        distance = reckon_point_lengths(d)\n",
    "        print(distance)\n",
    "        d.to_csv(f\"실험/segment_test_new_25_{idx}.csv\", encoding=\"utf-8 sig\", header=True, index=False)\n",
    "        \n",
    "    previous_index = index"
   ]
  },
  {
   "cell_type": "code",
   "execution_count": 19,
   "id": "fe9fb041",
   "metadata": {
    "ExecuteTime": {
     "end_time": "2022-12-17T09:11:54.507423Z",
     "start_time": "2022-12-17T09:11:54.396837Z"
    }
   },
   "outputs": [
    {
     "name": "stdout",
     "output_type": "stream",
     "text": [
      "0 15.317647058823528\n",
      "1 17.52857142857143\n",
      "2 17.32857142857143\n",
      "3 18.83333333333333\n",
      "4 18.6\n",
      "5 19.466666666666665\n",
      "6 19.75\n",
      "7 18.95\n",
      "8 18.176\n",
      "9 18.757142857142856\n",
      "10 19.6625\n",
      "11 18.539130434782603\n",
      "12 17.941666666666666\n",
      "13 13.190909090909093\n",
      "14 7.034999999999999\n"
     ]
    }
   ],
   "source": [
    "for i in range(len(segmenting_index_list)):\n",
    "    d = pd.read_csv(f\"실험/segment_test_new_25_{i}.csv\")\n",
    "    mean_speed = d[\"speed\"].mean()\n",
    "    print(i, mean_speed)"
   ]
  },
  {
   "cell_type": "code",
   "execution_count": 21,
   "id": "3177fd4f",
   "metadata": {
    "ExecuteTime": {
     "end_time": "2022-12-17T09:24:06.078685Z",
     "start_time": "2022-12-17T09:24:06.067542Z"
    }
   },
   "outputs": [
    {
     "name": "stdout",
     "output_type": "stream",
     "text": [
      "COSCO_FOS_25\n",
      "전항지 출항 시각 2022-11-12 23:02:38.554501\n",
      "부산 도착 시각 2022-11-14 18:47:12.361130\n"
     ]
    }
   ],
   "source": [
    "print(\"COSCO_FOS_25\")\n",
    "print(\"전항지 출항 시각\",df_test_2.loc[df_test_2.index[0], \"timestamp\"])\n",
    "print(\"부산 도착 시각\",df_test_2.loc[df_test_2.index[-1], \"timestamp\"])"
   ]
  },
  {
   "cell_type": "code",
   "execution_count": null,
   "id": "7de364dc",
   "metadata": {},
   "outputs": [],
   "source": []
  }
 ],
 "metadata": {
  "kernelspec": {
   "display_name": "안정된가상환경",
   "language": "python",
   "name": "oracle2"
  },
  "language_info": {
   "codemirror_mode": {
    "name": "ipython",
    "version": 3
   },
   "file_extension": ".py",
   "mimetype": "text/x-python",
   "name": "python",
   "nbconvert_exporter": "python",
   "pygments_lexer": "ipython3",
   "version": "3.7.11"
  },
  "toc": {
   "base_numbering": 1,
   "nav_menu": {},
   "number_sections": true,
   "sideBar": true,
   "skip_h1_title": false,
   "title_cell": "Table of Contents",
   "title_sidebar": "Contents",
   "toc_cell": false,
   "toc_position": {},
   "toc_section_display": true,
   "toc_window_display": false
  }
 },
 "nbformat": 4,
 "nbformat_minor": 5
}
