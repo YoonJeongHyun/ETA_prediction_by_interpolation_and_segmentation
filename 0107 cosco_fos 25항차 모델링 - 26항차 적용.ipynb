{
 "cells": [
  {
   "cell_type": "code",
   "execution_count": 1,
   "id": "bd4a6614",
   "metadata": {
    "ExecuteTime": {
     "end_time": "2023-01-09T07:28:52.934428Z",
     "start_time": "2023-01-09T07:28:52.227661Z"
    }
   },
   "outputs": [],
   "source": [
    "import pandas as pd\n",
    "import numpy as np\n",
    "import cx_Oracle\n",
    "import os\n",
    "import json\n",
    "import datetime\n",
    "import warnings\n",
    "\n",
    "warnings.filterwarnings(action=\"ignore\")\n",
    "from selenium import webdriver\n",
    "from selenium.webdriver.support.ui import Select\n",
    "from selenium.webdriver.common.by import By\n",
    "import bs4\n",
    "import requests\n",
    "import time\n",
    "import math\n",
    "import random\n",
    "from shapely.geometry import Point, Polygon\n",
    "import time as timesys\n",
    "from pyproj import Geod\n",
    "from haversine import haversine\n",
    "pd.set_option('display.max_columns', None)"
   ]
  },
  {
   "cell_type": "code",
   "execution_count": 2,
   "id": "62ac4d5b",
   "metadata": {
    "ExecuteTime": {
     "end_time": "2023-01-09T07:28:52.949486Z",
     "start_time": "2023-01-09T07:28:52.935425Z"
    }
   },
   "outputs": [],
   "source": [
    "tianjin = '117.4961975657171,37.86803012379458,7.296245301137998 119.8081837995413,37.9250916349774,-34.2681049860788 119.8416643486643,39.32481316399956,-31.12524274095152 117.9501096884913,39.37523731857854,39.41212136434525 117.4961975657171,37.86803012379458,7.296245301137998'\n",
    "\n",
    "\n",
    "\n",
    "coord_list = tianjin.split(\" \")\n",
    "coord_list\n",
    "coord_list2 = []\n",
    "for i in coord_list:\n",
    "    temp = i.split(\",\")[:2]\n",
    "    temp = list(map(float, temp))\n",
    "    coord_list2.append(temp)\n",
    "poly = Polygon(coord_list2)\n",
    "# if Point(LONGITUDE, LATITUDE).within(poly):"
   ]
  },
  {
   "cell_type": "code",
   "execution_count": 3,
   "id": "51c4e9e3",
   "metadata": {
    "ExecuteTime": {
     "end_time": "2023-01-09T07:28:52.979325Z",
     "start_time": "2023-01-09T07:28:52.951487Z"
    }
   },
   "outputs": [
    {
     "data": {
      "text/html": [
       "<div>\n",
       "<style scoped>\n",
       "    .dataframe tbody tr th:only-of-type {\n",
       "        vertical-align: middle;\n",
       "    }\n",
       "\n",
       "    .dataframe tbody tr th {\n",
       "        vertical-align: top;\n",
       "    }\n",
       "\n",
       "    .dataframe thead th {\n",
       "        text-align: right;\n",
       "    }\n",
       "</style>\n",
       "<table border=\"1\" class=\"dataframe\">\n",
       "  <thead>\n",
       "    <tr style=\"text-align: right;\">\n",
       "      <th></th>\n",
       "      <th>vessel_name</th>\n",
       "      <th>mmsi</th>\n",
       "      <th>imo</th>\n",
       "      <th>CAPACITY</th>\n",
       "      <th>destination</th>\n",
       "      <th>eta</th>\n",
       "      <th>longitude</th>\n",
       "      <th>latitude</th>\n",
       "      <th>speed</th>\n",
       "      <th>heading</th>\n",
       "      <th>timestamp</th>\n",
       "      <th>time_position_data_received</th>\n",
       "      <th>time_voyage_data_received</th>\n",
       "      <th>navigation_info</th>\n",
       "      <th>remained_distance</th>\n",
       "      <th>estimated_fuel_consumption</th>\n",
       "    </tr>\n",
       "  </thead>\n",
       "  <tbody>\n",
       "    <tr>\n",
       "      <th>0</th>\n",
       "      <td>COSCO FOS</td>\n",
       "      <td>477947700</td>\n",
       "      <td>9484302.0</td>\n",
       "      <td>4253</td>\n",
       "      <td>CNTSN</td>\n",
       "      <td>2022-11-09 09:00:00</td>\n",
       "      <td>126.5569</td>\n",
       "      <td>34.0799</td>\n",
       "      <td>18.4</td>\n",
       "      <td>280.0</td>\n",
       "      <td>2022-11-08 18:56:13.959541</td>\n",
       "      <td>2022-11-08 09:55:53</td>\n",
       "      <td>2022-11-08 07:31:08</td>\n",
       "      <td>under way using engine</td>\n",
       "      <td>229.666166</td>\n",
       "      <td>452.388243</td>\n",
       "    </tr>\n",
       "    <tr>\n",
       "      <th>1</th>\n",
       "      <td>COSCO FOS</td>\n",
       "      <td>477947700</td>\n",
       "      <td>9484302.0</td>\n",
       "      <td>4253</td>\n",
       "      <td>CNTSN</td>\n",
       "      <td>2022-11-09 09:00:00</td>\n",
       "      <td>126.5261</td>\n",
       "      <td>34.0849</td>\n",
       "      <td>18.3</td>\n",
       "      <td>285.0</td>\n",
       "      <td>2022-11-08 19:01:17.137621</td>\n",
       "      <td>2022-11-08 10:01:01</td>\n",
       "      <td>2022-11-08 07:31:08</td>\n",
       "      <td>under way using engine</td>\n",
       "      <td>231.973583</td>\n",
       "      <td>453.620310</td>\n",
       "    </tr>\n",
       "    <tr>\n",
       "      <th>2</th>\n",
       "      <td>COSCO FOS</td>\n",
       "      <td>477947700</td>\n",
       "      <td>9484302.0</td>\n",
       "      <td>4253</td>\n",
       "      <td>CNTSN</td>\n",
       "      <td>2022-11-09 09:00:00</td>\n",
       "      <td>126.4980</td>\n",
       "      <td>34.0905</td>\n",
       "      <td>18.5</td>\n",
       "      <td>280.0</td>\n",
       "      <td>2022-11-08 19:06:19.944782</td>\n",
       "      <td>2022-11-08 10:05:41</td>\n",
       "      <td>2022-11-08 07:31:08</td>\n",
       "      <td>under way using engine</td>\n",
       "      <td>234.039994</td>\n",
       "      <td>464.373403</td>\n",
       "    </tr>\n",
       "    <tr>\n",
       "      <th>3</th>\n",
       "      <td>COSCO FOS</td>\n",
       "      <td>477947700</td>\n",
       "      <td>9484302.0</td>\n",
       "      <td>4253</td>\n",
       "      <td>CNTSN</td>\n",
       "      <td>2022-11-09 09:00:00</td>\n",
       "      <td>126.4644</td>\n",
       "      <td>34.0925</td>\n",
       "      <td>18.8</td>\n",
       "      <td>275.0</td>\n",
       "      <td>2022-11-08 19:11:23.235915</td>\n",
       "      <td>2022-11-08 10:11:06</td>\n",
       "      <td>2022-11-08 07:31:08</td>\n",
       "      <td>under way using engine</td>\n",
       "      <td>236.745812</td>\n",
       "      <td>480.132626</td>\n",
       "    </tr>\n",
       "    <tr>\n",
       "      <th>4</th>\n",
       "      <td>COSCO FOS</td>\n",
       "      <td>477947700</td>\n",
       "      <td>9484302.0</td>\n",
       "      <td>4253</td>\n",
       "      <td>CNTSN</td>\n",
       "      <td>2022-11-09 09:00:00</td>\n",
       "      <td>126.4325</td>\n",
       "      <td>34.0943</td>\n",
       "      <td>18.9</td>\n",
       "      <td>275.0</td>\n",
       "      <td>2022-11-08 19:16:26.088005</td>\n",
       "      <td>2022-11-08 10:16:10</td>\n",
       "      <td>2022-11-08 07:31:08</td>\n",
       "      <td>under way using engine</td>\n",
       "      <td>239.327692</td>\n",
       "      <td>488.925120</td>\n",
       "    </tr>\n",
       "    <tr>\n",
       "      <th>...</th>\n",
       "      <td>...</td>\n",
       "      <td>...</td>\n",
       "      <td>...</td>\n",
       "      <td>...</td>\n",
       "      <td>...</td>\n",
       "      <td>...</td>\n",
       "      <td>...</td>\n",
       "      <td>...</td>\n",
       "      <td>...</td>\n",
       "      <td>...</td>\n",
       "      <td>...</td>\n",
       "      <td>...</td>\n",
       "      <td>...</td>\n",
       "      <td>...</td>\n",
       "      <td>...</td>\n",
       "      <td>...</td>\n",
       "    </tr>\n",
       "    <tr>\n",
       "      <th>483</th>\n",
       "      <td>COSCO FOS</td>\n",
       "      <td>477947700</td>\n",
       "      <td>9484302.0</td>\n",
       "      <td>4253</td>\n",
       "      <td>KRBNP</td>\n",
       "      <td>2022-11-14 05:50:00</td>\n",
       "      <td>128.8127</td>\n",
       "      <td>35.0728</td>\n",
       "      <td>6.0</td>\n",
       "      <td>80.0</td>\n",
       "      <td>2022-11-14 15:45:30.478230</td>\n",
       "      <td>2022-11-14 06:42:40</td>\n",
       "      <td>2022-11-14 06:43:07</td>\n",
       "      <td>under way using engine</td>\n",
       "      <td>11.491783</td>\n",
       "      <td>17.159610</td>\n",
       "    </tr>\n",
       "    <tr>\n",
       "      <th>484</th>\n",
       "      <td>COSCO FOS</td>\n",
       "      <td>477947700</td>\n",
       "      <td>9484302.0</td>\n",
       "      <td>4253</td>\n",
       "      <td>KRBNP</td>\n",
       "      <td>2022-11-14 05:50:00</td>\n",
       "      <td>128.8261</td>\n",
       "      <td>35.0755</td>\n",
       "      <td>1.4</td>\n",
       "      <td>76.0</td>\n",
       "      <td>2022-11-14 16:00:40.036669</td>\n",
       "      <td>2022-11-14 06:58:29</td>\n",
       "      <td>2022-11-14 06:49:08</td>\n",
       "      <td>under way using engine</td>\n",
       "      <td>11.791119</td>\n",
       "      <td>67.307567</td>\n",
       "    </tr>\n",
       "    <tr>\n",
       "      <th>485</th>\n",
       "      <td>COSCO FOS</td>\n",
       "      <td>477947700</td>\n",
       "      <td>9484302.0</td>\n",
       "      <td>4253</td>\n",
       "      <td>KRBNP</td>\n",
       "      <td>2022-11-14 05:50:00</td>\n",
       "      <td>128.8294</td>\n",
       "      <td>35.0774</td>\n",
       "      <td>0.0</td>\n",
       "      <td>90.0</td>\n",
       "      <td>2022-11-14 16:41:02.521600</td>\n",
       "      <td>2022-11-14 07:39:30</td>\n",
       "      <td>2022-11-14 07:37:07</td>\n",
       "      <td>moored</td>\n",
       "      <td>12.021023</td>\n",
       "      <td>NaN</td>\n",
       "    </tr>\n",
       "    <tr>\n",
       "      <th>486</th>\n",
       "      <td>COSCO FOS</td>\n",
       "      <td>477947700</td>\n",
       "      <td>9484302.0</td>\n",
       "      <td>4253</td>\n",
       "      <td>KRBNP</td>\n",
       "      <td>2022-11-14 05:50:00</td>\n",
       "      <td>128.8293</td>\n",
       "      <td>35.0774</td>\n",
       "      <td>0.1</td>\n",
       "      <td>91.0</td>\n",
       "      <td>2022-11-14 17:26:27.030687</td>\n",
       "      <td>2022-11-14 08:24:24</td>\n",
       "      <td>2022-11-14 08:25:09</td>\n",
       "      <td>moored</td>\n",
       "      <td>12.020340</td>\n",
       "      <td>959.128537</td>\n",
       "    </tr>\n",
       "    <tr>\n",
       "      <th>487</th>\n",
       "      <td>COSCO FOS</td>\n",
       "      <td>477947700</td>\n",
       "      <td>9484302.0</td>\n",
       "      <td>4253</td>\n",
       "      <td>KRBNP</td>\n",
       "      <td>2022-11-14 05:50:00</td>\n",
       "      <td>128.8293</td>\n",
       "      <td>35.0775</td>\n",
       "      <td>0.0</td>\n",
       "      <td>91.0</td>\n",
       "      <td>2022-11-14 18:47:12.361130</td>\n",
       "      <td>2022-11-14 09:45:30</td>\n",
       "      <td>2022-11-14 09:37:07</td>\n",
       "      <td>moored</td>\n",
       "      <td>12.031429</td>\n",
       "      <td>NaN</td>\n",
       "    </tr>\n",
       "  </tbody>\n",
       "</table>\n",
       "<p>488 rows × 16 columns</p>\n",
       "</div>"
      ],
      "text/plain": [
       "    vessel_name       mmsi        imo  CAPACITY destination  \\\n",
       "0     COSCO FOS  477947700  9484302.0      4253       CNTSN   \n",
       "1     COSCO FOS  477947700  9484302.0      4253       CNTSN   \n",
       "2     COSCO FOS  477947700  9484302.0      4253       CNTSN   \n",
       "3     COSCO FOS  477947700  9484302.0      4253       CNTSN   \n",
       "4     COSCO FOS  477947700  9484302.0      4253       CNTSN   \n",
       "..          ...        ...        ...       ...         ...   \n",
       "483   COSCO FOS  477947700  9484302.0      4253       KRBNP   \n",
       "484   COSCO FOS  477947700  9484302.0      4253       KRBNP   \n",
       "485   COSCO FOS  477947700  9484302.0      4253       KRBNP   \n",
       "486   COSCO FOS  477947700  9484302.0      4253       KRBNP   \n",
       "487   COSCO FOS  477947700  9484302.0      4253       KRBNP   \n",
       "\n",
       "                     eta  longitude  latitude  speed  heading  \\\n",
       "0    2022-11-09 09:00:00   126.5569   34.0799   18.4    280.0   \n",
       "1    2022-11-09 09:00:00   126.5261   34.0849   18.3    285.0   \n",
       "2    2022-11-09 09:00:00   126.4980   34.0905   18.5    280.0   \n",
       "3    2022-11-09 09:00:00   126.4644   34.0925   18.8    275.0   \n",
       "4    2022-11-09 09:00:00   126.4325   34.0943   18.9    275.0   \n",
       "..                   ...        ...       ...    ...      ...   \n",
       "483  2022-11-14 05:50:00   128.8127   35.0728    6.0     80.0   \n",
       "484  2022-11-14 05:50:00   128.8261   35.0755    1.4     76.0   \n",
       "485  2022-11-14 05:50:00   128.8294   35.0774    0.0     90.0   \n",
       "486  2022-11-14 05:50:00   128.8293   35.0774    0.1     91.0   \n",
       "487  2022-11-14 05:50:00   128.8293   35.0775    0.0     91.0   \n",
       "\n",
       "                      timestamp time_position_data_received  \\\n",
       "0    2022-11-08 18:56:13.959541         2022-11-08 09:55:53   \n",
       "1    2022-11-08 19:01:17.137621         2022-11-08 10:01:01   \n",
       "2    2022-11-08 19:06:19.944782         2022-11-08 10:05:41   \n",
       "3    2022-11-08 19:11:23.235915         2022-11-08 10:11:06   \n",
       "4    2022-11-08 19:16:26.088005         2022-11-08 10:16:10   \n",
       "..                          ...                         ...   \n",
       "483  2022-11-14 15:45:30.478230         2022-11-14 06:42:40   \n",
       "484  2022-11-14 16:00:40.036669         2022-11-14 06:58:29   \n",
       "485  2022-11-14 16:41:02.521600         2022-11-14 07:39:30   \n",
       "486  2022-11-14 17:26:27.030687         2022-11-14 08:24:24   \n",
       "487  2022-11-14 18:47:12.361130         2022-11-14 09:45:30   \n",
       "\n",
       "    time_voyage_data_received         navigation_info  remained_distance  \\\n",
       "0         2022-11-08 07:31:08  under way using engine         229.666166   \n",
       "1         2022-11-08 07:31:08  under way using engine         231.973583   \n",
       "2         2022-11-08 07:31:08  under way using engine         234.039994   \n",
       "3         2022-11-08 07:31:08  under way using engine         236.745812   \n",
       "4         2022-11-08 07:31:08  under way using engine         239.327692   \n",
       "..                        ...                     ...                ...   \n",
       "483       2022-11-14 06:43:07  under way using engine          11.491783   \n",
       "484       2022-11-14 06:49:08  under way using engine          11.791119   \n",
       "485       2022-11-14 07:37:07                  moored          12.021023   \n",
       "486       2022-11-14 08:25:09                  moored          12.020340   \n",
       "487       2022-11-14 09:37:07                  moored          12.031429   \n",
       "\n",
       "     estimated_fuel_consumption  \n",
       "0                    452.388243  \n",
       "1                    453.620310  \n",
       "2                    464.373403  \n",
       "3                    480.132626  \n",
       "4                    488.925120  \n",
       "..                          ...  \n",
       "483                   17.159610  \n",
       "484                   67.307567  \n",
       "485                         NaN  \n",
       "486                  959.128537  \n",
       "487                         NaN  \n",
       "\n",
       "[488 rows x 16 columns]"
      ]
     },
     "execution_count": 3,
     "metadata": {},
     "output_type": "execute_result"
    }
   ],
   "source": [
    "df_test = pd.read_csv(\"voy_path/COSCO_FOS_VRKR6_25.csv\")\n",
    "df_test"
   ]
  },
  {
   "cell_type": "code",
   "execution_count": 4,
   "id": "46ce85f7",
   "metadata": {
    "ExecuteTime": {
     "end_time": "2023-01-09T07:28:52.994335Z",
     "start_time": "2023-01-09T07:28:52.980332Z"
    }
   },
   "outputs": [],
   "source": [
    "# if Point(LONGITUDE, LATITUDE).within(poly):"
   ]
  },
  {
   "cell_type": "code",
   "execution_count": 5,
   "id": "cdb92e67",
   "metadata": {
    "ExecuteTime": {
     "end_time": "2023-01-09T07:28:53.009458Z",
     "start_time": "2023-01-09T07:28:52.995335Z"
    }
   },
   "outputs": [],
   "source": [
    "df_test.sort_values(by=\"timestamp\", ignore_index=True, inplace=True)"
   ]
  },
  {
   "cell_type": "code",
   "execution_count": 6,
   "id": "f126f3a1",
   "metadata": {
    "ExecuteTime": {
     "end_time": "2023-01-09T07:28:53.039916Z",
     "start_time": "2023-01-09T07:28:53.010459Z"
    }
   },
   "outputs": [
    {
     "name": "stdout",
     "output_type": "stream",
     "text": [
      "282\n"
     ]
    }
   ],
   "source": [
    "for idx in df_test.index:\n",
    "    LONGITUDE = df_test.loc[idx, \"longitude\"]\n",
    "    LATITUDE = df_test.loc[idx, \"latitude\"]\n",
    "    heading = df_test.loc[idx, \"heading\"]\n",
    "    speed = df_test.loc[idx, \"speed\"]\n",
    "    if Point(LONGITUDE, LATITUDE).within(poly) and heading < 200 and speed > 11:\n",
    "        print(idx)\n",
    "        break\n",
    "        "
   ]
  },
  {
   "cell_type": "code",
   "execution_count": 7,
   "id": "e578be74",
   "metadata": {
    "ExecuteTime": {
     "end_time": "2023-01-09T07:28:53.055164Z",
     "start_time": "2023-01-09T07:28:53.040890Z"
    }
   },
   "outputs": [],
   "source": [
    "df_test_2 = df_test.loc[idx:,]\n",
    "df_test_2.reset_index(inplace=True)"
   ]
  },
  {
   "cell_type": "code",
   "execution_count": 8,
   "id": "39a84ff8",
   "metadata": {
    "ExecuteTime": {
     "end_time": "2023-01-09T07:28:53.069977Z",
     "start_time": "2023-01-09T07:28:53.056165Z"
    }
   },
   "outputs": [],
   "source": [
    "# df_test_2.to_csv(\"voy_path/COSCO_test.csv\", encoding=\"utf-8 sig\", header=True, index=False)"
   ]
  },
  {
   "cell_type": "code",
   "execution_count": 9,
   "id": "37e8d48f",
   "metadata": {
    "ExecuteTime": {
     "end_time": "2023-01-09T07:28:53.085509Z",
     "start_time": "2023-01-09T07:28:53.072502Z"
    }
   },
   "outputs": [],
   "source": [
    "distance = 0\n",
    "for idx in df_test_2.index:\n",
    "    if idx != 0:\n",
    "        LONGITUDE = df_test_2.loc[idx, \"longitude\"]\n",
    "        LATITUDE = df_test_2.loc[idx, \"latitude\"]\n",
    "        current_coord = (LATITUDE, LONGITUDE)\n",
    "\n",
    "        LONGITUDE = df_test_2.loc[idx - 1, \"longitude\"]\n",
    "        LATITUDE = df_test_2.loc[idx - 1, \"latitude\"]\n",
    "        previous_current_coord = (LATITUDE, LONGITUDE)\n",
    "\n",
    "        distance += haversine(current_coord, previous_current_coord, unit=\"km\")"
   ]
  },
  {
   "cell_type": "code",
   "execution_count": 10,
   "id": "50cb6385",
   "metadata": {
    "ExecuteTime": {
     "end_time": "2023-01-09T07:28:53.100508Z",
     "start_time": "2023-01-09T07:28:53.086508Z"
    }
   },
   "outputs": [
    {
     "data": {
      "text/plain": [
       "1309.6651548009452"
      ]
     },
     "execution_count": 10,
     "metadata": {},
     "output_type": "execute_result"
    }
   ],
   "source": [
    "distance"
   ]
  },
  {
   "cell_type": "code",
   "execution_count": 11,
   "id": "84ddc0ee",
   "metadata": {
    "ExecuteTime": {
     "end_time": "2023-01-09T07:28:53.116044Z",
     "start_time": "2023-01-09T07:28:53.101508Z"
    }
   },
   "outputs": [
    {
     "data": {
      "text/plain": [
       "67.42632559831476"
      ]
     },
     "execution_count": 11,
     "metadata": {},
     "output_type": "execute_result"
    }
   ],
   "source": [
    "1348.5265119662952 / 20"
   ]
  },
  {
   "cell_type": "code",
   "execution_count": 12,
   "id": "f61e2bb2",
   "metadata": {
    "ExecuteTime": {
     "end_time": "2023-01-09T07:28:53.130863Z",
     "start_time": "2023-01-09T07:28:53.117046Z"
    }
   },
   "outputs": [],
   "source": [
    "overall_length = 1348.5265119662952\n",
    "segment_length = overall_length/20"
   ]
  },
  {
   "cell_type": "code",
   "execution_count": 13,
   "id": "3975eafd",
   "metadata": {
    "ExecuteTime": {
     "end_time": "2023-01-09T07:28:53.146071Z",
     "start_time": "2023-01-09T07:28:53.131863Z"
    }
   },
   "outputs": [],
   "source": [
    "overall_length = distance\n",
    "segment_length = overall_length/20"
   ]
  },
  {
   "cell_type": "code",
   "execution_count": 14,
   "id": "d2bbacbd",
   "metadata": {
    "ExecuteTime": {
     "end_time": "2023-01-09T07:28:53.161090Z",
     "start_time": "2023-01-09T07:28:53.147074Z"
    }
   },
   "outputs": [
    {
     "data": {
      "text/plain": [
       "65.48325774004726"
      ]
     },
     "execution_count": 14,
     "metadata": {},
     "output_type": "execute_result"
    }
   ],
   "source": [
    "segment_length"
   ]
  },
  {
   "cell_type": "code",
   "execution_count": 15,
   "id": "78aa1630",
   "metadata": {
    "ExecuteTime": {
     "end_time": "2023-01-09T07:28:53.176076Z",
     "start_time": "2023-01-09T07:28:53.162092Z"
    },
    "scrolled": true
   },
   "outputs": [
    {
     "name": "stdout",
     "output_type": "stream",
     "text": [
      "72.62727212414536\n",
      "142.95396628771988\n",
      "65.51016254782469\n",
      "80.9702637044401\n",
      "69.41110803973697\n",
      "74.1397948130414\n",
      "300.7040847086696\n",
      "67.848224269958\n",
      "69.4899241896433\n",
      "69.54566403434967\n",
      "67.23005539201127\n",
      "66.08107794443198\n",
      "66.17147192444024\n",
      "65.76426522138014\n"
     ]
    }
   ],
   "source": [
    "temp_accu_length = 0\n",
    "segmenting_index_list = []\n",
    "for idx in df_test_2.index:\n",
    "    \n",
    "    if idx == 0:\n",
    "        previous_length = 0\n",
    "    else:\n",
    "        LONGITUDE = df_test_2.loc[idx, \"longitude\"]\n",
    "        LATITUDE = df_test_2.loc[idx, \"latitude\"]\n",
    "        current_coord = (LATITUDE, LONGITUDE)\n",
    "\n",
    "        LONGITUDE = df_test_2.loc[idx - 1, \"longitude\"]\n",
    "        LATITUDE = df_test_2.loc[idx - 1, \"latitude\"]\n",
    "        previous_current_coord = (LATITUDE, LONGITUDE)\n",
    "\n",
    "        current_length = haversine(current_coord, previous_current_coord, unit=\"km\")\n",
    "        temp_accu_length += current_length\n",
    "        \n",
    "        if temp_accu_length >= segment_length:\n",
    "            print(temp_accu_length)\n",
    "#             segmenting_index_list.append(idx)\n",
    "            \n",
    "            \n",
    "            length_error_1 = temp_accu_length - segment_length\n",
    "            length_error_2 = temp_accu_length - segment_length - previous_length\n",
    "            if length_error_1 > length_error_2:\n",
    "                segmenting_index_list.append(idx)\n",
    "            else:\n",
    "                segmenting_index_list.append(idx - 1)\n",
    "                \n",
    "            \n",
    "            temp_accu_length = 0\n",
    "            \n",
    "        previous_length = current_length\n",
    "segmenting_index_list.append(df_test_2.index[-1])\n"
   ]
  },
  {
   "cell_type": "code",
   "execution_count": 16,
   "id": "27572ae1",
   "metadata": {
    "ExecuteTime": {
     "end_time": "2023-01-09T07:28:53.190990Z",
     "start_time": "2023-01-09T07:28:53.177077Z"
    }
   },
   "outputs": [],
   "source": [
    "# df 내의 포인트 전체 길이 구하는 함수\n",
    "def reckon_point_lengths(df_test_2):\n",
    "    distance = 0\n",
    "    df_test_2.reset_index(inplace=True, drop=True)\n",
    "    for idx in df_test_2.index:\n",
    "        if idx != 0:\n",
    "            LONGITUDE = df_test_2.loc[idx, \"longitude\"]\n",
    "            LATITUDE = df_test_2.loc[idx, \"latitude\"]\n",
    "            current_coord = (LATITUDE, LONGITUDE)\n",
    "\n",
    "            LONGITUDE = df_test_2.loc[idx - 1, \"longitude\"]\n",
    "            LATITUDE = df_test_2.loc[idx - 1, \"latitude\"]\n",
    "            previous_current_coord = (LATITUDE, LONGITUDE)\n",
    "\n",
    "            distance += haversine(current_coord, previous_current_coord, unit=\"km\")\n",
    "    return distance"
   ]
  },
  {
   "cell_type": "code",
   "execution_count": 17,
   "id": "de0f5579",
   "metadata": {
    "ExecuteTime": {
     "end_time": "2023-01-09T07:28:53.236362Z",
     "start_time": "2023-01-09T07:28:53.191992Z"
    },
    "scrolled": false
   },
   "outputs": [
    {
     "name": "stdout",
     "output_type": "stream",
     "text": [
      "72.62727212414536\n",
      "142.95396628771988\n",
      "65.51016254782469\n",
      "80.9702637044401\n",
      "69.41110803973697\n",
      "74.1397948130414\n",
      "300.7040847086696\n",
      "67.848224269958\n",
      "69.4899241896433\n",
      "69.54566403434967\n",
      "67.23005539201127\n",
      "66.08107794443198\n",
      "66.17147192444024\n",
      "65.76426522138014\n",
      "31.21781959915293\n"
     ]
    }
   ],
   "source": [
    "for idx, index in enumerate(segmenting_index_list):\n",
    "    if idx == 0:\n",
    "        d = df_test_2[0:index + 1]\n",
    "#         display(d)\n",
    "        distance = reckon_point_lengths(d)\n",
    "        print(distance)\n",
    "        d.to_csv(f\"실험/segment_test_new_{idx}.csv\", encoding=\"utf-8 sig\", header=True, index=False)\n",
    "    else:\n",
    "        d = df_test_2[previous_index:index + 1]\n",
    "#         display(d)\n",
    "        distance = reckon_point_lengths(d)\n",
    "        print(distance)\n",
    "        d.to_csv(f\"실험/segment_test_new_{idx}.csv\", encoding=\"utf-8 sig\", header=True, index=False)\n",
    "        \n",
    "    previous_index = index"
   ]
  },
  {
   "cell_type": "code",
   "execution_count": 18,
   "id": "fe9fb041",
   "metadata": {
    "ExecuteTime": {
     "end_time": "2023-01-09T07:28:53.328437Z",
     "start_time": "2023-01-09T07:28:53.237363Z"
    }
   },
   "outputs": [
    {
     "name": "stdout",
     "output_type": "stream",
     "text": [
      "0 15.317647058823528\n",
      "1 17.52857142857143\n",
      "2 17.32857142857143\n",
      "3 18.83333333333333\n",
      "4 18.6\n",
      "5 19.466666666666665\n",
      "6 19.75\n",
      "7 18.95\n",
      "8 18.176\n",
      "9 18.757142857142856\n",
      "10 19.6625\n",
      "11 18.539130434782603\n",
      "12 17.941666666666666\n",
      "13 13.190909090909093\n",
      "14 7.034999999999999\n"
     ]
    }
   ],
   "source": [
    "for i in range(len(segmenting_index_list)):\n",
    "    d = pd.read_csv(f\"실험/segment_test_new_{i}.csv\")\n",
    "    mean_speed = d[\"speed\"].mean()\n",
    "    print(i, mean_speed)"
   ]
  },
  {
   "cell_type": "code",
   "execution_count": 19,
   "id": "3177fd4f",
   "metadata": {
    "ExecuteTime": {
     "end_time": "2023-01-09T07:28:53.343293Z",
     "start_time": "2023-01-09T07:28:53.330439Z"
    }
   },
   "outputs": [
    {
     "name": "stdout",
     "output_type": "stream",
     "text": [
      "COSCO_FOS_25\n",
      "전항지 출항 시각 2022-11-12 23:02:38.554501\n",
      "부산 도착 시각 2022-11-14 18:47:12.361130\n"
     ]
    }
   ],
   "source": [
    "print(\"COSCO_FOS_25\")\n",
    "print(\"전항지 출항 시각\",df_test_2.loc[df_test_2.index[0], \"timestamp\"])\n",
    "print(\"부산 도착 시각\",df_test_2.loc[df_test_2.index[-1], \"timestamp\"])"
   ]
  },
  {
   "cell_type": "code",
   "execution_count": 36,
   "id": "ae646ffc",
   "metadata": {
    "ExecuteTime": {
     "end_time": "2023-01-09T07:32:07.299585Z",
     "start_time": "2023-01-09T07:32:07.268455Z"
    }
   },
   "outputs": [
    {
     "name": "stdout",
     "output_type": "stream",
     "text": [
      "224\n"
     ]
    }
   ],
   "source": [
    "sample = pd.read_csv(\"voy_path/COSCO_FOS_VRKR6_26.csv\")\n",
    "sample.sort_values(by=\"timestamp\", ignore_index=True, inplace=True)\n",
    "for idx in sample.index:\n",
    "    LONGITUDE = sample.loc[idx, \"longitude\"]\n",
    "    LATITUDE = sample.loc[idx, \"latitude\"]\n",
    "    heading = sample.loc[idx, \"heading\"]\n",
    "    speed = sample.loc[idx, \"speed\"]\n",
    "    if Point(LONGITUDE, LATITUDE).within(poly) and heading < 200 and speed > 11:\n",
    "        print(idx)\n",
    "        break\n",
    "sample = sample.loc[idx:,]\n",
    "sample.reset_index(inplace=True)\n"
   ]
  },
  {
   "cell_type": "code",
   "execution_count": 37,
   "id": "45346d4b",
   "metadata": {
    "ExecuteTime": {
     "end_time": "2023-01-09T07:32:07.677452Z",
     "start_time": "2023-01-09T07:32:07.663482Z"
    }
   },
   "outputs": [],
   "source": [
    "def cal_duration(speed, distance):\n",
    "    hour = int(distance // km_h)\n",
    "    minute = int(\n",
    "        (distance / km_h - distance // km_h) * 60)\n",
    "    duration = datetime.timedelta(hours=hour,minutes=minute)\n",
    "    return duration"
   ]
  },
  {
   "cell_type": "code",
   "execution_count": 38,
   "id": "0d1d6bc1",
   "metadata": {
    "ExecuteTime": {
     "end_time": "2023-01-09T07:32:07.889982Z",
     "start_time": "2023-01-09T07:32:07.878406Z"
    }
   },
   "outputs": [],
   "source": [
    "# 억까 방지\n",
    "busan_berth = '128.7362432822305,34.91571835540296,5.941836244531453 128.8816505843355,34.93956159255044,9.088787041386029 128.8718190496849,35.09310779849003,8.308118991212194 128.7247817257968,35.08647052441917,-9.228016031556635 128.7362432822305,34.91571835540296,5.941836244531453'\n",
    "coord_list = busan_berth.split(\" \")\n",
    "coord_list\n",
    "coord_list2 = []\n",
    "for i in coord_list:\n",
    "    temp = i.split(\",\")[:2]\n",
    "    temp = list(map(float, temp))\n",
    "    coord_list2.append(temp)\n",
    "poly_busan = Polygon(coord_list2)\n",
    "# if Point(LONGITUDE, LATITUDE).within(poly):"
   ]
  },
  {
   "cell_type": "code",
   "execution_count": 39,
   "id": "67877a88",
   "metadata": {
    "ExecuteTime": {
     "end_time": "2023-01-09T07:32:08.056527Z",
     "start_time": "2023-01-09T07:32:08.043327Z"
    }
   },
   "outputs": [],
   "source": [
    "# ATA 확인\n",
    "def check_ATA(df_test):\n",
    "    for i in df_test.index:\n",
    "        LONGITUDE = df_test.loc[i, 'longitude']\n",
    "        LATITUDE = df_test.loc[i, 'latitude']\n",
    "        if Point(LONGITUDE, LATITUDE).within(poly_busan):    \n",
    "            stop_index = i - 1\n",
    "            break\n",
    "            continue\n",
    "    return stop_index"
   ]
  },
  {
   "cell_type": "code",
   "execution_count": 40,
   "id": "411194bc",
   "metadata": {
    "ExecuteTime": {
     "end_time": "2023-01-09T07:32:08.345516Z",
     "start_time": "2023-01-09T07:32:08.323973Z"
    }
   },
   "outputs": [
    {
     "data": {
      "text/html": [
       "<div>\n",
       "<style scoped>\n",
       "    .dataframe tbody tr th:only-of-type {\n",
       "        vertical-align: middle;\n",
       "    }\n",
       "\n",
       "    .dataframe tbody tr th {\n",
       "        vertical-align: top;\n",
       "    }\n",
       "\n",
       "    .dataframe thead th {\n",
       "        text-align: right;\n",
       "    }\n",
       "</style>\n",
       "<table border=\"1\" class=\"dataframe\">\n",
       "  <thead>\n",
       "    <tr style=\"text-align: right;\">\n",
       "      <th></th>\n",
       "      <th>index</th>\n",
       "      <th>vessel_name</th>\n",
       "      <th>mmsi</th>\n",
       "      <th>imo</th>\n",
       "      <th>CAPACITY</th>\n",
       "      <th>destination</th>\n",
       "      <th>eta</th>\n",
       "      <th>longitude</th>\n",
       "      <th>latitude</th>\n",
       "      <th>speed</th>\n",
       "      <th>heading</th>\n",
       "      <th>timestamp</th>\n",
       "      <th>time_position_data_received</th>\n",
       "      <th>time_voyage_data_received</th>\n",
       "      <th>navigation_info</th>\n",
       "      <th>remained_distance</th>\n",
       "      <th>estimated_fuel_consumption</th>\n",
       "    </tr>\n",
       "  </thead>\n",
       "  <tbody>\n",
       "    <tr>\n",
       "      <th>0</th>\n",
       "      <td>224</td>\n",
       "      <td>COSCO FOS</td>\n",
       "      <td>477947700</td>\n",
       "      <td>9484302.0</td>\n",
       "      <td>4253</td>\n",
       "      <td>KRBNP</td>\n",
       "      <td>2022-11-21 08:00:00</td>\n",
       "      <td>117.8339</td>\n",
       "      <td>38.9635</td>\n",
       "      <td>11.5</td>\n",
       "      <td>101.0</td>\n",
       "      <td>2022-11-19 22:24:43.599696</td>\n",
       "      <td>2022-11-19 13:20:25</td>\n",
       "      <td>2022-11-19 01:07:06</td>\n",
       "      <td>under way using engine</td>\n",
       "      <td>1071.303386</td>\n",
       "      <td>1386.146465</td>\n",
       "    </tr>\n",
       "    <tr>\n",
       "      <th>1</th>\n",
       "      <td>225</td>\n",
       "      <td>COSCO FOS</td>\n",
       "      <td>477947700</td>\n",
       "      <td>9484302.0</td>\n",
       "      <td>4253</td>\n",
       "      <td>KRBNP</td>\n",
       "      <td>2022-11-21 08:00:00</td>\n",
       "      <td>117.8521</td>\n",
       "      <td>38.9608</td>\n",
       "      <td>11.6</td>\n",
       "      <td>102.0</td>\n",
       "      <td>2022-11-19 22:29:46.266674</td>\n",
       "      <td>2022-11-19 13:25:02</td>\n",
       "      <td>2022-11-19 01:07:06</td>\n",
       "      <td>under way using engine</td>\n",
       "      <td>1069.727209</td>\n",
       "      <td>1388.920303</td>\n",
       "    </tr>\n",
       "    <tr>\n",
       "      <th>2</th>\n",
       "      <td>226</td>\n",
       "      <td>COSCO FOS</td>\n",
       "      <td>477947700</td>\n",
       "      <td>9484302.0</td>\n",
       "      <td>4253</td>\n",
       "      <td>KRBNP</td>\n",
       "      <td>2022-11-21 08:00:00</td>\n",
       "      <td>117.8962</td>\n",
       "      <td>38.9541</td>\n",
       "      <td>11.5</td>\n",
       "      <td>101.0</td>\n",
       "      <td>2022-11-19 22:39:53.134121</td>\n",
       "      <td>2022-11-19 13:35:45</td>\n",
       "      <td>2022-11-19 01:31:06</td>\n",
       "      <td>under way using engine</td>\n",
       "      <td>1065.901997</td>\n",
       "      <td>1379.157672</td>\n",
       "    </tr>\n",
       "    <tr>\n",
       "      <th>3</th>\n",
       "      <td>227</td>\n",
       "      <td>COSCO FOS</td>\n",
       "      <td>477947700</td>\n",
       "      <td>9484302.0</td>\n",
       "      <td>4253</td>\n",
       "      <td>KRBNP</td>\n",
       "      <td>2022-11-21 08:00:00</td>\n",
       "      <td>117.9377</td>\n",
       "      <td>38.9484</td>\n",
       "      <td>11.6</td>\n",
       "      <td>102.0</td>\n",
       "      <td>2022-11-19 22:49:57.626655</td>\n",
       "      <td>2022-11-19 13:46:03</td>\n",
       "      <td>2022-11-19 01:49:08</td>\n",
       "      <td>under way using engine</td>\n",
       "      <td>1062.327066</td>\n",
       "      <td>1379.312051</td>\n",
       "    </tr>\n",
       "    <tr>\n",
       "      <th>4</th>\n",
       "      <td>228</td>\n",
       "      <td>COSCO FOS</td>\n",
       "      <td>477947700</td>\n",
       "      <td>9484302.0</td>\n",
       "      <td>4253</td>\n",
       "      <td>KRBNP</td>\n",
       "      <td>2022-11-21 08:00:00</td>\n",
       "      <td>117.9571</td>\n",
       "      <td>38.9454</td>\n",
       "      <td>11.6</td>\n",
       "      <td>102.0</td>\n",
       "      <td>2022-11-19 22:55:01.041397</td>\n",
       "      <td>2022-11-19 13:50:45</td>\n",
       "      <td>2022-11-19 01:49:08</td>\n",
       "      <td>under way using engine</td>\n",
       "      <td>1060.642543</td>\n",
       "      <td>1377.124888</td>\n",
       "    </tr>\n",
       "    <tr>\n",
       "      <th>...</th>\n",
       "      <td>...</td>\n",
       "      <td>...</td>\n",
       "      <td>...</td>\n",
       "      <td>...</td>\n",
       "      <td>...</td>\n",
       "      <td>...</td>\n",
       "      <td>...</td>\n",
       "      <td>...</td>\n",
       "      <td>...</td>\n",
       "      <td>...</td>\n",
       "      <td>...</td>\n",
       "      <td>...</td>\n",
       "      <td>...</td>\n",
       "      <td>...</td>\n",
       "      <td>...</td>\n",
       "      <td>...</td>\n",
       "      <td>...</td>\n",
       "    </tr>\n",
       "    <tr>\n",
       "      <th>304</th>\n",
       "      <td>528</td>\n",
       "      <td>COSCO FOS</td>\n",
       "      <td>477947700</td>\n",
       "      <td>9484302.0</td>\n",
       "      <td>4253</td>\n",
       "      <td>KRBNP</td>\n",
       "      <td>2022-11-21 08:00:00</td>\n",
       "      <td>128.8286</td>\n",
       "      <td>35.0767</td>\n",
       "      <td>0.9</td>\n",
       "      <td>80.0</td>\n",
       "      <td>2022-11-21 18:05:52.289081</td>\n",
       "      <td>2022-11-21 08:45:01</td>\n",
       "      <td>2022-11-21 08:37:08</td>\n",
       "      <td>under way using engine</td>\n",
       "      <td>11.938104</td>\n",
       "      <td>105.884565</td>\n",
       "    </tr>\n",
       "    <tr>\n",
       "      <th>305</th>\n",
       "      <td>529</td>\n",
       "      <td>COSCO FOS</td>\n",
       "      <td>477947700</td>\n",
       "      <td>9484302.0</td>\n",
       "      <td>4253</td>\n",
       "      <td>KRBNP</td>\n",
       "      <td>2022-11-21 08:00:00</td>\n",
       "      <td>128.8303</td>\n",
       "      <td>35.0770</td>\n",
       "      <td>0.1</td>\n",
       "      <td>91.0</td>\n",
       "      <td>2022-11-21 20:12:03.039219</td>\n",
       "      <td>2022-11-21 10:46:03</td>\n",
       "      <td>2022-11-21 10:49:07</td>\n",
       "      <td>moored</td>\n",
       "      <td>11.983151</td>\n",
       "      <td>956.161110</td>\n",
       "    </tr>\n",
       "    <tr>\n",
       "      <th>306</th>\n",
       "      <td>530</td>\n",
       "      <td>COSCO FOS</td>\n",
       "      <td>477947700</td>\n",
       "      <td>9484302.0</td>\n",
       "      <td>4253</td>\n",
       "      <td>KRBNP</td>\n",
       "      <td>2022-11-21 08:00:00</td>\n",
       "      <td>128.8302</td>\n",
       "      <td>35.0772</td>\n",
       "      <td>0.0</td>\n",
       "      <td>91.0</td>\n",
       "      <td>2022-11-21 20:17:05.890117</td>\n",
       "      <td>2022-11-21 10:52:05</td>\n",
       "      <td>2022-11-21 10:55:06</td>\n",
       "      <td>moored</td>\n",
       "      <td>12.004568</td>\n",
       "      <td>NaN</td>\n",
       "    </tr>\n",
       "    <tr>\n",
       "      <th>307</th>\n",
       "      <td>531</td>\n",
       "      <td>COSCO FOS</td>\n",
       "      <td>477947700</td>\n",
       "      <td>9484302.0</td>\n",
       "      <td>4253</td>\n",
       "      <td>KRBNP</td>\n",
       "      <td>2022-11-21 08:00:00</td>\n",
       "      <td>128.8300</td>\n",
       "      <td>35.0772</td>\n",
       "      <td>0.0</td>\n",
       "      <td>91.0</td>\n",
       "      <td>2022-11-21 20:42:20.130436</td>\n",
       "      <td>2022-11-21 11:15:59</td>\n",
       "      <td>2022-11-21 11:13:06</td>\n",
       "      <td>moored</td>\n",
       "      <td>12.003097</td>\n",
       "      <td>NaN</td>\n",
       "    </tr>\n",
       "    <tr>\n",
       "      <th>308</th>\n",
       "      <td>532</td>\n",
       "      <td>COSCO FOS</td>\n",
       "      <td>477947700</td>\n",
       "      <td>9484302.0</td>\n",
       "      <td>4253</td>\n",
       "      <td>KRBNP</td>\n",
       "      <td>2022-11-21 08:00:00</td>\n",
       "      <td>128.8300</td>\n",
       "      <td>35.0774</td>\n",
       "      <td>0.2</td>\n",
       "      <td>90.0</td>\n",
       "      <td>2022-11-22 01:14:53.431509</td>\n",
       "      <td>2022-11-21 16:13:17</td>\n",
       "      <td>2022-11-21 04:13:07</td>\n",
       "      <td>moored</td>\n",
       "      <td>12.025264</td>\n",
       "      <td>479.762638</td>\n",
       "    </tr>\n",
       "  </tbody>\n",
       "</table>\n",
       "<p>309 rows × 17 columns</p>\n",
       "</div>"
      ],
      "text/plain": [
       "     index vessel_name       mmsi        imo  CAPACITY destination  \\\n",
       "0      224   COSCO FOS  477947700  9484302.0      4253       KRBNP   \n",
       "1      225   COSCO FOS  477947700  9484302.0      4253       KRBNP   \n",
       "2      226   COSCO FOS  477947700  9484302.0      4253       KRBNP   \n",
       "3      227   COSCO FOS  477947700  9484302.0      4253       KRBNP   \n",
       "4      228   COSCO FOS  477947700  9484302.0      4253       KRBNP   \n",
       "..     ...         ...        ...        ...       ...         ...   \n",
       "304    528   COSCO FOS  477947700  9484302.0      4253       KRBNP   \n",
       "305    529   COSCO FOS  477947700  9484302.0      4253       KRBNP   \n",
       "306    530   COSCO FOS  477947700  9484302.0      4253       KRBNP   \n",
       "307    531   COSCO FOS  477947700  9484302.0      4253       KRBNP   \n",
       "308    532   COSCO FOS  477947700  9484302.0      4253       KRBNP   \n",
       "\n",
       "                     eta  longitude  latitude  speed  heading  \\\n",
       "0    2022-11-21 08:00:00   117.8339   38.9635   11.5    101.0   \n",
       "1    2022-11-21 08:00:00   117.8521   38.9608   11.6    102.0   \n",
       "2    2022-11-21 08:00:00   117.8962   38.9541   11.5    101.0   \n",
       "3    2022-11-21 08:00:00   117.9377   38.9484   11.6    102.0   \n",
       "4    2022-11-21 08:00:00   117.9571   38.9454   11.6    102.0   \n",
       "..                   ...        ...       ...    ...      ...   \n",
       "304  2022-11-21 08:00:00   128.8286   35.0767    0.9     80.0   \n",
       "305  2022-11-21 08:00:00   128.8303   35.0770    0.1     91.0   \n",
       "306  2022-11-21 08:00:00   128.8302   35.0772    0.0     91.0   \n",
       "307  2022-11-21 08:00:00   128.8300   35.0772    0.0     91.0   \n",
       "308  2022-11-21 08:00:00   128.8300   35.0774    0.2     90.0   \n",
       "\n",
       "                      timestamp time_position_data_received  \\\n",
       "0    2022-11-19 22:24:43.599696         2022-11-19 13:20:25   \n",
       "1    2022-11-19 22:29:46.266674         2022-11-19 13:25:02   \n",
       "2    2022-11-19 22:39:53.134121         2022-11-19 13:35:45   \n",
       "3    2022-11-19 22:49:57.626655         2022-11-19 13:46:03   \n",
       "4    2022-11-19 22:55:01.041397         2022-11-19 13:50:45   \n",
       "..                          ...                         ...   \n",
       "304  2022-11-21 18:05:52.289081         2022-11-21 08:45:01   \n",
       "305  2022-11-21 20:12:03.039219         2022-11-21 10:46:03   \n",
       "306  2022-11-21 20:17:05.890117         2022-11-21 10:52:05   \n",
       "307  2022-11-21 20:42:20.130436         2022-11-21 11:15:59   \n",
       "308  2022-11-22 01:14:53.431509         2022-11-21 16:13:17   \n",
       "\n",
       "    time_voyage_data_received         navigation_info  remained_distance  \\\n",
       "0         2022-11-19 01:07:06  under way using engine        1071.303386   \n",
       "1         2022-11-19 01:07:06  under way using engine        1069.727209   \n",
       "2         2022-11-19 01:31:06  under way using engine        1065.901997   \n",
       "3         2022-11-19 01:49:08  under way using engine        1062.327066   \n",
       "4         2022-11-19 01:49:08  under way using engine        1060.642543   \n",
       "..                        ...                     ...                ...   \n",
       "304       2022-11-21 08:37:08  under way using engine          11.938104   \n",
       "305       2022-11-21 10:49:07                  moored          11.983151   \n",
       "306       2022-11-21 10:55:06                  moored          12.004568   \n",
       "307       2022-11-21 11:13:06                  moored          12.003097   \n",
       "308       2022-11-21 04:13:07                  moored          12.025264   \n",
       "\n",
       "     estimated_fuel_consumption  \n",
       "0                   1386.146465  \n",
       "1                   1388.920303  \n",
       "2                   1379.157672  \n",
       "3                   1379.312051  \n",
       "4                   1377.124888  \n",
       "..                          ...  \n",
       "304                  105.884565  \n",
       "305                  956.161110  \n",
       "306                         NaN  \n",
       "307                         NaN  \n",
       "308                  479.762638  \n",
       "\n",
       "[309 rows x 17 columns]"
      ]
     },
     "execution_count": 40,
     "metadata": {},
     "output_type": "execute_result"
    }
   ],
   "source": [
    "sample"
   ]
  },
  {
   "cell_type": "code",
   "execution_count": 41,
   "id": "8118e92b",
   "metadata": {
    "ExecuteTime": {
     "end_time": "2023-01-09T07:32:08.662684Z",
     "start_time": "2023-01-09T07:32:08.637835Z"
    }
   },
   "outputs": [],
   "source": [
    "stop_index = check_ATA(sample)"
   ]
  },
  {
   "cell_type": "code",
   "execution_count": 42,
   "id": "1c93ea35",
   "metadata": {
    "ExecuteTime": {
     "end_time": "2023-01-09T07:32:09.009949Z",
     "start_time": "2023-01-09T07:32:09.000952Z"
    }
   },
   "outputs": [
    {
     "data": {
      "text/plain": [
       "295"
      ]
     },
     "execution_count": 42,
     "metadata": {},
     "output_type": "execute_result"
    }
   ],
   "source": [
    "stop_index"
   ]
  },
  {
   "cell_type": "code",
   "execution_count": 43,
   "id": "5b0da0f2",
   "metadata": {
    "ExecuteTime": {
     "end_time": "2023-01-09T07:32:09.404194Z",
     "start_time": "2023-01-09T07:32:09.381562Z"
    }
   },
   "outputs": [
    {
     "data": {
      "text/html": [
       "<div>\n",
       "<style scoped>\n",
       "    .dataframe tbody tr th:only-of-type {\n",
       "        vertical-align: middle;\n",
       "    }\n",
       "\n",
       "    .dataframe tbody tr th {\n",
       "        vertical-align: top;\n",
       "    }\n",
       "\n",
       "    .dataframe thead th {\n",
       "        text-align: right;\n",
       "    }\n",
       "</style>\n",
       "<table border=\"1\" class=\"dataframe\">\n",
       "  <thead>\n",
       "    <tr style=\"text-align: right;\">\n",
       "      <th></th>\n",
       "      <th>index</th>\n",
       "      <th>vessel_name</th>\n",
       "      <th>mmsi</th>\n",
       "      <th>imo</th>\n",
       "      <th>CAPACITY</th>\n",
       "      <th>destination</th>\n",
       "      <th>eta</th>\n",
       "      <th>longitude</th>\n",
       "      <th>latitude</th>\n",
       "      <th>speed</th>\n",
       "      <th>heading</th>\n",
       "      <th>timestamp</th>\n",
       "      <th>time_position_data_received</th>\n",
       "      <th>time_voyage_data_received</th>\n",
       "      <th>navigation_info</th>\n",
       "      <th>remained_distance</th>\n",
       "      <th>estimated_fuel_consumption</th>\n",
       "    </tr>\n",
       "  </thead>\n",
       "  <tbody>\n",
       "    <tr>\n",
       "      <th>295</th>\n",
       "      <td>519</td>\n",
       "      <td>COSCO FOS</td>\n",
       "      <td>477947700</td>\n",
       "      <td>9484302.0</td>\n",
       "      <td>4253</td>\n",
       "      <td>KRBNP</td>\n",
       "      <td>2022-11-21 08:00:00</td>\n",
       "      <td>128.8326</td>\n",
       "      <td>34.9308</td>\n",
       "      <td>9.7</td>\n",
       "      <td>345.0</td>\n",
       "      <td>2022-11-21 16:50:10.106911</td>\n",
       "      <td>2022-11-21 07:29:14</td>\n",
       "      <td>2022-11-21 07:25:09</td>\n",
       "      <td>under way using engine</td>\n",
       "      <td>4.477744</td>\n",
       "      <td>5.594956</td>\n",
       "    </tr>\n",
       "    <tr>\n",
       "      <th>296</th>\n",
       "      <td>520</td>\n",
       "      <td>COSCO FOS</td>\n",
       "      <td>477947700</td>\n",
       "      <td>9484302.0</td>\n",
       "      <td>4253</td>\n",
       "      <td>KRBNP</td>\n",
       "      <td>2022-11-21 08:00:00</td>\n",
       "      <td>128.8316</td>\n",
       "      <td>34.9334</td>\n",
       "      <td>9.7</td>\n",
       "      <td>345.0</td>\n",
       "      <td>2022-11-21 16:55:12.370789</td>\n",
       "      <td>2022-11-21 07:30:20</td>\n",
       "      <td>2022-11-21 07:31:07</td>\n",
       "      <td>under way using engine</td>\n",
       "      <td>4.174799</td>\n",
       "      <td>5.216425</td>\n",
       "    </tr>\n",
       "    <tr>\n",
       "      <th>297</th>\n",
       "      <td>521</td>\n",
       "      <td>COSCO FOS</td>\n",
       "      <td>477947700</td>\n",
       "      <td>9484302.0</td>\n",
       "      <td>4253</td>\n",
       "      <td>KRBNP</td>\n",
       "      <td>2022-11-21 08:00:00</td>\n",
       "      <td>128.8109</td>\n",
       "      <td>34.9799</td>\n",
       "      <td>11.9</td>\n",
       "      <td>343.0</td>\n",
       "      <td>2022-11-21 17:10:24.772941</td>\n",
       "      <td>2022-11-21 07:46:50</td>\n",
       "      <td>2022-11-21 07:49:08</td>\n",
       "      <td>under way using engine</td>\n",
       "      <td>1.385139</td>\n",
       "      <td>1.818734</td>\n",
       "    </tr>\n",
       "    <tr>\n",
       "      <th>298</th>\n",
       "      <td>522</td>\n",
       "      <td>COSCO FOS</td>\n",
       "      <td>477947700</td>\n",
       "      <td>9484302.0</td>\n",
       "      <td>4253</td>\n",
       "      <td>KRBNP</td>\n",
       "      <td>2022-11-21 08:00:00</td>\n",
       "      <td>128.7941</td>\n",
       "      <td>35.0195</td>\n",
       "      <td>12.4</td>\n",
       "      <td>341.0</td>\n",
       "      <td>2022-11-21 17:20:26.867541</td>\n",
       "      <td>2022-11-21 08:00:05</td>\n",
       "      <td>2022-11-21 07:49:08</td>\n",
       "      <td>under way using engine</td>\n",
       "      <td>6.009961</td>\n",
       "      <td>8.060099</td>\n",
       "    </tr>\n",
       "    <tr>\n",
       "      <th>299</th>\n",
       "      <td>523</td>\n",
       "      <td>COSCO FOS</td>\n",
       "      <td>477947700</td>\n",
       "      <td>9484302.0</td>\n",
       "      <td>4253</td>\n",
       "      <td>KRBNP</td>\n",
       "      <td>2022-11-21 08:00:00</td>\n",
       "      <td>128.7889</td>\n",
       "      <td>35.0318</td>\n",
       "      <td>10.6</td>\n",
       "      <td>341.0</td>\n",
       "      <td>2022-11-21 17:25:29.125227</td>\n",
       "      <td>2022-11-21 08:04:23</td>\n",
       "      <td>2022-11-21 07:49:08</td>\n",
       "      <td>under way using engine</td>\n",
       "      <td>7.455118</td>\n",
       "      <td>9.412492</td>\n",
       "    </tr>\n",
       "    <tr>\n",
       "      <th>300</th>\n",
       "      <td>524</td>\n",
       "      <td>COSCO FOS</td>\n",
       "      <td>477947700</td>\n",
       "      <td>9484302.0</td>\n",
       "      <td>4253</td>\n",
       "      <td>KRBNP</td>\n",
       "      <td>2022-11-21 08:00:00</td>\n",
       "      <td>128.7868</td>\n",
       "      <td>35.0597</td>\n",
       "      <td>8.2</td>\n",
       "      <td>25.0</td>\n",
       "      <td>2022-11-21 17:35:35.996969</td>\n",
       "      <td>2022-11-21 08:15:14</td>\n",
       "      <td>2022-11-21 08:13:09</td>\n",
       "      <td>under way using engine</td>\n",
       "      <td>10.450602</td>\n",
       "      <td>13.357489</td>\n",
       "    </tr>\n",
       "    <tr>\n",
       "      <th>301</th>\n",
       "      <td>525</td>\n",
       "      <td>COSCO FOS</td>\n",
       "      <td>477947700</td>\n",
       "      <td>9484302.0</td>\n",
       "      <td>4253</td>\n",
       "      <td>KRBNP</td>\n",
       "      <td>2022-11-21 08:00:00</td>\n",
       "      <td>128.7908</td>\n",
       "      <td>35.0657</td>\n",
       "      <td>8.0</td>\n",
       "      <td>53.0</td>\n",
       "      <td>2022-11-21 17:40:38.692701</td>\n",
       "      <td>2022-11-21 08:18:19</td>\n",
       "      <td>2022-11-21 08:13:09</td>\n",
       "      <td>under way using engine</td>\n",
       "      <td>10.999747</td>\n",
       "      <td>14.165268</td>\n",
       "    </tr>\n",
       "    <tr>\n",
       "      <th>302</th>\n",
       "      <td>526</td>\n",
       "      <td>COSCO FOS</td>\n",
       "      <td>477947700</td>\n",
       "      <td>9484302.0</td>\n",
       "      <td>4253</td>\n",
       "      <td>KRBNP</td>\n",
       "      <td>2022-11-21 08:00:00</td>\n",
       "      <td>128.8049</td>\n",
       "      <td>35.0702</td>\n",
       "      <td>7.1</td>\n",
       "      <td>75.0</td>\n",
       "      <td>2022-11-21 17:45:41.601632</td>\n",
       "      <td>2022-11-21 08:24:32</td>\n",
       "      <td>2022-11-21 08:13:09</td>\n",
       "      <td>under way using engine</td>\n",
       "      <td>11.264421</td>\n",
       "      <td>15.235716</td>\n",
       "    </tr>\n",
       "    <tr>\n",
       "      <th>303</th>\n",
       "      <td>527</td>\n",
       "      <td>COSCO FOS</td>\n",
       "      <td>477947700</td>\n",
       "      <td>9484302.0</td>\n",
       "      <td>4253</td>\n",
       "      <td>KRBNP</td>\n",
       "      <td>2022-11-21 08:00:00</td>\n",
       "      <td>128.8218</td>\n",
       "      <td>35.0740</td>\n",
       "      <td>3.9</td>\n",
       "      <td>69.0</td>\n",
       "      <td>2022-11-21 17:55:45.279861</td>\n",
       "      <td>2022-11-21 08:34:22</td>\n",
       "      <td>2022-11-21 08:13:09</td>\n",
       "      <td>under way using engine</td>\n",
       "      <td>11.610739</td>\n",
       "      <td>24.556266</td>\n",
       "    </tr>\n",
       "    <tr>\n",
       "      <th>304</th>\n",
       "      <td>528</td>\n",
       "      <td>COSCO FOS</td>\n",
       "      <td>477947700</td>\n",
       "      <td>9484302.0</td>\n",
       "      <td>4253</td>\n",
       "      <td>KRBNP</td>\n",
       "      <td>2022-11-21 08:00:00</td>\n",
       "      <td>128.8286</td>\n",
       "      <td>35.0767</td>\n",
       "      <td>0.9</td>\n",
       "      <td>80.0</td>\n",
       "      <td>2022-11-21 18:05:52.289081</td>\n",
       "      <td>2022-11-21 08:45:01</td>\n",
       "      <td>2022-11-21 08:37:08</td>\n",
       "      <td>under way using engine</td>\n",
       "      <td>11.938104</td>\n",
       "      <td>105.884565</td>\n",
       "    </tr>\n",
       "    <tr>\n",
       "      <th>305</th>\n",
       "      <td>529</td>\n",
       "      <td>COSCO FOS</td>\n",
       "      <td>477947700</td>\n",
       "      <td>9484302.0</td>\n",
       "      <td>4253</td>\n",
       "      <td>KRBNP</td>\n",
       "      <td>2022-11-21 08:00:00</td>\n",
       "      <td>128.8303</td>\n",
       "      <td>35.0770</td>\n",
       "      <td>0.1</td>\n",
       "      <td>91.0</td>\n",
       "      <td>2022-11-21 20:12:03.039219</td>\n",
       "      <td>2022-11-21 10:46:03</td>\n",
       "      <td>2022-11-21 10:49:07</td>\n",
       "      <td>moored</td>\n",
       "      <td>11.983151</td>\n",
       "      <td>956.161110</td>\n",
       "    </tr>\n",
       "    <tr>\n",
       "      <th>306</th>\n",
       "      <td>530</td>\n",
       "      <td>COSCO FOS</td>\n",
       "      <td>477947700</td>\n",
       "      <td>9484302.0</td>\n",
       "      <td>4253</td>\n",
       "      <td>KRBNP</td>\n",
       "      <td>2022-11-21 08:00:00</td>\n",
       "      <td>128.8302</td>\n",
       "      <td>35.0772</td>\n",
       "      <td>0.0</td>\n",
       "      <td>91.0</td>\n",
       "      <td>2022-11-21 20:17:05.890117</td>\n",
       "      <td>2022-11-21 10:52:05</td>\n",
       "      <td>2022-11-21 10:55:06</td>\n",
       "      <td>moored</td>\n",
       "      <td>12.004568</td>\n",
       "      <td>NaN</td>\n",
       "    </tr>\n",
       "    <tr>\n",
       "      <th>307</th>\n",
       "      <td>531</td>\n",
       "      <td>COSCO FOS</td>\n",
       "      <td>477947700</td>\n",
       "      <td>9484302.0</td>\n",
       "      <td>4253</td>\n",
       "      <td>KRBNP</td>\n",
       "      <td>2022-11-21 08:00:00</td>\n",
       "      <td>128.8300</td>\n",
       "      <td>35.0772</td>\n",
       "      <td>0.0</td>\n",
       "      <td>91.0</td>\n",
       "      <td>2022-11-21 20:42:20.130436</td>\n",
       "      <td>2022-11-21 11:15:59</td>\n",
       "      <td>2022-11-21 11:13:06</td>\n",
       "      <td>moored</td>\n",
       "      <td>12.003097</td>\n",
       "      <td>NaN</td>\n",
       "    </tr>\n",
       "    <tr>\n",
       "      <th>308</th>\n",
       "      <td>532</td>\n",
       "      <td>COSCO FOS</td>\n",
       "      <td>477947700</td>\n",
       "      <td>9484302.0</td>\n",
       "      <td>4253</td>\n",
       "      <td>KRBNP</td>\n",
       "      <td>2022-11-21 08:00:00</td>\n",
       "      <td>128.8300</td>\n",
       "      <td>35.0774</td>\n",
       "      <td>0.2</td>\n",
       "      <td>90.0</td>\n",
       "      <td>2022-11-22 01:14:53.431509</td>\n",
       "      <td>2022-11-21 16:13:17</td>\n",
       "      <td>2022-11-21 04:13:07</td>\n",
       "      <td>moored</td>\n",
       "      <td>12.025264</td>\n",
       "      <td>479.762638</td>\n",
       "    </tr>\n",
       "  </tbody>\n",
       "</table>\n",
       "</div>"
      ],
      "text/plain": [
       "     index vessel_name       mmsi        imo  CAPACITY destination  \\\n",
       "295    519   COSCO FOS  477947700  9484302.0      4253       KRBNP   \n",
       "296    520   COSCO FOS  477947700  9484302.0      4253       KRBNP   \n",
       "297    521   COSCO FOS  477947700  9484302.0      4253       KRBNP   \n",
       "298    522   COSCO FOS  477947700  9484302.0      4253       KRBNP   \n",
       "299    523   COSCO FOS  477947700  9484302.0      4253       KRBNP   \n",
       "300    524   COSCO FOS  477947700  9484302.0      4253       KRBNP   \n",
       "301    525   COSCO FOS  477947700  9484302.0      4253       KRBNP   \n",
       "302    526   COSCO FOS  477947700  9484302.0      4253       KRBNP   \n",
       "303    527   COSCO FOS  477947700  9484302.0      4253       KRBNP   \n",
       "304    528   COSCO FOS  477947700  9484302.0      4253       KRBNP   \n",
       "305    529   COSCO FOS  477947700  9484302.0      4253       KRBNP   \n",
       "306    530   COSCO FOS  477947700  9484302.0      4253       KRBNP   \n",
       "307    531   COSCO FOS  477947700  9484302.0      4253       KRBNP   \n",
       "308    532   COSCO FOS  477947700  9484302.0      4253       KRBNP   \n",
       "\n",
       "                     eta  longitude  latitude  speed  heading  \\\n",
       "295  2022-11-21 08:00:00   128.8326   34.9308    9.7    345.0   \n",
       "296  2022-11-21 08:00:00   128.8316   34.9334    9.7    345.0   \n",
       "297  2022-11-21 08:00:00   128.8109   34.9799   11.9    343.0   \n",
       "298  2022-11-21 08:00:00   128.7941   35.0195   12.4    341.0   \n",
       "299  2022-11-21 08:00:00   128.7889   35.0318   10.6    341.0   \n",
       "300  2022-11-21 08:00:00   128.7868   35.0597    8.2     25.0   \n",
       "301  2022-11-21 08:00:00   128.7908   35.0657    8.0     53.0   \n",
       "302  2022-11-21 08:00:00   128.8049   35.0702    7.1     75.0   \n",
       "303  2022-11-21 08:00:00   128.8218   35.0740    3.9     69.0   \n",
       "304  2022-11-21 08:00:00   128.8286   35.0767    0.9     80.0   \n",
       "305  2022-11-21 08:00:00   128.8303   35.0770    0.1     91.0   \n",
       "306  2022-11-21 08:00:00   128.8302   35.0772    0.0     91.0   \n",
       "307  2022-11-21 08:00:00   128.8300   35.0772    0.0     91.0   \n",
       "308  2022-11-21 08:00:00   128.8300   35.0774    0.2     90.0   \n",
       "\n",
       "                      timestamp time_position_data_received  \\\n",
       "295  2022-11-21 16:50:10.106911         2022-11-21 07:29:14   \n",
       "296  2022-11-21 16:55:12.370789         2022-11-21 07:30:20   \n",
       "297  2022-11-21 17:10:24.772941         2022-11-21 07:46:50   \n",
       "298  2022-11-21 17:20:26.867541         2022-11-21 08:00:05   \n",
       "299  2022-11-21 17:25:29.125227         2022-11-21 08:04:23   \n",
       "300  2022-11-21 17:35:35.996969         2022-11-21 08:15:14   \n",
       "301  2022-11-21 17:40:38.692701         2022-11-21 08:18:19   \n",
       "302  2022-11-21 17:45:41.601632         2022-11-21 08:24:32   \n",
       "303  2022-11-21 17:55:45.279861         2022-11-21 08:34:22   \n",
       "304  2022-11-21 18:05:52.289081         2022-11-21 08:45:01   \n",
       "305  2022-11-21 20:12:03.039219         2022-11-21 10:46:03   \n",
       "306  2022-11-21 20:17:05.890117         2022-11-21 10:52:05   \n",
       "307  2022-11-21 20:42:20.130436         2022-11-21 11:15:59   \n",
       "308  2022-11-22 01:14:53.431509         2022-11-21 16:13:17   \n",
       "\n",
       "    time_voyage_data_received         navigation_info  remained_distance  \\\n",
       "295       2022-11-21 07:25:09  under way using engine           4.477744   \n",
       "296       2022-11-21 07:31:07  under way using engine           4.174799   \n",
       "297       2022-11-21 07:49:08  under way using engine           1.385139   \n",
       "298       2022-11-21 07:49:08  under way using engine           6.009961   \n",
       "299       2022-11-21 07:49:08  under way using engine           7.455118   \n",
       "300       2022-11-21 08:13:09  under way using engine          10.450602   \n",
       "301       2022-11-21 08:13:09  under way using engine          10.999747   \n",
       "302       2022-11-21 08:13:09  under way using engine          11.264421   \n",
       "303       2022-11-21 08:13:09  under way using engine          11.610739   \n",
       "304       2022-11-21 08:37:08  under way using engine          11.938104   \n",
       "305       2022-11-21 10:49:07                  moored          11.983151   \n",
       "306       2022-11-21 10:55:06                  moored          12.004568   \n",
       "307       2022-11-21 11:13:06                  moored          12.003097   \n",
       "308       2022-11-21 04:13:07                  moored          12.025264   \n",
       "\n",
       "     estimated_fuel_consumption  \n",
       "295                    5.594956  \n",
       "296                    5.216425  \n",
       "297                    1.818734  \n",
       "298                    8.060099  \n",
       "299                    9.412492  \n",
       "300                   13.357489  \n",
       "301                   14.165268  \n",
       "302                   15.235716  \n",
       "303                   24.556266  \n",
       "304                  105.884565  \n",
       "305                  956.161110  \n",
       "306                         NaN  \n",
       "307                         NaN  \n",
       "308                  479.762638  "
      ]
     },
     "execution_count": 43,
     "metadata": {},
     "output_type": "execute_result"
    }
   ],
   "source": [
    "sample.loc[stop_index:]"
   ]
  },
  {
   "cell_type": "code",
   "execution_count": 44,
   "id": "8f87be8a",
   "metadata": {
    "ExecuteTime": {
     "end_time": "2023-01-09T07:32:09.843622Z",
     "start_time": "2023-01-09T07:32:09.825520Z"
    }
   },
   "outputs": [
    {
     "data": {
      "text/plain": [
       "Timestamp('2022-11-21 16:50:10.106911')"
      ]
     },
     "execution_count": 44,
     "metadata": {},
     "output_type": "execute_result"
    }
   ],
   "source": [
    "ATA = pd.to_datetime(sample.loc[stop_index,\"timestamp\"])\n",
    "ATA"
   ]
  },
  {
   "cell_type": "markdown",
   "id": "eede2bec",
   "metadata": {},
   "source": [
    "# 감속률 적용"
   ]
  },
  {
   "cell_type": "code",
   "execution_count": 45,
   "id": "8cf3dc75",
   "metadata": {
    "ExecuteTime": {
     "end_time": "2023-01-09T07:32:10.724830Z",
     "start_time": "2023-01-09T07:32:10.716830Z"
    }
   },
   "outputs": [
    {
     "data": {
      "text/plain": [
       "15"
      ]
     },
     "execution_count": 45,
     "metadata": {},
     "output_type": "execute_result"
    }
   ],
   "source": [
    "len(segmenting_index_list)"
   ]
  },
  {
   "cell_type": "code",
   "execution_count": 46,
   "id": "d41c33de",
   "metadata": {
    "ExecuteTime": {
     "end_time": "2023-01-09T07:32:11.135051Z",
     "start_time": "2023-01-09T07:32:11.130233Z"
    }
   },
   "outputs": [
    {
     "data": {
      "text/plain": [
       "306"
      ]
     },
     "execution_count": 46,
     "metadata": {},
     "output_type": "execute_result"
    }
   ],
   "source": [
    "sam"
   ]
  },
  {
   "cell_type": "code",
   "execution_count": 31,
   "id": "f3ab2582",
   "metadata": {
    "ExecuteTime": {
     "end_time": "2023-01-09T07:31:24.399455Z",
     "start_time": "2023-01-09T07:31:04.577608Z"
    },
    "scrolled": true
   },
   "outputs": [
    {
     "ename": "OverflowError",
     "evalue": "cannot convert float infinity to integer",
     "output_type": "error",
     "traceback": [
      "\u001b[1;31m---------------------------------------------------------------------------\u001b[0m",
      "\u001b[1;31mOverflowError\u001b[0m                             Traceback (most recent call last)",
      "\u001b[1;32m~\\AppData\\Local\\Temp\\ipykernel_34576\\3857052682.py\u001b[0m in \u001b[0;36m<module>\u001b[1;34m\u001b[0m\n\u001b[0;32m     36\u001b[0m     \u001b[0mdistance\u001b[0m \u001b[1;33m=\u001b[0m \u001b[0mhaversine\u001b[0m\u001b[1;33m(\u001b[0m\u001b[0mcurrent_point\u001b[0m\u001b[1;33m,\u001b[0m \u001b[0mnew_point\u001b[0m\u001b[1;33m,\u001b[0m \u001b[0munit\u001b[0m\u001b[1;33m=\u001b[0m\u001b[1;34m\"km\"\u001b[0m\u001b[1;33m)\u001b[0m\u001b[1;33m\u001b[0m\u001b[1;33m\u001b[0m\u001b[0m\n\u001b[0;32m     37\u001b[0m     \u001b[0mkm_h\u001b[0m \u001b[1;33m=\u001b[0m \u001b[0mcurrent_speed\u001b[0m \u001b[1;33m*\u001b[0m \u001b[1;36m1.852\u001b[0m\u001b[1;33m\u001b[0m\u001b[1;33m\u001b[0m\u001b[0m\n\u001b[1;32m---> 38\u001b[1;33m     \u001b[0minit_duration\u001b[0m \u001b[1;33m=\u001b[0m \u001b[0mcal_duration\u001b[0m\u001b[1;33m(\u001b[0m\u001b[0mkm_h\u001b[0m\u001b[1;33m,\u001b[0m \u001b[0mdistance\u001b[0m\u001b[1;33m)\u001b[0m\u001b[1;33m\u001b[0m\u001b[1;33m\u001b[0m\u001b[0m\n\u001b[0m\u001b[0;32m     39\u001b[0m \u001b[1;33m\u001b[0m\u001b[0m\n\u001b[0;32m     40\u001b[0m     \u001b[1;31m# 가장 가까운 segment 데이터 불러오기\u001b[0m\u001b[1;33m\u001b[0m\u001b[1;33m\u001b[0m\u001b[1;33m\u001b[0m\u001b[0m\n",
      "\u001b[1;32m~\\AppData\\Local\\Temp\\ipykernel_34576\\382736699.py\u001b[0m in \u001b[0;36mcal_duration\u001b[1;34m(speed, distance)\u001b[0m\n\u001b[0;32m      1\u001b[0m \u001b[1;32mdef\u001b[0m \u001b[0mcal_duration\u001b[0m\u001b[1;33m(\u001b[0m\u001b[0mspeed\u001b[0m\u001b[1;33m,\u001b[0m \u001b[0mdistance\u001b[0m\u001b[1;33m)\u001b[0m\u001b[1;33m:\u001b[0m\u001b[1;33m\u001b[0m\u001b[1;33m\u001b[0m\u001b[0m\n\u001b[1;32m----> 2\u001b[1;33m     \u001b[0mhour\u001b[0m \u001b[1;33m=\u001b[0m \u001b[0mint\u001b[0m\u001b[1;33m(\u001b[0m\u001b[0mdistance\u001b[0m \u001b[1;33m//\u001b[0m \u001b[0mkm_h\u001b[0m\u001b[1;33m)\u001b[0m\u001b[1;33m\u001b[0m\u001b[1;33m\u001b[0m\u001b[0m\n\u001b[0m\u001b[0;32m      3\u001b[0m     minute = int(\n\u001b[0;32m      4\u001b[0m         (distance / km_h - distance // km_h) * 60)\n\u001b[0;32m      5\u001b[0m     \u001b[0mduration\u001b[0m \u001b[1;33m=\u001b[0m \u001b[0mdatetime\u001b[0m\u001b[1;33m.\u001b[0m\u001b[0mtimedelta\u001b[0m\u001b[1;33m(\u001b[0m\u001b[0mhours\u001b[0m\u001b[1;33m=\u001b[0m\u001b[0mhour\u001b[0m\u001b[1;33m,\u001b[0m\u001b[0mminutes\u001b[0m\u001b[1;33m=\u001b[0m\u001b[0mminute\u001b[0m\u001b[1;33m)\u001b[0m\u001b[1;33m\u001b[0m\u001b[1;33m\u001b[0m\u001b[0m\n",
      "\u001b[1;31mOverflowError\u001b[0m: cannot convert float infinity to integer"
     ]
    }
   ],
   "source": [
    "# 샘플 데이터는 20부터. \n",
    "for sam in sample.index[20:stop_index]:\n",
    "    re_sample = sample.loc[sam,:]\n",
    "    longitude = re_sample[\"longitude\"]\n",
    "    latitude = re_sample[\"latitude\"]\n",
    "    current_point = (latitude, longitude)\n",
    "    current_speed = re_sample[\"speed\"]\n",
    "    current_timestamp = re_sample[\"timestamp\"]\n",
    "    current_timestamp = pd.to_datetime(current_timestamp)\n",
    "    \n",
    "    # 현재 위치에서 가장 짧은 segment 찾기\n",
    "    shortest_distance = 999\n",
    "    for i in range(len(segmenting_index_list)):\n",
    "        d = pd.read_csv(f\"실험/segment_test_new_25_{i}.csv\")\n",
    "        for idx in d.index:\n",
    "\n",
    "            LONGITUDE = d.loc[idx, \"longitude\"]\n",
    "            LATITUDE = d.loc[idx, \"latitude\"]\n",
    "\n",
    "            ais_point = (LATITUDE, LONGITUDE)\n",
    "            distance = haversine(current_point, ais_point, unit=\"km\")\n",
    "            # 가장 짧은 segment 간의 거리, segment 번호, 인덱스 저장\n",
    "            if distance < shortest_distance:\n",
    "                shortest_distance = distance \n",
    "                shortest_point_idx = d.loc[idx, \"index\"]\n",
    "                seg_no = i\n",
    "#     print(shortest_distance)\n",
    "    # 마지막 인덱스 제외\n",
    "    if shortest_point_idx == df_test_2.loc[df_test_2.index[-1],\"index\"]:\n",
    "        continue\n",
    "        \n",
    "    # 가장 가까운 점에서 다음 점 (n+1) 선택. \n",
    "    # n+1 점과 현재 점\n",
    "    df__ = df_test_2.query(f'index == {shortest_point_idx + 1}')\n",
    "    new_point = (df__[\"latitude\"].values[0],df__[\"longitude\"].values[0])\n",
    "    distance = haversine(current_point, new_point, unit=\"km\")\n",
    "    km_h = current_speed * 1.852\n",
    "    init_duration = cal_duration(km_h, distance)\n",
    "    \n",
    "    # 가장 가까운 segment 데이터 불러오기\n",
    "    init_seg_df = pd.read_csv(f\"실험/segment_test_new_{seg_no}.csv\")\n",
    "    # 마지막 세그먼트라면 제외\n",
    "    if len(init_seg_df.query(f'index == {shortest_point_idx + 1}')) == 0:\n",
    "        init_seg_df = pd.read_csv(f\"실험/segment_test_new_{seg_no + 1}.csv\")\n",
    "        starting_index = init_seg_df.index[0]\n",
    "    else:\n",
    "        starting_index = init_seg_df.query(f'index == {shortest_point_idx + 1}').index[0]\n",
    "        \n",
    "    # 감속률 계산\n",
    "    speed_damping_ratio = current_speed / init_seg_df[\"speed\"].mean()\n",
    "    \n",
    "    # 남은 segment 간의 거리 계산 \n",
    "    remained_init_seg_df = init_seg_df.loc[starting_index:,]\n",
    "    remained_init_seg_df.reset_index(drop=True, inplace=True)\n",
    "    accu_distance = 0\n",
    "    for idx in remained_init_seg_df.index:\n",
    "        if idx != 0:\n",
    "            LONGITUDE = remained_init_seg_df.loc[idx, \"longitude\"]\n",
    "            LATITUDE = remained_init_seg_df.loc[idx, \"latitude\"]\n",
    "            current_coord = (LATITUDE, LONGITUDE)\n",
    "\n",
    "            LONGITUDE = remained_init_seg_df.loc[idx - 1, \"longitude\"]\n",
    "            LATITUDE = remained_init_seg_df.loc[idx - 1, \"latitude\"]\n",
    "            previous_current_coord = (LATITUDE, LONGITUDE)\n",
    "\n",
    "            accu_distance += haversine(current_coord, previous_current_coord, unit=\"km\")\n",
    "    # 첫번쨰 segment duration 계산\n",
    "    duration_0 = cal_duration(km_h, accu_distance)\n",
    "    duration_0 = duration_0 + init_duration\n",
    "    \n",
    "    # 나머지 segment 계산\n",
    "    # 억까 방지를 위해 접안 과정에 찍힌 AIS 데이터는 제외. \n",
    "    \n",
    "    for i in df_test.index:\n",
    "        LONGITUDE = df_test.loc[i, 'longitude']\n",
    "        LATITUDE = df_test.loc[i, 'latitude']\n",
    "        if Point(LONGITUDE, LATITUDE).within(poly_busan):    \n",
    "            stop_index = i - 1\n",
    "    #         print(i)\n",
    "            break\n",
    "#         print(stop_index)\n",
    "\n",
    "    # 나머지 segments의 durations 계산\n",
    "    dura_list = []\n",
    "    # 첫 segment 부터 \n",
    "    for i in range(seg_no, len(segmenting_index_list)):\n",
    "        d = pd.read_csv(f\"실험/segment_test_new_25_{i}.csv\")\n",
    "        # 억까 index가 들어가있으면 for 문 으로 뒷부분 삭제 계산 break로 나가기 \n",
    "        if d.loc[d.index[-1],\"index\"] > stop_index:\n",
    "            for i2 in d.index:\n",
    "                d_index = d.loc[i2, \"index\"]\n",
    "                if d_index > stop_index:\n",
    "                    d = d.loc[:i2,:]\n",
    "                    break\n",
    "        # 뒷부분이 삭제되면 오류가 나기때문에 len()이 0이 아니라면,\n",
    "        if len(d) != 0:\n",
    "            mean_speed = d[\"speed\"].mean()\n",
    "            damped_mean_speed = mean_speed * speed_damping_ratio\n",
    "            km_h = damped_mean_speed * 1.852\n",
    "            distance = reckon_point_lengths(d)\n",
    "            # 걸리는 시간 list에 저장\n",
    "            dura_list.append(cal_duration(km_h, distance))\n",
    "    accu_timedelta = datetime.timedelta(minutes=0)\n",
    "    for i in dura_list:\n",
    "        accu_timedelta += i\n",
    "    # 현재 시간 + duration = ETA\n",
    "    ETA = current_timestamp + accu_timedelta\n",
    "    sample.loc[sam, 'ETA'] = ETA\n",
    "    # ATA 저장. ATA는 ATA = pd.to_datetime('2022-11-14 16:00:40.036669')\n",
    "    sample.loc[sam, 'ATA'] = ATA\n",
    "    sample.loc[sam, 'error'] = abs(ETA - ATA)"
   ]
  },
  {
   "cell_type": "code",
   "execution_count": null,
   "id": "a496c870",
   "metadata": {
    "ExecuteTime": {
     "end_time": "2023-01-09T07:28:53.737795Z",
     "start_time": "2023-01-09T07:28:53.737795Z"
    }
   },
   "outputs": [],
   "source": [
    "ddd = sample.loc[20:,:]\n",
    "ddd = ddd.loc[ddd['error'].dropna(axis=0).index]\n",
    "ddd"
   ]
  },
  {
   "cell_type": "code",
   "execution_count": null,
   "id": "ee81d34a",
   "metadata": {
    "ExecuteTime": {
     "end_time": "2023-01-09T07:28:53.738798Z",
     "start_time": "2023-01-09T07:28:53.738798Z"
    }
   },
   "outputs": [],
   "source": [
    "ddd[\"eta\"] = pd.to_datetime(ddd[\"eta\"])\n"
   ]
  },
  {
   "cell_type": "code",
   "execution_count": null,
   "id": "92d4a4e2",
   "metadata": {
    "ExecuteTime": {
     "end_time": "2023-01-09T07:28:53.739810Z",
     "start_time": "2023-01-09T07:28:53.739810Z"
    }
   },
   "outputs": [],
   "source": [
    "ddd[\"error\"] = abs(ddd[\"ETA\"] - ddd[\"ATA\"])"
   ]
  },
  {
   "cell_type": "code",
   "execution_count": null,
   "id": "831a3b6f",
   "metadata": {
    "ExecuteTime": {
     "end_time": "2023-01-09T07:28:53.740810Z",
     "start_time": "2023-01-09T07:28:53.740810Z"
    }
   },
   "outputs": [],
   "source": [
    "ddd[\"AIS_ETA_error\"] = abs(ddd[\"eta\"] - ddd[\"ATA\"])"
   ]
  },
  {
   "cell_type": "code",
   "execution_count": null,
   "id": "3a884c58",
   "metadata": {
    "ExecuteTime": {
     "end_time": "2023-01-09T07:28:53.741810Z",
     "start_time": "2023-01-09T07:28:53.741810Z"
    }
   },
   "outputs": [],
   "source": [
    "ddd.drop(columns=[\"mmsi\", \"imo\", \"CAPACITY\",'estimated_fuel_consumption'], inplace=True)"
   ]
  },
  {
   "cell_type": "markdown",
   "id": "b704824a",
   "metadata": {},
   "source": [
    "에러가 커졌을때는 왜 커졌는지 확인 필요할듯."
   ]
  },
  {
   "cell_type": "markdown",
   "id": "28514ab0",
   "metadata": {},
   "source": [
    "if ETA > ATA:\n",
    "error = ETA - ATA\n",
    "else\n",
    "val = abs(ETA-ATA)\n"
   ]
  },
  {
   "cell_type": "code",
   "execution_count": null,
   "id": "4bed3f29",
   "metadata": {
    "ExecuteTime": {
     "end_time": "2023-01-09T07:28:53.742810Z",
     "start_time": "2023-01-09T07:28:53.742810Z"
    }
   },
   "outputs": [],
   "source": [
    "ddd[\"error\"].max()"
   ]
  },
  {
   "cell_type": "code",
   "execution_count": null,
   "id": "f0ac71ad",
   "metadata": {
    "ExecuteTime": {
     "end_time": "2023-01-09T07:28:53.743809Z",
     "start_time": "2023-01-09T07:28:53.743809Z"
    }
   },
   "outputs": [],
   "source": [
    "ddd[\"error\"].mean()"
   ]
  },
  {
   "cell_type": "code",
   "execution_count": null,
   "id": "9f47f68a",
   "metadata": {
    "ExecuteTime": {
     "end_time": "2023-01-09T07:28:53.743809Z",
     "start_time": "2023-01-09T07:28:53.743809Z"
    }
   },
   "outputs": [],
   "source": [
    "ddd.sort_values(by=\"error\")"
   ]
  },
  {
   "cell_type": "code",
   "execution_count": null,
   "id": "64b9b465",
   "metadata": {
    "ExecuteTime": {
     "end_time": "2023-01-09T07:28:53.744809Z",
     "start_time": "2023-01-09T07:28:53.744809Z"
    }
   },
   "outputs": [],
   "source": [
    "import matplotlib.pyplot as plt\n",
    "plt.hist(ddd.sort_values(by=\"error\")[[\n",
    "    'index', \"speed\", 'timestamp', \"ETA\", \"error\", 'remained_distance'\n",
    "]].head(100).index.values,\n",
    "         bins=50, label=\"top 50\")\n",
    "plt.hist(ddd.sort_values(by=\"error\")[[\n",
    "    'index', \"speed\", 'timestamp', \"ETA\", \"error\", 'remained_distance'\n",
    "]].tail(100).index.values,\n",
    "         bins=50, label=\"low 50\")\n",
    "plt.legend()\n",
    "plt.show()"
   ]
  },
  {
   "cell_type": "code",
   "execution_count": null,
   "id": "18b9b7aa",
   "metadata": {
    "ExecuteTime": {
     "end_time": "2023-01-09T07:28:53.745809Z",
     "start_time": "2023-01-09T07:28:53.745809Z"
    }
   },
   "outputs": [],
   "source": [
    "ddd.sort_values(by=\"error\")[[\n",
    "    'index', \"speed\", 'timestamp', \"ETA\", \"error\", 'remained_distance'\n",
    "]].iloc[50]"
   ]
  },
  {
   "cell_type": "code",
   "execution_count": null,
   "id": "819aaa03",
   "metadata": {
    "ExecuteTime": {
     "end_time": "2023-01-09T07:28:53.746809Z",
     "start_time": "2023-01-09T07:28:53.746809Z"
    }
   },
   "outputs": [],
   "source": [
    "ddd.sort_values(by=\"error\", ascending=False)[[\n",
    "    'index', \"speed\", 'timestamp', \"ETA\", \"error\", 'remained_distance'\n",
    "]].iloc[50]"
   ]
  },
  {
   "cell_type": "markdown",
   "id": "e1e151d2",
   "metadata": {},
   "source": [
    "3. 속도 계수를 조정해보자.\n",
    "- 속도 계수를 적용 안했을 때\n",
    "- 속도 계수를 지금과 같이 적용했을 때\n",
    "- 속도 계수를 특성에 맞게 조금씩 다르게 (뒷 부분은 속도 적용하지 않는다던가 등)\n",
    "- 현재 순간 속도를 보는게 아니라, 일정 시간(약 30분 ~ 60분? 실험 필요)을 두고 평균 속도나 칼만 필터를 이용한 filtered 속도를 기반으로 속도 계수 조정\n",
    "    - 속도가 그렇게 차이가 없을 것 같아 별 차이는 없을지도 모름.\n",
    "- 너무 속도 변화가 크거나 속도가 낮을때 제외하는 방법\n",
    "- 속도가 0일때는 어떻게 계산?\n"
   ]
  },
  {
   "cell_type": "markdown",
   "id": "4c31f89b",
   "metadata": {},
   "source": [
    "# 감속률 미적용"
   ]
  },
  {
   "cell_type": "code",
   "execution_count": 47,
   "id": "c00a9b07",
   "metadata": {
    "ExecuteTime": {
     "end_time": "2023-01-09T07:32:45.157354Z",
     "start_time": "2023-01-09T07:32:26.532603Z"
    }
   },
   "outputs": [],
   "source": [
    "# 샘플 데이터는 20부터. \n",
    "for sam in sample.index[20:stop_index]:\n",
    "    re_sample = sample.loc[sam,:]\n",
    "    longitude = re_sample[\"longitude\"]\n",
    "    latitude = re_sample[\"latitude\"]\n",
    "    current_point = (latitude, longitude)\n",
    "    current_speed = re_sample[\"speed\"]\n",
    "    current_timestamp = re_sample[\"timestamp\"]\n",
    "    current_timestamp = pd.to_datetime(current_timestamp)\n",
    "    \n",
    "    # 현재 위치에서 가장 짧은 segment 찾기\n",
    "    shortest_distance = 999\n",
    "    for i in range(len(segmenting_index_list)):\n",
    "        d = pd.read_csv(f\"실험/segment_test_new_25_{i}.csv\")\n",
    "        for idx in d.index:\n",
    "\n",
    "            LONGITUDE = d.loc[idx, \"longitude\"]\n",
    "            LATITUDE = d.loc[idx, \"latitude\"]\n",
    "\n",
    "            ais_point = (LATITUDE, LONGITUDE)\n",
    "            distance = haversine(current_point, ais_point, unit=\"km\")\n",
    "            # 가장 짧은 segment 간의 거리, segment 번호, 인덱스 저장\n",
    "            if distance < shortest_distance:\n",
    "                shortest_distance = distance \n",
    "                shortest_point_idx = d.loc[idx, \"index\"]\n",
    "                seg_no = i\n",
    "#     print(shortest_distance)\n",
    "    # 마지막 인덱스 제외\n",
    "    if shortest_point_idx == df_test_2.loc[df_test_2.index[-1],\"index\"]:\n",
    "        continue\n",
    "        \n",
    "    # 가장 가까운 점에서 다음 점 (n+1) 선택. \n",
    "    # n+1 점과 현재 점\n",
    "    df__ = df_test_2.query(f'index == {shortest_point_idx + 1}')\n",
    "    new_point = (df__[\"latitude\"].values[0],df__[\"longitude\"].values[0])\n",
    "    distance = haversine(current_point, new_point, unit=\"km\")\n",
    "    km_h = current_speed * 1.852\n",
    "    init_duration = cal_duration(km_h, distance)\n",
    "    \n",
    "    # 가장 가까운 segment 데이터 불러오기\n",
    "    init_seg_df = pd.read_csv(f\"실험/segment_test_new_{seg_no}.csv\")\n",
    "    # 마지막 세그먼트라면 제외\n",
    "    if len(init_seg_df.query(f'index == {shortest_point_idx + 1}')) == 0:\n",
    "        init_seg_df = pd.read_csv(f\"실험/segment_test_new_{seg_no + 1}.csv\")\n",
    "        starting_index = init_seg_df.index[0]\n",
    "    else:\n",
    "        starting_index = init_seg_df.query(f'index == {shortest_point_idx + 1}').index[0]\n",
    "        \n",
    "    # 감속률 계산\n",
    "    speed_damping_ratio = current_speed / init_seg_df[\"speed\"].mean()\n",
    "    \n",
    "    # 남은 segment 간의 거리 계산 \n",
    "    remained_init_seg_df = init_seg_df.loc[starting_index:,]\n",
    "    remained_init_seg_df.reset_index(drop=True, inplace=True)\n",
    "    accu_distance = 0\n",
    "    for idx in remained_init_seg_df.index:\n",
    "        if idx != 0:\n",
    "            LONGITUDE = remained_init_seg_df.loc[idx, \"longitude\"]\n",
    "            LATITUDE = remained_init_seg_df.loc[idx, \"latitude\"]\n",
    "            current_coord = (LATITUDE, LONGITUDE)\n",
    "\n",
    "            LONGITUDE = remained_init_seg_df.loc[idx - 1, \"longitude\"]\n",
    "            LATITUDE = remained_init_seg_df.loc[idx - 1, \"latitude\"]\n",
    "            previous_current_coord = (LATITUDE, LONGITUDE)\n",
    "\n",
    "            accu_distance += haversine(current_coord, previous_current_coord, unit=\"km\")\n",
    "    # 첫번쨰 segment duration 계산\n",
    "    duration_0 = cal_duration(km_h, accu_distance)\n",
    "    duration_0 = duration_0 + init_duration\n",
    "    \n",
    "    # 나머지 segment 계산\n",
    "    # 억까 방지를 위해 접안 과정에 찍힌 AIS 데이터는 제외. \n",
    "    \n",
    "    for i in df_test.index:\n",
    "        LONGITUDE = df_test.loc[i, 'longitude']\n",
    "        LATITUDE = df_test.loc[i, 'latitude']\n",
    "        if Point(LONGITUDE, LATITUDE).within(poly_busan):    \n",
    "            stop_index = i - 1\n",
    "    #         print(i)\n",
    "            break\n",
    "#         print(stop_index)\n",
    "\n",
    "    # 나머지 segments의 durations 계산\n",
    "    dura_list = []\n",
    "    # 첫 segment 부터 \n",
    "    for i in range(seg_no, len(segmenting_index_list)):\n",
    "        d = pd.read_csv(f\"실험/segment_test_new_25_{i}.csv\")\n",
    "        # 억까 index가 들어가있으면 for 문 으로 뒷부분 삭제 계산 break로 나가기 \n",
    "        if d.loc[d.index[-1],\"index\"] > stop_index:\n",
    "            for i2 in d.index:\n",
    "                d_index = d.loc[i2, \"index\"]\n",
    "                if d_index > stop_index:\n",
    "                    d = d.loc[:i2,:]\n",
    "                    break\n",
    "        # 뒷부분이 삭제되면 오류가 나기때문에 len()이 0이 아니라면,\n",
    "        if len(d) != 0:\n",
    "            mean_speed = d[\"speed\"].mean()\n",
    "            damped_mean_speed = mean_speed * speed_damping_ratio\n",
    "            km_h = damped_mean_speed * 1.852\n",
    "            distance = reckon_point_lengths(d)\n",
    "            # 걸리는 시간 list에 저장\n",
    "            dura_list.append(cal_duration(km_h, distance))\n",
    "    accu_timedelta = datetime.timedelta(minutes=0)\n",
    "    for i in dura_list:\n",
    "        accu_timedelta += i\n",
    "    # 현재 시간 + duration = ETA\n",
    "    ETA = current_timestamp + accu_timedelta\n",
    "    sample.loc[sam, 'ETA'] = ETA\n",
    "    # ATA 저장. ATA는 ATA = pd.to_datetime('2022-11-14 16:00:40.036669')\n",
    "    sample.loc[sam, 'ATA'] = ATA\n",
    "    sample.loc[sam, 'error'] = abs(ETA - ATA)"
   ]
  },
  {
   "cell_type": "code",
   "execution_count": 48,
   "id": "176ff68b",
   "metadata": {
    "ExecuteTime": {
     "end_time": "2023-01-09T07:32:45.172287Z",
     "start_time": "2023-01-09T07:32:45.158371Z"
    },
    "scrolled": true
   },
   "outputs": [],
   "source": [
    "ddd = sample.loc[20:,:]\n"
   ]
  },
  {
   "cell_type": "code",
   "execution_count": 49,
   "id": "612ea7cc",
   "metadata": {
    "ExecuteTime": {
     "end_time": "2023-01-09T07:32:46.108328Z",
     "start_time": "2023-01-09T07:32:46.063402Z"
    }
   },
   "outputs": [
    {
     "data": {
      "text/html": [
       "<div>\n",
       "<style scoped>\n",
       "    .dataframe tbody tr th:only-of-type {\n",
       "        vertical-align: middle;\n",
       "    }\n",
       "\n",
       "    .dataframe tbody tr th {\n",
       "        vertical-align: top;\n",
       "    }\n",
       "\n",
       "    .dataframe thead th {\n",
       "        text-align: right;\n",
       "    }\n",
       "</style>\n",
       "<table border=\"1\" class=\"dataframe\">\n",
       "  <thead>\n",
       "    <tr style=\"text-align: right;\">\n",
       "      <th></th>\n",
       "      <th>index</th>\n",
       "      <th>vessel_name</th>\n",
       "      <th>mmsi</th>\n",
       "      <th>imo</th>\n",
       "      <th>CAPACITY</th>\n",
       "      <th>destination</th>\n",
       "      <th>eta</th>\n",
       "      <th>longitude</th>\n",
       "      <th>latitude</th>\n",
       "      <th>speed</th>\n",
       "      <th>heading</th>\n",
       "      <th>timestamp</th>\n",
       "      <th>time_position_data_received</th>\n",
       "      <th>time_voyage_data_received</th>\n",
       "      <th>navigation_info</th>\n",
       "      <th>remained_distance</th>\n",
       "      <th>estimated_fuel_consumption</th>\n",
       "      <th>ETA</th>\n",
       "      <th>ATA</th>\n",
       "      <th>error</th>\n",
       "    </tr>\n",
       "  </thead>\n",
       "  <tbody>\n",
       "    <tr>\n",
       "      <th>165</th>\n",
       "      <td>389</td>\n",
       "      <td>COSCO FOS</td>\n",
       "      <td>477947700</td>\n",
       "      <td>9484302.0</td>\n",
       "      <td>4253</td>\n",
       "      <td>KRBNP</td>\n",
       "      <td>2022-11-21 08:00:00</td>\n",
       "      <td>125.5901</td>\n",
       "      <td>34.4120</td>\n",
       "      <td>17.3</td>\n",
       "      <td>174.0</td>\n",
       "      <td>2022-11-21 03:00:49.410570</td>\n",
       "      <td>2022-11-20 18:00:33</td>\n",
       "      <td>2022-11-20 02:37:09</td>\n",
       "      <td>under way using engine</td>\n",
       "      <td>301.679471</td>\n",
       "      <td>548.803883</td>\n",
       "      <td>2022-11-21 16:49:49.410570</td>\n",
       "      <td>2022-11-21 16:50:10.106911</td>\n",
       "      <td>0 days 00:00:20.696341</td>\n",
       "    </tr>\n",
       "    <tr>\n",
       "      <th>164</th>\n",
       "      <td>388</td>\n",
       "      <td>COSCO FOS</td>\n",
       "      <td>477947700</td>\n",
       "      <td>9484302.0</td>\n",
       "      <td>4253</td>\n",
       "      <td>KRBNP</td>\n",
       "      <td>2022-11-21 08:00:00</td>\n",
       "      <td>125.5856</td>\n",
       "      <td>34.4411</td>\n",
       "      <td>17.2</td>\n",
       "      <td>174.0</td>\n",
       "      <td>2022-11-21 02:55:46.138925</td>\n",
       "      <td>2022-11-20 17:54:28</td>\n",
       "      <td>2022-11-20 02:37:09</td>\n",
       "      <td>under way using engine</td>\n",
       "      <td>301.383856</td>\n",
       "      <td>544.356631</td>\n",
       "      <td>2022-11-21 16:49:46.138925</td>\n",
       "      <td>2022-11-21 16:50:10.106911</td>\n",
       "      <td>0 days 00:00:23.967986</td>\n",
       "    </tr>\n",
       "    <tr>\n",
       "      <th>248</th>\n",
       "      <td>472</td>\n",
       "      <td>COSCO FOS</td>\n",
       "      <td>477947700</td>\n",
       "      <td>9484302.0</td>\n",
       "      <td>4253</td>\n",
       "      <td>KRBNP</td>\n",
       "      <td>2022-11-21 08:00:00</td>\n",
       "      <td>127.8141</td>\n",
       "      <td>34.2098</td>\n",
       "      <td>16.7</td>\n",
       "      <td>70.0</td>\n",
       "      <td>2022-11-21 11:05:20.950527</td>\n",
       "      <td>2022-11-21 01:59:40</td>\n",
       "      <td>2022-11-21 01:15:06</td>\n",
       "      <td>under way using engine</td>\n",
       "      <td>124.927985</td>\n",
       "      <td>217.771271</td>\n",
       "      <td>2022-11-21 16:49:20.950527</td>\n",
       "      <td>2022-11-21 16:50:10.106911</td>\n",
       "      <td>0 days 00:00:49.156384</td>\n",
       "    </tr>\n",
       "    <tr>\n",
       "      <th>163</th>\n",
       "      <td>387</td>\n",
       "      <td>COSCO FOS</td>\n",
       "      <td>477947700</td>\n",
       "      <td>9484302.0</td>\n",
       "      <td>4253</td>\n",
       "      <td>KRBNP</td>\n",
       "      <td>2022-11-21 08:00:00</td>\n",
       "      <td>125.5808</td>\n",
       "      <td>34.4729</td>\n",
       "      <td>17.1</td>\n",
       "      <td>174.0</td>\n",
       "      <td>2022-11-21 02:50:42.717432</td>\n",
       "      <td>2022-11-20 17:47:47</td>\n",
       "      <td>2022-11-20 02:37:09</td>\n",
       "      <td>under way using engine</td>\n",
       "      <td>301.089980</td>\n",
       "      <td>539.956931</td>\n",
       "      <td>2022-11-21 16:48:42.717432</td>\n",
       "      <td>2022-11-21 16:50:10.106911</td>\n",
       "      <td>0 days 00:01:27.389479</td>\n",
       "    </tr>\n",
       "    <tr>\n",
       "      <th>292</th>\n",
       "      <td>516</td>\n",
       "      <td>COSCO FOS</td>\n",
       "      <td>477947700</td>\n",
       "      <td>9484302.0</td>\n",
       "      <td>4253</td>\n",
       "      <td>KRBNP</td>\n",
       "      <td>2022-11-21 08:00:00</td>\n",
       "      <td>128.8511</td>\n",
       "      <td>34.8521</td>\n",
       "      <td>8.8</td>\n",
       "      <td>0.0</td>\n",
       "      <td>2022-11-21 16:19:52.596682</td>\n",
       "      <td>2022-11-21 06:58:54</td>\n",
       "      <td>2022-11-21 06:55:09</td>\n",
       "      <td>under way using engine</td>\n",
       "      <td>13.380367</td>\n",
       "      <td>16.833685</td>\n",
       "      <td>2022-11-21 16:51:52.596682</td>\n",
       "      <td>2022-11-21 16:50:10.106911</td>\n",
       "      <td>0 days 00:01:42.489771</td>\n",
       "    </tr>\n",
       "    <tr>\n",
       "      <th>...</th>\n",
       "      <td>...</td>\n",
       "      <td>...</td>\n",
       "      <td>...</td>\n",
       "      <td>...</td>\n",
       "      <td>...</td>\n",
       "      <td>...</td>\n",
       "      <td>...</td>\n",
       "      <td>...</td>\n",
       "      <td>...</td>\n",
       "      <td>...</td>\n",
       "      <td>...</td>\n",
       "      <td>...</td>\n",
       "      <td>...</td>\n",
       "      <td>...</td>\n",
       "      <td>...</td>\n",
       "      <td>...</td>\n",
       "      <td>...</td>\n",
       "      <td>...</td>\n",
       "      <td>...</td>\n",
       "      <td>...</td>\n",
       "    </tr>\n",
       "    <tr>\n",
       "      <th>125</th>\n",
       "      <td>349</td>\n",
       "      <td>COSCO FOS</td>\n",
       "      <td>477947700</td>\n",
       "      <td>9484302.0</td>\n",
       "      <td>4253</td>\n",
       "      <td>KRBNP</td>\n",
       "      <td>2022-11-21 08:00:00</td>\n",
       "      <td>125.3301</td>\n",
       "      <td>35.2695</td>\n",
       "      <td>15.9</td>\n",
       "      <td>155.0</td>\n",
       "      <td>2022-11-20 23:38:55.429766</td>\n",
       "      <td>2022-11-20 14:37:04</td>\n",
       "      <td>2022-11-20 02:37:09</td>\n",
       "      <td>under way using engine</td>\n",
       "      <td>319.094918</td>\n",
       "      <td>526.150686</td>\n",
       "      <td>2022-11-22 03:24:55.429766</td>\n",
       "      <td>2022-11-21 16:50:10.106911</td>\n",
       "      <td>0 days 10:34:45.322855</td>\n",
       "    </tr>\n",
       "    <tr>\n",
       "      <th>124</th>\n",
       "      <td>348</td>\n",
       "      <td>COSCO FOS</td>\n",
       "      <td>477947700</td>\n",
       "      <td>9484302.0</td>\n",
       "      <td>4253</td>\n",
       "      <td>KRBNP</td>\n",
       "      <td>2022-11-21 08:00:00</td>\n",
       "      <td>125.3142</td>\n",
       "      <td>35.2946</td>\n",
       "      <td>15.8</td>\n",
       "      <td>157.0</td>\n",
       "      <td>2022-11-20 23:33:52.333842</td>\n",
       "      <td>2022-11-20 14:30:39</td>\n",
       "      <td>2022-11-20 04:13:11</td>\n",
       "      <td>under way using engine</td>\n",
       "      <td>320.786354</td>\n",
       "      <td>525.344708</td>\n",
       "      <td>2022-11-22 03:29:52.333842</td>\n",
       "      <td>2022-11-21 16:50:10.106911</td>\n",
       "      <td>0 days 10:39:42.226931</td>\n",
       "    </tr>\n",
       "    <tr>\n",
       "      <th>126</th>\n",
       "      <td>350</td>\n",
       "      <td>COSCO FOS</td>\n",
       "      <td>477947700</td>\n",
       "      <td>9484302.0</td>\n",
       "      <td>4253</td>\n",
       "      <td>KRBNP</td>\n",
       "      <td>2022-11-21 08:00:00</td>\n",
       "      <td>125.3446</td>\n",
       "      <td>35.2464</td>\n",
       "      <td>15.9</td>\n",
       "      <td>155.0</td>\n",
       "      <td>2022-11-20 23:43:58.819338</td>\n",
       "      <td>2022-11-20 14:42:57</td>\n",
       "      <td>2022-11-20 02:37:09</td>\n",
       "      <td>under way using engine</td>\n",
       "      <td>317.569026</td>\n",
       "      <td>523.634667</td>\n",
       "      <td>2022-11-22 03:29:58.819338</td>\n",
       "      <td>2022-11-21 16:50:10.106911</td>\n",
       "      <td>0 days 10:39:48.712427</td>\n",
       "    </tr>\n",
       "    <tr>\n",
       "      <th>122</th>\n",
       "      <td>346</td>\n",
       "      <td>COSCO FOS</td>\n",
       "      <td>477947700</td>\n",
       "      <td>9484302.0</td>\n",
       "      <td>4253</td>\n",
       "      <td>KRBNP</td>\n",
       "      <td>2022-11-21 08:00:00</td>\n",
       "      <td>125.2926</td>\n",
       "      <td>35.3217</td>\n",
       "      <td>15.7</td>\n",
       "      <td>145.0</td>\n",
       "      <td>2022-11-20 23:23:46.709602</td>\n",
       "      <td>2022-11-20 14:23:14</td>\n",
       "      <td>2022-11-20 04:13:11</td>\n",
       "      <td>under way using engine</td>\n",
       "      <td>323.036003</td>\n",
       "      <td>525.451120</td>\n",
       "      <td>2022-11-22 03:30:46.709602</td>\n",
       "      <td>2022-11-21 16:50:10.106911</td>\n",
       "      <td>0 days 10:40:36.602691</td>\n",
       "    </tr>\n",
       "    <tr>\n",
       "      <th>121</th>\n",
       "      <td>345</td>\n",
       "      <td>COSCO FOS</td>\n",
       "      <td>477947700</td>\n",
       "      <td>9484302.0</td>\n",
       "      <td>4253</td>\n",
       "      <td>KRBNP</td>\n",
       "      <td>2022-11-21 08:00:00</td>\n",
       "      <td>125.2770</td>\n",
       "      <td>35.3383</td>\n",
       "      <td>15.6</td>\n",
       "      <td>145.0</td>\n",
       "      <td>2022-11-20 23:18:44.187365</td>\n",
       "      <td>2022-11-20 14:18:29</td>\n",
       "      <td>2022-11-20 04:13:11</td>\n",
       "      <td>under way using engine</td>\n",
       "      <td>324.638968</td>\n",
       "      <td>524.505810</td>\n",
       "      <td>2022-11-22 03:36:44.187365</td>\n",
       "      <td>2022-11-21 16:50:10.106911</td>\n",
       "      <td>0 days 10:46:34.080454</td>\n",
       "    </tr>\n",
       "  </tbody>\n",
       "</table>\n",
       "<p>275 rows × 20 columns</p>\n",
       "</div>"
      ],
      "text/plain": [
       "     index vessel_name       mmsi        imo  CAPACITY destination  \\\n",
       "165    389   COSCO FOS  477947700  9484302.0      4253       KRBNP   \n",
       "164    388   COSCO FOS  477947700  9484302.0      4253       KRBNP   \n",
       "248    472   COSCO FOS  477947700  9484302.0      4253       KRBNP   \n",
       "163    387   COSCO FOS  477947700  9484302.0      4253       KRBNP   \n",
       "292    516   COSCO FOS  477947700  9484302.0      4253       KRBNP   \n",
       "..     ...         ...        ...        ...       ...         ...   \n",
       "125    349   COSCO FOS  477947700  9484302.0      4253       KRBNP   \n",
       "124    348   COSCO FOS  477947700  9484302.0      4253       KRBNP   \n",
       "126    350   COSCO FOS  477947700  9484302.0      4253       KRBNP   \n",
       "122    346   COSCO FOS  477947700  9484302.0      4253       KRBNP   \n",
       "121    345   COSCO FOS  477947700  9484302.0      4253       KRBNP   \n",
       "\n",
       "                     eta  longitude  latitude  speed  heading  \\\n",
       "165  2022-11-21 08:00:00   125.5901   34.4120   17.3    174.0   \n",
       "164  2022-11-21 08:00:00   125.5856   34.4411   17.2    174.0   \n",
       "248  2022-11-21 08:00:00   127.8141   34.2098   16.7     70.0   \n",
       "163  2022-11-21 08:00:00   125.5808   34.4729   17.1    174.0   \n",
       "292  2022-11-21 08:00:00   128.8511   34.8521    8.8      0.0   \n",
       "..                   ...        ...       ...    ...      ...   \n",
       "125  2022-11-21 08:00:00   125.3301   35.2695   15.9    155.0   \n",
       "124  2022-11-21 08:00:00   125.3142   35.2946   15.8    157.0   \n",
       "126  2022-11-21 08:00:00   125.3446   35.2464   15.9    155.0   \n",
       "122  2022-11-21 08:00:00   125.2926   35.3217   15.7    145.0   \n",
       "121  2022-11-21 08:00:00   125.2770   35.3383   15.6    145.0   \n",
       "\n",
       "                      timestamp time_position_data_received  \\\n",
       "165  2022-11-21 03:00:49.410570         2022-11-20 18:00:33   \n",
       "164  2022-11-21 02:55:46.138925         2022-11-20 17:54:28   \n",
       "248  2022-11-21 11:05:20.950527         2022-11-21 01:59:40   \n",
       "163  2022-11-21 02:50:42.717432         2022-11-20 17:47:47   \n",
       "292  2022-11-21 16:19:52.596682         2022-11-21 06:58:54   \n",
       "..                          ...                         ...   \n",
       "125  2022-11-20 23:38:55.429766         2022-11-20 14:37:04   \n",
       "124  2022-11-20 23:33:52.333842         2022-11-20 14:30:39   \n",
       "126  2022-11-20 23:43:58.819338         2022-11-20 14:42:57   \n",
       "122  2022-11-20 23:23:46.709602         2022-11-20 14:23:14   \n",
       "121  2022-11-20 23:18:44.187365         2022-11-20 14:18:29   \n",
       "\n",
       "    time_voyage_data_received         navigation_info  remained_distance  \\\n",
       "165       2022-11-20 02:37:09  under way using engine         301.679471   \n",
       "164       2022-11-20 02:37:09  under way using engine         301.383856   \n",
       "248       2022-11-21 01:15:06  under way using engine         124.927985   \n",
       "163       2022-11-20 02:37:09  under way using engine         301.089980   \n",
       "292       2022-11-21 06:55:09  under way using engine          13.380367   \n",
       "..                        ...                     ...                ...   \n",
       "125       2022-11-20 02:37:09  under way using engine         319.094918   \n",
       "124       2022-11-20 04:13:11  under way using engine         320.786354   \n",
       "126       2022-11-20 02:37:09  under way using engine         317.569026   \n",
       "122       2022-11-20 04:13:11  under way using engine         323.036003   \n",
       "121       2022-11-20 04:13:11  under way using engine         324.638968   \n",
       "\n",
       "     estimated_fuel_consumption                        ETA  \\\n",
       "165                  548.803883 2022-11-21 16:49:49.410570   \n",
       "164                  544.356631 2022-11-21 16:49:46.138925   \n",
       "248                  217.771271 2022-11-21 16:49:20.950527   \n",
       "163                  539.956931 2022-11-21 16:48:42.717432   \n",
       "292                   16.833685 2022-11-21 16:51:52.596682   \n",
       "..                          ...                        ...   \n",
       "125                  526.150686 2022-11-22 03:24:55.429766   \n",
       "124                  525.344708 2022-11-22 03:29:52.333842   \n",
       "126                  523.634667 2022-11-22 03:29:58.819338   \n",
       "122                  525.451120 2022-11-22 03:30:46.709602   \n",
       "121                  524.505810 2022-11-22 03:36:44.187365   \n",
       "\n",
       "                           ATA                  error  \n",
       "165 2022-11-21 16:50:10.106911 0 days 00:00:20.696341  \n",
       "164 2022-11-21 16:50:10.106911 0 days 00:00:23.967986  \n",
       "248 2022-11-21 16:50:10.106911 0 days 00:00:49.156384  \n",
       "163 2022-11-21 16:50:10.106911 0 days 00:01:27.389479  \n",
       "292 2022-11-21 16:50:10.106911 0 days 00:01:42.489771  \n",
       "..                         ...                    ...  \n",
       "125 2022-11-21 16:50:10.106911 0 days 10:34:45.322855  \n",
       "124 2022-11-21 16:50:10.106911 0 days 10:39:42.226931  \n",
       "126 2022-11-21 16:50:10.106911 0 days 10:39:48.712427  \n",
       "122 2022-11-21 16:50:10.106911 0 days 10:40:36.602691  \n",
       "121 2022-11-21 16:50:10.106911 0 days 10:46:34.080454  \n",
       "\n",
       "[275 rows x 20 columns]"
      ]
     },
     "execution_count": 49,
     "metadata": {},
     "output_type": "execute_result"
    }
   ],
   "source": [
    "ddd = ddd.loc[ddd['error'].dropna(axis=0).index]\n",
    "ddd.sort_values(by=\"error\")"
   ]
  },
  {
   "cell_type": "code",
   "execution_count": 50,
   "id": "0cc1b46c",
   "metadata": {
    "ExecuteTime": {
     "end_time": "2023-01-09T07:32:46.337302Z",
     "start_time": "2023-01-09T07:32:46.327677Z"
    }
   },
   "outputs": [
    {
     "data": {
      "text/plain": [
       "Timedelta('0 days 02:11:48.546397432')"
      ]
     },
     "execution_count": 50,
     "metadata": {},
     "output_type": "execute_result"
    }
   ],
   "source": [
    "ddd['error'].mean()"
   ]
  },
  {
   "cell_type": "code",
   "execution_count": 51,
   "id": "a1fafb25",
   "metadata": {
    "ExecuteTime": {
     "end_time": "2023-01-09T07:32:46.836399Z",
     "start_time": "2023-01-09T07:32:46.823397Z"
    }
   },
   "outputs": [
    {
     "data": {
      "text/plain": [
       "Timedelta('0 days 10:46:34.080454')"
      ]
     },
     "execution_count": 51,
     "metadata": {},
     "output_type": "execute_result"
    }
   ],
   "source": [
    "ddd['error'].max()"
   ]
  },
  {
   "cell_type": "code",
   "execution_count": null,
   "id": "af697922",
   "metadata": {
    "ExecuteTime": {
     "end_time": "2023-01-09T07:28:53.751878Z",
     "start_time": "2023-01-09T07:28:53.751878Z"
    }
   },
   "outputs": [],
   "source": [
    "import matplotlib.pyplot as plt\n",
    "plt.hist(ddd.sort_values(by=\"error\")[[\n",
    "    'index', \"speed\", 'timestamp', \"ETA\", \"error\", 'remained_distance'\n",
    "]].head(100).index.values,\n",
    "         bins=50, label=\"top 50\")\n",
    "plt.hist(ddd.sort_values(by=\"error\")[[\n",
    "    'index', \"speed\", 'timestamp', \"ETA\", \"error\", 'remained_distance'\n",
    "]].tail(100).index.values,\n",
    "         bins=50, label=\"low 50\")\n",
    "plt.legend()\n",
    "plt.show()"
   ]
  },
  {
   "cell_type": "code",
   "execution_count": null,
   "id": "f4655a1d",
   "metadata": {
    "ExecuteTime": {
     "end_time": "2023-01-09T07:28:53.752876Z",
     "start_time": "2023-01-09T07:28:53.752876Z"
    }
   },
   "outputs": [],
   "source": [
    "ddd.sort_values(by=\"error\")[[\n",
    "    'index', \"speed\", 'timestamp', \"ETA\", \"error\", 'remained_distance'\n",
    "]].iloc[50]"
   ]
  },
  {
   "cell_type": "code",
   "execution_count": null,
   "id": "93c3e1ff",
   "metadata": {
    "ExecuteTime": {
     "end_time": "2023-01-09T07:28:53.753877Z",
     "start_time": "2023-01-09T07:28:53.753877Z"
    }
   },
   "outputs": [],
   "source": [
    "ddd.sort_values(by=\"error\", ascending=False)[[\n",
    "    'index', \"speed\", 'timestamp', \"ETA\", \"error\", 'remained_distance'\n",
    "]].iloc[50]"
   ]
  }
 ],
 "metadata": {
  "kernelspec": {
   "display_name": "안정된가상환경",
   "language": "python",
   "name": "oracle2"
  },
  "language_info": {
   "codemirror_mode": {
    "name": "ipython",
    "version": 3
   },
   "file_extension": ".py",
   "mimetype": "text/x-python",
   "name": "python",
   "nbconvert_exporter": "python",
   "pygments_lexer": "ipython3",
   "version": "3.7.11"
  },
  "toc": {
   "base_numbering": 1,
   "nav_menu": {},
   "number_sections": true,
   "sideBar": true,
   "skip_h1_title": false,
   "title_cell": "Table of Contents",
   "title_sidebar": "Contents",
   "toc_cell": false,
   "toc_position": {},
   "toc_section_display": true,
   "toc_window_display": false
  }
 },
 "nbformat": 4,
 "nbformat_minor": 5
}
