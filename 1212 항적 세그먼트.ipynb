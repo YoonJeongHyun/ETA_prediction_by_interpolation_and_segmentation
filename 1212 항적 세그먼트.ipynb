{
 "cells": [
  {
   "cell_type": "code",
   "execution_count": 34,
   "id": "bd4a6614",
   "metadata": {
    "ExecuteTime": {
     "end_time": "2022-12-12T12:14:47.751598Z",
     "start_time": "2022-12-12T12:14:47.704269Z"
    }
   },
   "outputs": [],
   "source": [
    "import pandas as pd\n",
    "import numpy as np\n",
    "import cx_Oracle\n",
    "import os\n",
    "import json\n",
    "import datetime\n",
    "import warnings\n",
    "\n",
    "warnings.filterwarnings(action=\"ignore\")\n",
    "from selenium import webdriver\n",
    "from selenium.webdriver.support.ui import Select\n",
    "from selenium.webdriver.common.by import By\n",
    "import bs4\n",
    "import requests\n",
    "import time\n",
    "import math\n",
    "import random\n",
    "from shapely.geometry import Point, Polygon\n",
    "import time as timesys\n",
    "from pyproj import Geod\n",
    "from haversine import haversine\n",
    "pd.set_option('display.max_columns', None)"
   ]
  },
  {
   "cell_type": "code",
   "execution_count": 67,
   "id": "62ac4d5b",
   "metadata": {
    "ExecuteTime": {
     "end_time": "2022-12-12T12:23:07.009672Z",
     "start_time": "2022-12-12T12:23:06.998344Z"
    }
   },
   "outputs": [],
   "source": [
    "tianjin = '117.4961975657171,37.86803012379458,7.296245301137998 119.8081837995413,37.9250916349774,-34.2681049860788 119.8416643486643,39.32481316399956,-31.12524274095152 117.9501096884913,39.37523731857854,39.41212136434525 117.4961975657171,37.86803012379458,7.296245301137998'\n",
    "\n",
    "\n",
    "\n",
    "coord_list = tianjin.split(\" \")\n",
    "coord_list\n",
    "coord_list2 = []\n",
    "for i in coord_list:\n",
    "    temp = i.split(\",\")[:2]\n",
    "    temp = list(map(float, temp))\n",
    "    coord_list2.append(temp)\n",
    "poly = Polygon(coord_list2)\n",
    "# if Point(LONGITUDE, LATITUDE).within(poly):"
   ]
  },
  {
   "cell_type": "code",
   "execution_count": 49,
   "id": "51c4e9e3",
   "metadata": {
    "ExecuteTime": {
     "end_time": "2022-12-12T12:19:36.800677Z",
     "start_time": "2022-12-12T12:19:36.773533Z"
    }
   },
   "outputs": [
    {
     "data": {
      "text/html": [
       "<div>\n",
       "<style scoped>\n",
       "    .dataframe tbody tr th:only-of-type {\n",
       "        vertical-align: middle;\n",
       "    }\n",
       "\n",
       "    .dataframe tbody tr th {\n",
       "        vertical-align: top;\n",
       "    }\n",
       "\n",
       "    .dataframe thead th {\n",
       "        text-align: right;\n",
       "    }\n",
       "</style>\n",
       "<table border=\"1\" class=\"dataframe\">\n",
       "  <thead>\n",
       "    <tr style=\"text-align: right;\">\n",
       "      <th></th>\n",
       "      <th>vessel_name</th>\n",
       "      <th>mmsi</th>\n",
       "      <th>imo</th>\n",
       "      <th>CAPACITY</th>\n",
       "      <th>destination</th>\n",
       "      <th>eta</th>\n",
       "      <th>longitude</th>\n",
       "      <th>latitude</th>\n",
       "      <th>speed</th>\n",
       "      <th>heading</th>\n",
       "      <th>timestamp</th>\n",
       "      <th>time_position_data_received</th>\n",
       "      <th>time_voyage_data_received</th>\n",
       "      <th>navigation_info</th>\n",
       "      <th>remained_distance</th>\n",
       "      <th>estimated_fuel_consumption</th>\n",
       "    </tr>\n",
       "  </thead>\n",
       "  <tbody>\n",
       "    <tr>\n",
       "      <th>0</th>\n",
       "      <td>COSCO FOS</td>\n",
       "      <td>477947700</td>\n",
       "      <td>9484302.0</td>\n",
       "      <td>4253</td>\n",
       "      <td>CNTSN</td>\n",
       "      <td>2022-11-17 09:00:00</td>\n",
       "      <td>127.0882</td>\n",
       "      <td>34.1223</td>\n",
       "      <td>16.0</td>\n",
       "      <td>270.0</td>\n",
       "      <td>2022-11-16 16:56:08.041108</td>\n",
       "      <td>2022-11-16 07:55:49</td>\n",
       "      <td>2022-11-16 04:19:07</td>\n",
       "      <td>under way using engine</td>\n",
       "      <td>184.436450</td>\n",
       "      <td>306.205403</td>\n",
       "    </tr>\n",
       "    <tr>\n",
       "      <th>1</th>\n",
       "      <td>COSCO FOS</td>\n",
       "      <td>477947700</td>\n",
       "      <td>9484302.0</td>\n",
       "      <td>4253</td>\n",
       "      <td>CNTSN</td>\n",
       "      <td>2022-11-17 09:00:00</td>\n",
       "      <td>127.0609</td>\n",
       "      <td>34.1211</td>\n",
       "      <td>16.1</td>\n",
       "      <td>267.0</td>\n",
       "      <td>2022-11-16 17:01:11.033821</td>\n",
       "      <td>2022-11-16 08:00:55</td>\n",
       "      <td>2022-11-16 04:19:07</td>\n",
       "      <td>under way using engine</td>\n",
       "      <td>186.658612</td>\n",
       "      <td>312.035073</td>\n",
       "    </tr>\n",
       "    <tr>\n",
       "      <th>2</th>\n",
       "      <td>COSCO FOS</td>\n",
       "      <td>477947700</td>\n",
       "      <td>9484302.0</td>\n",
       "      <td>4253</td>\n",
       "      <td>CNTSN</td>\n",
       "      <td>2022-11-17 09:00:00</td>\n",
       "      <td>126.6711</td>\n",
       "      <td>34.0831</td>\n",
       "      <td>16.1</td>\n",
       "      <td>262.0</td>\n",
       "      <td>2022-11-16 18:16:53.451054</td>\n",
       "      <td>2022-11-16 09:14:25</td>\n",
       "      <td>2022-11-16 04:19:07</td>\n",
       "      <td>under way using engine</td>\n",
       "      <td>220.108466</td>\n",
       "      <td>367.952814</td>\n",
       "    </tr>\n",
       "    <tr>\n",
       "      <th>3</th>\n",
       "      <td>COSCO FOS</td>\n",
       "      <td>477947700</td>\n",
       "      <td>9484302.0</td>\n",
       "      <td>4253</td>\n",
       "      <td>CNTSN</td>\n",
       "      <td>2022-11-17 09:00:00</td>\n",
       "      <td>126.6067</td>\n",
       "      <td>34.0795</td>\n",
       "      <td>16.0</td>\n",
       "      <td>277.0</td>\n",
       "      <td>2022-11-16 18:26:58.801742</td>\n",
       "      <td>2022-11-16 09:26:25</td>\n",
       "      <td>2022-11-16 04:19:07</td>\n",
       "      <td>under way using engine</td>\n",
       "      <td>225.577733</td>\n",
       "      <td>374.509054</td>\n",
       "    </tr>\n",
       "    <tr>\n",
       "      <th>4</th>\n",
       "      <td>COSCO FOS</td>\n",
       "      <td>477947700</td>\n",
       "      <td>9484302.0</td>\n",
       "      <td>4253</td>\n",
       "      <td>CNTSN</td>\n",
       "      <td>2022-11-17 09:00:00</td>\n",
       "      <td>126.5502</td>\n",
       "      <td>34.0820</td>\n",
       "      <td>16.2</td>\n",
       "      <td>280.0</td>\n",
       "      <td>2022-11-16 18:42:07.917210</td>\n",
       "      <td>2022-11-16 09:37:09</td>\n",
       "      <td>2022-11-16 04:19:07</td>\n",
       "      <td>under way using engine</td>\n",
       "      <td>230.117608</td>\n",
       "      <td>387.353392</td>\n",
       "    </tr>\n",
       "    <tr>\n",
       "      <th>...</th>\n",
       "      <td>...</td>\n",
       "      <td>...</td>\n",
       "      <td>...</td>\n",
       "      <td>...</td>\n",
       "      <td>...</td>\n",
       "      <td>...</td>\n",
       "      <td>...</td>\n",
       "      <td>...</td>\n",
       "      <td>...</td>\n",
       "      <td>...</td>\n",
       "      <td>...</td>\n",
       "      <td>...</td>\n",
       "      <td>...</td>\n",
       "      <td>...</td>\n",
       "      <td>...</td>\n",
       "      <td>...</td>\n",
       "    </tr>\n",
       "    <tr>\n",
       "      <th>528</th>\n",
       "      <td>COSCO FOS</td>\n",
       "      <td>477947700</td>\n",
       "      <td>9484302.0</td>\n",
       "      <td>4253</td>\n",
       "      <td>KRBNP</td>\n",
       "      <td>2022-11-21 08:00:00</td>\n",
       "      <td>128.8286</td>\n",
       "      <td>35.0767</td>\n",
       "      <td>0.9</td>\n",
       "      <td>80.0</td>\n",
       "      <td>2022-11-21 18:05:52.289081</td>\n",
       "      <td>2022-11-21 08:45:01</td>\n",
       "      <td>2022-11-21 08:37:08</td>\n",
       "      <td>under way using engine</td>\n",
       "      <td>11.938104</td>\n",
       "      <td>105.884565</td>\n",
       "    </tr>\n",
       "    <tr>\n",
       "      <th>529</th>\n",
       "      <td>COSCO FOS</td>\n",
       "      <td>477947700</td>\n",
       "      <td>9484302.0</td>\n",
       "      <td>4253</td>\n",
       "      <td>KRBNP</td>\n",
       "      <td>2022-11-21 08:00:00</td>\n",
       "      <td>128.8303</td>\n",
       "      <td>35.0770</td>\n",
       "      <td>0.1</td>\n",
       "      <td>91.0</td>\n",
       "      <td>2022-11-21 20:12:03.039219</td>\n",
       "      <td>2022-11-21 10:46:03</td>\n",
       "      <td>2022-11-21 10:49:07</td>\n",
       "      <td>moored</td>\n",
       "      <td>11.983151</td>\n",
       "      <td>956.161110</td>\n",
       "    </tr>\n",
       "    <tr>\n",
       "      <th>530</th>\n",
       "      <td>COSCO FOS</td>\n",
       "      <td>477947700</td>\n",
       "      <td>9484302.0</td>\n",
       "      <td>4253</td>\n",
       "      <td>KRBNP</td>\n",
       "      <td>2022-11-21 08:00:00</td>\n",
       "      <td>128.8302</td>\n",
       "      <td>35.0772</td>\n",
       "      <td>0.0</td>\n",
       "      <td>91.0</td>\n",
       "      <td>2022-11-21 20:17:05.890117</td>\n",
       "      <td>2022-11-21 10:52:05</td>\n",
       "      <td>2022-11-21 10:55:06</td>\n",
       "      <td>moored</td>\n",
       "      <td>12.004568</td>\n",
       "      <td>NaN</td>\n",
       "    </tr>\n",
       "    <tr>\n",
       "      <th>531</th>\n",
       "      <td>COSCO FOS</td>\n",
       "      <td>477947700</td>\n",
       "      <td>9484302.0</td>\n",
       "      <td>4253</td>\n",
       "      <td>KRBNP</td>\n",
       "      <td>2022-11-21 08:00:00</td>\n",
       "      <td>128.8300</td>\n",
       "      <td>35.0772</td>\n",
       "      <td>0.0</td>\n",
       "      <td>91.0</td>\n",
       "      <td>2022-11-21 20:42:20.130436</td>\n",
       "      <td>2022-11-21 11:15:59</td>\n",
       "      <td>2022-11-21 11:13:06</td>\n",
       "      <td>moored</td>\n",
       "      <td>12.003097</td>\n",
       "      <td>NaN</td>\n",
       "    </tr>\n",
       "    <tr>\n",
       "      <th>532</th>\n",
       "      <td>COSCO FOS</td>\n",
       "      <td>477947700</td>\n",
       "      <td>9484302.0</td>\n",
       "      <td>4253</td>\n",
       "      <td>KRBNP</td>\n",
       "      <td>2022-11-21 08:00:00</td>\n",
       "      <td>128.8300</td>\n",
       "      <td>35.0774</td>\n",
       "      <td>0.2</td>\n",
       "      <td>90.0</td>\n",
       "      <td>2022-11-22 01:14:53.431509</td>\n",
       "      <td>2022-11-21 16:13:17</td>\n",
       "      <td>2022-11-21 04:13:07</td>\n",
       "      <td>moored</td>\n",
       "      <td>12.025264</td>\n",
       "      <td>479.762638</td>\n",
       "    </tr>\n",
       "  </tbody>\n",
       "</table>\n",
       "<p>533 rows × 16 columns</p>\n",
       "</div>"
      ],
      "text/plain": [
       "    vessel_name       mmsi        imo  CAPACITY destination  \\\n",
       "0     COSCO FOS  477947700  9484302.0      4253       CNTSN   \n",
       "1     COSCO FOS  477947700  9484302.0      4253       CNTSN   \n",
       "2     COSCO FOS  477947700  9484302.0      4253       CNTSN   \n",
       "3     COSCO FOS  477947700  9484302.0      4253       CNTSN   \n",
       "4     COSCO FOS  477947700  9484302.0      4253       CNTSN   \n",
       "..          ...        ...        ...       ...         ...   \n",
       "528   COSCO FOS  477947700  9484302.0      4253       KRBNP   \n",
       "529   COSCO FOS  477947700  9484302.0      4253       KRBNP   \n",
       "530   COSCO FOS  477947700  9484302.0      4253       KRBNP   \n",
       "531   COSCO FOS  477947700  9484302.0      4253       KRBNP   \n",
       "532   COSCO FOS  477947700  9484302.0      4253       KRBNP   \n",
       "\n",
       "                     eta  longitude  latitude  speed  heading  \\\n",
       "0    2022-11-17 09:00:00   127.0882   34.1223   16.0    270.0   \n",
       "1    2022-11-17 09:00:00   127.0609   34.1211   16.1    267.0   \n",
       "2    2022-11-17 09:00:00   126.6711   34.0831   16.1    262.0   \n",
       "3    2022-11-17 09:00:00   126.6067   34.0795   16.0    277.0   \n",
       "4    2022-11-17 09:00:00   126.5502   34.0820   16.2    280.0   \n",
       "..                   ...        ...       ...    ...      ...   \n",
       "528  2022-11-21 08:00:00   128.8286   35.0767    0.9     80.0   \n",
       "529  2022-11-21 08:00:00   128.8303   35.0770    0.1     91.0   \n",
       "530  2022-11-21 08:00:00   128.8302   35.0772    0.0     91.0   \n",
       "531  2022-11-21 08:00:00   128.8300   35.0772    0.0     91.0   \n",
       "532  2022-11-21 08:00:00   128.8300   35.0774    0.2     90.0   \n",
       "\n",
       "                      timestamp time_position_data_received  \\\n",
       "0    2022-11-16 16:56:08.041108         2022-11-16 07:55:49   \n",
       "1    2022-11-16 17:01:11.033821         2022-11-16 08:00:55   \n",
       "2    2022-11-16 18:16:53.451054         2022-11-16 09:14:25   \n",
       "3    2022-11-16 18:26:58.801742         2022-11-16 09:26:25   \n",
       "4    2022-11-16 18:42:07.917210         2022-11-16 09:37:09   \n",
       "..                          ...                         ...   \n",
       "528  2022-11-21 18:05:52.289081         2022-11-21 08:45:01   \n",
       "529  2022-11-21 20:12:03.039219         2022-11-21 10:46:03   \n",
       "530  2022-11-21 20:17:05.890117         2022-11-21 10:52:05   \n",
       "531  2022-11-21 20:42:20.130436         2022-11-21 11:15:59   \n",
       "532  2022-11-22 01:14:53.431509         2022-11-21 16:13:17   \n",
       "\n",
       "    time_voyage_data_received         navigation_info  remained_distance  \\\n",
       "0         2022-11-16 04:19:07  under way using engine         184.436450   \n",
       "1         2022-11-16 04:19:07  under way using engine         186.658612   \n",
       "2         2022-11-16 04:19:07  under way using engine         220.108466   \n",
       "3         2022-11-16 04:19:07  under way using engine         225.577733   \n",
       "4         2022-11-16 04:19:07  under way using engine         230.117608   \n",
       "..                        ...                     ...                ...   \n",
       "528       2022-11-21 08:37:08  under way using engine          11.938104   \n",
       "529       2022-11-21 10:49:07                  moored          11.983151   \n",
       "530       2022-11-21 10:55:06                  moored          12.004568   \n",
       "531       2022-11-21 11:13:06                  moored          12.003097   \n",
       "532       2022-11-21 04:13:07                  moored          12.025264   \n",
       "\n",
       "     estimated_fuel_consumption  \n",
       "0                    306.205403  \n",
       "1                    312.035073  \n",
       "2                    367.952814  \n",
       "3                    374.509054  \n",
       "4                    387.353392  \n",
       "..                          ...  \n",
       "528                  105.884565  \n",
       "529                  956.161110  \n",
       "530                         NaN  \n",
       "531                         NaN  \n",
       "532                  479.762638  \n",
       "\n",
       "[533 rows x 16 columns]"
      ]
     },
     "execution_count": 49,
     "metadata": {},
     "output_type": "execute_result"
    }
   ],
   "source": [
    "df_test = pd.read_csv(\"voy_path/COSCO_FOS_VRKR6_26.csv\")\n",
    "df_test"
   ]
  },
  {
   "cell_type": "code",
   "execution_count": null,
   "id": "46ce85f7",
   "metadata": {},
   "outputs": [],
   "source": [
    "# if Point(LONGITUDE, LATITUDE).within(poly):"
   ]
  },
  {
   "cell_type": "code",
   "execution_count": 50,
   "id": "cdb92e67",
   "metadata": {
    "ExecuteTime": {
     "end_time": "2022-12-12T12:19:38.820693Z",
     "start_time": "2022-12-12T12:19:38.809693Z"
    }
   },
   "outputs": [],
   "source": [
    "df_test.sort_values(by=\"timestamp\", ignore_index=True, inplace=True)"
   ]
  },
  {
   "cell_type": "code",
   "execution_count": 51,
   "id": "f126f3a1",
   "metadata": {
    "ExecuteTime": {
     "end_time": "2022-12-12T12:19:39.801955Z",
     "start_time": "2022-12-12T12:19:39.780983Z"
    }
   },
   "outputs": [
    {
     "name": "stdout",
     "output_type": "stream",
     "text": [
      "224\n"
     ]
    }
   ],
   "source": [
    "for idx in df_test.index:\n",
    "    LONGITUDE = df_test.loc[idx, \"longitude\"]\n",
    "    LATITUDE = df_test.loc[idx, \"latitude\"]\n",
    "    heading = df_test.loc[idx, \"heading\"]\n",
    "    speed = df_test.loc[idx, \"speed\"]\n",
    "    if Point(LONGITUDE, LATITUDE).within(poly) and heading < 200 and speed > 11:\n",
    "        print(idx)\n",
    "        break\n",
    "        "
   ]
  },
  {
   "cell_type": "code",
   "execution_count": 52,
   "id": "e578be74",
   "metadata": {
    "ExecuteTime": {
     "end_time": "2022-12-12T12:19:41.291245Z",
     "start_time": "2022-12-12T12:19:41.276327Z"
    }
   },
   "outputs": [],
   "source": [
    "df_test_2 = df_test.loc[idx:,]\n",
    "df_test_2.reset_index(inplace=True)"
   ]
  },
  {
   "cell_type": "code",
   "execution_count": 31,
   "id": "39a84ff8",
   "metadata": {
    "ExecuteTime": {
     "end_time": "2022-12-12T11:46:59.236400Z",
     "start_time": "2022-12-12T11:46:59.226400Z"
    }
   },
   "outputs": [],
   "source": [
    "# df_test_2.to_csv(\"voy_path/COSCO_test.csv\", encoding=\"utf-8 sig\", header=True, index=False)"
   ]
  },
  {
   "cell_type": "code",
   "execution_count": 53,
   "id": "37e8d48f",
   "metadata": {
    "ExecuteTime": {
     "end_time": "2022-12-12T12:19:42.538095Z",
     "start_time": "2022-12-12T12:19:42.509248Z"
    }
   },
   "outputs": [],
   "source": [
    "distance = 0\n",
    "for idx in df_test_2.index:\n",
    "    if idx != 0:\n",
    "        LONGITUDE = df_test_2.loc[idx, \"longitude\"]\n",
    "        LATITUDE = df_test_2.loc[idx, \"latitude\"]\n",
    "        current_coord = (LATITUDE, LONGITUDE)\n",
    "\n",
    "        LONGITUDE = df_test_2.loc[idx - 1, \"longitude\"]\n",
    "        LATITUDE = df_test_2.loc[idx - 1, \"latitude\"]\n",
    "        previous_current_coord = (LATITUDE, LONGITUDE)\n",
    "\n",
    "        distance += haversine(current_coord, previous_current_coord, unit=\"km\")"
   ]
  },
  {
   "cell_type": "code",
   "execution_count": 54,
   "id": "50cb6385",
   "metadata": {
    "ExecuteTime": {
     "end_time": "2022-12-12T12:19:43.397602Z",
     "start_time": "2022-12-12T12:19:43.381575Z"
    }
   },
   "outputs": [
    {
     "data": {
      "text/plain": [
       "1325.7178036900816"
      ]
     },
     "execution_count": 54,
     "metadata": {},
     "output_type": "execute_result"
    }
   ],
   "source": [
    "distance"
   ]
  },
  {
   "cell_type": "code",
   "execution_count": 47,
   "id": "f24b24b6",
   "metadata": {
    "ExecuteTime": {
     "end_time": "2022-12-12T12:19:27.647459Z",
     "start_time": "2022-12-12T12:19:27.604558Z"
    }
   },
   "outputs": [],
   "source": [
    "df_test = pd.read_csv(\"voy_path/COSCO_FOS_VRKR6_25.csv\")\n",
    "df_test.sort_values(by=\"timestamp\", ignore_index=True, inplace=True)\n",
    "for idx in df_test.index:\n",
    "    LONGITUDE = df_test.loc[idx, \"longitude\"]\n",
    "    LATITUDE = df_test.loc[idx, \"latitude\"]\n",
    "    heading = df_test.loc[idx, \"heading\"]\n",
    "    speed = df_test.loc[idx, \"speed\"]\n",
    "    if Point(LONGITUDE, LATITUDE).within(poly) and heading < 200 and speed > 11:\n",
    "#         print(idx)\n",
    "        break\n",
    "df_test_2 = df_test.loc[idx:,]\n",
    "df_test_2.reset_index(inplace=True)\n",
    "distance2 = 0\n",
    "for idx in df_test_2.index:\n",
    "    if idx != 0:\n",
    "        LONGITUDE = df_test_2.loc[idx, \"longitude\"]\n",
    "        LATITUDE = df_test_2.loc[idx, \"latitude\"]\n",
    "        current_coord = (LATITUDE, LONGITUDE)\n",
    "\n",
    "        LONGITUDE = df_test_2.loc[idx - 1, \"longitude\"]\n",
    "        LATITUDE = df_test_2.loc[idx - 1, \"latitude\"]\n",
    "        previous_current_coord = (LATITUDE, LONGITUDE)\n",
    "\n",
    "        distance2 += haversine(current_coord, previous_current_coord, unit=\"km\")"
   ]
  },
  {
   "cell_type": "code",
   "execution_count": 48,
   "id": "a8577647",
   "metadata": {
    "ExecuteTime": {
     "end_time": "2022-12-12T12:19:28.084154Z",
     "start_time": "2022-12-12T12:19:28.080460Z"
    }
   },
   "outputs": [
    {
     "data": {
      "text/plain": [
       "1309.6651548009452"
      ]
     },
     "execution_count": 48,
     "metadata": {},
     "output_type": "execute_result"
    }
   ],
   "source": [
    "distance2"
   ]
  },
  {
   "cell_type": "code",
   "execution_count": 43,
   "id": "1504929b",
   "metadata": {
    "ExecuteTime": {
     "end_time": "2022-12-12T12:17:55.914221Z",
     "start_time": "2022-12-12T12:17:55.905216Z"
    }
   },
   "outputs": [],
   "source": [
    "# df_test_2.to_csv(\"voy_path/COSCO_test2.csv\", encoding=\"utf-8 sig\", header=True, index=False)"
   ]
  },
  {
   "cell_type": "code",
   "execution_count": 59,
   "id": "1ddc39aa",
   "metadata": {
    "ExecuteTime": {
     "end_time": "2022-12-12T12:20:43.366558Z",
     "start_time": "2022-12-12T12:20:43.331588Z"
    }
   },
   "outputs": [
    {
     "data": {
      "text/plain": [
       "1389.7275616339807"
      ]
     },
     "execution_count": 59,
     "metadata": {},
     "output_type": "execute_result"
    }
   ],
   "source": [
    "df_test = pd.read_csv(\"voy_path/COSCO_FOS_VRKR6_24.csv\")\n",
    "df_test.sort_values(by=\"timestamp\", ignore_index=True, inplace=True)\n",
    "for idx in df_test.index:\n",
    "    LONGITUDE = df_test.loc[idx, \"longitude\"]\n",
    "    LATITUDE = df_test.loc[idx, \"latitude\"]\n",
    "    heading = df_test.loc[idx, \"heading\"]\n",
    "    speed = df_test.loc[idx, \"speed\"]\n",
    "    if Point(LONGITUDE, LATITUDE).within(poly) and heading < 200 and speed > 11:\n",
    "#         print(idx)\n",
    "        break\n",
    "df_test_2 = df_test.loc[idx:,]\n",
    "df_test_2.reset_index(inplace=True)\n",
    "distance3 = 0\n",
    "for idx in df_test_2.index:\n",
    "    if idx != 0:\n",
    "        LONGITUDE = df_test_2.loc[idx, \"longitude\"]\n",
    "        LATITUDE = df_test_2.loc[idx, \"latitude\"]\n",
    "        current_coord = (LATITUDE, LONGITUDE)\n",
    "\n",
    "        LONGITUDE = df_test_2.loc[idx - 1, \"longitude\"]\n",
    "        LATITUDE = df_test_2.loc[idx - 1, \"latitude\"]\n",
    "        previous_current_coord = (LATITUDE, LONGITUDE)\n",
    "\n",
    "        distance3 += haversine(current_coord, previous_current_coord, unit=\"km\")\n",
    "distance3"
   ]
  },
  {
   "cell_type": "code",
   "execution_count": 60,
   "id": "9a1a7dfa",
   "metadata": {
    "ExecuteTime": {
     "end_time": "2022-12-12T12:20:44.561073Z",
     "start_time": "2022-12-12T12:20:44.516402Z"
    }
   },
   "outputs": [
    {
     "data": {
      "text/plain": [
       "1327.2648556008742"
      ]
     },
     "execution_count": 60,
     "metadata": {},
     "output_type": "execute_result"
    }
   ],
   "source": [
    "df_test = pd.read_csv(\"voy_path/COSCO_FOS_VRKR6_23.csv\")\n",
    "df_test.sort_values(by=\"timestamp\", ignore_index=True, inplace=True)\n",
    "for idx in df_test.index:\n",
    "    LONGITUDE = df_test.loc[idx, \"longitude\"]\n",
    "    LATITUDE = df_test.loc[idx, \"latitude\"]\n",
    "    heading = df_test.loc[idx, \"heading\"]\n",
    "    speed = df_test.loc[idx, \"speed\"]\n",
    "    if Point(LONGITUDE, LATITUDE).within(poly) and heading < 200 and speed > 11:\n",
    "#         print(idx)\n",
    "        break\n",
    "df_test_2 = df_test.loc[idx:,]\n",
    "df_test_2.reset_index(inplace=True)\n",
    "distance4 = 0\n",
    "for idx in df_test_2.index:\n",
    "    if idx != 0:\n",
    "        LONGITUDE = df_test_2.loc[idx, \"longitude\"]\n",
    "        LATITUDE = df_test_2.loc[idx, \"latitude\"]\n",
    "        current_coord = (LATITUDE, LONGITUDE)\n",
    "\n",
    "        LONGITUDE = df_test_2.loc[idx - 1, \"longitude\"]\n",
    "        LATITUDE = df_test_2.loc[idx - 1, \"latitude\"]\n",
    "        previous_current_coord = (LATITUDE, LONGITUDE)\n",
    "\n",
    "        distance4 += haversine(current_coord, previous_current_coord, unit=\"km\")\n",
    "distance4"
   ]
  },
  {
   "cell_type": "code",
   "execution_count": 74,
   "id": "6cc3e7d3",
   "metadata": {
    "ExecuteTime": {
     "end_time": "2022-12-12T12:25:38.002659Z",
     "start_time": "2022-12-12T12:25:37.972342Z"
    }
   },
   "outputs": [
    {
     "data": {
      "text/plain": [
       "1390.2571841055944"
      ]
     },
     "execution_count": 74,
     "metadata": {},
     "output_type": "execute_result"
    }
   ],
   "source": [
    "df_test = pd.read_csv(\"voy_path/COSCO_FOS_VRKR6_20.csv\")\n",
    "df_test.sort_values(by=\"timestamp\", ignore_index=True, inplace=True)\n",
    "for idx in df_test.index:\n",
    "    LONGITUDE = df_test.loc[idx, \"longitude\"]\n",
    "    LATITUDE = df_test.loc[idx, \"latitude\"]\n",
    "    heading = df_test.loc[idx, \"heading\"]\n",
    "    speed = df_test.loc[idx, \"speed\"]\n",
    "    if Point(LONGITUDE, LATITUDE).within(poly) and heading < 200 and speed > 8:\n",
    "#         print(idx)\n",
    "        break\n",
    "df_test_2 = df_test.loc[idx:,]\n",
    "df_test_2.reset_index(inplace=True)\n",
    "distance5 = 0\n",
    "for idx in df_test_2.index:\n",
    "    if idx != 0:\n",
    "        LONGITUDE = df_test_2.loc[idx, \"longitude\"]\n",
    "        LATITUDE = df_test_2.loc[idx, \"latitude\"]\n",
    "        current_coord = (LATITUDE, LONGITUDE)\n",
    "\n",
    "        LONGITUDE = df_test_2.loc[idx - 1, \"longitude\"]\n",
    "        LATITUDE = df_test_2.loc[idx - 1, \"latitude\"]\n",
    "        previous_current_coord = (LATITUDE, LONGITUDE)\n",
    "\n",
    "        distance5 += haversine(current_coord, previous_current_coord, unit=\"km\")\n",
    "distance5"
   ]
  },
  {
   "cell_type": "code",
   "execution_count": 78,
   "id": "3dd707c0",
   "metadata": {
    "ExecuteTime": {
     "end_time": "2022-12-12T12:28:02.578061Z",
     "start_time": "2022-12-12T12:28:02.573784Z"
    }
   },
   "outputs": [
    {
     "data": {
      "text/plain": [
       "1348.5265119662952"
      ]
     },
     "execution_count": 78,
     "metadata": {},
     "output_type": "execute_result"
    }
   ],
   "source": [
    "(distance + distance2 + distance3 + distance4 + distance5)/5"
   ]
  },
  {
   "cell_type": "code",
   "execution_count": 79,
   "id": "84ddc0ee",
   "metadata": {
    "ExecuteTime": {
     "end_time": "2022-12-12T12:28:43.201951Z",
     "start_time": "2022-12-12T12:28:43.190953Z"
    }
   },
   "outputs": [
    {
     "data": {
      "text/plain": [
       "67.42632559831476"
      ]
     },
     "execution_count": 79,
     "metadata": {},
     "output_type": "execute_result"
    }
   ],
   "source": [
    "1348.5265119662952 / 20"
   ]
  },
  {
   "cell_type": "code",
   "execution_count": null,
   "id": "ba4a367e",
   "metadata": {},
   "outputs": [],
   "source": []
  }
 ],
 "metadata": {
  "kernelspec": {
   "display_name": "안정된가상환경",
   "language": "python",
   "name": "oracle2"
  },
  "language_info": {
   "codemirror_mode": {
    "name": "ipython",
    "version": 3
   },
   "file_extension": ".py",
   "mimetype": "text/x-python",
   "name": "python",
   "nbconvert_exporter": "python",
   "pygments_lexer": "ipython3",
   "version": "3.7.11"
  },
  "toc": {
   "base_numbering": 1,
   "nav_menu": {},
   "number_sections": true,
   "sideBar": true,
   "skip_h1_title": false,
   "title_cell": "Table of Contents",
   "title_sidebar": "Contents",
   "toc_cell": false,
   "toc_position": {},
   "toc_section_display": true,
   "toc_window_display": false
  }
 },
 "nbformat": 4,
 "nbformat_minor": 5
}
